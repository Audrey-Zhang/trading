{
 "cells": [
  {
   "cell_type": "markdown",
   "metadata": {},
   "source": [
    "### Explore DataFrame"
   ]
  },
  {
   "cell_type": "code",
   "execution_count": 57,
   "metadata": {
    "scrolled": true
   },
   "outputs": [],
   "source": [
    "import pandas as pd\n",
    "import numpy as np\n",
    "import matplotlib.pyplot as plt"
   ]
  },
  {
   "cell_type": "code",
   "execution_count": 33,
   "metadata": {},
   "outputs": [],
   "source": [
    "df_1 = pd.read_csv('002177M1.csv')\n",
    "df_30 = pd.read_csv('002177M30.csv')"
   ]
  },
  {
   "cell_type": "code",
   "execution_count": 34,
   "metadata": {},
   "outputs": [],
   "source": [
    "df_30['Tm'] = pd.to_datetime(df_30['Tm'])\n",
    "df_1['Tm'] = pd.to_datetime(df_1['Tm']);"
   ]
  },
  {
   "cell_type": "code",
   "execution_count": 35,
   "metadata": {},
   "outputs": [],
   "source": [
    "df_30.set_index('Tm', inplace=True)\n",
    "df_1.set_index('Tm', inplace=True)"
   ]
  },
  {
   "cell_type": "markdown",
   "metadata": {},
   "source": [
    "#### Time Periods"
   ]
  },
  {
   "cell_type": "code",
   "execution_count": 3,
   "metadata": {},
   "outputs": [],
   "source": [
    "TmS = pd.to_datetime('2018-02-09 14:00:00')\n",
    "TmE = pd.to_datetime('2018-02-14 14:30:00')"
   ]
  },
  {
   "cell_type": "markdown",
   "metadata": {},
   "source": [
    "All below are OK!\n",
    "* df_30.loc[TmS:TmE]\n",
    "* df_30[TmS:TmE]"
   ]
  },
  {
   "cell_type": "code",
   "execution_count": 40,
   "metadata": {},
   "outputs": [],
   "source": [
    "df_30.loc[TmS:TmE];"
   ]
  },
  {
   "cell_type": "code",
   "execution_count": 44,
   "metadata": {},
   "outputs": [
    {
     "data": {
      "text/plain": [
       "count    25.000000\n",
       "mean      4.246000\n",
       "std       0.040311\n",
       "min       4.120000\n",
       "25%       4.240000\n",
       "50%       4.260000\n",
       "75%       4.260000\n",
       "max       4.290000\n",
       "Name: C, dtype: float64"
      ]
     },
     "execution_count": 44,
     "metadata": {},
     "output_type": "execute_result"
    }
   ],
   "source": [
    "df01 = df_30.loc[TmS:TmE]\n",
    "df01.C.describe()"
   ]
  },
  {
   "cell_type": "code",
   "execution_count": 47,
   "metadata": {},
   "outputs": [],
   "source": [
    "q = [0,.1,.9,1]"
   ]
  },
  {
   "cell_type": "code",
   "execution_count": 48,
   "metadata": {},
   "outputs": [
    {
     "data": {
      "text/plain": [
       "Tm\n",
       "2018-02-09 14:00:00    (4.119, 4.22]\n",
       "2018-02-09 14:30:00    (4.119, 4.22]\n",
       "2018-02-12 09:30:00    (4.119, 4.22]\n",
       "2018-02-12 10:00:00    (4.22, 4.276]\n",
       "2018-02-12 10:30:00    (4.22, 4.276]\n",
       "2018-02-12 11:00:00    (4.22, 4.276]\n",
       "2018-02-12 13:00:00    (4.22, 4.276]\n",
       "2018-02-12 13:30:00    (4.22, 4.276]\n",
       "2018-02-12 14:00:00    (4.22, 4.276]\n",
       "2018-02-12 14:30:00    (4.22, 4.276]\n",
       "2018-02-13 09:30:00    (4.276, 4.29]\n",
       "2018-02-13 10:00:00    (4.276, 4.29]\n",
       "2018-02-13 10:30:00    (4.276, 4.29]\n",
       "2018-02-13 13:00:00    (4.22, 4.276]\n",
       "2018-02-13 13:30:00    (4.22, 4.276]\n",
       "2018-02-13 14:00:00    (4.22, 4.276]\n",
       "2018-02-13 14:30:00    (4.22, 4.276]\n",
       "2018-02-14 09:30:00    (4.22, 4.276]\n",
       "2018-02-14 10:00:00    (4.119, 4.22]\n",
       "2018-02-14 10:30:00    (4.22, 4.276]\n",
       "2018-02-14 11:00:00    (4.22, 4.276]\n",
       "2018-02-14 13:00:00    (4.22, 4.276]\n",
       "2018-02-14 13:30:00    (4.22, 4.276]\n",
       "2018-02-14 14:00:00    (4.22, 4.276]\n",
       "2018-02-14 14:30:00    (4.22, 4.276]\n",
       "Name: C, dtype: category\n",
       "Categories (3, interval[float64]): [(4.119, 4.22] < (4.22, 4.276] < (4.276, 4.29]]"
      ]
     },
     "execution_count": 48,
     "metadata": {},
     "output_type": "execute_result"
    }
   ],
   "source": [
    "pd.qcut(df01.C,q)"
   ]
  },
  {
   "cell_type": "code",
   "execution_count": 52,
   "metadata": {},
   "outputs": [
    {
     "data": {
      "text/plain": [
       "0.09999999999999964"
      ]
     },
     "execution_count": 52,
     "metadata": {},
     "output_type": "execute_result"
    }
   ],
   "source": [
    "df01.C.quantile(.1) - df01.C.min()"
   ]
  },
  {
   "cell_type": "code",
   "execution_count": 53,
   "metadata": {},
   "outputs": [
    {
     "data": {
      "text/plain": [
       "0.05600000000000005"
      ]
     },
     "execution_count": 53,
     "metadata": {},
     "output_type": "execute_result"
    }
   ],
   "source": [
    "df01.C.quantile(.9) - df01.C.quantile(.1)"
   ]
  },
  {
   "cell_type": "code",
   "execution_count": 54,
   "metadata": {},
   "outputs": [
    {
     "data": {
      "text/plain": [
       "0.014000000000000234"
      ]
     },
     "execution_count": 54,
     "metadata": {},
     "output_type": "execute_result"
    }
   ],
   "source": [
    "df01.C.max() - df01.C.quantile(.9)"
   ]
  },
  {
   "cell_type": "code",
   "execution_count": 55,
   "metadata": {},
   "outputs": [
    {
     "data": {
      "text/plain": [
       "4.246"
      ]
     },
     "execution_count": 55,
     "metadata": {},
     "output_type": "execute_result"
    }
   ],
   "source": [
    "df01.C.mean()"
   ]
  },
  {
   "cell_type": "code",
   "execution_count": 56,
   "metadata": {},
   "outputs": [
    {
     "data": {
      "text/plain": [
       "4.26"
      ]
     },
     "execution_count": 56,
     "metadata": {},
     "output_type": "execute_result"
    }
   ],
   "source": [
    "df01.C.quantile(.5)"
   ]
  },
  {
   "cell_type": "code",
   "execution_count": 72,
   "metadata": {},
   "outputs": [],
   "source": [
    "l = ['']\n",
    "l = l+df01.C[:-1].copy().tolist()"
   ]
  },
  {
   "cell_type": "code",
   "execution_count": 82,
   "metadata": {},
   "outputs": [],
   "source": [
    "df02 = df01.copy(deep=True).loc[:,'postCCC'] = l"
   ]
  },
  {
   "cell_type": "code",
   "execution_count": 83,
   "metadata": {},
   "outputs": [
    {
     "ename": "AttributeError",
     "evalue": "'list' object has no attribute 'head'",
     "output_type": "error",
     "traceback": [
      "\u001b[1;31m---------------------------------------------------------------------------\u001b[0m",
      "\u001b[1;31mAttributeError\u001b[0m                            Traceback (most recent call last)",
      "\u001b[1;32m<ipython-input-83-6fc4d4a0c955>\u001b[0m in \u001b[0;36m<module>\u001b[1;34m()\u001b[0m\n\u001b[1;32m----> 1\u001b[1;33m \u001b[0mdf02\u001b[0m\u001b[1;33m.\u001b[0m\u001b[0mhead\u001b[0m\u001b[1;33m(\u001b[0m\u001b[1;33m)\u001b[0m\u001b[1;33m\u001b[0m\u001b[0m\n\u001b[0m",
      "\u001b[1;31mAttributeError\u001b[0m: 'list' object has no attribute 'head'"
     ]
    }
   ],
   "source": [
    "df02.head()"
   ]
  },
  {
   "cell_type": "code",
   "execution_count": null,
   "metadata": {},
   "outputs": [],
   "source": []
  }
 ],
 "metadata": {
  "kernelspec": {
   "display_name": "Python 3",
   "language": "python",
   "name": "python3"
  },
  "language_info": {
   "codemirror_mode": {
    "name": "ipython",
    "version": 3
   },
   "file_extension": ".py",
   "mimetype": "text/x-python",
   "name": "python",
   "nbconvert_exporter": "python",
   "pygments_lexer": "ipython3",
   "version": "3.6.4"
  },
  "toc": {
   "nav_menu": {},
   "number_sections": true,
   "sideBar": true,
   "skip_h1_title": false,
   "title_cell": "Table of Contents",
   "title_sidebar": "Contents",
   "toc_cell": false,
   "toc_position": {},
   "toc_section_display": true,
   "toc_window_display": false
  }
 },
 "nbformat": 4,
 "nbformat_minor": 2
}
