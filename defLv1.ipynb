{
 "cells": [
  {
   "cell_type": "code",
   "execution_count": 28,
   "metadata": {
    "collapsed": false
   },
   "outputs": [],
   "source": [
    "import defLevel as dlv\n",
    "import isolation as iso"
   ]
  },
  {
   "cell_type": "code",
   "execution_count": 29,
   "metadata": {
    "collapsed": true
   },
   "outputs": [],
   "source": [
    "import pymssql\n",
    "from sqlalchemy import create_engine \n",
    "engine = create_engine(\"mssql+pymssql://CENTALINE\\zhangyun29:sh.8888@./invest\")\n",
    "cnx = engine.connect()"
   ]
  },
  {
   "cell_type": "code",
   "execution_count": 30,
   "metadata": {
    "collapsed": true
   },
   "outputs": [],
   "source": [
    "import pandas as pd"
   ]
  },
  {
   "cell_type": "code",
   "execution_count": 31,
   "metadata": {
    "collapsed": true
   },
   "outputs": [],
   "source": [
    "df = pd.DataFrame()\n",
    "# df.columns = ['Date','Tm','O','H','L','C','V']"
   ]
  },
  {
   "cell_type": "code",
   "execution_count": 32,
   "metadata": {
    "collapsed": false
   },
   "outputs": [],
   "source": [
    "symbol = '002310'\n",
    "form_name = 'M1_' + symbol\n",
    "df = pd.read_sql(form_name,cnx)"
   ]
  },
  {
   "cell_type": "code",
   "execution_count": 33,
   "metadata": {
    "collapsed": false
   },
   "outputs": [],
   "source": [
    "dtCnt = len(df)"
   ]
  },
  {
   "cell_type": "code",
   "execution_count": 34,
   "metadata": {
    "collapsed": false
   },
   "outputs": [],
   "source": [
    "df.columns = ['Tm','O','H','L','C','V','amount']\n",
    "df.index = range(len(df))\n"
   ]
  },
  {
   "cell_type": "markdown",
   "metadata": {},
   "source": [
    "#===========================Loop K initial====================================="
   ]
  },
  {
   "cell_type": "code",
   "execution_count": 35,
   "metadata": {
    "collapsed": true
   },
   "outputs": [],
   "source": [
    "stdA = [[df.O[0],df.H[0],df.L[0],df.C[0],df.Tm[0]]]\n",
    "drt_std = 0\n",
    "\n",
    "Lv1A = [[df.Tm[0],df.O[0], 0]]\n",
    "cnt_up_Lv1 = 2\n",
    "cnt_dn_Lv1 = 2"
   ]
  },
  {
   "cell_type": "code",
   "execution_count": 36,
   "metadata": {
    "collapsed": true
   },
   "outputs": [],
   "source": [
    "mark = []\n",
    "Fstd = 0\n",
    "FLv1 = 0\n",
    "FLv2 = 0"
   ]
  },
  {
   "cell_type": "code",
   "execution_count": 37,
   "metadata": {
    "collapsed": false
   },
   "outputs": [],
   "source": [
    "for i in range(1,dtCnt):\n",
    "    #print '============================='    \n",
    "  \n",
    "    currentK = [df.O[i],df.H[i],df.L[i],df.C[i],df.Tm[i]]\n",
    "    \n",
    "    stdA,drt_std,Fstd = dlv.std(currentK,stdA,drt_std)\n",
    "    istd = len(stdA) -1\n",
    "\n",
    "    \n",
    "    if istd > 3 and Fstd == 1:\n",
    "        Lv1A,FLv1,cnt_up_Lv1,cnt_dn_Lv1 = dlv.Lv1(stdA,Lv1A,cnt_up_Lv1,cnt_dn_Lv1)\n",
    "    iLv1 = len(Lv1A) - 1\n",
    "    if (FLv1 == 1 or FLv1 == -1) and iLv1 > 2:\n",
    "        mark.append([i,Lv1A[iLv1][1],'lv1'])  \n",
    "        rp1,rp2 = dlv.get_rp(Lv1A,iLv1-3)\n",
    "        txt = '{:.2}'.format(rp1) +','+ '{:.2}'.format(rp2)\n",
    "        mark.append([i,Lv1A[iLv1][1]+1,txt])\n",
    "    \n",
    "    if iLv1 == 3 and FLv1 == 1 and Fstd == 1:\n",
    "        \n",
    "        if Lv1A[2][2] == 1: \n",
    "            std_btm =[[Lv1A[0][1],Lv1A[1][1],Lv1A[0][0],0]]\n",
    "            std_tp =[[Lv1A[2][1],Lv1A[1][1],Lv1A[1][0],0]]            \n",
    "            \n",
    "        elif Lv1A[2][2] == -1:\n",
    "            std_tp =[[Lv1A[1][1],Lv1A[0][1],Lv1A[0][0],0]]\n",
    "            std_btm =[[Lv1A[1][1],Lv1A[2][1],Lv1A[1][0],0]]\n",
    "        drt_st = 0\n",
    "        drt_sb = 0            \n",
    "                \n",
    "    #================================Strategy==================================\n"
   ]
  },
  {
   "cell_type": "code",
   "execution_count": 38,
   "metadata": {
    "collapsed": false
   },
   "outputs": [
    {
     "data": {
      "text/plain": [
       "[[Timestamp('2017-11-22 09:25:00'), 20.620000000000001, 0],\n",
       " [Timestamp('2017-11-22 09:35:00'), 20.579999999999998, 1],\n",
       " [Timestamp('2017-11-22 09:46:00'), 21.050000000000001, -1],\n",
       " [Timestamp('2017-11-22 10:05:00'), 20.789999999999999, 1],\n",
       " [Timestamp('2017-11-22 10:12:00'), 20.960000000000001, -1],\n",
       " [Timestamp('2017-11-22 10:40:00'), 20.699999999999999, 1],\n",
       " [Timestamp('2017-11-22 10:52:00'), 20.989999999999998, -1],\n",
       " [Timestamp('2017-11-22 11:20:00'), 20.66, 1],\n",
       " [Timestamp('2017-11-22 13:07:00'), 20.780000000000001, -1],\n",
       " [Timestamp('2017-11-22 13:49:00'), 20.5, 1],\n",
       " [Timestamp('2017-11-22 13:55:00'), 20.59, -1],\n",
       " [Timestamp('2017-11-22 14:13:00'), 20.43, 1],\n",
       " [Timestamp('2017-11-22 14:20:00'), 20.550000000000001, -1],\n",
       " [Timestamp('2017-11-22 14:27:00'), 20.5, 1],\n",
       " [Timestamp('2017-11-22 14:31:00'), 20.59, -1],\n",
       " [Timestamp('2017-11-22 14:42:00'), 20.359999999999999, 1],\n",
       " [Timestamp('2017-11-22 14:52:00'), 20.5, -1]]"
      ]
     },
     "execution_count": 38,
     "metadata": {},
     "output_type": "execute_result"
    }
   ],
   "source": [
    "Lv1A"
   ]
  },
  {
   "cell_type": "code",
   "execution_count": 54,
   "metadata": {
    "collapsed": false
   },
   "outputs": [
    {
     "data": {
      "text/plain": [
       "3"
      ]
     },
     "execution_count": 54,
     "metadata": {},
     "output_type": "execute_result"
    }
   ],
   "source": [
    "names = ['Tm','V','drt']\n",
    "values = [[1,1,1],[2,2,2],[3,3,3]]\n",
    "a2 = zip(*Lv1A)\n",
    "nvs = zip(names,a2)\n",
    "nvDict = dict( (name,value) for name,value in nvs)\n",
    "tmp = df.Tm[0]\n",
    "i = nvDict['Tm'].index(tmp)\n",
    "len(nvDict)\n"
   ]
  },
  {
   "cell_type": "code",
   "execution_count": 20,
   "metadata": {
    "collapsed": false
   },
   "outputs": [
    {
     "data": {
      "text/plain": [
       "[6, 11, 19, 7, 28, 12, 28, 18, 42, 6, 18, 7, 7, 4, 11, 10, 0]"
      ]
     },
     "execution_count": 20,
     "metadata": {},
     "output_type": "execute_result"
    }
   ],
   "source": [
    "T_count_list = []\n",
    "for i in range(len(Lv1A)):\n",
    "    if i < len(Lv1A) - 1:\n",
    "        t = iso.T_count(Lv1A[i][0],Lv1A[i+1][0],df)\n",
    "        T_count_list.append(t)\n",
    "    else:\n",
    "        T_count_list.append(0)\n",
    "T_count_list"
   ]
  },
  {
   "cell_type": "code",
   "execution_count": null,
   "metadata": {
    "collapsed": true
   },
   "outputs": [],
   "source": [
    "# diff1 = df[df.Tm == df.Tm[3]].index\n",
    "# diff1\n",
    "#    Int64Index([3], dtype='int64')"
   ]
  },
  {
   "cell_type": "code",
   "execution_count": 23,
   "metadata": {
    "collapsed": false
   },
   "outputs": [
    {
     "data": {
      "text/plain": [
       "[0.0400000000000027,\n",
       " 0.47000000000000242,\n",
       " 0.26000000000000156,\n",
       " 0.17000000000000171,\n",
       " 0.26000000000000156,\n",
       " 0.28999999999999915,\n",
       " 0.32999999999999829,\n",
       " 0.12000000000000099,\n",
       " 0.28000000000000114,\n",
       " 0.089999999999999858,\n",
       " 0.16000000000000014,\n",
       " 0.12000000000000099,\n",
       " 0.050000000000000711,\n",
       " 0.089999999999999858,\n",
       " 0.23000000000000043,\n",
       " 0.14000000000000057,\n",
       " 0]"
      ]
     },
     "execution_count": 23,
     "metadata": {},
     "output_type": "execute_result"
    }
   ],
   "source": [
    "change_list = []\n",
    "for i in range(len(Lv1A)):\n",
    "    if i < len(Lv1A) - 1:\n",
    "        t = abs(Lv1A[i+1][1] - Lv1A[i][1])\n",
    "        change_list.append(t)\n",
    "    else:\n",
    "        change_list.append(0)\n",
    "change_list"
   ]
  },
  {
   "cell_type": "code",
   "execution_count": 24,
   "metadata": {
    "collapsed": true
   },
   "outputs": [],
   "source": [
    "# 求 eva dev max min ...."
   ]
  },
  {
   "cell_type": "code",
   "execution_count": 29,
   "metadata": {
    "collapsed": false
   },
   "outputs": [
    {
     "data": {
      "text/plain": [
       "[0.0066666666666671164,\n",
       " 0.042727272727272947,\n",
       " 0.013684210526315872,\n",
       " 0.024285714285714528,\n",
       " 0.0092857142857143415,\n",
       " 0.024166666666666597,\n",
       " 0.011785714285714224,\n",
       " 0.0066666666666667217,\n",
       " 0.006666666666666694,\n",
       " 0.014999999999999977,\n",
       " 0.0088888888888888976,\n",
       " 0.017142857142857286,\n",
       " 0.0071428571428572441,\n",
       " 0.022499999999999964,\n",
       " 0.020909090909090947,\n",
       " 0.014000000000000058]"
      ]
     },
     "execution_count": 29,
     "metadata": {},
     "output_type": "execute_result"
    }
   ],
   "source": [
    "k_list = []\n",
    "for i in range(len(T_count_list)-1):\n",
    "    tmp = change_list[i] / T_count_list[i]\n",
    "    k_list.append(tmp)\n",
    "k_list"
   ]
  },
  {
   "cell_type": "code",
   "execution_count": 18,
   "metadata": {
    "collapsed": false
   },
   "outputs": [],
   "source": [
    "from collections import defaultdict\n",
    "handlers = defaultdict(list)\n",
    "# 这里的__handlers是一个字典，用来保存对应的事件调用关系\n",
    "# 其中每个键对应的值是一个列表，列表中保存了对该事件进行监听的函数功能\n",
    "\n",
    "EVENT_K = 'newK'  "
   ]
  },
  {
   "cell_type": "code",
   "execution_count": 19,
   "metadata": {
    "collapsed": false
   },
   "outputs": [],
   "source": [
    "handlerList = handlers[EVENT_K]\n",
    "import dtDownload as dtd"
   ]
  },
  {
   "cell_type": "code",
   "execution_count": 24,
   "metadata": {
    "collapsed": false
   },
   "outputs": [],
   "source": [
    "\n",
    "if dtd.dl_Tick not in handlerList:\n",
    "    handlerList.append(dtd.dl_Tick)"
   ]
  },
  {
   "cell_type": "code",
   "execution_count": 21,
   "metadata": {
    "collapsed": false
   },
   "outputs": [
    {
     "data": {
      "text/plain": [
       "[<function dtDownload.gen_D>]"
      ]
     },
     "execution_count": 21,
     "metadata": {},
     "output_type": "execute_result"
    }
   ],
   "source": [
    "handlerList"
   ]
  },
  {
   "cell_type": "code",
   "execution_count": 22,
   "metadata": {
    "collapsed": false
   },
   "outputs": [
    {
     "data": {
      "text/plain": [
       "[<function dtDownload.gen_D>]"
      ]
     },
     "execution_count": 22,
     "metadata": {},
     "output_type": "execute_result"
    }
   ],
   "source": [
    "handlers[EVENT_K]"
   ]
  },
  {
   "cell_type": "code",
   "execution_count": 58,
   "metadata": {
    "collapsed": false
   },
   "outputs": [
    {
     "data": {
      "text/plain": [
       "defaultdict(list,\n",
       "            {0: [],\n",
       "             1: [],\n",
       "             3: [],\n",
       "             'newK': [<function dtDownload.gen_D>,\n",
       "              <function dtDownload.dl_Tick>]})"
      ]
     },
     "execution_count": 58,
     "metadata": {},
     "output_type": "execute_result"
    }
   ],
   "source": [
    "handlers"
   ]
  },
  {
   "cell_type": "code",
   "execution_count": 27,
   "metadata": {
    "collapsed": false
   },
   "outputs": [
    {
     "ename": "NameError",
     "evalue": "name 'Dict' is not defined",
     "output_type": "error",
     "traceback": [
      "\u001b[1;31m---------------------------------------------------------------------------\u001b[0m",
      "\u001b[1;31mNameError\u001b[0m                                 Traceback (most recent call last)",
      "\u001b[1;32m<ipython-input-27-a8d47583a6a3>\u001b[0m in \u001b[0;36m<module>\u001b[1;34m()\u001b[0m\n\u001b[1;32m----> 1\u001b[1;33m \u001b[0md\u001b[0m \u001b[1;33m=\u001b[0m \u001b[0mDict\u001b[0m\u001b[1;33m(\u001b[0m\u001b[1;33m)\u001b[0m\u001b[1;33m\u001b[0m\u001b[0m\n\u001b[0m\u001b[0;32m      2\u001b[0m \u001b[0md\u001b[0m\u001b[1;33m[\u001b[0m\u001b[1;34m'logTime'\u001b[0m\u001b[1;33m]\u001b[0m \u001b[1;33m=\u001b[0m \u001b[1;33m{\u001b[0m\u001b[1;34m'chinese'\u001b[0m\u001b[1;33m:\u001b[0m\u001b[1;34mu'时间'\u001b[0m\u001b[1;33m,\u001b[0m \u001b[1;34m'cellType'\u001b[0m\u001b[1;33m:\u001b[0m\u001b[0mBasicCell\u001b[0m\u001b[1;33m}\u001b[0m\u001b[1;33m\u001b[0m\u001b[0m\n\u001b[0;32m      3\u001b[0m \u001b[0md\u001b[0m\u001b[1;33m[\u001b[0m\u001b[1;34m'logContent'\u001b[0m\u001b[1;33m]\u001b[0m \u001b[1;33m=\u001b[0m \u001b[1;33m{\u001b[0m\u001b[1;34m'chinese'\u001b[0m\u001b[1;33m:\u001b[0m\u001b[1;34mu'内容'\u001b[0m\u001b[1;33m,\u001b[0m \u001b[1;34m'cellType'\u001b[0m\u001b[1;33m:\u001b[0m\u001b[0mBasicCell\u001b[0m\u001b[1;33m}\u001b[0m\u001b[1;33m\u001b[0m\u001b[0m\n\u001b[0;32m      4\u001b[0m \u001b[0md\u001b[0m\u001b[1;33m[\u001b[0m\u001b[1;34m'gatewayName'\u001b[0m\u001b[1;33m]\u001b[0m \u001b[1;33m=\u001b[0m \u001b[1;33m{\u001b[0m\u001b[1;34m'chinese'\u001b[0m\u001b[1;33m:\u001b[0m\u001b[1;34mu'接口'\u001b[0m\u001b[1;33m,\u001b[0m \u001b[1;34m'cellType'\u001b[0m\u001b[1;33m:\u001b[0m\u001b[0mBasicCell\u001b[0m\u001b[1;33m}\u001b[0m\u001b[1;33m\u001b[0m\u001b[0m\n",
      "\u001b[1;31mNameError\u001b[0m: name 'Dict' is not defined"
     ]
    }
   ],
   "source": [
    "d = Dict()        \n",
    "d['logTime'] = {'chinese':u'时间', 'cellType':BasicCell}\n",
    "d['logContent'] = {'chinese':u'内容', 'cellType':BasicCell}\n",
    "d['gatewayName'] = {'chinese':u'接口', 'cellType':BasicCell}"
   ]
  },
  {
   "cell_type": "code",
   "execution_count": null,
   "metadata": {
    "collapsed": true
   },
   "outputs": [],
   "source": []
  }
 ],
 "metadata": {
  "anaconda-cloud": {},
  "kernelspec": {
   "display_name": "Python [Root]",
   "language": "python",
   "name": "Python [Root]"
  },
  "language_info": {
   "codemirror_mode": {
    "name": "ipython",
    "version": 2
   },
   "file_extension": ".py",
   "mimetype": "text/x-python",
   "name": "python",
   "nbconvert_exporter": "python",
   "pygments_lexer": "ipython2",
   "version": "2.7.11"
  }
 },
 "nbformat": 4,
 "nbformat_minor": 0
}
