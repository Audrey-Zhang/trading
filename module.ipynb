{
 "cells": [
  {
   "cell_type": "code",
   "execution_count": 1,
   "metadata": {
    "collapsed": false
   },
   "outputs": [],
   "source": [
    "import pandas as pd\n",
    "import numpy as np\n",
    "from collections import defaultdict\n",
    "from sqlalchemy import create_engine "
   ]
  },
  {
   "cell_type": "code",
   "execution_count": 2,
   "metadata": {
    "collapsed": true
   },
   "outputs": [],
   "source": [
    "import module as md"
   ]
  },
  {
   "cell_type": "code",
   "execution_count": 3,
   "metadata": {
    "collapsed": false
   },
   "outputs": [
    {
     "name": "stdout",
     "output_type": "stream",
     "text": [
      "initiated std[], Lv1D[]\n"
     ]
    },
    {
     "data": {
      "text/plain": [
       "True"
      ]
     },
     "execution_count": 3,
     "metadata": {},
     "output_type": "execute_result"
    }
   ],
   "source": [
    "Lv1CT = []\n",
    "Lv1SnCT = []\n",
    "\n",
    "md.get_k('600438','D')\n",
    "md.init_analysis()"
   ]
  },
  {
   "cell_type": "code",
   "execution_count": 4,
   "metadata": {
    "collapsed": false
   },
   "outputs": [
    {
     "name": "stdout",
     "output_type": "stream",
     "text": [
      "i:0 0 i:1 1 Lv1 i: 1  j: 0  zig: 0\n",
      "i:2"
     ]
    },
    {
     "name": "stderr",
     "output_type": "stream",
     "text": [
      "module.py:194: SettingWithCopyWarning: \n",
      "A value is trying to be set on a copy of a slice from a DataFrame\n",
      "\n",
      "See the caveats in the documentation: http://pandas.pydata.org/pandas-docs/stable/indexing.html#indexing-view-versus-copy\n",
      "  tmpK[2] = min(stdH,tmpK[2])\n",
      "module.py:195: SettingWithCopyWarning: \n",
      "A value is trying to be set on a copy of a slice from a DataFrame\n",
      "\n",
      "See the caveats in the documentation: http://pandas.pydata.org/pandas-docs/stable/indexing.html#indexing-view-versus-copy\n",
      "  tmpK[3] = max(stdL,tmpK[3])\n",
      "module.py:207: SettingWithCopyWarning: \n",
      "A value is trying to be set on a copy of a slice from a DataFrame\n",
      "\n",
      "See the caveats in the documentation: http://pandas.pydata.org/pandas-docs/stable/indexing.html#indexing-view-versus-copy\n",
      "  tmpK[1] = tmpK[3]\n",
      "module.py:208: SettingWithCopyWarning: \n",
      "A value is trying to be set on a copy of a slice from a DataFrame\n",
      "\n",
      "See the caveats in the documentation: http://pandas.pydata.org/pandas-docs/stable/indexing.html#indexing-view-versus-copy\n",
      "  tmpK[4] = tmpK[2]\n",
      "module.py:210: SettingWithCopyWarning: \n",
      "A value is trying to be set on a copy of a slice from a DataFrame\n",
      "\n",
      "See the caveats in the documentation: http://pandas.pydata.org/pandas-docs/stable/indexing.html#indexing-view-versus-copy\n",
      "  tmpK[1] = tmpK[2]\n",
      "module.py:211: SettingWithCopyWarning: \n",
      "A value is trying to be set on a copy of a slice from a DataFrame\n",
      "\n",
      "See the caveats in the documentation: http://pandas.pydata.org/pandas-docs/stable/indexing.html#indexing-view-versus-copy\n",
      "  tmpK[4] = tmpK[3]\n"
     ]
    },
    {
     "name": "stdout",
     "output_type": "stream",
     "text": [
      " 1 Lv1 i: 2  j: 0  zig: 0\n",
      "i:3 1 Lv1 i: 3  j: 0  zig: 0\n",
      "i:4 1 Lv1 i: 4  j: 0  zig: 0\n",
      "i:5 1 Lv1 i: 5  j: 0  zig: 0\n",
      "i:6 1 Lv1 i: 6  j: 0  zig: 0\n",
      "i:7 1 Lv1 i: 7  j: 0  zig: 0\n",
      "i:8 1 Lv1 i: 8  j: 0  zig: 0\n",
      "i:9 1 Lv1 i: 9  j: 0  zig: 0\n",
      "i:10 0 i:11"
     ]
    },
    {
     "name": "stderr",
     "output_type": "stream",
     "text": [
      "module.py:198: SettingWithCopyWarning: \n",
      "A value is trying to be set on a copy of a slice from a DataFrame\n",
      "\n",
      "See the caveats in the documentation: http://pandas.pydata.org/pandas-docs/stable/indexing.html#indexing-view-versus-copy\n",
      "  tmpK[2] = max(stdH,tmpK[2])\n",
      "module.py:199: SettingWithCopyWarning: \n",
      "A value is trying to be set on a copy of a slice from a DataFrame\n",
      "\n",
      "See the caveats in the documentation: http://pandas.pydata.org/pandas-docs/stable/indexing.html#indexing-view-versus-copy\n",
      "  tmpK[3] = max(stdL,tmpK[3])\n"
     ]
    },
    {
     "name": "stdout",
     "output_type": "stream",
     "text": [
      " 0 i:12 1 Lv1 i: 10  j: 0  zig: 1\n",
      "i:13 1 Lv1 i: 11  j: 1  zig: -1\n",
      "i:14 1 Lv1 i: 12  j: 1  zig: 0\n",
      "i:15"
     ]
    },
    {
     "name": "stderr",
     "output_type": "stream",
     "text": [
      "module.py:201: SettingWithCopyWarning: \n",
      "A value is trying to be set on a copy of a slice from a DataFrame\n",
      "\n",
      "See the caveats in the documentation: http://pandas.pydata.org/pandas-docs/stable/indexing.html#indexing-view-versus-copy\n",
      "  tmpK[2] = min(stdH,tmpK[2])\n",
      "module.py:202: SettingWithCopyWarning: \n",
      "A value is trying to be set on a copy of a slice from a DataFrame\n",
      "\n",
      "See the caveats in the documentation: http://pandas.pydata.org/pandas-docs/stable/indexing.html#indexing-view-versus-copy\n",
      "  tmpK[3] = min(stdL,tmpK[3])\n"
     ]
    },
    {
     "name": "stdout",
     "output_type": "stream",
     "text": [
      " 1 Lv1 i: 13  j: 1  zig: 1\n",
      "i:16 1 Lv1 i: 14  j: 1  zig: -1\n",
      "i:17 1 Lv1 i: 15  j: 1  zig: 0\n",
      "i:18 1 Lv1 i: 16  j: 1  zig: 1\n",
      "i:19 1 Lv1 i: 17  j: 1  zig: 0\n",
      "i:20 1 Lv1 i: 18  j: 1  zig: -1\n",
      "i:21 1 Lv1 i: 19  j: 2  zig: 0\n",
      "i:22 1 Lv1 i: 20  j: 2  zig: 0\n",
      "i:23 1 Lv1 i: 21  j: 2  zig: 1\n",
      "i:24 1 Lv1 i: 22  j: 3  zig: 0\n",
      "i:25 1 Lv1 i: 23  j: 3  zig: 0\n",
      "i:26 1 Lv1 i: 24  j: 3  zig: -1\n",
      "i:27 0 i:28 1 Lv1 i: 25  j: 4  zig: 0\n",
      "i:29 0 i:30 0 i:31 1 Lv1 i: 26  j: 4  zig: 0\n",
      "i:32 0 i:33 1 Lv1 i: 27  j: 4  zig: 1\n",
      "i:34 1 Lv1 i: 28  j: 5  zig: 0\n",
      "i:35 1 Lv1 i: 29  j: 5  zig: 0\n",
      "i:36 1 Lv1 i: 30  j: 5  zig: -1\n",
      "i:37 1 Lv1 i: 31  j: 6  zig: 1\n",
      "i:38 1 Lv1 i: 32  j: 6  zig: -1\n",
      "i:39 1 Lv1 i: 33  j: 6  zig: 0\n",
      "i:40 1 Lv1 i: 34  j: 6  zig: 1\n",
      "i:41 0 i:42 1 Lv1 i: 35  j: 6  zig: -1\n",
      "i:43 1 Lv1 i: 36  j: 6  zig: 1\n",
      "i:44 1 Lv1 i: 37  j: 6  zig: 0\n",
      "i:45 1 Lv1 i: 38  j: 6  zig: 0\n",
      "i:46 1 Lv1 i: 39  j: 6  zig: -1\n",
      "i:47 1 Lv1 i: 40  j: 6  zig: 0\n",
      "i:48 1 Lv1 i: 41  j: 6  zig: 1\n",
      "i:49 1 Lv1 i: 42  j: 6  zig: 0\n",
      "i:50 0 i:51 1 Lv1 i: 43  j: 6  zig: -1\n",
      "i:52 1 Lv1 i: 44  j: 6  zig: 0\n",
      "i:53 0 i:54 0 i:55 1 Lv1 i: 45  j: 6  zig: 1\n",
      "i:56 1 Lv1 i: 46  j: 6  zig: -1\n",
      "i:57 1 Lv1 i: 47  j: 6  zig: 0\n",
      "i:58 0 i:59 1 Lv1 i: 48  j: 6  zig: 0\n",
      "i:60 1 Lv1 i: 49  j: 6  zig: 1\n",
      "i:61 0 i:62 1 Lv1 i: 50  j: 7  zig: 0\n",
      "i:63 1 Lv1 i: 51  j: 7  zig: -1\n",
      "i:64 1 Lv1 i: 52  j: 7  zig: 0\n",
      "i:65 1 Lv1 i: 53  j: 7  zig: 1\n",
      "i:66 1 Lv1 i: 54  j: 7  zig: 0\n",
      "i:67 1 Lv1 i: 55  j: 7  zig: -1\n",
      "i:68 1 Lv1 i: 56  j: 8  zig: 0\n",
      "i:69 1 Lv1 i: 57  j: 8  zig: 1\n",
      "i:70 1 Lv1 i: 58  j: 8  zig: -1\n",
      "i:71 1 Lv1 i: 59  j: 8  zig: 1\n",
      "i:72 1 Lv1 i: 60  j: 8  zig: 0\n",
      "i:73 1 Lv1 i: 61  j: 8  zig: -1\n",
      "i:74 1 Lv1 i: 62  j: 8  zig: 0\n",
      "i:75 1 Lv1 i: 63  j: 8  zig: 0\n",
      "i:76 0 i:77 1 Lv1 i: 64  j: 8  zig: 0\n",
      "i:78 1 Lv1 i: 65  j: 8  zig: 1\n",
      "i:79 1 Lv1 i: 66  j: 9  zig: 0\n",
      "i:80 1 Lv1 i: 67  j: 9  zig: -1\n",
      "i:81 1 Lv1 i: 68  j: 9  zig: 0\n",
      "i:82 1 Lv1 i: 69  j: 9  zig: 0\n",
      "i:83 1 Lv1 i: 70  j: 9  zig: 0\n",
      "i:84 1 Lv1 i: 71  j: 9  zig: 0\n",
      "i:85 1 Lv1 i: 72  j: 9  zig: 0\n",
      "i:86 0 i:87 1 Lv1 i: 73  j: 9  zig: 0\n",
      "i:88 1 Lv1 i: 74  j: 9  zig: 1\n",
      "i:89 1 Lv1 i: 75  j: 9  zig: 0\n",
      "i:90 0 i:91 1 Lv1 i: 76  j: 9  zig: -1\n",
      "i:92 1 Lv1 i: 77  j: 9  zig: 0\n",
      "i:93 1 Lv1 i: 78  j: 9  zig: 0\n",
      "i:94 1 Lv1 i: 79  j: 9  zig: 0\n",
      "i:95 0 i:96 1 Lv1 i: 80  j: 9  zig: 1\n",
      "i:97 1 Lv1 i: 81  j: 9  zig: 0\n",
      "i:98 1 Lv1 i: 82  j: 9  zig: -1\n",
      "i:99 1 Lv1 i: 83  j: 9  zig: 0\n",
      "i:100 1 Lv1 i: 84  j: 9  zig: 1\n",
      "i:101 1 Lv1 i: 85  j: 9  zig: 0\n",
      "i:102 1 Lv1 i: 86  j: 9  zig: 0\n",
      "i:103 0 i:104 1 Lv1 i: 87  j: 9  zig: 0\n",
      "i:105 1 Lv1 i: 88  j: 9  zig: -1\n",
      "i:106 0 i:107 1 Lv1 i: 89  j: 10  zig: 0\n",
      "i:108 1 Lv1 i: 90  j: 10  zig: 0\n",
      "i:109 0 i:110 0 i:111 0 i:112 1 Lv1 i: 91  j: 10  zig: 1\n",
      "i:113 1 Lv1 i: 92  j: 11  zig: -1\n",
      "i:114 1 Lv1 i: 93  j: 11  zig: 0\n",
      "i:115 1 Lv1 i: 94  j: 11  zig: 1\n",
      "i:116 1 Lv1 i: 95  j: 11  zig: 0\n",
      "i:117 0 i:118 0 i:119 1 Lv1 i: 96  j: 11  zig: -1\n",
      "i:120 1 Lv1 i: 97  j: 12  zig: 1\n",
      "i:121 0 i:122 0 i:123 0 i:124 0 i:125 1 Lv1 i: 98  j: 12  zig: 0\n",
      "i:126 1 Lv1 i: 99  j: 12  zig: -1\n",
      "i:127 1 Lv1 i: 100  j: 12  zig: 0\n",
      "i:128 1 Lv1 i: 101  j: 12  zig: 1\n",
      "i:129 1 Lv1 i: 102  j: 12  zig: 0\n",
      "i:130 0 i:131 1 Lv1 i: 103  j: 12  zig: -1\n",
      "i:132 1 Lv1 i: 104  j: 12  zig: 1\n",
      "i:133 0 i:134 0 i:135 1 Lv1 i: 105  j: 13  zig: 0\n",
      "i:136 1 Lv1 i: 106  j: 13  zig: 0\n",
      "i:137 1 Lv1 i: 107  j: 13  zig: 0\n",
      "i:138 1 Lv1 i: 108  j: 13  zig: 0\n",
      "i:139 1 Lv1 i: 109  j: 13  zig: 0\n",
      "i:140 1 Lv1 i: 110  j: 13  zig: 0\n",
      "i:141 1 Lv1 i: 111  j: 13  zig: 0\n",
      "i:142 1 Lv1 i: 112  j: 13  zig: -1\n",
      "i:143 1 Lv1 i: 113  j: 14  zig: 1\n",
      "i:144 1 Lv1 i: 114  j: 14  zig: 0\n",
      "i:145 1 Lv1 i: 115  j: 14  zig: 0\n",
      "i:146 0 i:147 1 Lv1 i: 116  j: 14  zig: 0\n",
      "i:148 1 Lv1 i: 117  j: 14  zig: -1\n",
      "i:149 1 Lv1 i: 118  j: 14  zig: 0\n",
      "i:150 0 i:151 1 Lv1 i: 119  j: 14  zig: 1\n",
      "i:152 0 i:153 1 Lv1 i: 120  j: 14  zig: -1\n",
      "i:154 1 Lv1 i: 121  j: 14  zig: 0\n",
      "i:155 1 Lv1 i: 122  j: 14  zig: 1\n",
      "i:156 1 Lv1 i: 123  j: 15  zig: 0\n",
      "i:157 1 Lv1 i: 124  j: 15  zig: 0\n",
      "i:158 1 Lv1 i: 125  j: 15  zig: -1\n",
      "i:159 0 i:160 0 i:161 1 Lv1 i: 126  j: 16  zig: 0\n",
      "i:162 1 Lv1 i: 127  j: 16  zig: 1\n",
      "i:163 1 Lv1 i: 128  j: 16  zig: 0\n",
      "i:164 0 i:165 1 Lv1 i: 129  j: 16  zig: 0\n",
      "i:166 1 Lv1 i: 130  j: 16  zig: 0\n",
      "i:167 1 Lv1 i: 131  j: 16  zig: 0\n",
      "i:168 0 i:169 1 Lv1 i: 132  j: 16  zig: -1\n",
      "i:170 1 Lv1 i: 133  j: 16  zig: 1\n",
      "i:171 0 i:172 1 Lv1 i: 134  j: 16  zig: 0\n",
      "i:173 1 Lv1 i: 135  j: 16  zig: 0\n",
      "i:174 1 Lv1 i: 136  j: 16  zig: -1\n",
      "i:175 1 Lv1 i: 137  j: 16  zig: 1\n",
      "i:176 1 Lv1 i: 138  j: 16  zig: 0\n",
      "i:177 1 Lv1 i: 139  j: 16  zig: -1\n",
      "i:178 0 i:179 1 Lv1 i: 140  j: 16  zig: 1\n",
      "i:180 1 Lv1 i: 141  j: 16  zig: -1\n",
      "i:181 0 i:182 1 Lv1 i: 142  j: 16  zig: 0\n",
      "i:183 0 i:184 1 Lv1 i: 143  j: 16  zig: 1\n",
      "i:185 1 Lv1 i: 144  j: 16  zig: 0\n",
      "i:186 1 Lv1 i: 145  j: 16  zig: 0\n",
      "i:187 1 Lv1 i: 146  j: 16  zig: 0\n",
      "i:188 0 i:189 1 Lv1 i: 147  j: 16  zig: -1\n",
      "i:190 1 Lv1 i: 148  j: 16  zig: 0\n",
      "i:191 0 i:192 0 i:193 1 Lv1 i: 149  j: 16  zig: 0\n",
      "i:194 1 Lv1 i: 150  j: 16  zig: 1\n",
      "i:195 1 Lv1 i: 151  j: 17  zig: 0\n",
      "i:196 1 Lv1 i: 152  j: 17  zig: 0\n",
      "i:197 1 Lv1 i: 153  j: 17  zig: 0\n",
      "i:198 0 i:199 1 Lv1 i: 154  j: 17  zig: 0\n",
      "i:200 0 i:201 1 Lv1 i: 155  j: 17  zig: -1\n",
      "i:202 0 i:203 1 Lv1 i: 156  j: 18  zig: 1\n",
      "i:204 1 Lv1 i: 157  j: 18  zig: -1\n",
      "i:205 1 Lv1 i: 158  j: 18  zig: 1\n",
      "i:206 1 Lv1 i: 159  j: 18  zig: 0\n",
      "i:207 1 Lv1 i: 160  j: 18  zig: 0\n",
      "i:208 1 Lv1 i: 161  j: 18  zig: 0\n",
      "i:209 1 Lv1 i: 162  j: 18  zig: 0\n",
      "i:210 1 Lv1 i: 163  j: 18  zig: 0\n",
      "i:211 1 Lv1 i: 164  j: 18  zig: -1\n",
      "i:212 1 Lv1 i: 165  j: 18  zig: 0\n",
      "i:213 1 Lv1 i: 166  j: 18  zig: 1\n",
      "i:214 0 i:215 1 Lv1 i: 167  j: 18  zig: 0\n",
      "i:216 1 Lv1 i: 168  j: 18  zig: 0\n",
      "i:217 1 Lv1 i: 169  j: 18  zig: -1\n",
      "i:218 1 Lv1 i: 170  j: 18  zig: 0\n",
      "i:219 0\n"
     ]
    }
   ],
   "source": [
    "for i in range(len(md.k_Df)):\n",
    "    md.std(i)\n",
    "    if len(Lv1CT)>0:\n",
    "        for dd in Lv1CT:\n",
    "            dd.gen_D(md.k_Df.iloc[i,0],md.k_Df)\n",
    "            dd.core\n",
    "            dd.spec\n",
    "            if not signal:\n",
    "                dd.update()\n",
    "            else:\n",
    "                md.Distri.move_LD(,Lv1SnCT,dd)\n",
    "                md.Distri.del_LD_before(Lv1CT,dd)\n",
    "    if md.Fstd == 1:\n",
    "        md.Lv1()"
   ]
  },
  {
   "cell_type": "code",
   "execution_count": 5,
   "metadata": {
    "collapsed": false
   },
   "outputs": [],
   "source": [
    "dd = md.Distri(md.k_Df)"
   ]
  },
  {
   "cell_type": "code",
   "execution_count": 6,
   "metadata": {
    "collapsed": false
   },
   "outputs": [
    {
     "name": "stdout",
     "output_type": "stream",
     "text": [
      "0:00:00.018000\n"
     ]
    },
    {
     "data": {
      "text/plain": [
       "True"
      ]
     },
     "execution_count": 6,
     "metadata": {},
     "output_type": "execute_result"
    }
   ],
   "source": [
    "dd.gen_D( md.Lv1D['Tm'][1],md.k_Df,md.Lv1D['Tm'][0])"
   ]
  },
  {
   "cell_type": "code",
   "execution_count": 7,
   "metadata": {
    "collapsed": false
   },
   "outputs": [
    {
     "data": {
      "text/plain": [
       "{'H': 6.4800000000000004,\n",
       " 'L': 6.1799999999999997,\n",
       " 'TmE': Timestamp('2017-01-13 00:00:00'),\n",
       " 'TmS': Timestamp('2017-01-03 00:00:00'),\n",
       " 'count': array([ 0.16666667,  0.16666667,  0.30952381,  0.30952381,  0.30952381,\n",
       "         0.47619048,  0.30952381,  0.40952381,  0.40952381,  0.26666667,\n",
       "         0.26666667,  0.21111111,  0.21111111,  0.52063492,  0.52063492,\n",
       "         0.72063492,  0.72063492,  0.62063492,  0.62063492,  0.45396825]),\n",
       " 'k_count': 8,\n",
       " 'scale': array([ 6.18 ,  6.195,  6.21 ,  6.225,  6.24 ,  6.255,  6.27 ,  6.285,\n",
       "         6.3  ,  6.315,  6.33 ,  6.345,  6.36 ,  6.375,  6.39 ,  6.405,\n",
       "         6.42 ,  6.435,  6.45 ,  6.465])}"
      ]
     },
     "execution_count": 7,
     "metadata": {},
     "output_type": "execute_result"
    }
   ],
   "source": [
    "dd.get_D()"
   ]
  },
  {
   "cell_type": "code",
   "execution_count": 15,
   "metadata": {
    "collapsed": false
   },
   "outputs": [
    {
     "data": {
      "text/plain": [
       "True"
      ]
     },
     "execution_count": 15,
     "metadata": {},
     "output_type": "execute_result"
    }
   ],
   "source": [
    "Lv1CT = []\n",
    "md.Distri.sendToLDL(Lv1CT,dd)\n",
    "md.Distri.del_LD(Lv1CT,dd)"
   ]
  },
  {
   "cell_type": "code",
   "execution_count": 19,
   "metadata": {
    "collapsed": false
   },
   "outputs": [
    {
     "data": {
      "text/plain": [
       "pandas.tslib.Timestamp"
      ]
     },
     "execution_count": 19,
     "metadata": {},
     "output_type": "execute_result"
    }
   ],
   "source": [
    "tt = md.k_Df.iloc[5,0]\n",
    "type(tt)"
   ]
  },
  {
   "cell_type": "code",
   "execution_count": 20,
   "metadata": {
    "collapsed": false
   },
   "outputs": [
    {
     "data": {
      "text/plain": [
       "True"
      ]
     },
     "execution_count": 20,
     "metadata": {},
     "output_type": "execute_result"
    }
   ],
   "source": [
    "isinstance(dd,md.Distri)"
   ]
  },
  {
   "cell_type": "code",
   "execution_count": 24,
   "metadata": {
    "collapsed": false
   },
   "outputs": [
    {
     "data": {
      "text/plain": [
       "True"
      ]
     },
     "execution_count": 24,
     "metadata": {},
     "output_type": "execute_result"
    }
   ],
   "source": [
    "isinstance(tt,pd.tslib.Timestamp)"
   ]
  },
  {
   "cell_type": "code",
   "execution_count": null,
   "metadata": {
    "collapsed": true
   },
   "outputs": [],
   "source": []
  }
 ],
 "metadata": {
  "anaconda-cloud": {},
  "kernelspec": {
   "display_name": "Python [Root]",
   "language": "python",
   "name": "Python [Root]"
  },
  "language_info": {
   "codemirror_mode": {
    "name": "ipython",
    "version": 2
   },
   "file_extension": ".py",
   "mimetype": "text/x-python",
   "name": "python",
   "nbconvert_exporter": "python",
   "pygments_lexer": "ipython2",
   "version": "2.7.11"
  }
 },
 "nbformat": 4,
 "nbformat_minor": 0
}
