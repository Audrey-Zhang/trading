{
 "cells": [
  {
   "cell_type": "code",
   "execution_count": 2,
   "metadata": {},
   "outputs": [],
   "source": [
    "import pandas as pd\n",
    "import numpy as np\n",
    "from sqlalchemy import create_engine "
   ]
  },
  {
   "cell_type": "code",
   "execution_count": 4,
   "metadata": {},
   "outputs": [],
   "source": [
    "#engine = create_engine(\"mssql+pymssql://CENTALINE\\zhangyun29:sh.9999@./invest\")\n",
    "engine = create_engine(\"mssql+pymssql://sa:Pass0330@./invest\")\n",
    "cnx = engine.connect()"
   ]
  },
  {
   "cell_type": "code",
   "execution_count": 15,
   "metadata": {},
   "outputs": [],
   "source": [
    "def get_k(stock_ID, cycle, tmStart = None, tmEnd = None ):\n",
    "    str_sql = 'select * from ' + cycle + '_' +stock_ID\n",
    "    df = pd.read_sql(str_sql, cnx)\n",
    "    df.columns = ['Tm','O','H','L','C','V','A']\n",
    "    df.index = df.Tm\n",
    "    return df"
   ]
  },
  {
   "cell_type": "code",
   "execution_count": 17,
   "metadata": {},
   "outputs": [],
   "source": [
    "df_1 = get_k('002177','M1')"
   ]
  },
  {
   "cell_type": "code",
   "execution_count": 36,
   "metadata": {},
   "outputs": [],
   "source": [
    "df_30 = get_k('002177','M30')"
   ]
  },
  {
   "cell_type": "code",
   "execution_count": 20,
   "metadata": {},
   "outputs": [
    {
     "name": "stdout",
     "output_type": "stream",
     "text": [
      "<class 'pandas.core.frame.DataFrame'>\n",
      "DatetimeIndex: 14532 entries, 2017-12-01 09:30:00 to 2018-03-08 14:59:00\n",
      "Data columns (total 8 columns):\n",
      "Tm      14532 non-null datetime64[ns]\n",
      "O       14532 non-null float64\n",
      "H       14532 non-null float64\n",
      "L       14532 non-null float64\n",
      "C       14532 non-null float64\n",
      "V       14532 non-null float64\n",
      "A       14532 non-null float64\n",
      "date    14532 non-null object\n",
      "dtypes: datetime64[ns](1), float64(6), object(1)\n",
      "memory usage: 1021.8+ KB\n"
     ]
    }
   ],
   "source": [
    "df_1.info()"
   ]
  },
  {
   "cell_type": "code",
   "execution_count": 37,
   "metadata": {},
   "outputs": [
    {
     "name": "stdout",
     "output_type": "stream",
     "text": [
      "<class 'pandas.core.frame.DataFrame'>\n",
      "DatetimeIndex: 489 entries, 2017-12-01 09:30:00 to 2018-03-08 14:30:00\n",
      "Data columns (total 7 columns):\n",
      "Tm    489 non-null datetime64[ns]\n",
      "O     489 non-null float64\n",
      "H     489 non-null float64\n",
      "L     489 non-null float64\n",
      "C     489 non-null float64\n",
      "V     489 non-null float64\n",
      "A     489 non-null float64\n",
      "dtypes: datetime64[ns](1), float64(6)\n",
      "memory usage: 30.6 KB\n"
     ]
    }
   ],
   "source": [
    "df_30.info()"
   ]
  },
  {
   "cell_type": "code",
   "execution_count": 38,
   "metadata": {},
   "outputs": [],
   "source": [
    "df_1.to_csv('002177M1.csv')\n",
    "df_30.to_csv('002177M30.csv')"
   ]
  },
  {
   "cell_type": "code",
   "execution_count": 19,
   "metadata": {},
   "outputs": [],
   "source": [
    "df_1['date'] = df_1.Tm.dt.date"
   ]
  },
  {
   "cell_type": "code",
   "execution_count": 28,
   "metadata": {},
   "outputs": [
    {
     "data": {
      "text/plain": [
       "datetime.date"
      ]
     },
     "execution_count": 28,
     "metadata": {},
     "output_type": "execute_result"
    }
   ],
   "source": [
    "type(df_1.date[0])"
   ]
  },
  {
   "cell_type": "code",
   "execution_count": 34,
   "metadata": {},
   "outputs": [
    {
     "data": {
      "text/plain": [
       "datetime.date(2017, 12, 1)"
      ]
     },
     "execution_count": 34,
     "metadata": {},
     "output_type": "execute_result"
    }
   ],
   "source": [
    "dt = pd.to_datetime('2017-12-01')\n",
    "dt = dt.date()\n",
    "dt"
   ]
  },
  {
   "cell_type": "code",
   "execution_count": null,
   "metadata": {},
   "outputs": [],
   "source": []
  }
 ],
 "metadata": {
  "kernelspec": {
   "display_name": "Python 3",
   "language": "python",
   "name": "python3"
  },
  "language_info": {
   "codemirror_mode": {
    "name": "ipython",
    "version": 3
   },
   "file_extension": ".py",
   "mimetype": "text/x-python",
   "name": "python",
   "nbconvert_exporter": "python",
   "pygments_lexer": "ipython3",
   "version": "3.6.4"
  },
  "toc": {
   "nav_menu": {},
   "number_sections": true,
   "sideBar": true,
   "skip_h1_title": false,
   "title_cell": "Table of Contents",
   "title_sidebar": "Contents",
   "toc_cell": false,
   "toc_position": {},
   "toc_section_display": true,
   "toc_window_display": false
  }
 },
 "nbformat": 4,
 "nbformat_minor": 2
}
