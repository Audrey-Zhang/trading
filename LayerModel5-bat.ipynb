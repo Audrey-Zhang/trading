{
 "cells": [
  {
   "cell_type": "code",
   "execution_count": 1,
   "metadata": {},
   "outputs": [],
   "source": [
    "import numpy as np\n",
    "import pandas as pd\n",
    "import time\n",
    "import gc"
   ]
  },
  {
   "cell_type": "code",
   "execution_count": 2,
   "metadata": {},
   "outputs": [],
   "source": [
    "import matplotlib as mpl\n",
    "import matplotlib.pyplot as plt\n",
    "#import mplfinance as mpf"
   ]
  },
  {
   "cell_type": "code",
   "execution_count": 3,
   "metadata": {},
   "outputs": [],
   "source": [
    "from LayerModel5 import *"
   ]
  },
  {
   "cell_type": "code",
   "execution_count": 4,
   "metadata": {},
   "outputs": [],
   "source": [
    "from frame import *"
   ]
  },
  {
   "cell_type": "code",
   "execution_count": 2,
   "metadata": {},
   "outputs": [],
   "source": [
    "from bat import *"
   ]
  },
  {
   "cell_type": "code",
   "execution_count": 3,
   "metadata": {},
   "outputs": [],
   "source": [
    "def get_data(fn):\n",
    "    dt_df = pd.read_csv('data_csv\\\\'+fn,index_col=0,parse_dates=True)\n",
    "    stockID =fn.split('.')[0]\n",
    "    dt_df['TmIdx'] = list(range(0,dt_df.shape[0]))\n",
    "    dt_df['tm'] =dt_df.index\n",
    "    dt = dt_df[['open','high','low','close','TmIdx','tm']].values.tolist()\n",
    "    del dt_df\n",
    "    return dt, stockID"
   ]
  },
  {
   "cell_type": "code",
   "execution_count": 6,
   "metadata": {},
   "outputs": [],
   "source": [
    "def main(dt, stockID, m):\n",
    "    filepath = 'event_config.json'\n",
    "    ef = EventFactory(filepath)\n",
    "    Stick.mm = m\n",
    "    Trend.m = m\n",
    "    Trend.ef = ef\n",
    "    Pair.m = m\n",
    "    PairChain.m = m\n",
    "    PairChain.ef = ef\n",
    "    CenterStrict.m = m\n",
    "    CenterStrict.ef = ef\n",
    "    #Signal001.m = m\n",
    "    #Signal001.ef = ef\n",
    "    #Signal001.L = m.SIG_L\n",
    "    #Signal001()\n",
    "    Stick.L = m.Lv0_L\n",
    "    Stick('init', k_bar=dt[0])\n",
    "    TrendLv1 = type('TrendLv1', (Trend,), {'L':m.Lv1_L, 'ML':Stick.L, 'level':1}) \n",
    "    TrendLv1('init', k_bar=dt[0], mp=[0])\n",
    "    TrendLv2 = type('TrendLv2', (Trend,), {'L':m.Lv2_L, 'ML':TrendLv1.L, 'level':2}) \n",
    "    TrendLv2('init', k_bar=dt[0], mp=[0])\n",
    "    TrendLv3 = type('TrendLv3', (Trend,), {'L':m.Lv3_L, 'ML':TrendLv2.L, 'level':3}) \n",
    "    TrendLv3('init', k_bar=dt[0], mp=[0])\n",
    "    Center0 = type('Center0', (CenterStrict,), {'ML': m.findList('st', 0), 'L': m.findList('center', 0), 'openL':[],  'level': 0})\n",
    "    Center0()\n",
    "    Center1 = type('Center1', (CenterStrict,), {'ML': m.findList('st', 1), 'L': m.findList('center', 1), 'openL':[],  'level': 1})\n",
    "    Center1()\n",
    "    Center2 = type('Center2', (CenterStrict,), {'ML': m.findList('st', 2), 'L': m.findList('center', 2), 'openL':[],  'level': 2})\n",
    "    Center2()\n",
    "    Center3 = type('Center3', (CenterStrict,), {'ML': m.findList('st', 3), 'L': m.findList('center', 3), 'openL':[],  'level': 3})\n",
    "    Center3()\n",
    "    PairLv0 = type('PairLv0', (Pair,), {'ML': m.findList('st', 0), 'L': m.findList('pair', 0), 'level': 0})\n",
    "    PairLv0(0)\n",
    "    PairLv1 = type('PairLv1', (Pair,), {'ML': m.findList('st', 1), 'L': m.findList('pair', 1), 'level': 1})\n",
    "    PairLv1(0)\n",
    "    PairLv2 = type('PairLv2', (Pair,), {'ML': m.findList('st', 2), 'L': m.findList('pair', 2), 'level': 2})\n",
    "    PairLv2(0)\n",
    "    PairLv3 = type('PairLv3', (Pair,), {'ML': m.findList('st', 3), 'L': m.findList('pair', 3), 'level': 3})\n",
    "    PairLv3(0)\n",
    "    PairChainLv0 = PairChain(0, 'PairChainLv0')\n",
    "    PairChainLv1 = PairChain(1,'PairChainLv1')\n",
    "    PairChainLv2 = PairChain(2, 'PairChainLv2')\n",
    "    PairChainLv3 = PairChain(3, 'PairChainLv3')\n",
    "    \n",
    "    SIG_overlap.m, SIG_overlap.ef = m, ef\n",
    "    actions = []\n",
    "    level = 3\n",
    "    actions.append({ 'level_num': level, \n",
    "                'obj_name': 'TrendLv' +str(int(level)),\n",
    "                'event_name': 'NEW',\n",
    "                'obj_p': 'SIG_overlap',\n",
    "                'method': 'any_opp',\n",
    "                'param': str(level)  })\n",
    "    for ac in actions:\n",
    "        ef.regAction(**ac)\n",
    "        \n",
    "        \n",
    "    #Position.m = m\n",
    "    #Position.L = m.position\n",
    "    layer = m.layer\n",
    "    \n",
    "    \n",
    "    Event.L = [[] for i in list(range(layer+1))]\n",
    "    #filepath = 'event_config.json'\n",
    "    #ef = EventFactory(filepath)\n",
    "    \n",
    "    for k in dt[1:]:\n",
    "        m.update(k)\n",
    "        Stick.L[-1].update(k)  \n",
    "        \n",
    "        # update crt Lv1 and add new Lv1\n",
    "        TrendLv1.L[-1].updateEndP(k)\n",
    "        for i in list(range(layer)):\n",
    "            if len(Event.L[i]) > 0:\n",
    "                #print('TmIdx:{},[{}]'.format(k[4],[x for x in Event.L[i]]))\n",
    "                for event in Event.L[i][:]:\n",
    "                    actions = ef.play(event)\n",
    "                    for a in actions:\n",
    "                        #print(a)\n",
    "                        if a != '':\n",
    "                            eval(a)\n",
    "        \n",
    "    print([sig.remark for sig in SIG_overlap.L])\n",
    "    print(len(m.Lv3_L))\n",
    "    \n",
    "    #m.reset()\n",
    "    SIG_overlap.L = []\n",
    "    for key in m.__dict__:\n",
    "        if key[-2:] =='_L':\n",
    "            ll = m.__dict__[key]\n",
    "            for i in range(len(ll))[::-1]:\n",
    "                del m.__dict__[key][i]\n",
    "    for i in range(len(StdK.obj_L))[::-1]:\n",
    "        del StdK.obj_L[i]\n",
    "    for i in range(len(Point.obj_L))[::-1]:\n",
    "        del Point.obj_L[i]\n",
    "        \n",
    "    return None"
   ]
  },
  {
   "cell_type": "markdown",
   "metadata": {},
   "source": [
    "## RUN"
   ]
  },
  {
   "cell_type": "code",
   "execution_count": 4,
   "metadata": {},
   "outputs": [],
   "source": [
    "stock_fns = ['601012-1m.csv', '0600352.XSHG.csv']"
   ]
  },
  {
   "cell_type": "code",
   "execution_count": 7,
   "metadata": {},
   "outputs": [
    {
     "name": "stdout",
     "output_type": "stream",
     "text": [
      "['-1Lv17.0']\n",
      "20\n",
      "0600352 totally cost：11.26\n",
      "['-1Lv17.0', '-1Lv15.0', '-1Lv13656.0', '-1Lv13656.0', '-1Lv13656.0', '-1Lv13656.0', '-1Lv113920.0', '-1Lv113920.0', '-1Lv113920.0', '-1Lv113920.0']\n",
      "22\n",
      "601012-1m totally cost：9.82\n"
     ]
    }
   ],
   "source": [
    "remark = []\n",
    "for fn in stock_fns:      \n",
    "    time_start=time.time()    \n",
    "    dt, stockID = get_data(fn)\n",
    "    m = Running(stockID, dt)\n",
    "    rr = m.play()\n",
    "    remark.append(rr)\n",
    "    m.reset_market()\n",
    "    time_end=time.time()\n",
    "    print('{} totally cost：{:.2f}'.format(stockID,time_end-time_start))\n"
   ]
  },
  {
   "cell_type": "code",
   "execution_count": 9,
   "metadata": {},
   "outputs": [
    {
     "data": {
      "text/plain": [
       "['8.0:m.Lv1_L[-1].updatePeakP(k_bar=m.dt[-1]),st0:1, st1:1',\n",
       " '13.0:m.Lv1_L[-1].update2(),st0:2, st1:1',\n",
       " '13.0:m.PCLv0_L[0].update2(),st0:2, st1:1',\n",
       " '13.0:Center0.updateAll(),st0:2, st1:1',\n",
       " '16.0:m.PCLv0_L[0].updateLastSt(),st0:2, st1:1',\n",
       " '17.0:m.PCLv0_L[0].updateLastSt(),st0:2, st1:1',\n",
       " '19.0:m.Lv1_L[-1].updatePeakP(k_bar=m.dt[-1]),st0:2, st1:1',\n",
       " '21.0:m.PCLv0_L[0].updateLastSt(),st0:2, st1:1',\n",
       " '22.0:m.PCLv0_L[0].updateLastSt(),st0:2, st1:1',\n",
       " '24.0:m.PCLv0_L[0].updateLastSt(),st0:2, st1:1',\n",
       " '25.0:m.PCLv0_L[0].updateLastSt(),st0:2, st1:1',\n",
       " '27.0:m.PCLv0_L[0].updateLastSt(),st0:2, st1:1',\n",
       " '28.0:m.PCLv0_L[0].updateLastSt(),st0:2, st1:1',\n",
       " '29.0:m.PCLv0_L[0].updateLastSt(),st0:2, st1:1',\n",
       " '30.0:m.Lv1_L[-1].updatePeakP(k_bar=m.dt[-1]),st0:2, st1:1',\n",
       " '38.0:m.Lv1_L[-1].update2(),st0:3, st1:1',\n",
       " '38.0:m.PCLv0_L[0].update2(),st0:3, st1:2',\n",
       " '38.0:Center0.updateAll(),st0:3, st1:2',\n",
       " '38.0:m.Lv2_L[-1].updatePeakP(k_bar=m.dt[-1]),st0:3, st1:2',\n",
       " '39.0:m.CLv0_L[0].newCenter(obj=\"pair\", level=0, i=-1),st0:3, st1:2',\n",
       " '41.0:m.Lv1_L[-1].update2(),st0:4, st1:2',\n",
       " '41.0:m.PCLv0_L[0].update2(),st0:4, st1:2',\n",
       " '41.0:Center0.updateAll(),st0:4, st1:2',\n",
       " '41.0:m.Lv2_L[-1].updatePeakP(k_bar=m.dt[-1]),st0:4, st1:2',\n",
       " '42.0:m.CLv0_L[0].newCenter(obj=\"pair\", level=0, i=-1),st0:4, st1:2',\n",
       " '46.0:m.Lv1_L[-1].update2(),st0:5, st1:2',\n",
       " '46.0:m.PCLv0_L[0].update2(),st0:5, st1:2',\n",
       " '46.0:Center0.updateAll(),st0:5, st1:2',\n",
       " '47.0:m.CLv0_L[0].newCenter(obj=\"pair\", level=0, i=-1),st0:5, st1:2',\n",
       " '48.0:m.Lv1_L[-1].update2(),st0:6, st1:2',\n",
       " '48.0:m.PCLv0_L[0].update2(),st0:6, st1:3',\n",
       " '48.0:Center0.updateAll(),st0:6, st1:3',\n",
       " '48.0:m.Lv2_L[-1].update2(),st0:6, st1:3',\n",
       " '48.0:m.PCLv1_L[0].update2(),st0:6, st1:3',\n",
       " '48.0:Center1.updateAll(),st0:6, st1:3',\n",
       " '48.0:m.CLv0_L[0].newCenter(obj=\"st\", level=1, i=-1),st0:6, st1:3',\n",
       " '48.0:m.Lv3_L[-1].updatePeakP(k_bar=m.dt[-1]),st0:6, st1:3',\n",
       " '49.0:m.CLv0_L[0].newCenter(obj=\"pair\", level=0, i=-1),st0:6, st1:3',\n",
       " '52.0:m.Lv1_L[-1].update2(),st0:7, st1:3',\n",
       " '52.0:m.PCLv0_L[0].update2(),st0:7, st1:3',\n",
       " '52.0:Center0.updateAll(),st0:7, st1:3',\n",
       " '52.0:m.Lv2_L[-1].updatePeakP(k_bar=m.dt[-1]),st0:7, st1:3',\n",
       " '53.0:m.CLv0_L[0].newCenter(obj=\"pair\", level=0, i=-1),st0:7, st1:3',\n",
       " '63.0:m.Lv1_L[-1].update2(),st0:8, st1:3',\n",
       " '63.0:m.PCLv0_L[0].update2(),st0:8, st1:3',\n",
       " '63.0:Center0.updateAll(),st0:8, st1:3',\n",
       " '64.0:m.CLv0_L[0].newCenter(obj=\"pair\", level=0, i=-1),st0:8, st1:3',\n",
       " '65.0:m.Lv1_L[-1].update2(),st0:9, st1:3',\n",
       " '65.0:m.PCLv0_L[0].update2(),st0:9, st1:3',\n",
       " '65.0:Center0.updateAll(),st0:9, st1:3',\n",
       " '65.0:m.Lv2_L[-1].updatePeakP(k_bar=m.dt[-1]),st0:9, st1:3',\n",
       " '66.0:m.CLv0_L[0].newCenter(obj=\"pair\", level=0, i=-1),st0:9, st1:3',\n",
       " '70.0:m.Lv1_L[-1].update2(),st0:10, st1:3',\n",
       " '70.0:m.PCLv0_L[0].update2(),st0:10, st1:3',\n",
       " '70.0:Center0.updateAll(),st0:10, st1:3',\n",
       " '71.0:m.CLv0_L[0].newCenter(obj=\"pair\", level=0, i=-1),st0:10, st1:3',\n",
       " '82.0:m.Lv1_L[-1].update2(),st0:11, st1:3',\n",
       " '82.0:m.PCLv0_L[0].update2(),st0:11, st1:4',\n",
       " '82.0:Center0.updateAll(),st0:11, st1:4',\n",
       " '82.0:m.Lv2_L[-1].update2(),st0:11, st1:4',\n",
       " '82.0:m.PCLv1_L[0].update2(),st0:11, st1:4',\n",
       " '82.0:Center1.updateAll(),st0:11, st1:4',\n",
       " '82.0:m.CLv0_L[0].newCenter(obj=\"st\", level=1, i=-1),st0:11, st1:4',\n",
       " '82.0:m.Lv3_L[-1].updatePeakP(k_bar=m.dt[-1]),st0:11, st1:4',\n",
       " '83.0:m.CLv0_L[0].newCenter(obj=\"pair\", level=0, i=-1),st0:11, st1:4',\n",
       " '83.0:m.CLv1_L[0].newCenter(obj=\"pair\", level=1, i=-1),st0:11, st1:4',\n",
       " '83.0:m.CLv1_L[0].newCenter(obj=\"pair\", level=1, i=-1),st0:11, st1:4',\n",
       " '86.0:m.Lv1_L[-1].update2(),st0:12, st1:4',\n",
       " '86.0:m.PCLv0_L[0].update2(),st0:12, st1:4',\n",
       " '86.0:Center0.updateAll(),st0:12, st1:4',\n",
       " '86.0:m.Lv2_L[-1].updatePeakP(k_bar=m.dt[-1]),st0:12, st1:4',\n",
       " '87.0:m.CLv0_L[0].newCenter(obj=\"pair\", level=0, i=-1),st0:12, st1:4',\n",
       " '92.0:m.Lv1_L[-1].update2(),st0:13, st1:4',\n",
       " '92.0:m.PCLv0_L[0].update2(),st0:13, st1:4',\n",
       " '92.0:Center0.updateAll(),st0:13, st1:4',\n",
       " '93.0:m.CLv0_L[0].newCenter(obj=\"pair\", level=0, i=-1),st0:13, st1:4',\n",
       " '105.0:m.Lv1_L[-1].update2(),st0:14, st1:4',\n",
       " '105.0:m.PCLv0_L[0].update2(),st0:14, st1:5',\n",
       " '105.0:Center0.updateAll(),st0:14, st1:5',\n",
       " '105.0:m.Lv2_L[-1].update2(),st0:14, st1:5',\n",
       " '105.0:m.PCLv1_L[0].update2(),st0:14, st1:5',\n",
       " '105.0:Center1.updateAll(),st0:14, st1:5',\n",
       " '105.0:m.CLv0_L[0].newCenter(obj=\"st\", level=1, i=-1),st0:14, st1:5',\n",
       " '106.0:m.CLv0_L[0].newCenter(obj=\"pair\", level=0, i=-1),st0:14, st1:5',\n",
       " '113.0:m.Lv1_L[-1].update2(),st0:15, st1:5',\n",
       " '113.0:m.PCLv0_L[0].update2(),st0:15, st1:5',\n",
       " '113.0:Center0.updateAll(),st0:15, st1:5',\n",
       " '113.0:m.Lv2_L[-1].updatePeakP(k_bar=m.dt[-1]),st0:15, st1:5',\n",
       " '114.0:m.CLv0_L[0].newCenter(obj=\"pair\", level=0, i=-1),st0:15, st1:5',\n",
       " '114.0:m.PCLv0_L[0].updateLastSt(),st0:15, st1:5',\n",
       " '115.0:m.PCLv0_L[0].updateLastSt(),st0:15, st1:5',\n",
       " '116.0:m.Lv1_L[-1].updatePeakP(k_bar=m.dt[-1]),st0:15, st1:5',\n",
       " '121.0:m.Lv1_L[-1].update2(),st0:16, st1:5',\n",
       " '121.0:m.PCLv0_L[0].update2(),st0:16, st1:5',\n",
       " '121.0:Center0.updateAll(),st0:16, st1:5',\n",
       " '122.0:m.CLv0_L[0].newCenter(obj=\"pair\", level=0, i=-1),st0:16, st1:5',\n",
       " '127.0:m.Lv1_L[-1].update2(),st0:17, st1:5',\n",
       " '127.0:m.PCLv0_L[0].update2(),st0:17, st1:5',\n",
       " '127.0:Center0.updateAll(),st0:17, st1:5',\n",
       " '127.0:m.Lv2_L[-1].updatePeakP(k_bar=m.dt[-1]),st0:17, st1:5']"
      ]
     },
     "execution_count": 9,
     "metadata": {},
     "output_type": "execute_result"
    }
   ],
   "source": [
    "remark[0][:100]"
   ]
  },
  {
   "cell_type": "code",
   "execution_count": 8,
   "metadata": {},
   "outputs": [
    {
     "data": {
      "text/plain": [
       "['8.0:m.Lv1_L[-1].updatePeakP(k_bar=m.dt[-1]),st0:1, st1:1',\n",
       " '13.0:m.Lv1_L[-1].update2(),st0:2, st1:1',\n",
       " '13.0:m.PCLv0_L[0].update2(),st0:2, st1:1',\n",
       " '13.0:Center0.updateAll(),st0:2, st1:1',\n",
       " '16.0:m.PCLv0_L[0].updateLastSt(),st0:2, st1:1',\n",
       " '17.0:m.PCLv0_L[0].updateLastSt(),st0:2, st1:1',\n",
       " '19.0:m.Lv1_L[-1].updatePeakP(k_bar=m.dt[-1]),st0:2, st1:1',\n",
       " '21.0:m.PCLv0_L[0].updateLastSt(),st0:2, st1:1',\n",
       " '22.0:m.PCLv0_L[0].updateLastSt(),st0:2, st1:1',\n",
       " '24.0:m.PCLv0_L[0].updateLastSt(),st0:2, st1:1',\n",
       " '25.0:m.PCLv0_L[0].updateLastSt(),st0:2, st1:1',\n",
       " '27.0:m.PCLv0_L[0].updateLastSt(),st0:2, st1:1',\n",
       " '28.0:m.PCLv0_L[0].updateLastSt(),st0:2, st1:1',\n",
       " '29.0:m.PCLv0_L[0].updateLastSt(),st0:2, st1:1',\n",
       " '30.0:m.Lv1_L[-1].updatePeakP(k_bar=m.dt[-1]),st0:2, st1:1',\n",
       " '38.0:m.Lv1_L[-1].update2(),st0:3, st1:1',\n",
       " '38.0:m.PCLv0_L[0].update2(),st0:3, st1:2',\n",
       " '38.0:Center0.updateAll(),st0:3, st1:2',\n",
       " '38.0:m.Lv2_L[-1].updatePeakP(k_bar=m.dt[-1]),st0:3, st1:2',\n",
       " '39.0:m.CLv0_L[0].newCenter(obj=\"pair\", level=0, i=-1),st0:3, st1:2',\n",
       " '41.0:m.Lv1_L[-1].update2(),st0:4, st1:2',\n",
       " '41.0:m.PCLv0_L[0].update2(),st0:4, st1:2',\n",
       " '41.0:Center0.updateAll(),st0:4, st1:2',\n",
       " '41.0:m.Lv2_L[-1].updatePeakP(k_bar=m.dt[-1]),st0:4, st1:2',\n",
       " '42.0:m.CLv0_L[0].newCenter(obj=\"pair\", level=0, i=-1),st0:4, st1:2',\n",
       " '46.0:m.Lv1_L[-1].update2(),st0:5, st1:2',\n",
       " '46.0:m.PCLv0_L[0].update2(),st0:5, st1:2',\n",
       " '46.0:Center0.updateAll(),st0:5, st1:2',\n",
       " '47.0:m.CLv0_L[0].newCenter(obj=\"pair\", level=0, i=-1),st0:5, st1:2',\n",
       " '48.0:m.Lv1_L[-1].update2(),st0:6, st1:2',\n",
       " '48.0:m.PCLv0_L[0].update2(),st0:6, st1:3',\n",
       " '48.0:Center0.updateAll(),st0:6, st1:3',\n",
       " '48.0:m.Lv2_L[-1].update2(),st0:6, st1:3',\n",
       " '48.0:m.PCLv1_L[0].update2(),st0:6, st1:3',\n",
       " '48.0:Center1.updateAll(),st0:6, st1:3',\n",
       " '48.0:m.CLv0_L[0].newCenter(obj=\"st\", level=1, i=-1),st0:6, st1:3',\n",
       " '48.0:m.CLv0_L[0].newCenter(obj=\"st\", level=1, i=-1),st0:6, st1:3',\n",
       " '48.0:m.CLv0_L[0].newCenter(obj=\"st\", level=1, i=-1),st0:6, st1:3',\n",
       " '48.0:m.CLv0_L[0].newCenter(obj=\"st\", level=1, i=-1),st0:6, st1:3',\n",
       " '48.0:m.Lv3_L[-1].updatePeakP(k_bar=m.dt[-1]),st0:6, st1:3',\n",
       " '49.0:m.CLv0_L[0].newCenter(obj=\"pair\", level=0, i=-1),st0:6, st1:3',\n",
       " '52.0:m.Lv1_L[-1].update2(),st0:7, st1:3',\n",
       " '52.0:m.PCLv0_L[0].update2(),st0:7, st1:3',\n",
       " '52.0:Center0.updateAll(),st0:7, st1:3',\n",
       " '52.0:m.Lv2_L[-1].updatePeakP(k_bar=m.dt[-1]),st0:7, st1:3',\n",
       " '53.0:m.CLv0_L[0].newCenter(obj=\"pair\", level=0, i=-1),st0:7, st1:3',\n",
       " '63.0:m.Lv1_L[-1].update2(),st0:8, st1:3',\n",
       " '63.0:m.PCLv0_L[0].update2(),st0:8, st1:3',\n",
       " '63.0:Center0.updateAll(),st0:8, st1:3',\n",
       " '64.0:m.CLv0_L[0].newCenter(obj=\"pair\", level=0, i=-1),st0:8, st1:3',\n",
       " '65.0:m.Lv1_L[-1].update2(),st0:9, st1:3',\n",
       " '65.0:m.PCLv0_L[0].update2(),st0:9, st1:3',\n",
       " '65.0:Center0.updateAll(),st0:9, st1:3',\n",
       " '65.0:m.Lv2_L[-1].updatePeakP(k_bar=m.dt[-1]),st0:9, st1:3',\n",
       " '66.0:m.CLv0_L[0].newCenter(obj=\"pair\", level=0, i=-1),st0:9, st1:3',\n",
       " '70.0:m.Lv1_L[-1].update2(),st0:10, st1:3',\n",
       " '70.0:m.PCLv0_L[0].update2(),st0:10, st1:3',\n",
       " '70.0:Center0.updateAll(),st0:10, st1:3',\n",
       " '71.0:m.CLv0_L[0].newCenter(obj=\"pair\", level=0, i=-1),st0:10, st1:3',\n",
       " '82.0:m.Lv1_L[-1].update2(),st0:11, st1:3',\n",
       " '82.0:m.PCLv0_L[0].update2(),st0:11, st1:4',\n",
       " '82.0:Center0.updateAll(),st0:11, st1:4',\n",
       " '82.0:m.Lv2_L[-1].update2(),st0:11, st1:4',\n",
       " '82.0:m.PCLv1_L[0].update2(),st0:11, st1:4',\n",
       " '82.0:Center1.updateAll(),st0:11, st1:4',\n",
       " '82.0:m.CLv0_L[0].newCenter(obj=\"st\", level=1, i=-1),st0:11, st1:4',\n",
       " '82.0:m.CLv0_L[0].newCenter(obj=\"st\", level=1, i=-1),st0:11, st1:4',\n",
       " '82.0:m.CLv0_L[0].newCenter(obj=\"st\", level=1, i=-1),st0:11, st1:4',\n",
       " '82.0:m.CLv0_L[0].newCenter(obj=\"st\", level=1, i=-1),st0:11, st1:4',\n",
       " '82.0:m.Lv3_L[-1].updatePeakP(k_bar=m.dt[-1]),st0:11, st1:4',\n",
       " '83.0:m.CLv0_L[0].newCenter(obj=\"pair\", level=0, i=-1),st0:11, st1:4',\n",
       " '83.0:m.CLv1_L[0].newCenter(obj=\"pair\", level=1, i=-1),st0:11, st1:4',\n",
       " '83.0:m.CLv1_L[0].newCenter(obj=\"pair\", level=1, i=-1),st0:11, st1:4',\n",
       " '86.0:m.Lv1_L[-1].update2(),st0:12, st1:4',\n",
       " '86.0:m.PCLv0_L[0].update2(),st0:12, st1:4',\n",
       " '86.0:Center0.updateAll(),st0:12, st1:4',\n",
       " '86.0:m.Lv2_L[-1].updatePeakP(k_bar=m.dt[-1]),st0:12, st1:4',\n",
       " '87.0:m.CLv0_L[0].newCenter(obj=\"pair\", level=0, i=-1),st0:12, st1:4',\n",
       " '92.0:m.Lv1_L[-1].update2(),st0:13, st1:4',\n",
       " '92.0:m.PCLv0_L[0].update2(),st0:13, st1:4',\n",
       " '92.0:Center0.updateAll(),st0:13, st1:4',\n",
       " '93.0:m.CLv0_L[0].newCenter(obj=\"pair\", level=0, i=-1),st0:13, st1:4',\n",
       " '105.0:m.Lv1_L[-1].update2(),st0:14, st1:4',\n",
       " '105.0:m.PCLv0_L[0].update2(),st0:14, st1:5',\n",
       " '105.0:Center0.updateAll(),st0:14, st1:5',\n",
       " '105.0:m.Lv2_L[-1].update2(),st0:14, st1:5',\n",
       " '105.0:m.PCLv1_L[0].update2(),st0:14, st1:5',\n",
       " '105.0:Center1.updateAll(),st0:14, st1:5',\n",
       " '105.0:m.CLv0_L[0].newCenter(obj=\"st\", level=1, i=-1),st0:14, st1:5',\n",
       " '105.0:m.CLv0_L[0].newCenter(obj=\"st\", level=1, i=-1),st0:14, st1:5',\n",
       " '105.0:m.CLv0_L[0].newCenter(obj=\"st\", level=1, i=-1),st0:14, st1:5',\n",
       " '105.0:m.CLv0_L[0].newCenter(obj=\"st\", level=1, i=-1),st0:14, st1:5',\n",
       " '106.0:m.CLv0_L[0].newCenter(obj=\"pair\", level=0, i=-1),st0:14, st1:5',\n",
       " '113.0:m.Lv1_L[-1].update2(),st0:15, st1:5',\n",
       " '113.0:m.PCLv0_L[0].update2(),st0:15, st1:5',\n",
       " '113.0:Center0.updateAll(),st0:15, st1:5',\n",
       " '113.0:m.Lv2_L[-1].updatePeakP(k_bar=m.dt[-1]),st0:15, st1:5',\n",
       " '114.0:m.CLv0_L[0].newCenter(obj=\"pair\", level=0, i=-1),st0:15, st1:5',\n",
       " '114.0:m.PCLv0_L[0].updateLastSt(),st0:15, st1:5',\n",
       " '115.0:m.PCLv0_L[0].updateLastSt(),st0:15, st1:5']"
      ]
     },
     "execution_count": 8,
     "metadata": {},
     "output_type": "execute_result"
    }
   ],
   "source": [
    "remark[1][:100]"
   ]
  },
  {
   "cell_type": "code",
   "execution_count": 7,
   "metadata": {},
   "outputs": [
    {
     "data": {
      "text/plain": [
       "['16.0:peakV:9.2008,peak_drt:-1,std[-2]_LH:9.075/9.1234, std[-2]:(14.0, 9.1234, 9.075, -1)',\n",
       " '26.0:peakV:9.075,peak_drt:1,std[-2]_LH:9.104/9.1427, std[-2]:(23.0, 9.1427, 9.104, 1)',\n",
       " '32.0:peakV:9.1427,peak_drt:-1,std[-2]_LH:9.0653/9.0847, std[-2]:(27.0, 9.0847, 9.0653, -1)',\n",
       " '43.0:peakV:9.0363,peak_drt:1,std[-2]_LH:9.0944/9.1331, std[-2]:(42.0, 9.1331, 9.0944, 1)',\n",
       " '47.0:peakV:9.1331,peak_drt:-1,std[-2]_LH:9.0653/9.0944, std[-2]:(46.0, 9.0944, 9.0653, -1)',\n",
       " '56.0:peakV:8.9299,peak_drt:1,std[-2]_LH:9.017000000000001/9.046, std[-2]:(53.0, 9.046, 9.017000000000001, 1)',\n",
       " '71.0:peakV:9.046,peak_drt:-1,std[-2]_LH:8.6784/8.7364, std[-2]:(67.0, 8.7364, 8.6784, -1)',\n",
       " '81.0:peakV:8.6687,peak_drt:1,std[-2]_LH:8.7074/8.7364, std[-2]:(78.0, 8.7364, 8.7074, 1)',\n",
       " '92.0:peakV:8.7364,peak_drt:-1,std[-2]_LH:8.5719/8.63, std[-2]:(91.0, 8.63, 8.5719, -1)',\n",
       " '101.0:peakV:8.5042,peak_drt:1,std[-2]_LH:8.6493/8.687999999999999, std[-2]:(100.0, 8.687999999999999, 8.6493, 1)',\n",
       " '106.0:peakV:8.687999999999999,peak_drt:-1,std[-2]_LH:8.5623/8.601, std[-2]:(105.0, 8.601, 8.5623, -1)',\n",
       " '112.0:peakV:8.5623,peak_drt:1,std[-2]_LH:8.6687/8.7171, std[-2]:(111.0, 8.7171, 8.6687, 1)',\n",
       " '114.0:peakV:8.7171,peak_drt:-1,std[-2]_LH:8.6397/8.687999999999999, std[-2]:(113.0, 8.687999999999999, 8.6397, -1)',\n",
       " '122.0:peakV:8.6397,peak_drt:1,std[-2]_LH:8.7558/8.8041, std[-2]:(120.0, 8.8041, 8.7558, 1)',\n",
       " '125.0:peakV:8.8041,peak_drt:-1,std[-2]_LH:8.7267/8.7558, std[-2]:(124.0, 8.7558, 8.7267, -1)',\n",
       " '140.0:peakV:8.687999999999999,peak_drt:1,std[-2]_LH:8.7364/8.7558, std[-2]:(138.0, 8.7558, 8.7364, 1)',\n",
       " '184.0:peakV:8.8718,peak_drt:-1,std[-2]_LH:8.8041/8.8138, std[-2]:(175.0, 8.8138, 8.8041, -1)',\n",
       " '187.0:peakV:8.8041,peak_drt:1,std[-2]_LH:8.8428/8.8622, std[-2]:(185.0, 8.8622, 8.8428, 1)',\n",
       " '206.0:peakV:8.9202,peak_drt:-1,std[-2]_LH:8.8622/8.8912, std[-2]:(205.0, 8.8912, 8.8622, -1)',\n",
       " '234.0:peakV:8.8235,peak_drt:1,std[-2]_LH:8.8912/8.9105, std[-2]:(231.0, 8.9105, 8.8912, 1)',\n",
       " '240.0:peakV:8.9105,peak_drt:-1,std[-2]_LH:8.8525/8.8718, std[-2]:(238.0, 8.8718, 8.8525, -1)',\n",
       " '247.0:peakV:8.8428,peak_drt:1,std[-2]_LH:8.9492/8.9783, std[-2]:(246.0, 8.9783, 8.9492, 1)',\n",
       " '260.0:peakV:9.1137,peak_drt:-1,std[-2]_LH:9.0363/9.075, std[-2]:(259.0, 9.075, 9.0363, -1)',\n",
       " '296.0:peakV:8.8912,peak_drt:1,std[-2]_LH:8.9686/8.9976, std[-2]:(294.0, 8.9976, 8.9686, 1)',\n",
       " '320.0:peakV:9.046,peak_drt:-1,std[-2]_LH:8.9492/8.9783, std[-2]:(318.0, 8.9783, 8.9492, -1)',\n",
       " '337.0:peakV:8.9202,peak_drt:1,std[-2]_LH:8.9299/8.9783, std[-2]:(336.0, 8.9783, 8.9299, 1)',\n",
       " '347.0:peakV:8.9783,peak_drt:-1,std[-2]_LH:8.8718/8.8912, std[-2]:(344.0, 8.8912, 8.8718, -1)',\n",
       " '367.0:peakV:8.8428,peak_drt:1,std[-2]_LH:8.8912/8.9202, std[-2]:(364.0, 8.9202, 8.8912, 1)',\n",
       " '373.0:peakV:8.9202,peak_drt:-1,std[-2]_LH:8.8525/8.8622, std[-2]:(370.0, 8.8622, 8.8525, -1)',\n",
       " '379.0:peakV:8.8525,peak_drt:1,std[-2]_LH:8.9009/8.9299, std[-2]:(378.0, 8.9299, 8.9009, 1)',\n",
       " '392.0:peakV:8.9396,peak_drt:-1,std[-2]_LH:8.8525/8.8815, std[-2]:(388.0, 8.8815, 8.8525, -1)',\n",
       " '415.0:peakV:8.8235,peak_drt:1,std[-2]_LH:8.8815/8.9105, std[-2]:(413.0, 8.9105, 8.8815, 1)',\n",
       " '433.0:peakV:8.9202,peak_drt:-1,std[-2]_LH:8.8525/8.8912, std[-2]:(432.0, 8.8912, 8.8525, -1)',\n",
       " '437.0:peakV:8.8525,peak_drt:1,std[-2]_LH:8.9009/8.9299, std[-2]:(434.0, 8.9299, 8.9009, 1)',\n",
       " '439.0:peakV:8.9299,peak_drt:-1,std[-2]_LH:8.8815/8.9009, std[-2]:(438.0, 8.9009, 8.8815, -1)',\n",
       " '443.0:peakV:8.8815,peak_drt:1,std[-2]_LH:8.9202/8.9492, std[-2]:(440.0, 8.9492, 8.9202, 1)',\n",
       " '446.0:peakV:8.9492,peak_drt:-1,std[-2]_LH:8.9009/8.9202, std[-2]:(445.0, 8.9202, 8.9009, -1)',\n",
       " '458.0:peakV:8.9009,peak_drt:1,std[-2]_LH:8.9589/8.9783, std[-2]:(456.0, 8.9783, 8.9589, 1)',\n",
       " '473.0:peakV:8.9783,peak_drt:-1,std[-2]_LH:8.9492/8.9589, std[-2]:(470.0, 8.9589, 8.9492, -1)',\n",
       " '485.0:peakV:8.9492,peak_drt:1,std[-2]_LH:9.0266/9.0557, std[-2]:(482.0, 9.0557, 9.0266, 1)',\n",
       " '491.0:peakV:9.0557,peak_drt:-1,std[-2]_LH:8.9492/8.9879, std[-2]:(489.0, 8.9879, 8.9492, -1)',\n",
       " '504.0:peakV:8.9492,peak_drt:1,std[-2]_LH:8.9783/8.9976, std[-2]:(500.0, 8.9976, 8.9783, 1)',\n",
       " '513.0:peakV:8.9976,peak_drt:-1,std[-2]_LH:8.9396/8.9589, std[-2]:(510.0, 8.9589, 8.9396, -1)',\n",
       " '523.0:peakV:8.9396,peak_drt:1,std[-2]_LH:9.0073/9.0266, std[-2]:(520.0, 9.0266, 9.0073, 1)',\n",
       " '529.0:peakV:9.0266,peak_drt:-1,std[-2]_LH:8.9299/8.9686, std[-2]:(528.0, 8.9686, 8.9299, -1)',\n",
       " '547.0:peakV:8.8912,peak_drt:1,std[-2]_LH:8.9686/8.9879, std[-2]:(545.0, 8.9879, 8.9686, 1)',\n",
       " '561.0:peakV:9.017000000000001,peak_drt:-1,std[-2]_LH:8.9492/8.9686, std[-2]:(559.0, 8.9686, 8.9492, -1)',\n",
       " '567.0:peakV:8.9492,peak_drt:1,std[-2]_LH:8.9686/8.9879, std[-2]:(562.0, 8.9879, 8.9686, 1)',\n",
       " '577.0:peakV:8.9879,peak_drt:-1,std[-2]_LH:8.9202/8.9492, std[-2]:(576.0, 8.9492, 8.9202, -1)',\n",
       " '581.0:peakV:8.9202,peak_drt:1,std[-2]_LH:8.9783/8.9976, std[-2]:(578.0, 8.9976, 8.9783, 1)',\n",
       " '593.0:peakV:9.046,peak_drt:-1,std[-2]_LH:8.9589/8.9783, std[-2]:(589.0, 8.9783, 8.9589, -1)',\n",
       " '605.0:peakV:8.9589,peak_drt:1,std[-2]_LH:8.9976/9.017000000000001, std[-2]:(602.0, 9.017000000000001, 8.9976, 1)',\n",
       " '637.0:peakV:9.1718,peak_drt:-1,std[-2]_LH:9.075/9.0944, std[-2]:(634.0, 9.0944, 9.075, -1)',\n",
       " '644.0:peakV:9.075,peak_drt:1,std[-2]_LH:9.1137/9.1331, std[-2]:(643.0, 9.1331, 9.1137, 1)',\n",
       " '650.0:peakV:9.1331,peak_drt:-1,std[-2]_LH:9.0847/9.104, std[-2]:(647.0, 9.104, 9.0847, -1)',\n",
       " '674.0:peakV:9.0557,peak_drt:1,std[-2]_LH:9.0944/9.1137, std[-2]:(671.0, 9.1137, 9.0944, 1)',\n",
       " '684.0:peakV:9.1427,peak_drt:-1,std[-2]_LH:9.0944/9.1137, std[-2]:(682.0, 9.1137, 9.0944, -1)',\n",
       " '686.0:peakV:9.0944,peak_drt:1,std[-2]_LH:9.1137/9.1331, std[-2]:(685.0, 9.1331, 9.1137, 1)',\n",
       " '691.0:peakV:9.1331,peak_drt:-1,std[-2]_LH:9.0847/9.104, std[-2]:(689.0, 9.104, 9.0847, -1)',\n",
       " '721.0:peakV:8.9686,peak_drt:1,std[-2]_LH:8.9879/9.017000000000001, std[-2]:(720.0, 9.017000000000001, 8.9879, 1)',\n",
       " '751.0:peakV:9.1331,peak_drt:-1,std[-2]_LH:9.017000000000001/9.0363, std[-2]:(749.0, 9.0363, 9.017000000000001, -1)',\n",
       " '759.0:peakV:9.017000000000001,peak_drt:1,std[-2]_LH:9.1234/9.1718, std[-2]:(757.0, 9.1718, 9.1234, 1)',\n",
       " '776.0:peakV:9.2105,peak_drt:-1,std[-2]_LH:9.0847/9.1137, std[-2]:(774.0, 9.1137, 9.0847, -1)',\n",
       " '789.0:peakV:9.0847,peak_drt:1,std[-2]_LH:9.1621/9.2008, std[-2]:(787.0, 9.2008, 9.1621, 1)',\n",
       " '804.0:peakV:9.2008,peak_drt:-1,std[-2]_LH:9.1427/9.1621, std[-2]:(799.0, 9.1621, 9.1427, -1)',\n",
       " '808.0:peakV:9.1427,peak_drt:1,std[-2]_LH:9.1718/9.1911, std[-2]:(805.0, 9.1911, 9.1718, 1)',\n",
       " '816.0:peakV:9.1911,peak_drt:-1,std[-2]_LH:9.1234/9.1427, std[-2]:(813.0, 9.1427, 9.1234, -1)',\n",
       " '825.0:peakV:9.0944,peak_drt:1,std[-2]_LH:9.2201/9.2588, std[-2]:(823.0, 9.2588, 9.2201, 1)',\n",
       " '837.0:peakV:9.2782,peak_drt:-1,std[-2]_LH:9.2201/9.2492, std[-2]:(835.0, 9.2492, 9.2201, -1)',\n",
       " '841.0:peakV:9.2201,peak_drt:1,std[-2]_LH:9.2588/9.2782, std[-2]:(840.0, 9.2782, 9.2588, 1)',\n",
       " '844.0:peakV:9.2782,peak_drt:-1,std[-2]_LH:9.2298/9.2492, std[-2]:(843.0, 9.2492, 9.2298, -1)',\n",
       " '858.0:peakV:9.2201,peak_drt:1,std[-2]_LH:9.2588/9.2685, std[-2]:(856.0, 9.2685, 9.2588, 1)',\n",
       " '864.0:peakV:9.2685,peak_drt:-1,std[-2]_LH:9.1911/9.2105, std[-2]:(862.0, 9.2105, 9.1911, -1)',\n",
       " '873.0:peakV:9.1911,peak_drt:1,std[-2]_LH:9.3169/9.3459, std[-2]:(872.0, 9.3459, 9.3169, 1)',\n",
       " '899.0:peakV:9.3556,peak_drt:-1,std[-2]_LH:9.2492/9.2685, std[-2]:(897.0, 9.2685, 9.2492, -1)',\n",
       " '905.0:peakV:9.2492,peak_drt:1,std[-2]_LH:9.2782/9.2975, std[-2]:(902.0, 9.2975, 9.2782, 1)',\n",
       " '912.0:peakV:9.2975,peak_drt:-1,std[-2]_LH:9.2008/9.2298, std[-2]:(910.0, 9.2298, 9.2008, -1)',\n",
       " '918.0:peakV:9.2008,peak_drt:1,std[-2]_LH:9.3459/9.3653, std[-2]:(916.0, 9.3653, 9.3459, 1)',\n",
       " '925.0:peakV:9.3653,peak_drt:-1,std[-2]_LH:9.2008/9.2395, std[-2]:(923.0, 9.2395, 9.2008, -1)',\n",
       " '929.0:peakV:9.2008,peak_drt:1,std[-2]_LH:9.2588/9.2879, std[-2]:(926.0, 9.2879, 9.2588, 1)',\n",
       " '935.0:peakV:9.2879,peak_drt:-1,std[-2]_LH:9.2492/9.2782, std[-2]:(934.0, 9.2782, 9.2492, -1)',\n",
       " '944.0:peakV:9.2492,peak_drt:1,std[-2]_LH:9.3846/9.4136, std[-2]:(943.0, 9.4136, 9.3846, 1)',\n",
       " '957.0:peakV:9.4814,peak_drt:-1,std[-2]_LH:9.3846/9.404, std[-2]:(955.0, 9.404, 9.3846, -1)',\n",
       " '970.0:peakV:9.3556,peak_drt:1,std[-2]_LH:9.5104/9.5491, std[-2]:(967.0, 9.5491, 9.5104, 1)',\n",
       " '973.0:peakV:9.5491,peak_drt:-1,std[-2]_LH:9.491/9.5201, std[-2]:(971.0, 9.5201, 9.491, -1)',\n",
       " '977.0:peakV:9.491,peak_drt:1,std[-2]_LH:9.5684/9.6071, std[-2]:(975.0, 9.6071, 9.5684, 1)',\n",
       " '998.0:peakV:9.6845,peak_drt:-1,std[-2]_LH:9.5297/9.5588, std[-2]:(997.0, 9.5588, 9.5297, -1)',\n",
       " '1006.0:peakV:9.5201,peak_drt:1,std[-2]_LH:9.5394/9.5781, std[-2]:(1005.0, 9.5781, 9.5394, 1)',\n",
       " '1016.0:peakV:9.6652,peak_drt:-1,std[-2]_LH:9.5007/9.5394, std[-2]:(1011.0, 9.5394, 9.5007, -1)',\n",
       " '1021.0:peakV:9.5007,peak_drt:1,std[-2]_LH:9.5781/9.6265, std[-2]:(1019.0, 9.6265, 9.5781, 1)',\n",
       " '1032.0:peakV:9.6265,peak_drt:-1,std[-2]_LH:9.4717/9.5491, std[-2]:(1030.0, 9.5491, 9.4717, -1)',\n",
       " '1035.0:peakV:9.4717,peak_drt:1,std[-2]_LH:9.5684/9.5878, std[-2]:(1034.0, 9.5878, 9.5684, 1)',\n",
       " '1039.0:peakV:9.5878,peak_drt:-1,std[-2]_LH:9.5201/9.5588, std[-2]:(1037.0, 9.5588, 9.5201, -1)',\n",
       " '1042.0:peakV:9.5201,peak_drt:1,std[-2]_LH:9.5588/9.6071, std[-2]:(1041.0, 9.6071, 9.5588, 1)',\n",
       " '1047.0:peakV:9.6071,peak_drt:-1,std[-2]_LH:9.5201/9.5394, std[-2]:(1044.0, 9.5394, 9.5201, -1)',\n",
       " '1052.0:peakV:9.5201,peak_drt:1,std[-2]_LH:9.5684/9.6071, std[-2]:(1050.0, 9.6071, 9.5684, 1)',\n",
       " '1055.0:peakV:9.6071,peak_drt:-1,std[-2]_LH:9.5394/9.5781, std[-2]:(1053.0, 9.5781, 9.5394, -1)',\n",
       " '1058.0:peakV:9.5394,peak_drt:1,std[-2]_LH:9.6071/9.6749, std[-2]:(1057.0, 9.6749, 9.6071, 1)',\n",
       " '1065.0:peakV:9.6749,peak_drt:-1,std[-2]_LH:9.5491/9.5684, std[-2]:(1062.0, 9.5684, 9.5491, -1)',\n",
       " '1068.0:peakV:9.5491,peak_drt:1,std[-2]_LH:9.5781/9.6071, std[-2]:(1066.0, 9.6071, 9.5781, 1)',\n",
       " '1070.0:peakV:9.6071,peak_drt:-1,std[-2]_LH:9.5491/9.5878, std[-2]:(1069.0, 9.5878, 9.5491, -1)',\n",
       " '1091.0:peakV:9.5491,peak_drt:1,std[-2]_LH:9.7136/9.7329, std[-2]:(1089.0, 9.7329, 9.7136, 1)',\n",
       " '1102.0:peakV:9.8103,peak_drt:-1,std[-2]_LH:9.7426/9.7716, std[-2]:(1101.0, 9.7716, 9.7426, -1)',\n",
       " '1107.0:peakV:9.7426,peak_drt:1,std[-2]_LH:9.7619/9.82, std[-2]:(1105.0, 9.82, 9.7619, 1)',\n",
       " '1118.0:peakV:9.82,peak_drt:-1,std[-2]_LH:9.7426/9.7716, std[-2]:(1116.0, 9.7716, 9.7426, -1)',\n",
       " '1128.0:peakV:9.7426,peak_drt:1,std[-2]_LH:9.8587/9.8877, std[-2]:(1124.0, 9.8877, 9.8587, 1)',\n",
       " '1131.0:peakV:9.8877,peak_drt:-1,std[-2]_LH:9.8297/9.8587, std[-2]:(1129.0, 9.8587, 9.8297, -1)',\n",
       " '1141.0:peakV:9.82,peak_drt:1,std[-2]_LH:9.8587/9.8684, std[-2]:(1139.0, 9.8684, 9.8587, 1)',\n",
       " '1146.0:peakV:9.8684,peak_drt:-1,std[-2]_LH:9.8297/9.8587, std[-2]:(1145.0, 9.8587, 9.8297, -1)',\n",
       " '1150.0:peakV:9.8297,peak_drt:1,std[-2]_LH:9.8587/9.878, std[-2]:(1149.0, 9.878, 9.8587, 1)',\n",
       " '1157.0:peakV:9.878,peak_drt:-1,std[-2]_LH:9.791/9.8297, std[-2]:(1156.0, 9.8297, 9.791, -1)',\n",
       " '1159.0:peakV:9.791,peak_drt:1,std[-2]_LH:9.82/9.849, std[-2]:(1158.0, 9.849, 9.82, 1)',\n",
       " '1162.0:peakV:9.849,peak_drt:-1,std[-2]_LH:9.791/9.8103, std[-2]:(1160.0, 9.8103, 9.791, -1)',\n",
       " '1167.0:peakV:9.791,peak_drt:1,std[-2]_LH:9.8297/9.8587, std[-2]:(1164.0, 9.8587, 9.8297, 1)',\n",
       " '1188.0:peakV:9.9845,peak_drt:-1,std[-2]_LH:9.8877/9.9167, std[-2]:(1187.0, 9.9167, 9.8877, -1)',\n",
       " '1191.0:peakV:9.8877,peak_drt:1,std[-2]_LH:9.9264/9.9554, std[-2]:(1189.0, 9.9554, 9.9264, 1)',\n",
       " '1198.0:peakV:9.9554,peak_drt:-1,std[-2]_LH:9.878/9.8974, std[-2]:(1196.0, 9.8974, 9.878, -1)',\n",
       " '1202.0:peakV:9.878,peak_drt:1,std[-2]_LH:9.9167/9.9458, std[-2]:(1201.0, 9.9458, 9.9167, 1)',\n",
       " '1204.0:peakV:9.9458,peak_drt:-1,std[-2]_LH:9.8684/9.8974, std[-2]:(1203.0, 9.8974, 9.8684, -1)',\n",
       " '1209.0:peakV:9.8684,peak_drt:1,std[-2]_LH:9.9264/9.9554, std[-2]:(1208.0, 9.9554, 9.9264, 1)',\n",
       " '1212.0:peakV:9.9554,peak_drt:-1,std[-2]_LH:9.849/9.878, std[-2]:(1211.0, 9.878, 9.849, -1)',\n",
       " '1217.0:peakV:9.849,peak_drt:1,std[-2]_LH:9.8684/9.8974, std[-2]:(1214.0, 9.8974, 9.8684, 1)',\n",
       " '1245.0:peakV:10.0425,peak_drt:-1,std[-2]_LH:9.9748/10.0135, std[-2]:(1243.0, 10.0135, 9.9748, -1)',\n",
       " '1282.0:peakV:9.8297,peak_drt:1,std[-2]_LH:9.8684/9.8877, std[-2]:(1278.0, 9.8877, 9.8684, 1)',\n",
       " '1298.0:peakV:9.9651,peak_drt:-1,std[-2]_LH:9.82/9.8587, std[-2]:(1296.0, 9.8587, 9.82, -1)',\n",
       " '1301.0:peakV:9.82,peak_drt:1,std[-2]_LH:9.8587/9.8877, std[-2]:(1299.0, 9.8877, 9.8587, 1)',\n",
       " '1303.0:peakV:9.8877,peak_drt:-1,std[-2]_LH:9.8297/9.8587, std[-2]:(1302.0, 9.8587, 9.8297, -1)',\n",
       " '1315.0:peakV:9.7716,peak_drt:1,std[-2]_LH:9.8006/9.82, std[-2]:(1311.0, 9.82, 9.8006, 1)',\n",
       " '1319.0:peakV:9.82,peak_drt:-1,std[-2]_LH:9.7813/9.8006, std[-2]:(1317.0, 9.8006, 9.7813, -1)',\n",
       " '1350.0:peakV:9.7329,peak_drt:1,std[-2]_LH:9.9167/9.9458, std[-2]:(1349.0, 9.9458, 9.9167, 1)',\n",
       " '1361.0:peakV:10.0038,peak_drt:-1,std[-2]_LH:9.9264/9.9554, std[-2]:(1360.0, 9.9554, 9.9264, -1)',\n",
       " '1367.0:peakV:9.9264,peak_drt:1,std[-2]_LH:9.9941/10.0038, std[-2]:(1364.0, 10.0038, 9.9941, 1)',\n",
       " '1382.0:peakV:10.0232,peak_drt:-1,std[-2]_LH:9.9651/9.9941, std[-2]:(1380.0, 9.9941, 9.9651, -1)',\n",
       " '1392.0:peakV:9.9651,peak_drt:1,std[-2]_LH:10.0715/10.0812, std[-2]:(1389.0, 10.0812, 10.0715, 1)',\n",
       " '1404.0:peakV:10.0812,peak_drt:-1,std[-2]_LH:9.9458/9.9651, std[-2]:(1402.0, 9.9651, 9.9458, -1)',\n",
       " '1413.0:peakV:9.9458,peak_drt:1,std[-2]_LH:9.9748/10.0038, std[-2]:(1412.0, 10.0038, 9.9748, 1)',\n",
       " '1422.0:peakV:10.0038,peak_drt:-1,std[-2]_LH:9.8587/9.8877, std[-2]:(1420.0, 9.8877, 9.8587, -1)',\n",
       " '1427.0:peakV:9.8587,peak_drt:1,std[-2]_LH:9.8974/9.9167, std[-2]:(1426.0, 9.9167, 9.8974, 1)',\n",
       " '1431.0:peakV:9.9167,peak_drt:-1,std[-2]_LH:9.8587/9.878, std[-2]:(1429.0, 9.878, 9.8587, -1)',\n",
       " '1439.0:peakV:9.8587,peak_drt:1,std[-2]_LH:9.9167/9.9361, std[-2]:(1436.0, 9.9361, 9.9167, 1)',\n",
       " '1441.0:peakV:9.9361,peak_drt:-1,std[-2]_LH:9.8684/9.9167, std[-2]:(1440.0, 9.9167, 9.8684, -1)',\n",
       " '1443.0:peakV:9.8684,peak_drt:1,std[-2]_LH:9.9264/9.9651, std[-2]:(1442.0, 9.9651, 9.9264, 1)',\n",
       " '1445.0:peakV:9.9651,peak_drt:-1,std[-2]_LH:9.878/9.9264, std[-2]:(1444.0, 9.9264, 9.878, -1)',\n",
       " '1455.0:peakV:9.878,peak_drt:1,std[-2]_LH:9.9167/9.9361, std[-2]:(1454.0, 9.9361, 9.9167, 1)',\n",
       " '1459.0:peakV:9.9361,peak_drt:-1,std[-2]_LH:9.8684/9.8877, std[-2]:(1458.0, 9.8877, 9.8684, -1)',\n",
       " '1462.0:peakV:9.8684,peak_drt:1,std[-2]_LH:9.8877/9.9071, std[-2]:(1460.0, 9.9071, 9.8877, 1)',\n",
       " '1465.0:peakV:9.9071,peak_drt:-1,std[-2]_LH:9.8393/9.8587, std[-2]:(1464.0, 9.8587, 9.8393, -1)',\n",
       " '1478.0:peakV:9.7813,peak_drt:1,std[-2]_LH:9.8393/9.8684, std[-2]:(1477.0, 9.8684, 9.8393, 1)',\n",
       " '1489.0:peakV:9.8974,peak_drt:-1,std[-2]_LH:9.82/9.8587, std[-2]:(1488.0, 9.8587, 9.82, -1)',\n",
       " '1496.0:peakV:9.82,peak_drt:1,std[-2]_LH:9.8393/9.878, std[-2]:(1495.0, 9.878, 9.8393, 1)',\n",
       " '1499.0:peakV:9.878,peak_drt:-1,std[-2]_LH:9.791/9.82, std[-2]:(1498.0, 9.82, 9.791, -1)',\n",
       " '1507.0:peakV:9.791,peak_drt:1,std[-2]_LH:9.8587/9.8877, std[-2]:(1506.0, 9.8877, 9.8587, 1)',\n",
       " '1520.0:peakV:9.9845,peak_drt:-1,std[-2]_LH:9.9167/9.9458, std[-2]:(1517.0, 9.9458, 9.9167, -1)',\n",
       " '1547.0:peakV:9.7813,peak_drt:1,std[-2]_LH:9.8103/9.849, std[-2]:(1546.0, 9.849, 9.8103, 1)',\n",
       " '1573.0:peakV:9.8877,peak_drt:-1,std[-2]_LH:9.8393/9.849, std[-2]:(1570.0, 9.849, 9.8393, -1)',\n",
       " '1580.0:peakV:9.8393,peak_drt:1,std[-2]_LH:9.9264/9.9361, std[-2]:(1578.0, 9.9361, 9.9264, 1)',\n",
       " '1591.0:peakV:10.1876,peak_drt:-1,std[-2]_LH:10.0328/10.0812, std[-2]:(1589.0, 10.0812, 10.0328, -1)',\n",
       " '1598.0:peakV:10.0328,peak_drt:1,std[-2]_LH:10.1102/10.177999999999999, std[-2]:(1595.0, 10.177999999999999, 10.1102, 1)',\n",
       " '1601.0:peakV:10.177999999999999,peak_drt:-1,std[-2]_LH:10.0812/10.1102, std[-2]:(1600.0, 10.1102, 10.0812, -1)',\n",
       " '1611.0:peakV:10.0812,peak_drt:1,std[-2]_LH:10.3134/10.4005, std[-2]:(1610.0, 10.4005, 10.3134, 1)',\n",
       " '1617.0:peakV:10.4005,peak_drt:-1,std[-2]_LH:10.2457/10.265, std[-2]:(1615.0, 10.265, 10.2457, -1)',\n",
       " '1629.0:peakV:10.2263,peak_drt:1,std[-2]_LH:10.3424/10.3715, std[-2]:(1626.0, 10.3715, 10.3424, 1)',\n",
       " '1641.0:peakV:10.4682,peak_drt:-1,std[-2]_LH:10.4005/10.4392, std[-2]:(1639.0, 10.4392, 10.4005, -1)',\n",
       " '1652.0:peakV:10.265,peak_drt:1,std[-2]_LH:10.3134/10.3618, std[-2]:(1651.0, 10.3618, 10.3134, 1)',\n",
       " '1669.0:peakV:10.5843,peak_drt:-1,std[-2]_LH:10.4005/10.4489, std[-2]:(1664.0, 10.4489, 10.4005, -1)',\n",
       " '1673.0:peakV:10.4005,peak_drt:1,std[-2]_LH:10.5263/10.5553, std[-2]:(1671.0, 10.5553, 10.5263, 1)',\n",
       " '1676.0:peakV:10.5553,peak_drt:-1,std[-2]_LH:10.3811/10.4489, std[-2]:(1675.0, 10.4489, 10.3811, -1)',\n",
       " '1685.0:peakV:10.2941,peak_drt:1,std[-2]_LH:10.3908/10.4198, std[-2]:(1684.0, 10.4198, 10.3908, 1)',\n",
       " '1688.0:peakV:10.4198,peak_drt:-1,std[-2]_LH:10.3037/10.3521, std[-2]:(1687.0, 10.3521, 10.3037, -1)',\n",
       " '1695.0:peakV:10.3037,peak_drt:1,std[-2]_LH:10.5649/10.6327, std[-2]:(1694.0, 10.6327, 10.5649, 1)',\n",
       " '1704.0:peakV:10.6327,peak_drt:-1,std[-2]_LH:10.5069/10.5553, std[-2]:(1703.0, 10.5553, 10.5069, -1)',\n",
       " '1708.0:peakV:10.5069,peak_drt:1,std[-2]_LH:10.5649/10.6036, std[-2]:(1707.0, 10.6036, 10.5649, 1)',\n",
       " '1716.0:peakV:10.6036,peak_drt:-1,std[-2]_LH:10.3715/10.4198, std[-2]:(1715.0, 10.4198, 10.3715, -1)',\n",
       " '1719.0:peakV:10.3715,peak_drt:1,std[-2]_LH:10.4198/10.4682, std[-2]:(1718.0, 10.4682, 10.4198, 1)',\n",
       " '1721.0:peakV:10.4682,peak_drt:-1,std[-2]_LH:10.3618/10.4102, std[-2]:(1720.0, 10.4102, 10.3618, -1)',\n",
       " '1730.0:peakV:10.3328,peak_drt:1,std[-2]_LH:10.5263/10.6036, std[-2]:(1729.0, 10.6036, 10.5263, 1)',\n",
       " '1732.0:peakV:10.6036,peak_drt:-1,std[-2]_LH:10.4876/10.5359, std[-2]:(1731.0, 10.5359, 10.4876, -1)',\n",
       " '1735.0:peakV:10.4876,peak_drt:1,std[-2]_LH:10.6036/10.6327, std[-2]:(1733.0, 10.6327, 10.6036, 1)',\n",
       " '1743.0:peakV:10.6327,peak_drt:-1,std[-2]_LH:10.5359/10.5649, std[-2]:(1741.0, 10.5649, 10.5359, -1)',\n",
       " '1758.0:peakV:10.4972,peak_drt:1,std[-2]_LH:10.5359/10.5553, std[-2]:(1754.0, 10.5553, 10.5359, 1)',\n",
       " '1760.0:peakV:10.5553,peak_drt:-1,std[-2]_LH:10.5069/10.5263, std[-2]:(1759.0, 10.5263, 10.5069, -1)',\n",
       " '1772.0:peakV:10.4682,peak_drt:1,std[-2]_LH:10.5069/10.5359, std[-2]:(1770.0, 10.5359, 10.5069, 1)',\n",
       " '1783.0:peakV:10.623,peak_drt:-1,std[-2]_LH:10.5069/10.5456, std[-2]:(1781.0, 10.5456, 10.5069, -1)',\n",
       " '1787.0:peakV:10.5069,peak_drt:1,std[-2]_LH:10.5553/10.5843, std[-2]:(1784.0, 10.5843, 10.5553, 1)',\n",
       " '1800.0:peakV:10.7584,peak_drt:-1,std[-2]_LH:10.6036/10.6423, std[-2]:(1798.0, 10.6423, 10.6036, -1)',\n",
       " '1822.0:peakV:10.5553,peak_drt:1,std[-2]_LH:10.652000000000001/10.6907, std[-2]:(1819.0, 10.6907, 10.652000000000001, 1)',\n",
       " '1828.0:peakV:10.7778,peak_drt:-1,std[-2]_LH:10.5649/10.6423, std[-2]:(1827.0, 10.6423, 10.5649, -1)',\n",
       " '1835.0:peakV:10.5649,peak_drt:1,std[-2]_LH:10.7294/10.7584, std[-2]:(1834.0, 10.7584, 10.7294, 1)',\n",
       " '1839.0:peakV:10.7584,peak_drt:-1,std[-2]_LH:10.6617/10.6907, std[-2]:(1837.0, 10.6907, 10.6617, -1)',\n",
       " '1850.0:peakV:10.6617,peak_drt:1,std[-2]_LH:10.8552/10.8842, std[-2]:(1848.0, 10.8842, 10.8552, 1)',\n",
       " '1856.0:peakV:10.8842,peak_drt:-1,std[-2]_LH:10.7971/10.8165, std[-2]:(1854.0, 10.8165, 10.7971, -1)',\n",
       " '1860.0:peakV:10.7971,peak_drt:1,std[-2]_LH:10.8165/10.8358, std[-2]:(1858.0, 10.8358, 10.8165, 1)',\n",
       " '1863.0:peakV:10.8358,peak_drt:-1,std[-2]_LH:10.681/10.7294, std[-2]:(1861.0, 10.7294, 10.681, -1)',\n",
       " '1872.0:peakV:10.6423,peak_drt:1,std[-2]_LH:10.6907/10.7101, std[-2]:(1870.0, 10.7101, 10.6907, 1)',\n",
       " '1878.0:peakV:10.7101,peak_drt:-1,std[-2]_LH:10.6036/10.652000000000001, std[-2]:(1875.0, 10.652000000000001, 10.6036, -1)',\n",
       " '1880.0:peakV:10.6036,peak_drt:1,std[-2]_LH:10.6327/10.681, std[-2]:(1879.0, 10.681, 10.6327, 1)',\n",
       " '1885.0:peakV:10.681,peak_drt:-1,std[-2]_LH:10.6133/10.6423, std[-2]:(1884.0, 10.6423, 10.6133, -1)',\n",
       " '1888.0:peakV:10.6133,peak_drt:1,std[-2]_LH:10.6617/10.6907, std[-2]:(1886.0, 10.6907, 10.6617, 1)',\n",
       " '1894.0:peakV:10.6907,peak_drt:-1,std[-2]_LH:10.6133/10.6423, std[-2]:(1892.0, 10.6423, 10.6133, -1)',\n",
       " '1905.0:peakV:10.6036,peak_drt:1,std[-2]_LH:10.623/10.6617, std[-2]:(1902.0, 10.6617, 10.623, 1)',\n",
       " '1907.0:peakV:10.6617,peak_drt:-1,std[-2]_LH:10.5843/10.6036, std[-2]:(1906.0, 10.6036, 10.5843, -1)',\n",
       " '1914.0:peakV:10.5843,peak_drt:1,std[-2]_LH:10.6423/10.6714, std[-2]:(1913.0, 10.6714, 10.6423, 1)',\n",
       " '1930.0:peakV:10.7971,peak_drt:-1,std[-2]_LH:10.5746/10.6327, std[-2]:(1928.0, 10.6327, 10.5746, -1)',\n",
       " '1937.0:peakV:10.5746,peak_drt:1,std[-2]_LH:10.623/10.6423, std[-2]:(1934.0, 10.6423, 10.623, 1)',\n",
       " '1952.0:peakV:10.7294,peak_drt:-1,std[-2]_LH:10.6423/10.681, std[-2]:(1951.0, 10.681, 10.6423, -1)',\n",
       " '1968.0:peakV:10.594000000000001,peak_drt:1,std[-2]_LH:10.7101/10.7294, std[-2]:(1967.0, 10.7294, 10.7101, 1)',\n",
       " '1972.0:peakV:10.7294,peak_drt:-1,std[-2]_LH:10.623/10.6907, std[-2]:(1970.0, 10.6907, 10.623, -1)',\n",
       " '1980.0:peakV:10.623,peak_drt:1,std[-2]_LH:10.7004/10.7391, std[-2]:(1978.0, 10.7391, 10.7004, 1)',\n",
       " '1986.0:peakV:10.7391,peak_drt:-1,std[-2]_LH:10.6036/10.6423, std[-2]:(1984.0, 10.6423, 10.6036, -1)',\n",
       " '1992.0:peakV:10.6036,peak_drt:1,std[-2]_LH:10.652000000000001/10.6714, std[-2]:(1990.0, 10.6714, 10.652000000000001, 1)',\n",
       " '1998.0:peakV:10.6714,peak_drt:-1,std[-2]_LH:10.594000000000001/10.6133, std[-2]:(1996.0, 10.6133, 10.594000000000001, -1)',\n",
       " '2013.0:peakV:10.5746,peak_drt:1,std[-2]_LH:10.6617/10.7004, std[-2]:(2012.0, 10.7004, 10.6617, 1)',\n",
       " '2018.0:peakV:10.7004,peak_drt:-1,std[-2]_LH:10.4295/10.5069, std[-2]:(2016.0, 10.5069, 10.4295, -1)',\n",
       " '2031.0:peakV:10.4102,peak_drt:1,std[-2]_LH:10.5263/10.5553, std[-2]:(2030.0, 10.5553, 10.5263, 1)',\n",
       " '2052.0:peakV:10.5553,peak_drt:-1,std[-2]_LH:10.2941/10.3328, std[-2]:(2050.0, 10.3328, 10.2941, -1)',\n",
       " '2058.0:peakV:10.2941,peak_drt:1,std[-2]_LH:10.3424/10.4005, std[-2]:(2057.0, 10.4005, 10.3424, 1)',\n",
       " '2061.0:peakV:10.4005,peak_drt:-1,std[-2]_LH:10.2554/10.3037, std[-2]:(2060.0, 10.3037, 10.2554, -1)',\n",
       " '2068.0:peakV:10.2554,peak_drt:1,std[-2]_LH:10.4682/10.5359, std[-2]:(2067.0, 10.5359, 10.4682, 1)',\n",
       " '2075.0:peakV:10.5359,peak_drt:-1,std[-2]_LH:10.3811/10.4198, std[-2]:(2073.0, 10.4198, 10.3811, -1)',\n",
       " '2085.0:peakV:10.3811,peak_drt:1,std[-2]_LH:10.4779/10.5069, std[-2]:(2084.0, 10.5069, 10.4779, 1)',\n",
       " '2104.0:peakV:10.6036,peak_drt:-1,std[-2]_LH:10.4972/10.5263, std[-2]:(2101.0, 10.5263, 10.4972, -1)',\n",
       " '2113.0:peakV:10.4972,peak_drt:1,std[-2]_LH:10.6907/10.7391, std[-2]:(2112.0, 10.7391, 10.6907, 1)',\n",
       " '2119.0:peakV:10.7391,peak_drt:-1,std[-2]_LH:10.6133/10.6617, std[-2]:(2116.0, 10.6617, 10.6133, -1)',\n",
       " '2128.0:peakV:10.6133,peak_drt:1,std[-2]_LH:10.652000000000001/10.6714, std[-2]:(2125.0, 10.6714, 10.652000000000001, 1)',\n",
       " '2141.0:peakV:10.7294,peak_drt:-1,std[-2]_LH:10.681/10.7197, std[-2]:(2140.0, 10.7197, 10.681, -1)',\n",
       " '2165.0:peakV:10.5649,peak_drt:1,std[-2]_LH:10.7004/10.7778, std[-2]:(2160.0, 10.7778, 10.7004, 1)',\n",
       " '2176.0:peakV:10.7778,peak_drt:-1,std[-2]_LH:10.5843/10.6423, std[-2]:(2172.0, 10.6423, 10.5843, -1)',\n",
       " '2183.0:peakV:10.5843,peak_drt:1,std[-2]_LH:10.6617/10.6907, std[-2]:(2181.0, 10.6907, 10.6617, 1)',\n",
       " '2188.0:peakV:10.6907,peak_drt:-1,std[-2]_LH:10.5843/10.6133, std[-2]:(2187.0, 10.6133, 10.5843, -1)',\n",
       " '2194.0:peakV:10.5843,peak_drt:1,std[-2]_LH:10.6327/10.6617, std[-2]:(2190.0, 10.6617, 10.6327, 1)',\n",
       " '2199.0:peakV:10.6617,peak_drt:-1,std[-2]_LH:10.5553/10.594000000000001, std[-2]:(2198.0, 10.594000000000001, 10.5553, -1)',\n",
       " '2204.0:peakV:10.5553,peak_drt:1,std[-2]_LH:10.6133/10.6617, std[-2]:(2202.0, 10.6617, 10.6133, 1)',\n",
       " '2206.0:peakV:10.6617,peak_drt:-1,std[-2]_LH:10.5649/10.594000000000001, std[-2]:(2205.0, 10.594000000000001, 10.5649, -1)',\n",
       " '2212.0:peakV:10.5649,peak_drt:1,std[-2]_LH:10.681/10.7101, std[-2]:(2211.0, 10.7101, 10.681, 1)',\n",
       " '2216.0:peakV:10.7101,peak_drt:-1,std[-2]_LH:10.6133/10.6423, std[-2]:(2215.0, 10.6423, 10.6133, -1)',\n",
       " '2230.0:peakV:10.5069,peak_drt:1,std[-2]_LH:10.594000000000001/10.6133, std[-2]:(2226.0, 10.6133, 10.594000000000001, 1)',\n",
       " '2232.0:peakV:10.6133,peak_drt:-1,std[-2]_LH:10.5649/10.594000000000001, std[-2]:(2231.0, 10.594000000000001, 10.5649, -1)',\n",
       " '2245.0:peakV:10.4972,peak_drt:1,std[-2]_LH:10.5263/10.5649, std[-2]:(2242.0, 10.5649, 10.5263, 1)',\n",
       " '2254.0:peakV:10.5649,peak_drt:-1,std[-2]_LH:10.4198/10.4779, std[-2]:(2252.0, 10.4779, 10.4198, -1)',\n",
       " '2259.0:peakV:10.4198,peak_drt:1,std[-2]_LH:10.6036/10.6423, std[-2]:(2257.0, 10.6423, 10.6036, 1)',\n",
       " '2262.0:peakV:10.6423,peak_drt:-1,std[-2]_LH:10.5649/10.594000000000001, std[-2]:(2260.0, 10.594000000000001, 10.5649, -1)',\n",
       " '2267.0:peakV:10.5649,peak_drt:1,std[-2]_LH:10.652000000000001/10.6907, std[-2]:(2265.0, 10.6907, 10.652000000000001, 1)',\n",
       " '2269.0:peakV:10.6907,peak_drt:-1,std[-2]_LH:10.6327/10.652000000000001, std[-2]:(2268.0, 10.652000000000001, 10.6327, -1)',\n",
       " '2277.0:peakV:10.6327,peak_drt:1,std[-2]_LH:11.01/11.0584, std[-2]:(2275.0, 11.0584, 11.01, 1)',\n",
       " '2280.0:peakV:11.0584,peak_drt:-1,std[-2]_LH:10.9616/11.0197, std[-2]:(2278.0, 11.0197, 10.9616, -1)',\n",
       " '2282.0:peakV:10.9616,peak_drt:1,std[-2]_LH:11.01/11.039000000000001, std[-2]:(2281.0, 11.039000000000001, 11.01, 1)',\n",
       " '2292.0:peakV:11.039000000000001,peak_drt:-1,std[-2]_LH:10.8552/10.8842, std[-2]:(2290.0, 10.8842, 10.8552, -1)',\n",
       " '2294.0:peakV:10.8552,peak_drt:1,std[-2]_LH:10.8939/10.9229, std[-2]:(2293.0, 10.9229, 10.8939, 1)',\n",
       " '2296.0:peakV:10.9229,peak_drt:-1,std[-2]_LH:10.8358/10.8842, std[-2]:(2295.0, 10.8842, 10.8358, -1)',\n",
       " '2298.0:peakV:10.8358,peak_drt:1,std[-2]_LH:10.8939/10.9132, std[-2]:(2297.0, 10.9132, 10.8939, 1)',\n",
       " '2322.0:peakV:11.1358,peak_drt:-1,std[-2]_LH:11.0487/11.0777, std[-2]:(2320.0, 11.0777, 11.0487, -1)',\n",
       " '2335.0:peakV:10.9713,peak_drt:1,std[-2]_LH:11.01/11.0487, std[-2]:(2334.0, 11.0487, 11.01, 1)',\n",
       " '2337.0:peakV:11.0487,peak_drt:-1,std[-2]_LH:10.9906/11.0197, std[-2]:(2336.0, 11.0197, 10.9906, -1)',\n",
       " '2340.0:peakV:10.9906,peak_drt:1,std[-2]_LH:11.039000000000001/11.068, std[-2]:(2339.0, 11.068, 11.039000000000001, 1)',\n",
       " '2358.0:peakV:11.5518,peak_drt:-1,std[-2]_LH:11.2422/11.3293, std[-2]:(2357.0, 11.3293, 11.2422, -1)',\n",
       " '2366.0:peakV:11.2422,peak_drt:1,std[-2]_LH:11.2809/11.3196, std[-2]:(2364.0, 11.3196, 11.2809, 1)',\n",
       " '2369.0:peakV:11.3196,peak_drt:-1,std[-2]_LH:11.1551/11.2325, std[-2]:(2367.0, 11.2325, 11.1551, -1)',\n",
       " '2373.0:peakV:11.1551,peak_drt:1,std[-2]_LH:11.2519/11.2809, std[-2]:(2371.0, 11.2809, 11.2519, 1)',\n",
       " '2379.0:peakV:11.2809,peak_drt:-1,std[-2]_LH:11.2035/11.2422, std[-2]:(2377.0, 11.2422, 11.2035, -1)',\n",
       " '2383.0:peakV:11.2035,peak_drt:1,std[-2]_LH:11.2809/11.3002, std[-2]:(2381.0, 11.3002, 11.2809, 1)',\n",
       " '2387.0:peakV:11.3002,peak_drt:-1,std[-2]_LH:11.2132/11.2325, std[-2]:(2385.0, 11.2325, 11.2132, -1)',\n",
       " '2390.0:peakV:11.2132,peak_drt:1,std[-2]_LH:11.2325/11.2712, std[-2]:(2388.0, 11.2712, 11.2325, 1)',\n",
       " '2394.0:peakV:11.2712,peak_drt:-1,std[-2]_LH:11.1841/11.2132, std[-2]:(2393.0, 11.2132, 11.1841, -1)',\n",
       " '2397.0:peakV:11.1841,peak_drt:1,std[-2]_LH:11.2228/11.2519, std[-2]:(2396.0, 11.2519, 11.2228, 1)',\n",
       " '2403.0:peakV:11.2519,peak_drt:-1,std[-2]_LH:11.0584/11.1261, std[-2]:(2400.0, 11.1261, 11.0584, -1)',\n",
       " '2405.0:peakV:11.0584,peak_drt:1,std[-2]_LH:11.1261/11.1551, std[-2]:(2404.0, 11.1551, 11.1261, 1)',\n",
       " '2409.0:peakV:11.1551,peak_drt:-1,std[-2]_LH:11.01/11.0487, std[-2]:(2407.0, 11.0487, 11.01, -1)',\n",
       " '2413.0:peakV:11.01,peak_drt:1,std[-2]_LH:11.068/11.1261, std[-2]:(2411.0, 11.1261, 11.068, 1)',\n",
       " '2415.0:peakV:11.1261,peak_drt:-1,std[-2]_LH:11.0487/11.0777, std[-2]:(2414.0, 11.0777, 11.0487, -1)',\n",
       " '2434.0:peakV:10.8552,peak_drt:1,std[-2]_LH:10.9423/10.981, std[-2]:(2430.0, 10.981, 10.9423, 1)',\n",
       " '2436.0:peakV:10.981,peak_drt:-1,std[-2]_LH:10.8939/10.9519, std[-2]:(2435.0, 10.9519, 10.8939, -1)',\n",
       " '2443.0:peakV:10.8939,peak_drt:1,std[-2]_LH:11.039000000000001/11.068, std[-2]:(2442.0, 11.068, 11.039000000000001, 1)',\n",
       " '2451.0:peakV:11.1067,peak_drt:-1,std[-2]_LH:11.0197/11.0487, std[-2]:(2450.0, 11.0487, 11.0197, -1)',\n",
       " '2453.0:peakV:11.0197,peak_drt:1,std[-2]_LH:11.0584/11.0971, std[-2]:(2452.0, 11.0971, 11.0584, 1)',\n",
       " '2471.0:peakV:11.0971,peak_drt:-1,std[-2]_LH:10.9326/10.981, std[-2]:(2469.0, 10.981, 10.9326, -1)',\n",
       " '2478.0:peakV:10.9326,peak_drt:1,std[-2]_LH:11.1454/11.1648, std[-2]:(2476.0, 11.1648, 11.1454, 1)',\n",
       " '2482.0:peakV:11.1648,peak_drt:-1,std[-2]_LH:11.0777/11.1164, std[-2]:(2480.0, 11.1164, 11.0777, -1)',\n",
       " '2489.0:peakV:11.0293,peak_drt:1,std[-2]_LH:11.0584/11.0874, std[-2]:(2487.0, 11.0874, 11.0584, 1)',\n",
       " '2491.0:peakV:11.0874,peak_drt:-1,std[-2]_LH:11.0197/11.0487, std[-2]:(2490.0, 11.0487, 11.0197, -1)',\n",
       " '2593.0:peakV:11.0197,peak_drt:1,std[-2]_LH:14.2027/14.7058, std[-2]:(2592.0, 14.7058, 14.2027, 1)',\n",
       " '2597.0:peakV:14.7058,peak_drt:-1,std[-2]_LH:13.6222/14.0189, std[-2]:(2596.0, 14.0189, 13.6222, -1)',\n",
       " '2599.0:peakV:13.6222,peak_drt:1,std[-2]_LH:13.9899/14.3188, std[-2]:(2598.0, 14.3188, 13.9899, 1)',\n",
       " '2604.0:peakV:14.3188,peak_drt:-1,std[-2]_LH:13.8544/13.9802, std[-2]:(2603.0, 13.9802, 13.8544, -1)',\n",
       " '2608.0:peakV:13.8544,peak_drt:1,std[-2]_LH:14.0286/14.164000000000001, std[-2]:(2605.0, 14.164000000000001, 14.0286, 1)',\n",
       " '2616.0:peakV:14.164000000000001,peak_drt:-1,std[-2]_LH:13.8738/13.9125, std[-2]:(2615.0, 13.9125, 13.8738, -1)',\n",
       " '2618.0:peakV:13.8738,peak_drt:1,std[-2]_LH:14.1253/14.3188, std[-2]:(2617.0, 14.3188, 14.1253, 1)',\n",
       " '2627.0:peakV:14.5026,peak_drt:-1,std[-2]_LH:14.0576/14.2124, std[-2]:(2626.0, 14.2124, 14.0576, -1)',\n",
       " '2631.0:peakV:14.0576,peak_drt:1,std[-2]_LH:14.193/14.3672, std[-2]:(2630.0, 14.3672, 14.193, 1)',\n",
       " '2636.0:peakV:14.3672,peak_drt:-1,std[-2]_LH:13.8254/13.9221, std[-2]:(2635.0, 13.9221, 13.8254, -1)',\n",
       " '2690.0:peakV:13.8254,peak_drt:1,std[-2]_LH:16.4376/16.7375, std[-2]:(2688.0, 16.7375, 16.4376, 1)',\n",
       " '2697.0:peakV:16.7375,peak_drt:-1,std[-2]_LH:15.7894/16.1086, std[-2]:(2695.0, 16.1086, 15.7894, -1)',\n",
       " '2705.0:peakV:15.7894,peak_drt:1,std[-2]_LH:16.099/16.1957, std[-2]:(2704.0, 16.1957, 16.099, 1)',\n",
       " '2709.0:peakV:16.1957,peak_drt:-1,std[-2]_LH:15.6926/15.8668, std[-2]:(2707.0, 15.8668, 15.6926, -1)',\n",
       " '2716.0:peakV:15.6926,peak_drt:1,std[-2]_LH:16.0796/16.2538, std[-2]:(2714.0, 16.2538, 16.0796, 1)',\n",
       " '2724.0:peakV:16.2538,peak_drt:-1,std[-2]_LH:16.0603/16.1764, std[-2]:(2723.0, 16.1764, 16.0603, -1)',\n",
       " '2744.0:peakV:15.3927,peak_drt:1,std[-2]_LH:15.9925/16.2151, std[-2]:(2743.0, 16.2151, 15.9925, 1)',\n",
       " '2754.0:peakV:16.2151,peak_drt:-1,std[-2]_LH:15.6056/15.7894, std[-2]:(2751.0, 15.7894, 15.6056, -1)',\n",
       " '2757.0:peakV:15.6056,peak_drt:1,std[-2]_LH:15.9151/16.0216, std[-2]:(2755.0, 16.0216, 15.9151, 1)',\n",
       " '2771.0:peakV:17.1826,peak_drt:-1,std[-2]_LH:16.7375/16.9213, std[-2]:(2769.0, 16.9213, 16.7375, -1)',\n",
       " '2775.0:peakV:16.7375,peak_drt:1,std[-2]_LH:16.9987/17.1826, std[-2]:(2773.0, 17.1826, 16.9987, 1)',\n",
       " '2778.0:peakV:17.1826,peak_drt:-1,std[-2]_LH:16.8052/16.96, std[-2]:(2776.0, 16.96, 16.8052, -1)',\n",
       " '2807.0:peakV:16.5537,peak_drt:1,std[-2]_LH:18.3048/18.3048, std[-2]:(2787.0, 18.3048, 18.3048, 1)',\n",
       " '2894.0:peakV:21.1879,peak_drt:-1,std[-2]_LH:20.2205/20.4333, std[-2]:(2893.0, 20.4333, 20.2205, -1)',\n",
       " '2896.0:peakV:20.2205,peak_drt:1,std[-2]_LH:20.472/20.6655, std[-2]:(2895.0, 20.6655, 20.472, 1)',\n",
       " '2900.0:peakV:20.6655,peak_drt:-1,std[-2]_LH:20.055999999999997/20.2398, std[-2]:(2897.0, 20.2398, 20.055999999999997, -1)',\n",
       " '2914.0:peakV:19.3207,peak_drt:1,std[-2]_LH:19.9786/20.1624, std[-2]:(2913.0, 20.1624, 19.9786, 1)',\n",
       " '2918.0:peakV:20.1624,peak_drt:-1,std[-2]_LH:19.4658/19.8818, std[-2]:(2917.0, 19.8818, 19.4658, -1)',\n",
       " '2922.0:peakV:19.4658,peak_drt:1,std[-2]_LH:20.1044/20.4043, std[-2]:(2921.0, 20.4043, 20.1044, 1)',\n",
       " '2939.0:peakV:22.1941,peak_drt:-1,std[-2]_LH:20.9945/21.304000000000002, std[-2]:(2938.0, 21.304000000000002, 20.9945, -1)',\n",
       " '2942.0:peakV:20.9945,peak_drt:1,std[-2]_LH:21.1783/21.3234, std[-2]:(2941.0, 21.3234, 21.1783, 1)',\n",
       " '2945.0:peakV:21.3234,peak_drt:-1,std[-2]_LH:20.9461/21.1299, std[-2]:(2944.0, 21.1299, 20.9461, -1)',\n",
       " '2948.0:peakV:20.9461,peak_drt:1,std[-2]_LH:21.2944/21.6233, std[-2]:(2946.0, 21.6233, 21.2944, 1)',\n",
       " '2955.0:peakV:21.6233,peak_drt:-1,std[-2]_LH:21.4105/21.5749, std[-2]:(2954.0, 21.5749, 21.4105, -1)',\n",
       " '2961.0:peakV:21.4105,peak_drt:1,std[-2]_LH:22.0587/22.5811, std[-2]:(2960.0, 22.5811, 22.0587, 1)',\n",
       " '2963.0:peakV:22.5811,peak_drt:-1,std[-2]_LH:21.7781/22.1167, std[-2]:(2962.0, 22.1167, 21.7781, -1)',\n",
       " '2965.0:peakV:21.7781,peak_drt:1,std[-2]_LH:21.9813/22.2038, std[-2]:(2964.0, 22.2038, 21.9813, 1)',\n",
       " '2972.0:peakV:22.4941,peak_drt:-1,std[-2]_LH:21.5266/22.02, std[-2]:(2971.0, 22.02, 21.5266, -1)',\n",
       " '2974.0:peakV:21.5266,peak_drt:1,std[-2]_LH:22.02/22.3489, std[-2]:(2973.0, 22.3489, 22.02, 1)',\n",
       " '3031.0:peakV:25.1546,peak_drt:-1,std[-2]_LH:22.8327/23.6357, std[-2]:(3029.0, 23.6357, 22.8327, -1)',\n",
       " '3036.0:peakV:22.8327,peak_drt:1,std[-2]_LH:24.1001/24.3613, std[-2]:(3035.0, 24.3613, 24.1001, 1)',\n",
       " '3039.0:peakV:24.3613,peak_drt:-1,std[-2]_LH:23.8969/24.1001, std[-2]:(3038.0, 24.1001, 23.8969, -1)',\n",
       " '3053.0:peakV:23.3551,peak_drt:1,std[-2]_LH:23.6841/24.0033, std[-2]:(3052.0, 24.0033, 23.6841, 1)',\n",
       " '3065.0:peakV:24.6902,peak_drt:-1,std[-2]_LH:23.596999999999998/23.9066, std[-2]:(3064.0, 23.9066, 23.596999999999998, -1)',\n",
       " '3069.0:peakV:23.596999999999998,peak_drt:1,std[-2]_LH:23.8776/24.1678, std[-2]:(3068.0, 24.1678, 23.8776, 1)',\n",
       " '3073.0:peakV:24.1678,peak_drt:-1,std[-2]_LH:23.3938/23.8485, std[-2]:(3072.0, 23.8485, 23.3938, -1)',\n",
       " '3083.0:peakV:22.9294,peak_drt:1,std[-2]_LH:23.4809/23.7034, std[-2]:(3081.0, 23.7034, 23.4809, 1)',\n",
       " '3085.0:peakV:23.7034,peak_drt:-1,std[-2]_LH:23.2487/23.5099, std[-2]:(3084.0, 23.5099, 23.2487, -1)',\n",
       " '3088.0:peakV:23.2487,peak_drt:1,std[-2]_LH:23.4712/23.5873, std[-2]:(3086.0, 23.5873, 23.4712, 1)',\n",
       " '3091.0:peakV:23.5873,peak_drt:-1,std[-2]_LH:23.3067/23.4422, std[-2]:(3090.0, 23.4422, 23.3067, -1)',\n",
       " '3093.0:peakV:23.3067,peak_drt:1,std[-2]_LH:23.4132/23.5196, std[-2]:(3092.0, 23.5196, 23.4132, 1)',\n",
       " '3098.0:peakV:23.5196,peak_drt:-1,std[-2]_LH:23.1326/23.3067, std[-2]:(3095.0, 23.3067, 23.1326, -1)',\n",
       " '3106.0:peakV:23.1326,peak_drt:1,std[-2]_LH:24.2936/24.7193, std[-2]:(3105.0, 24.7193, 24.2936, 1)',\n",
       " '3121.0:peakV:25.7932,peak_drt:-1,std[-2]_LH:22.6295/23.2197, std[-2]:(3120.0, 23.2197, 22.6295, -1)',\n",
       " '3144.0:peakV:21.6717,peak_drt:1,std[-2]_LH:22.1167/22.3876, std[-2]:(3143.0, 22.3876, 22.1167, 1)',\n",
       " '3157.0:peakV:22.881,peak_drt:-1,std[-2]_LH:22.3489/22.5231, std[-2]:(3156.0, 22.5231, 22.3489, -1)',\n",
       " '3173.0:peakV:20.6558,peak_drt:1,std[-2]_LH:21.1686/21.4395, std[-2]:(3172.0, 21.4395, 21.1686, 1)',\n",
       " '3175.0:peakV:21.4395,peak_drt:-1,std[-2]_LH:21.0525/21.2363, std[-2]:(3174.0, 21.2363, 21.0525, -1)',\n",
       " '3177.0:peakV:21.0525,peak_drt:1,std[-2]_LH:21.1492/21.3331, std[-2]:(3176.0, 21.3331, 21.1492, 1)',\n",
       " '3184.0:peakV:21.3331,peak_drt:-1,std[-2]_LH:20.7332/20.8977, std[-2]:(3183.0, 20.8977, 20.7332, -1)',\n",
       " '3187.0:peakV:20.7332,peak_drt:1,std[-2]_LH:20.9267/21.0428, std[-2]:(3185.0, 21.0428, 20.9267, 1)',\n",
       " '3196.0:peakV:21.217,peak_drt:-1,std[-2]_LH:20.7623/20.8977, std[-2]:(3195.0, 20.8977, 20.7623, -1)',\n",
       " '3198.0:peakV:20.7623,peak_drt:1,std[-2]_LH:20.8203/20.9461, std[-2]:(3197.0, 20.9461, 20.8203, 1)',\n",
       " '3200.0:peakV:20.9461,peak_drt:-1,std[-2]_LH:20.5688/20.801, std[-2]:(3199.0, 20.801, 20.5688, -1)',\n",
       " '3203.0:peakV:20.5688,peak_drt:1,std[-2]_LH:20.9461/21.1202, std[-2]:(3202.0, 21.1202, 20.9461, 1)',\n",
       " '3206.0:peakV:21.1202,peak_drt:-1,std[-2]_LH:20.7332/20.8784, std[-2]:(3205.0, 20.8784, 20.7332, -1)',\n",
       " '3209.0:peakV:20.7332,peak_drt:1,std[-2]_LH:20.801/20.9364, std[-2]:(3208.0, 20.9364, 20.801, 1)',\n",
       " '3216.0:peakV:20.9751,peak_drt:-1,std[-2]_LH:20.114/20.3172, std[-2]:(3214.0, 20.3172, 20.114, -1)',\n",
       " '3220.0:peakV:20.114,peak_drt:1,std[-2]_LH:20.8397/21.0428, std[-2]:(3219.0, 21.0428, 20.8397, 1)',\n",
       " '3227.0:peakV:21.0428,peak_drt:-1,std[-2]_LH:20.500999999999998/20.7042, std[-2]:(3224.0, 20.7042, 20.500999999999998, -1)',\n",
       " '3232.0:peakV:20.500999999999998,peak_drt:1,std[-2]_LH:20.9461/21.1396, std[-2]:(3230.0, 21.1396, 20.9461, 1)',\n",
       " '3246.0:peakV:21.1492,peak_drt:-1,std[-2]_LH:20.5397/20.6171, std[-2]:(3245.0, 20.6171, 20.5397, -1)',\n",
       " '3266.0:peakV:20.0463,peak_drt:1,std[-2]_LH:20.7429/20.9461, std[-2]:(3265.0, 20.9461, 20.7429, 1)',\n",
       " '3268.0:peakV:20.9461,peak_drt:-1,std[-2]_LH:20.2882/20.5397, std[-2]:(3267.0, 20.5397, 20.2882, -1)',\n",
       " '3274.0:peakV:20.2882,peak_drt:1,std[-2]_LH:20.7816/20.888, std[-2]:(3273.0, 20.888, 20.7816, 1)',\n",
       " '3279.0:peakV:20.888,peak_drt:-1,std[-2]_LH:20.3946/20.5784, std[-2]:(3277.0, 20.5784, 20.3946, -1)',\n",
       " '3289.0:peakV:20.3075,peak_drt:1,std[-2]_LH:20.6268/20.7913, std[-2]:(3288.0, 20.7913, 20.6268, 1)',\n",
       " '3292.0:peakV:20.7913,peak_drt:-1,std[-2]_LH:20.5494/20.6462, std[-2]:(3291.0, 20.6462, 20.5494, -1)',\n",
       " '3299.0:peakV:20.5301,peak_drt:1,std[-2]_LH:20.7332/20.888, std[-2]:(3298.0, 20.888, 20.7332, 1)',\n",
       " '3307.0:peakV:21.0622,peak_drt:-1,std[-2]_LH:20.6171/20.7236, std[-2]:(3305.0, 20.7236, 20.6171, -1)',\n",
       " '3313.0:peakV:20.6171,peak_drt:1,std[-2]_LH:20.8493/21.2073, std[-2]:(3312.0, 21.2073, 20.8493, 1)',\n",
       " '3316.0:peakV:21.2073,peak_drt:-1,std[-2]_LH:20.7526/20.888, std[-2]:(3314.0, 20.888, 20.7526, -1)',\n",
       " '3320.0:peakV:20.7526,peak_drt:1,std[-2]_LH:21.1879/21.3718, std[-2]:(3319.0, 21.3718, 21.1879, 1)',\n",
       " '3322.0:peakV:21.3718,peak_drt:-1,std[-2]_LH:21.0041/21.1686, std[-2]:(3321.0, 21.1686, 21.0041, -1)',\n",
       " '3325.0:peakV:21.0041,peak_drt:1,std[-2]_LH:21.1202/21.2363, std[-2]:(3323.0, 21.2363, 21.1202, 1)',\n",
       " '3345.0:peakV:22.881,peak_drt:-1,std[-2]_LH:21.8942/22.1361, std[-2]:(3344.0, 22.1361, 21.8942, -1)',\n",
       " '3358.0:peakV:21.2073,peak_drt:1,std[-2]_LH:21.5846/21.8265, std[-2]:(3357.0, 21.8265, 21.5846, 1)',\n",
       " '3361.0:peakV:21.8265,peak_drt:-1,std[-2]_LH:20.8977/21.3331, std[-2]:(3360.0, 21.3331, 20.8977, -1)',\n",
       " '3363.0:peakV:20.8977,peak_drt:1,std[-2]_LH:21.5072/21.8555, std[-2]:(3362.0, 21.8555, 21.5072, 1)',\n",
       " '3367.0:peakV:21.8555,peak_drt:-1,std[-2]_LH:21.2073/21.4105, std[-2]:(3366.0, 21.4105, 21.2073, -1)',\n",
       " '3371.0:peakV:21.2073,peak_drt:1,std[-2]_LH:22.2619/22.6392, std[-2]:(3370.0, 22.6392, 22.2619, 1)',\n",
       " '3374.0:peakV:22.6392,peak_drt:-1,std[-2]_LH:22.0393/22.2522, std[-2]:(3373.0, 22.2522, 22.0393, -1)',\n",
       " '3379.0:peakV:22.0393,peak_drt:1,std[-2]_LH:22.4747/22.7456, std[-2]:(3377.0, 22.7456, 22.4747, 1)',\n",
       " '3381.0:peakV:22.7456,peak_drt:-1,std[-2]_LH:22.2909/22.4747, std[-2]:(3380.0, 22.4747, 22.2909, -1)',\n",
       " '3387.0:peakV:22.1554,peak_drt:1,std[-2]_LH:22.5231/22.823, std[-2]:(3385.0, 22.823, 22.5231, 1)',\n",
       " '3396.0:peakV:23.0939,peak_drt:-1,std[-2]_LH:22.1748/22.4747, std[-2]:(3395.0, 22.4747, 22.1748, -1)',\n",
       " '3400.0:peakV:22.1748,peak_drt:1,std[-2]_LH:22.4554/22.6585, std[-2]:(3399.0, 22.6585, 22.4554, 1)',\n",
       " '3412.0:peakV:22.9294,peak_drt:-1,std[-2]_LH:20.8977/21.5072, std[-2]:(3410.0, 21.5072, 20.8977, -1)',\n",
       " '3417.0:peakV:20.8977,peak_drt:1,std[-2]_LH:21.1879/21.3427, std[-2]:(3416.0, 21.3427, 21.1879, 1)',\n",
       " '3419.0:peakV:21.3427,peak_drt:-1,std[-2]_LH:21.0332/21.2847, std[-2]:(3418.0, 21.2847, 21.0332, -1)',\n",
       " '3423.0:peakV:21.0332,peak_drt:1,std[-2]_LH:21.2557/21.3814, std[-2]:(3422.0, 21.3814, 21.2557, 1)',\n",
       " '3427.0:peakV:21.3814,peak_drt:-1,std[-2]_LH:21.0138/21.1009, std[-2]:(3426.0, 21.1009, 21.0138, -1)',\n",
       " '3431.0:peakV:21.0138,peak_drt:1,std[-2]_LH:21.2363/21.3814, std[-2]:(3430.0, 21.3814, 21.2363, 1)',\n",
       " '3444.0:peakV:21.7491,peak_drt:-1,std[-2]_LH:21.246/21.3814, std[-2]:(3443.0, 21.3814, 21.246, -1)',\n",
       " '3447.0:peakV:21.246,peak_drt:1,std[-2]_LH:21.4008/21.5556, std[-2]:(3445.0, 21.5556, 21.4008, 1)',\n",
       " '3451.0:peakV:21.5556,peak_drt:-1,std[-2]_LH:21.0235/21.246, std[-2]:(3450.0, 21.246, 21.0235, -1)',\n",
       " '3461.0:peakV:20.7913,peak_drt:1,std[-2]_LH:21.4298/21.7007, std[-2]:(3460.0, 21.7007, 21.4298, 1)',\n",
       " '3464.0:peakV:21.7007,peak_drt:-1,std[-2]_LH:21.2653/21.4105, std[-2]:(3463.0, 21.4105, 21.2653, -1)',\n",
       " '3469.0:peakV:21.2653,peak_drt:1,std[-2]_LH:21.4975/21.691, std[-2]:(3468.0, 21.691, 21.4975, 1)',\n",
       " '3474.0:peakV:21.691,peak_drt:-1,std[-2]_LH:21.3234/21.4298, std[-2]:(3473.0, 21.4298, 21.3234, -1)',\n",
       " '3476.0:peakV:21.3234,peak_drt:1,std[-2]_LH:21.3718/21.4685, std[-2]:(3475.0, 21.4685, 21.3718, 1)',\n",
       " '3481.0:peakV:21.4685,peak_drt:-1,std[-2]_LH:21.0912/21.2363, std[-2]:(3480.0, 21.2363, 21.0912, -1)',\n",
       " '3484.0:peakV:21.0912,peak_drt:1,std[-2]_LH:21.2363/21.3331, std[-2]:(3482.0, 21.3331, 21.2363, 1)',\n",
       " '3486.0:peakV:21.3331,peak_drt:-1,std[-2]_LH:21.1396/21.2266, std[-2]:(3485.0, 21.2266, 21.1396, -1)',\n",
       " '3493.0:peakV:21.0041,peak_drt:1,std[-2]_LH:21.1299/21.246, std[-2]:(3492.0, 21.246, 21.1299, 1)',\n",
       " '3498.0:peakV:21.4492,peak_drt:-1,std[-2]_LH:21.1686/21.3234, std[-2]:(3497.0, 21.3234, 21.1686, -1)',\n",
       " '3502.0:peakV:21.1686,peak_drt:1,std[-2]_LH:21.2653/21.4201, std[-2]:(3501.0, 21.4201, 21.2653, 1)',\n",
       " '3506.0:peakV:21.4201,peak_drt:-1,std[-2]_LH:20.5107/20.7623, std[-2]:(3505.0, 20.7623, 20.5107, -1)',\n",
       " '3511.0:peakV:20.5107,peak_drt:1,std[-2]_LH:21.1105/21.4008, std[-2]:(3509.0, 21.4008, 21.1105, 1)',\n",
       " '3513.0:peakV:21.4008,peak_drt:-1,std[-2]_LH:20.9364/21.1396, std[-2]:(3512.0, 21.1396, 20.9364, -1)',\n",
       " '3524.0:peakV:20.7526,peak_drt:1,std[-2]_LH:21.1976/21.3911, std[-2]:(3523.0, 21.3911, 21.1976, 1)',\n",
       " '3526.0:peakV:21.3911,peak_drt:-1,std[-2]_LH:21.1105/21.2557, std[-2]:(3525.0, 21.2557, 21.1105, -1)',\n",
       " '3535.0:peakV:21.0525,peak_drt:1,std[-2]_LH:21.1589/21.2653, std[-2]:(3534.0, 21.2653, 21.1589, 1)',\n",
       " '3541.0:peakV:21.2653,peak_drt:-1,std[-2]_LH:20.9364/21.0622, std[-2]:(3540.0, 21.0622, 20.9364, -1)',\n",
       " '3553.0:peakV:20.4333,peak_drt:1,std[-2]_LH:20.6655/20.9848, std[-2]:(3552.0, 20.9848, 20.6655, 1)',\n",
       " '3558.0:peakV:20.9848,peak_drt:-1,std[-2]_LH:19.9302/20.1818, std[-2]:(3557.0, 20.1818, 19.9302, -1)',\n",
       " '3567.0:peakV:19.64,peak_drt:1,std[-2]_LH:19.8818/19.9979, std[-2]:(3565.0, 19.9979, 19.8818, 1)',\n",
       " '3573.0:peakV:19.9979,peak_drt:-1,std[-2]_LH:19.7077/19.8238, std[-2]:(3571.0, 19.8238, 19.7077, -1)',\n",
       " '3580.0:peakV:19.7077,peak_drt:1,std[-2]_LH:19.9302/20.0076, std[-2]:(3579.0, 20.0076, 19.9302, 1)',\n",
       " '3584.0:peakV:20.0076,peak_drt:-1,std[-2]_LH:19.727/19.8335, std[-2]:(3583.0, 19.8335, 19.727, -1)',\n",
       " '3587.0:peakV:19.727,peak_drt:1,std[-2]_LH:19.8528/19.9786, std[-2]:(3585.0, 19.9786, 19.8528, 1)',\n",
       " '3589.0:peakV:19.9786,peak_drt:-1,std[-2]_LH:19.8238/19.9109, std[-2]:(3588.0, 19.9109, 19.8238, -1)',\n",
       " '3600.0:peakV:19.669,peak_drt:1,std[-2]_LH:19.9302/19.9979, std[-2]:(3598.0, 19.9979, 19.9302, 1)',\n",
       " '3613.0:peakV:20.1334,peak_drt:-1,std[-2]_LH:19.8238/19.9302, std[-2]:(3612.0, 19.9302, 19.8238, -1)',\n",
       " '3617.0:peakV:19.8238,peak_drt:1,std[-2]_LH:19.9109/20.0173, std[-2]:(3614.0, 20.0173, 19.9109, 1)',\n",
       " '3619.0:peakV:20.0173,peak_drt:-1,std[-2]_LH:19.8044/19.9109, std[-2]:(3618.0, 19.9109, 19.8044, -1)',\n",
       " '3645.0:peakV:19.1756,peak_drt:1,std[-2]_LH:19.8722/20.1044, std[-2]:(3644.0, 20.1044, 19.8722, 1)',\n",
       " '3650.0:peakV:20.1044,peak_drt:-1,std[-2]_LH:19.6883/19.9979, std[-2]:(3649.0, 19.9979, 19.6883, -1)',\n",
       " '3658.0:peakV:19.5916,peak_drt:1,std[-2]_LH:19.64/19.7754, std[-2]:(3657.0, 19.7754, 19.64, 1)',\n",
       " '3661.0:peakV:19.7754,peak_drt:-1,std[-2]_LH:19.4078/19.5626, std[-2]:(3660.0, 19.5626, 19.4078, -1)',\n",
       " '3665.0:peakV:19.4078,peak_drt:1,std[-2]_LH:19.5819/19.6883, std[-2]:(3663.0, 19.6883, 19.5819, 1)',\n",
       " '3668.0:peakV:19.6883,peak_drt:-1,std[-2]_LH:19.4948/19.5722, std[-2]:(3666.0, 19.5722, 19.4948, -1)',\n",
       " '3681.0:peakV:19.4368,peak_drt:1,std[-2]_LH:19.7174/19.8335, std[-2]:(3677.0, 19.8335, 19.7174, 1)',\n",
       " '3684.0:peakV:19.8335,peak_drt:-1,std[-2]_LH:19.5432/19.64, std[-2]:(3683.0, 19.64, 19.5432, -1)',\n",
       " '3686.0:peakV:19.5432,peak_drt:1,std[-2]_LH:19.6013/19.6787, std[-2]:(3685.0, 19.6787, 19.6013, 1)',\n",
       " '3694.0:peakV:19.9883,peak_drt:-1,std[-2]_LH:19.698/19.8335, std[-2]:(3693.0, 19.8335, 19.698, -1)',\n",
       " '3704.0:peakV:18.895,peak_drt:1,std[-2]_LH:19.5045/19.8141, std[-2]:(3700.0, 19.8141, 19.5045, 1)',\n",
       " '3711.0:peakV:20.0947,peak_drt:-1,std[-2]_LH:19.6013/19.8044, std[-2]:(3710.0, 19.8044, 19.6013, -1)',\n",
       " '3717.0:peakV:19.6013,peak_drt:1,std[-2]_LH:19.8238/19.9205, std[-2]:(3716.0, 19.9205, 19.8238, 1)',\n",
       " '3719.0:peakV:19.9205,peak_drt:-1,std[-2]_LH:19.7561/19.8335, std[-2]:(3718.0, 19.8335, 19.7561, -1)',\n",
       " '3721.0:peakV:19.7561,peak_drt:1,std[-2]_LH:19.7657/19.8625, std[-2]:(3720.0, 19.8625, 19.7657, 1)',\n",
       " '3723.0:peakV:19.8625,peak_drt:-1,std[-2]_LH:19.6496/19.7657, std[-2]:(3722.0, 19.7657, 19.6496, -1)',\n",
       " '3727.0:peakV:19.6496,peak_drt:1,std[-2]_LH:19.8722/19.9689, std[-2]:(3726.0, 19.9689, 19.8722, 1)',\n",
       " '3738.0:peakV:19.9689,peak_drt:-1,std[-2]_LH:19.1466/19.3304, std[-2]:(3737.0, 19.3304, 19.1466, -1)',\n",
       " '3740.0:peakV:19.1466,peak_drt:1,std[-2]_LH:19.2433/19.3981, std[-2]:(3739.0, 19.3981, 19.2433, 1)',\n",
       " '3744.0:peakV:19.3981,peak_drt:-1,std[-2]_LH:19.0305/19.1466, std[-2]:(3742.0, 19.1466, 19.0305, -1)',\n",
       " '3748.0:peakV:19.0305,peak_drt:1,std[-2]_LH:19.5432/19.7367, std[-2]:(3747.0, 19.7367, 19.5432, 1)',\n",
       " '3754.0:peakV:19.7657,peak_drt:-1,std[-2]_LH:19.5626/19.7077, std[-2]:(3753.0, 19.7077, 19.5626, -1)',\n",
       " '3757.0:peakV:19.5626,peak_drt:1,std[-2]_LH:19.8625/20.0076, std[-2]:(3756.0, 20.0076, 19.8625, 1)',\n",
       " '3767.0:peakV:20.0076,peak_drt:-1,std[-2]_LH:19.669/19.727, std[-2]:(3765.0, 19.727, 19.669, -1)',\n",
       " '3770.0:peakV:19.669,peak_drt:1,std[-2]_LH:19.7174/19.7657, std[-2]:(3769.0, 19.7657, 19.7174, 1)',\n",
       " '3772.0:peakV:19.7657,peak_drt:-1,std[-2]_LH:19.5819/19.6593, std[-2]:(3771.0, 19.6593, 19.5819, -1)',\n",
       " '3787.0:peakV:19.282,peak_drt:1,std[-2]_LH:19.4948/19.6303, std[-2]:(3785.0, 19.6303, 19.4948, 1)',\n",
       " '3805.0:peakV:19.669,peak_drt:-1,std[-2]_LH:18.7789/18.895, std[-2]:(3803.0, 18.895, 18.7789, -1)',\n",
       " '3813.0:peakV:18.5757,peak_drt:1,std[-2]_LH:18.7886/19.0014, std[-2]:(3812.0, 19.0014, 18.7886, 1)',\n",
       " '3821.0:peakV:19.0014,peak_drt:-1,std[-2]_LH:18.2661/18.479, std[-2]:(3820.0, 18.479, 18.2661, -1)',\n",
       " '3824.0:peakV:18.2661,peak_drt:1,std[-2]_LH:18.5177/18.6435, std[-2]:(3823.0, 18.6435, 18.5177, 1)',\n",
       " '3830.0:peakV:18.6435,peak_drt:-1,std[-2]_LH:18.0243/18.2758, std[-2]:(3829.0, 18.2758, 18.0243, -1)',\n",
       " '3833.0:peakV:18.0243,peak_drt:1,std[-2]_LH:18.3822/18.5177, std[-2]:(3831.0, 18.5177, 18.3822, 1)',\n",
       " '3835.0:peakV:18.5177,peak_drt:-1,std[-2]_LH:18.2855/18.3822, std[-2]:(3834.0, 18.3822, 18.2855, -1)',\n",
       " '3844.0:peakV:18.1113,peak_drt:1,std[-2]_LH:18.4596/18.6338, std[-2]:(3842.0, 18.6338, 18.4596, 1)',\n",
       " '3855.0:peakV:18.8176,peak_drt:-1,std[-2]_LH:18.3726/18.508, std[-2]:(3854.0, 18.508, 18.3726, -1)',\n",
       " '3873.0:peakV:17.9178,peak_drt:1,std[-2]_LH:18.2371/18.3242, std[-2]:(3872.0, 18.3242, 18.2371, 1)',\n",
       " '3880.0:peakV:18.3242,peak_drt:-1,std[-2]_LH:17.9565/18.0823, std[-2]:(3879.0, 18.0823, 17.9565, -1)',\n",
       " '3884.0:peakV:17.9565,peak_drt:1,std[-2]_LH:18.3822/18.4983, std[-2]:(3882.0, 18.4983, 18.3822, 1)',\n",
       " '3894.0:peakV:18.6531,peak_drt:-1,std[-2]_LH:18.0533/18.1984, std[-2]:(3891.0, 18.1984, 18.0533, -1)',\n",
       " '3900.0:peakV:18.0533,peak_drt:1,std[-2]_LH:18.3048/18.4306, std[-2]:(3899.0, 18.4306, 18.3048, 1)',\n",
       " '3908.0:peakV:18.45,peak_drt:-1,std[-2]_LH:18.2371/18.3532, std[-2]:(3907.0, 18.3532, 18.2371, -1)',\n",
       " '3912.0:peakV:18.2371,peak_drt:1,std[-2]_LH:18.4306/18.5757, std[-2]:(3910.0, 18.5757, 18.4306, 1)',\n",
       " '3916.0:peakV:18.5757,peak_drt:-1,std[-2]_LH:18.3242/18.3919, std[-2]:(3915.0, 18.3919, 18.3242, -1)',\n",
       " '3923.0:peakV:18.3048,peak_drt:1,std[-2]_LH:18.7596/19.0111, std[-2]:(3922.0, 19.0111, 18.7596, 1)',\n",
       " '3933.0:peakV:19.0111,peak_drt:-1,std[-2]_LH:18.45/18.537, std[-2]:(3932.0, 18.537, 18.45, -1)',\n",
       " '3945.0:peakV:17.8017,peak_drt:1,std[-2]_LH:18.1307/18.3048, std[-2]:(3944.0, 18.3048, 18.1307, 1)',\n",
       " '3956.0:peakV:18.8079,peak_drt:-1,std[-2]_LH:18.4113/18.4983, std[-2]:(3955.0, 18.4983, 18.4113, -1)',\n",
       " '3959.0:peakV:18.4113,peak_drt:1,std[-2]_LH:18.4693/18.6338, std[-2]:(3957.0, 18.6338, 18.4693, 1)',\n",
       " '3961.0:peakV:18.6338,peak_drt:-1,std[-2]_LH:18.3919/18.4596, std[-2]:(3960.0, 18.4596, 18.3919, -1)',\n",
       " '3965.0:peakV:18.3919,peak_drt:1,std[-2]_LH:18.5467/18.6338, std[-2]:(3963.0, 18.6338, 18.5467, 1)',\n",
       " '3968.0:peakV:18.6338,peak_drt:-1,std[-2]_LH:18.4113/18.4887, std[-2]:(3967.0, 18.4887, 18.4113, -1)',\n",
       " '3979.0:peakV:18.2081,peak_drt:1,std[-2]_LH:18.3048/18.479, std[-2]:(3978.0, 18.479, 18.3048, 1)',\n",
       " '3984.0:peakV:18.479,peak_drt:-1,std[-2]_LH:18.1984/18.2565, std[-2]:(3983.0, 18.2565, 18.1984, -1)',\n",
       " '3988.0:peakV:18.1984,peak_drt:1,std[-2]_LH:18.5661/18.7015, std[-2]:(3987.0, 18.7015, 18.5661, 1)',\n",
       " '3998.0:peakV:18.8079,peak_drt:-1,std[-2]_LH:18.3435/18.4596, std[-2]:(3997.0, 18.4596, 18.3435, -1)',\n",
       " '4021.0:peakV:17.8501,peak_drt:1,std[-2]_LH:18.5661/18.7015, std[-2]:(4019.0, 18.7015, 18.5661, 1)',\n",
       " '4034.0:peakV:18.9821,peak_drt:-1,std[-2]_LH:18.4306/18.5951, std[-2]:(4033.0, 18.5951, 18.4306, -1)',\n",
       " '4036.0:peakV:18.4306,peak_drt:1,std[-2]_LH:18.537/18.6338, std[-2]:(4035.0, 18.6338, 18.537, 1)',\n",
       " '4038.0:peakV:18.6338,peak_drt:-1,std[-2]_LH:18.4209/18.5274, std[-2]:(4037.0, 18.5274, 18.4209, -1)',\n",
       " '4049.0:peakV:18.3435,peak_drt:1,std[-2]_LH:18.4693/18.537, std[-2]:(4048.0, 18.537, 18.4693, 1)',\n",
       " '4053.0:peakV:18.537,peak_drt:-1,std[-2]_LH:18.3532/18.4113, std[-2]:(4052.0, 18.4113, 18.3532, -1)',\n",
       " '4061.0:peakV:18.1887,peak_drt:1,std[-2]_LH:18.2952/18.3726, std[-2]:(4060.0, 18.3726, 18.2952, 1)',\n",
       " '4063.0:peakV:18.3726,peak_drt:-1,std[-2]_LH:18.2081/18.3048, std[-2]:(4062.0, 18.3048, 18.2081, -1)',\n",
       " '4066.0:peakV:18.2081,peak_drt:1,std[-2]_LH:18.3145/18.3532, std[-2]:(4065.0, 18.3532, 18.3145, 1)',\n",
       " '4071.0:peakV:18.3532,peak_drt:-1,std[-2]_LH:18.1307/18.2081, std[-2]:(4070.0, 18.2081, 18.1307, -1)',\n",
       " '4074.0:peakV:18.1307,peak_drt:1,std[-2]_LH:18.1984/18.2855, std[-2]:(4073.0, 18.2855, 18.1984, 1)',\n",
       " '4081.0:peakV:18.2855,peak_drt:-1,std[-2]_LH:17.6469/17.9952, std[-2]:(4080.0, 17.9952, 17.6469, -1)',\n",
       " '4085.0:peakV:17.6469,peak_drt:1,std[-2]_LH:18.3339/18.5177, std[-2]:(4084.0, 18.5177, 18.3339, 1)',\n",
       " '4089.0:peakV:18.5177,peak_drt:-1,std[-2]_LH:18.2081/18.3048, std[-2]:(4088.0, 18.3048, 18.2081, -1)',\n",
       " '4091.0:peakV:18.2081,peak_drt:1,std[-2]_LH:18.3145/18.4016, std[-2]:(4090.0, 18.4016, 18.3145, 1)',\n",
       " '4101.0:peakV:18.4016,peak_drt:-1,std[-2]_LH:18.1404/18.1887, std[-2]:(4099.0, 18.1887, 18.1404, -1)',\n",
       " '4109.0:peakV:18.1404,peak_drt:1,std[-2]_LH:18.2565/18.3435, std[-2]:(4108.0, 18.3435, 18.2565, 1)',\n",
       " '4111.0:peakV:18.3435,peak_drt:-1,std[-2]_LH:18.1984/18.2468, std[-2]:(4110.0, 18.2468, 18.1984, -1)',\n",
       " '4117.0:peakV:18.15,peak_drt:1,std[-2]_LH:18.2371/18.3532, std[-2]:(4116.0, 18.3532, 18.2371, 1)',\n",
       " '4119.0:peakV:18.3532,peak_drt:-1,std[-2]_LH:18.2081/18.2565, std[-2]:(4118.0, 18.2565, 18.2081, -1)',\n",
       " '4134.0:peakV:18.0339,peak_drt:1,std[-2]_LH:18.3145/18.4693, std[-2]:(4132.0, 18.4693, 18.3145, 1)',\n",
       " '4137.0:peakV:18.4693,peak_drt:-1,std[-2]_LH:18.2371/18.3242, std[-2]:(4135.0, 18.3242, 18.2371, -1)',\n",
       " '4142.0:peakV:18.2371,peak_drt:1,std[-2]_LH:18.2855/18.3339, std[-2]:(4141.0, 18.3339, 18.2855, 1)',\n",
       " '4155.0:peakV:18.6918,peak_drt:-1,std[-2]_LH:18.5564/18.6338, std[-2]:(4154.0, 18.6338, 18.5564, -1)',\n",
       " '4164.0:peakV:18.5564,peak_drt:1,std[-2]_LH:19.7367/19.9302, std[-2]:(4162.0, 19.9302, 19.7367, 1)',\n",
       " '4167.0:peakV:19.9302,peak_drt:-1,std[-2]_LH:19.4852/19.6303, std[-2]:(4165.0, 19.6303, 19.4852, -1)',\n",
       " '4170.0:peakV:19.4852,peak_drt:1,std[-2]_LH:19.669/19.8141, std[-2]:(4168.0, 19.8141, 19.669, 1)',\n",
       " '4175.0:peakV:19.8141,peak_drt:-1,std[-2]_LH:19.2627/19.4078, std[-2]:(4174.0, 19.4078, 19.2627, -1)',\n",
       " '4189.0:peakV:18.8563,peak_drt:1,std[-2]_LH:19.0014/19.0498, std[-2]:(4184.0, 19.0498, 19.0014, 1)',\n",
       " '4197.0:peakV:19.0498,peak_drt:-1,std[-2]_LH:18.866/18.9337, std[-2]:(4194.0, 18.9337, 18.866, -1)',\n",
       " '4203.0:peakV:18.866,peak_drt:1,std[-2]_LH:18.9821/19.0401, std[-2]:(4202.0, 19.0401, 18.9821, 1)',\n",
       " '4205.0:peakV:19.0401,peak_drt:-1,std[-2]_LH:18.9144/19.0014, std[-2]:(4204.0, 19.0014, 18.9144, -1)',\n",
       " '4212.0:peakV:18.9144,peak_drt:1,std[-2]_LH:19.0305/19.0885, std[-2]:(4207.0, 19.0885, 19.0305, 1)',\n",
       " '4216.0:peakV:19.0885,peak_drt:-1,std[-2]_LH:18.7692/18.895, std[-2]:(4215.0, 18.895, 18.7692, -1)',\n",
       " '4220.0:peakV:18.7692,peak_drt:1,std[-2]_LH:18.9047/18.9918, std[-2]:(4218.0, 18.9918, 18.9047, 1)',\n",
       " '4230.0:peakV:19.0401,peak_drt:-1,std[-2]_LH:18.2952/18.479, std[-2]:(4228.0, 18.479, 18.2952, -1)',\n",
       " '4232.0:peakV:18.2952,peak_drt:1,std[-2]_LH:18.4113/18.508, std[-2]:(4231.0, 18.508, 18.4113, 1)',\n",
       " '4245.0:peakV:18.5177,peak_drt:-1,std[-2]_LH:18.2855/18.3919, std[-2]:(4244.0, 18.3919, 18.2855, -1)',\n",
       " '4249.0:peakV:18.2855,peak_drt:1,std[-2]_LH:18.4113/18.4596, std[-2]:(4248.0, 18.4596, 18.4113, 1)',\n",
       " '4259.0:peakV:18.4596,peak_drt:-1,std[-2]_LH:18.0726/18.1984, std[-2]:(4258.0, 18.1984, 18.0726, -1)',\n",
       " '4263.0:peakV:18.0726,peak_drt:1,std[-2]_LH:18.2081/18.3242, std[-2]:(4262.0, 18.3242, 18.2081, 1)',\n",
       " '4267.0:peakV:18.3242,peak_drt:-1,std[-2]_LH:18.1017/18.1791, std[-2]:(4265.0, 18.1791, 18.1017, -1)',\n",
       " '4285.0:peakV:16.7762,peak_drt:1,std[-2]_LH:17.1535/17.2696, std[-2]:(4284.0, 17.2696, 17.1535, 1)',\n",
       " '4292.0:peakV:17.4051,peak_drt:-1,std[-2]_LH:17.1922/17.2406, std[-2]:(4291.0, 17.2406, 17.1922, -1)',\n",
       " '4294.0:peakV:17.1922,peak_drt:1,std[-2]_LH:17.26/17.317999999999998, std[-2]:(4293.0, 17.317999999999998, 17.26, 1)',\n",
       " '4297.0:peakV:17.317999999999998,peak_drt:-1,std[-2]_LH:17.1632/17.2406, std[-2]:(4296.0, 17.2406, 17.1632, -1)',\n",
       " '4310.0:peakV:16.9407,peak_drt:1,std[-2]_LH:17.0181/17.0955, std[-2]:(4309.0, 17.0955, 17.0181, 1)',\n",
       " '4312.0:peakV:17.0955,peak_drt:-1,std[-2]_LH:16.96/17.0084, std[-2]:(4311.0, 17.0084, 16.96, -1)',\n",
       " '4317.0:peakV:16.96,peak_drt:1,std[-2]_LH:17.1632/17.26, std[-2]:(4315.0, 17.26, 17.1632, 1)',\n",
       " '4321.0:peakV:17.26,peak_drt:-1,std[-2]_LH:17.0374/17.2019, std[-2]:(4320.0, 17.2019, 17.0374, -1)',\n",
       " '4323.0:peakV:17.0374,peak_drt:1,std[-2]_LH:17.2793/17.4631, std[-2]:(4322.0, 17.4631, 17.2793, 1)',\n",
       " '4329.0:peakV:17.4631,peak_drt:-1,std[-2]_LH:17.1535/17.2213, std[-2]:(4327.0, 17.2213, 17.1535, -1)',\n",
       " '4336.0:peakV:17.1535,peak_drt:1,std[-2]_LH:17.4051/17.4631, std[-2]:(4335.0, 17.4631, 17.4051, 1)',\n",
       " '4343.0:peakV:17.5309,peak_drt:-1,std[-2]_LH:17.3857/17.4631, std[-2]:(4342.0, 17.4631, 17.3857, -1)',\n",
       " '4345.0:peakV:17.3857,peak_drt:1,std[-2]_LH:17.4825/17.5599, std[-2]:(4344.0, 17.5599, 17.4825, 1)',\n",
       " '4350.0:peakV:17.5599,peak_drt:-1,std[-2]_LH:17.4244/17.4631, std[-2]:(4347.0, 17.4631, 17.4244, -1)',\n",
       " '4366.0:peakV:17.3374,peak_drt:1,std[-2]_LH:17.3761/17.4244, std[-2]:(4365.0, 17.4244, 17.3761, 1)',\n",
       " '4373.0:peakV:17.5309,peak_drt:-1,std[-2]_LH:17.1729/17.317999999999998, std[-2]:(4371.0, 17.317999999999998, 17.1729, -1)',\n",
       " '4375.0:peakV:17.1729,peak_drt:1,std[-2]_LH:17.3083/17.4148, std[-2]:(4374.0, 17.4148, 17.3083, 1)',\n",
       " '4380.0:peakV:17.4148,peak_drt:-1,std[-2]_LH:17.2503/17.317999999999998, std[-2]:(4379.0, 17.317999999999998, 17.2503, -1)',\n",
       " '4387.0:peakV:17.2309,peak_drt:1,std[-2]_LH:17.6082/17.8404, std[-2]:(4385.0, 17.8404, 17.6082, 1)',\n",
       " '4391.0:peakV:17.8404,peak_drt:-1,std[-2]_LH:17.5212/17.5986, std[-2]:(4388.0, 17.5986, 17.5212, -1)',\n",
       " '4413.0:peakV:17.2213,peak_drt:1,std[-2]_LH:17.3567/17.4341, std[-2]:(4411.0, 17.4341, 17.3567, 1)',\n",
       " '4415.0:peakV:17.4341,peak_drt:-1,std[-2]_LH:17.26/17.317999999999998, std[-2]:(4414.0, 17.317999999999998, 17.26, -1)',\n",
       " '4420.0:peakV:16.9213,peak_drt:1,std[-2]_LH:17.3664/17.5309, std[-2]:(4418.0, 17.5309, 17.3664, 1)',\n",
       " '4431.0:peakV:17.6082,peak_drt:-1,std[-2]_LH:17.3857/17.4728, std[-2]:(4428.0, 17.4728, 17.3857, -1)',\n",
       " '4445.0:peakV:17.2793,peak_drt:1,std[-2]_LH:17.347/17.4341, std[-2]:(4444.0, 17.4341, 17.347, 1)',\n",
       " '4451.0:peakV:17.4341,peak_drt:-1,std[-2]_LH:17.1632/17.289, std[-2]:(4450.0, 17.289, 17.1632, -1)',\n",
       " '4453.0:peakV:17.1632,peak_drt:1,std[-2]_LH:17.26/17.3374, std[-2]:(4452.0, 17.3374, 17.26, 1)',\n",
       " '4461.0:peakV:17.3374,peak_drt:-1,std[-2]_LH:17.0665/17.1632, std[-2]:(4460.0, 17.1632, 17.0665, -1)',\n",
       " '4466.0:peakV:17.0665,peak_drt:1,std[-2]_LH:17.289/17.4631, std[-2]:(4464.0, 17.4631, 17.289, 1)',\n",
       " '4469.0:peakV:17.4631,peak_drt:-1,std[-2]_LH:17.1729/17.2987, std[-2]:(4467.0, 17.2987, 17.1729, -1)',\n",
       " '4476.0:peakV:17.0858,peak_drt:1,std[-2]_LH:17.3857/17.5599, std[-2]:(4474.0, 17.5599, 17.3857, 1)',\n",
       " '4491.0:peakV:17.5695,peak_drt:-1,std[-2]_LH:17.2503/17.347, std[-2]:(4489.0, 17.347, 17.2503, -1)',\n",
       " '4495.0:peakV:17.2503,peak_drt:1,std[-2]_LH:17.3857/17.4438, std[-2]:(4494.0, 17.4438, 17.3857, 1)',\n",
       " '4499.0:peakV:17.4438,peak_drt:-1,std[-2]_LH:17.317999999999998/17.3857, std[-2]:(4497.0, 17.3857, 17.317999999999998, -1)',\n",
       " '4501.0:peakV:17.317999999999998,peak_drt:1,std[-2]_LH:17.347/17.4728, std[-2]:(4500.0, 17.4728, 17.347, 1)',\n",
       " '4504.0:peakV:17.4728,peak_drt:-1,std[-2]_LH:17.317999999999998/17.3857, std[-2]:(4503.0, 17.3857, 17.317999999999998, -1)',\n",
       " '4506.0:peakV:17.317999999999998,peak_drt:1,std[-2]_LH:17.4631/17.5405, std[-2]:(4505.0, 17.5405, 17.4631, 1)',\n",
       " '4511.0:peakV:17.5405,peak_drt:-1,std[-2]_LH:17.3857/17.4341, std[-2]:(4508.0, 17.4341, 17.3857, -1)',\n",
       " '4513.0:peakV:17.3857,peak_drt:1,std[-2]_LH:17.4148/17.4728, std[-2]:(4512.0, 17.4728, 17.4148, 1)',\n",
       " '4523.0:peakV:17.4728,peak_drt:-1,std[-2]_LH:17.1342/17.2116, std[-2]:(4518.0, 17.2116, 17.1342, -1)',\n",
       " '4527.0:peakV:17.1342,peak_drt:1,std[-2]_LH:17.2406/17.3277, std[-2]:(4524.0, 17.3277, 17.2406, 1)',\n",
       " '4532.0:peakV:17.3277,peak_drt:-1,std[-2]_LH:17.1826/17.2309, std[-2]:(4531.0, 17.2309, 17.1826, -1)',\n",
       " '4540.0:peakV:17.1826,peak_drt:1,std[-2]_LH:17.6179/17.7147, std[-2]:(4538.0, 17.7147, 17.6179, 1)',\n",
       " '4546.0:peakV:17.7243,peak_drt:-1,std[-2]_LH:17.5792/17.6469, std[-2]:(4544.0, 17.6469, 17.5792, -1)',\n",
       " '4548.0:peakV:17.5792,peak_drt:1,std[-2]_LH:17.676/17.7534, std[-2]:(4547.0, 17.7534, 17.676, 1)',\n",
       " '4551.0:peakV:17.7534,peak_drt:-1,std[-2]_LH:17.6566/17.705, std[-2]:(4550.0, 17.705, 17.6566, -1)',\n",
       " '4553.0:peakV:17.6566,peak_drt:1,std[-2]_LH:17.8501/17.9759, std[-2]:(4552.0, 17.9759, 17.8501, 1)',\n",
       " '4558.0:peakV:17.9759,peak_drt:-1,std[-2]_LH:17.734/17.8017, std[-2]:(4556.0, 17.8017, 17.734, -1)',\n",
       " '4569.0:peakV:17.6373,peak_drt:1,std[-2]_LH:17.7727/17.8695, std[-2]:(4568.0, 17.8695, 17.7727, 1)',\n",
       " '4575.0:peakV:17.8695,peak_drt:-1,std[-2]_LH:17.5405/17.6469, std[-2]:(4573.0, 17.6469, 17.5405, -1)',\n",
       " '4578.0:peakV:17.5405,peak_drt:1,std[-2]_LH:17.6856/17.7437, std[-2]:(4576.0, 17.7437, 17.6856, 1)',\n",
       " '4580.0:peakV:17.7437,peak_drt:-1,std[-2]_LH:17.6082/17.6663, std[-2]:(4579.0, 17.6663, 17.6082, -1)',\n",
       " '4585.0:peakV:17.6082,peak_drt:1,std[-2]_LH:17.7437/17.8114, std[-2]:(4584.0, 17.8114, 17.7437, 1)',\n",
       " '4600.0:peakV:18.0533,peak_drt:-1,std[-2]_LH:17.6469/17.705, std[-2]:(4599.0, 17.705, 17.6469, -1)',\n",
       " '4612.0:peakV:17.5695,peak_drt:1,std[-2]_LH:17.6856/17.734, std[-2]:(4609.0, 17.734, 17.6856, 1)',\n",
       " '4615.0:peakV:17.734,peak_drt:-1,std[-2]_LH:17.5599/17.6469, std[-2]:(4613.0, 17.6469, 17.5599, -1)',\n",
       " '4619.0:peakV:17.5599,peak_drt:1,std[-2]_LH:17.676/17.8017, std[-2]:(4618.0, 17.8017, 17.676, 1)',\n",
       " '4628.0:peakV:17.8017,peak_drt:-1,std[-2]_LH:17.5212/17.5889, std[-2]:(4627.0, 17.5889, 17.5212, -1)',\n",
       " '4634.0:peakV:17.5212,peak_drt:1,std[-2]_LH:17.6082/17.6469, std[-2]:(4633.0, 17.6469, 17.6082, 1)',\n",
       " '4636.0:peakV:17.6469,peak_drt:-1,std[-2]_LH:17.5695/17.5889, std[-2]:(4635.0, 17.5889, 17.5695, -1)',\n",
       " '4642.0:peakV:17.5695,peak_drt:1,std[-2]_LH:17.6663/17.734, std[-2]:(4640.0, 17.734, 17.6663, 1)',\n",
       " '4658.0:peakV:17.734,peak_drt:-1,std[-2]_LH:17.0374/17.1922, std[-2]:(4657.0, 17.1922, 17.0374, -1)',\n",
       " '4661.0:peakV:17.0374,peak_drt:1,std[-2]_LH:17.4438/17.5792, std[-2]:(4660.0, 17.5792, 17.4438, 1)',\n",
       " '4663.0:peakV:17.5792,peak_drt:-1,std[-2]_LH:17.3664/17.4631, std[-2]:(4662.0, 17.4631, 17.3664, -1)',\n",
       " '4665.0:peakV:17.3664,peak_drt:1,std[-2]_LH:17.4244/17.4825, std[-2]:(4664.0, 17.4825, 17.4244, 1)',\n",
       " '4668.0:peakV:17.4825,peak_drt:-1,std[-2]_LH:17.2406/17.3374, std[-2]:(4667.0, 17.3374, 17.2406, -1)',\n",
       " '4679.0:peakV:17.2406,peak_drt:1,std[-2]_LH:17.3567/17.4244, std[-2]:(4675.0, 17.4244, 17.3567, 1)',\n",
       " '4688.0:peakV:17.4535,peak_drt:-1,std[-2]_LH:17.1148/17.1826, std[-2]:(4687.0, 17.1826, 17.1148, -1)',\n",
       " '4701.0:peakV:16.873,peak_drt:1,std[-2]_LH:17.0761/17.1632, std[-2]:(4699.0, 17.1632, 17.0761, 1)',\n",
       " '4705.0:peakV:17.1632,peak_drt:-1,std[-2]_LH:16.8633/17.0471, std[-2]:(4704.0, 17.0471, 16.8633, -1)',\n",
       " '4712.0:peakV:16.8633,peak_drt:1,std[-2]_LH:16.9987/17.0665, std[-2]:(4711.0, 17.0665, 16.9987, 1)',\n",
       " '4719.0:peakV:17.0665,peak_drt:-1,std[-2]_LH:16.7472/16.8826, std[-2]:(4718.0, 16.8826, 16.7472, -1)',\n",
       " '4727.0:peakV:16.5634,peak_drt:1,std[-2]_LH:16.6311/16.7085, std[-2]:(4726.0, 16.7085, 16.6311, 1)',\n",
       " '4729.0:peakV:16.7085,peak_drt:-1,std[-2]_LH:16.4956/16.5634, std[-2]:(4728.0, 16.5634, 16.4956, -1)',\n",
       " '4732.0:peakV:16.4956,peak_drt:1,std[-2]_LH:16.573/16.6214, std[-2]:(4730.0, 16.6214, 16.573, 1)',\n",
       " '4736.0:peakV:16.6214,peak_drt:-1,std[-2]_LH:16.2634/16.3892, std[-2]:(4734.0, 16.3892, 16.2634, -1)',\n",
       " '4743.0:peakV:16.1764,peak_drt:1,std[-2]_LH:16.2538/16.3408, std[-2]:(4742.0, 16.3408, 16.2538, 1)',\n",
       " '4748.0:peakV:16.3408,peak_drt:-1,std[-2]_LH:15.9829/16.1086, std[-2]:(4746.0, 16.1086, 15.9829, -1)',\n",
       " '4756.0:peakV:15.9635,peak_drt:1,std[-2]_LH:16.2247/16.3215, std[-2]:(4754.0, 16.3215, 16.2247, 1)',\n",
       " '4759.0:peakV:16.3215,peak_drt:-1,std[-2]_LH:16.0603/16.1377, std[-2]:(4758.0, 16.1377, 16.0603, -1)',\n",
       " '4767.0:peakV:15.9829,peak_drt:1,std[-2]_LH:16.0603/16.1377, std[-2]:(4766.0, 16.1377, 16.0603, 1)',\n",
       " '4772.0:peakV:16.1377,peak_drt:-1,std[-2]_LH:15.9442/16.0506, std[-2]:(4771.0, 16.0506, 15.9442, -1)',\n",
       " '4776.0:peakV:15.9442,peak_drt:1,std[-2]_LH:16.0119/16.0409, std[-2]:(4775.0, 16.0409, 16.0119, 1)',\n",
       " '4778.0:peakV:16.0409,peak_drt:-1,std[-2]_LH:15.9732/16.0312, std[-2]:(4777.0, 16.0312, 15.9732, -1)',\n",
       " '4786.0:peakV:15.9732,peak_drt:1,std[-2]_LH:16.186/16.3021, std[-2]:(4784.0, 16.3021, 16.186, 1)',\n",
       " '4788.0:peakV:16.3021,peak_drt:-1,std[-2]_LH:16.1183/16.1667, std[-2]:(4787.0, 16.1667, 16.1183, -1)',\n",
       " '4795.0:peakV:16.0506,peak_drt:1,std[-2]_LH:16.0893/16.1377, std[-2]:(4794.0, 16.1377, 16.0893, 1)',\n",
       " '4800.0:peakV:16.1377,peak_drt:-1,std[-2]_LH:15.8958/16.0119, std[-2]:(4799.0, 16.0119, 15.8958, -1)',\n",
       " '4810.0:peakV:15.7023,peak_drt:1,std[-2]_LH:16.0022/16.1183, std[-2]:(4808.0, 16.1183, 16.0022, 1)',\n",
       " '4814.0:peakV:16.1183,peak_drt:-1,std[-2]_LH:15.9248/16.0119, std[-2]:(4813.0, 16.0119, 15.9248, -1)',\n",
       " '4818.0:peakV:15.9248,peak_drt:1,std[-2]_LH:16.1377/16.2247, std[-2]:(4816.0, 16.2247, 16.1377, 1)',\n",
       " '4827.0:peakV:16.2247,peak_drt:-1,std[-2]_LH:16.0216/16.0603, std[-2]:(4825.0, 16.0603, 16.0216, -1)',\n",
       " '4836.0:peakV:15.9248,peak_drt:1,std[-2]_LH:15.9829/16.0506, std[-2]:(4834.0, 16.0506, 15.9829, 1)',\n",
       " '4838.0:peakV:16.0506,peak_drt:-1,std[-2]_LH:15.9055/15.9732, std[-2]:(4837.0, 15.9732, 15.9055, -1)',\n",
       " '4840.0:peakV:15.9055,peak_drt:1,std[-2]_LH:15.9442/16.0119, std[-2]:(4839.0, 16.0119, 15.9442, 1)',\n",
       " '4845.0:peakV:16.0119,peak_drt:-1,std[-2]_LH:15.8474/15.9442, std[-2]:(4843.0, 15.9442, 15.8474, -1)',\n",
       " '4849.0:peakV:15.8474,peak_drt:1,std[-2]_LH:16.1183/16.3118, std[-2]:(4848.0, 16.3118, 16.1183, 1)',\n",
       " '4866.0:peakV:16.3118,peak_drt:-1,std[-2]_LH:15.5185/15.6636, std[-2]:(4864.0, 15.6636, 15.5185, -1)',\n",
       " '4870.0:peakV:15.5185,peak_drt:1,std[-2]_LH:15.7023/15.77, std[-2]:(4869.0, 15.77, 15.7023, 1)',\n",
       " '4882.0:peakV:15.8861,peak_drt:-1,std[-2]_LH:15.7507/15.799000000000001, std[-2]:(4881.0, 15.799000000000001, 15.7507, -1)',\n",
       " '4899.0:peakV:15.4121,peak_drt:1,std[-2]_LH:15.6076/15.7255, std[-2]:(4897.0, 15.7255, 15.6076, 1)',\n",
       " '4902.0:peakV:15.7255,peak_drt:-1,std[-2]_LH:15.4602/15.529000000000002, std[-2]:(4901.0, 15.529000000000002, 15.4602, -1)',\n",
       " '4905.0:peakV:15.4602,peak_drt:1,std[-2]_LH:15.5978/15.6666, std[-2]:(4903.0, 15.6666, 15.5978, 1)',\n",
       " '4910.0:peakV:15.6666,peak_drt:-1,std[-2]_LH:15.4995/15.5781, std[-2]:(4909.0, 15.5781, 15.4995, -1)',\n",
       " '4919.0:peakV:15.4897,peak_drt:1,std[-2]_LH:15.588/15.6371, std[-2]:(4917.0, 15.6371, 15.588, 1)',\n",
       " '4925.0:peakV:15.6371,peak_drt:-1,std[-2]_LH:15.5093/15.5683, std[-2]:(4924.0, 15.5683, 15.5093, -1)',\n",
       " '4930.0:peakV:15.4897,peak_drt:1,std[-2]_LH:15.529000000000002/15.5781, std[-2]:(4929.0, 15.5781, 15.529000000000002, 1)',\n",
       " '4934.0:peakV:15.5781,peak_drt:-1,std[-2]_LH:15.4307/15.4995, std[-2]:(4933.0, 15.4995, 15.4307, -1)',\n",
       " '4942.0:peakV:15.3619,peak_drt:1,std[-2]_LH:15.4602/15.5192, std[-2]:(4940.0, 15.5192, 15.4602, 1)',\n",
       " '4950.0:peakV:15.6076,peak_drt:-1,std[-2]_LH:15.3029/15.3914, std[-2]:(4948.0, 15.3914, 15.3029, -1)',\n",
       " '4954.0:peakV:15.3029,peak_drt:1,std[-2]_LH:15.4602/15.5486, std[-2]:(4953.0, 15.5486, 15.4602, 1)',\n",
       " '4958.0:peakV:15.5486,peak_drt:-1,std[-2]_LH:15.4602/15.5093, std[-2]:(4956.0, 15.5093, 15.4602, -1)',\n",
       " '4964.0:peakV:15.4602,peak_drt:1,std[-2]_LH:15.6174/15.6961, std[-2]:(4963.0, 15.6961, 15.6174, 1)',\n",
       " '4970.0:peakV:15.6961,peak_drt:-1,std[-2]_LH:15.5683/15.6273, std[-2]:(4969.0, 15.6273, 15.5683, -1)',\n",
       " '4973.0:peakV:15.5683,peak_drt:1,std[-2]_LH:15.6076/15.6764, std[-2]:(4972.0, 15.6764, 15.6076, 1)',\n",
       " '4979.0:peakV:15.6764,peak_drt:-1,std[-2]_LH:15.5683/15.5978, std[-2]:(4975.0, 15.5978, 15.5683, -1)',\n",
       " '4993.0:peakV:15.4602,peak_drt:1,std[-2]_LH:15.5486/15.6174, std[-2]:(4992.0, 15.6174, 15.5486, 1)',\n",
       " '5013.0:peakV:16.158,peak_drt:-1,std[-2]_LH:16.0106/16.0695, std[-2]:(5012.0, 16.0695, 16.0106, -1)',\n",
       " '5018.0:peakV:16.0106,peak_drt:1,std[-2]_LH:16.1383/16.2071, std[-2]:(5016.0, 16.2071, 16.1383, 1)',\n",
       " '5042.0:peakV:16.3546,peak_drt:-1,std[-2]_LH:16.0204/16.158, std[-2]:(5040.0, 16.158, 16.0204, -1)',\n",
       " '5054.0:peakV:14.7525,peak_drt:1,std[-2]_LH:15.0277/15.2145, std[-2]:(5053.0, 15.2145, 15.0277, 1)',\n",
       " '5059.0:peakV:15.2145,peak_drt:-1,std[-2]_LH:14.6739/14.8803, std[-2]:(5058.0, 14.8803, 14.6739, -1)',\n",
       " '5063.0:peakV:14.6739,peak_drt:1,std[-2]_LH:14.7918/14.8803, std[-2]:(5062.0, 14.8803, 14.7918, 1)',\n",
       " '5065.0:peakV:14.8803,peak_drt:-1,std[-2]_LH:14.7427/14.8115, std[-2]:(5064.0, 14.8115, 14.7427, -1)',\n",
       " '5068.0:peakV:14.7427,peak_drt:1,std[-2]_LH:14.8901/15.0081, std[-2]:(5066.0, 15.0081, 14.8901, 1)',\n",
       " '5073.0:peakV:15.0081,peak_drt:-1,std[-2]_LH:14.7722/14.841, std[-2]:(5072.0, 14.841, 14.7722, -1)',\n",
       " '5094.0:peakV:14.4577,peak_drt:1,std[-2]_LH:14.6248/14.6936, std[-2]:(5092.0, 14.6936, 14.6248, 1)',\n",
       " '5119.0:peakV:15.1162,peak_drt:-1,std[-2]_LH:14.9098/14.9884, std[-2]:(5118.0, 14.9884, 14.9098, -1)',\n",
       " '5122.0:peakV:14.9098,peak_drt:1,std[-2]_LH:14.9688/15.0081, std[-2]:(5120.0, 15.0081, 14.9688, 1)',\n",
       " '5131.0:peakV:15.0081,peak_drt:-1,std[-2]_LH:14.9196/14.9491, std[-2]:(5127.0, 14.9491, 14.9196, -1)',\n",
       " '5133.0:peakV:14.9196,peak_drt:1,std[-2]_LH:15.067/15.1752, std[-2]:(5132.0, 15.1752, 15.067, 1)',\n",
       " '5145.0:peakV:15.7157,peak_drt:-1,std[-2]_LH:15.3324/15.4307, std[-2]:(5142.0, 15.4307, 15.3324, -1)',\n",
       " '5199.0:peakV:14.3299,peak_drt:1,std[-2]_LH:14.9491/15.0867, std[-2]:(5197.0, 15.0867, 14.9491, 1)',\n",
       " '5203.0:peakV:15.0867,peak_drt:-1,std[-2]_LH:14.8705/14.9294, std[-2]:(5200.0, 14.9294, 14.8705, -1)',\n",
       " '5211.0:peakV:14.7918,peak_drt:1,std[-2]_LH:14.8901/14.9393, std[-2]:(5209.0, 14.9393, 14.8901, 1)',\n",
       " '5213.0:peakV:14.9393,peak_drt:-1,std[-2]_LH:14.8606/14.8901, std[-2]:(5212.0, 14.8901, 14.8606, -1)',\n",
       " '5216.0:peakV:14.8606,peak_drt:1,std[-2]_LH:14.9196/14.9786, std[-2]:(5214.0, 14.9786, 14.9196, 1)',\n",
       " '5229.0:peakV:14.9786,peak_drt:-1,std[-2]_LH:14.7918/14.8508, std[-2]:(5227.0, 14.8508, 14.7918, -1)',\n",
       " '5232.0:peakV:14.7918,peak_drt:1,std[-2]_LH:14.8803/14.9491, std[-2]:(5231.0, 14.9491, 14.8803, 1)',\n",
       " '5245.0:peakV:15.0474,peak_drt:-1,std[-2]_LH:14.8017/14.8705, std[-2]:(5244.0, 14.8705, 14.8017, -1)',\n",
       " '5247.0:peakV:14.8017,peak_drt:1,std[-2]_LH:14.8705/14.9196, std[-2]:(5246.0, 14.9196, 14.8705, 1)',\n",
       " '5261.0:peakV:14.9491,peak_drt:-1,std[-2]_LH:14.6837/14.7624, std[-2]:(5258.0, 14.7624, 14.6837, -1)',\n",
       " '5263.0:peakV:14.6837,peak_drt:1,std[-2]_LH:14.7624/14.8213, std[-2]:(5262.0, 14.8213, 14.7624, 1)',\n",
       " '5273.0:peakV:14.8705,peak_drt:-1,std[-2]_LH:14.722999999999999/14.782, std[-2]:(5271.0, 14.782, 14.722999999999999, -1)',\n",
       " '5285.0:peakV:14.722999999999999,peak_drt:1,std[-2]_LH:15.3816/15.529000000000002, std[-2]:(5284.0, 15.529000000000002, 15.3816, 1)',\n",
       " '5292.0:peakV:15.529000000000002,peak_drt:-1,std[-2]_LH:15.244000000000002/15.3226, std[-2]:(5288.0, 15.3226, 15.244000000000002, -1)',\n",
       " '5294.0:peakV:15.244000000000002,peak_drt:1,std[-2]_LH:15.2931/15.3521, std[-2]:(5293.0, 15.3521, 15.2931, 1)',\n",
       " '5297.0:peakV:15.3521,peak_drt:-1,std[-2]_LH:15.185/15.2636, std[-2]:(5295.0, 15.2636, 15.185, -1)',\n",
       " '5301.0:peakV:15.185,peak_drt:1,std[-2]_LH:15.2734/15.3422, std[-2]:(5300.0, 15.3422, 15.2734, 1)',\n",
       " '5307.0:peakV:15.3422,peak_drt:-1,std[-2]_LH:15.244000000000002/15.2931, std[-2]:(5306.0, 15.2931, 15.244000000000002, -1)',\n",
       " '5334.0:peakV:14.8606,peak_drt:1,std[-2]_LH:15.0867/15.1555, std[-2]:(5333.0, 15.1555, 15.0867, 1)',\n",
       " '5337.0:peakV:15.1555,peak_drt:-1,std[-2]_LH:15.0081/15.067, std[-2]:(5336.0, 15.067, 15.0081, -1)',\n",
       " '5341.0:peakV:15.0081,peak_drt:1,std[-2]_LH:15.1162/15.2341, std[-2]:(5340.0, 15.2341, 15.1162, 1)',\n",
       " '5346.0:peakV:15.2341,peak_drt:-1,std[-2]_LH:15.0867/15.1653, std[-2]:(5345.0, 15.1653, 15.0867, -1)',\n",
       " '5353.0:peakV:15.0867,peak_drt:1,std[-2]_LH:15.4897/15.5683, std[-2]:(5352.0, 15.5683, 15.4897, 1)',\n",
       " '5355.0:peakV:15.5683,peak_drt:-1,std[-2]_LH:15.4504/15.5093, std[-2]:(5354.0, 15.5093, 15.4504, -1)',\n",
       " '5359.0:peakV:15.4504,peak_drt:1,std[-2]_LH:15.5585/15.6961, std[-2]:(5357.0, 15.6961, 15.5585, 1)',\n",
       " '5365.0:peakV:15.6961,peak_drt:-1,std[-2]_LH:15.4012/15.4504, std[-2]:(5363.0, 15.4504, 15.4012, -1)',\n",
       " '5369.0:peakV:15.4012,peak_drt:1,std[-2]_LH:15.4602/15.4995, std[-2]:(5368.0, 15.4995, 15.4602, 1)',\n",
       " '5374.0:peakV:15.4995,peak_drt:-1,std[-2]_LH:15.3717/15.4209, std[-2]:(5372.0, 15.4209, 15.3717, -1)',\n",
       " '5377.0:peakV:15.3717,peak_drt:1,std[-2]_LH:15.4307/15.5093, std[-2]:(5376.0, 15.5093, 15.4307, 1)',\n",
       " '5383.0:peakV:15.5781,peak_drt:-1,std[-2]_LH:15.3914/15.4504, std[-2]:(5381.0, 15.4504, 15.3914, -1)',\n",
       " '5389.0:peakV:15.3914,peak_drt:1,std[-2]_LH:15.5585/15.6666, std[-2]:(5387.0, 15.6666, 15.5585, 1)',\n",
       " '5393.0:peakV:15.6666,peak_drt:-1,std[-2]_LH:15.4995/15.5486, std[-2]:(5392.0, 15.5486, 15.4995, -1)',\n",
       " '5399.0:peakV:15.4995,peak_drt:1,std[-2]_LH:15.5585/15.5978, std[-2]:(5398.0, 15.5978, 15.5585, 1)',\n",
       " '5410.0:peakV:15.5978,peak_drt:-1,std[-2]_LH:15.2833/15.3521, std[-2]:(5407.0, 15.3521, 15.2833, -1)',\n",
       " '5415.0:peakV:15.2833,peak_drt:1,std[-2]_LH:15.3029/15.3422, std[-2]:(5414.0, 15.3422, 15.3029, 1)',\n",
       " '5425.0:peakV:15.3914,peak_drt:-1,std[-2]_LH:15.1948/15.3619, std[-2]:(5424.0, 15.3619, 15.1948, -1)',\n",
       " '5429.0:peakV:15.1948,peak_drt:1,std[-2]_LH:15.2538/15.3128, std[-2]:(5428.0, 15.3128, 15.2538, 1)',\n",
       " '5444.0:peakV:15.47,peak_drt:-1,std[-2]_LH:15.3619/15.411, std[-2]:(5442.0, 15.411, 15.3619, -1)',\n",
       " '5458.0:peakV:15.2833,peak_drt:1,std[-2]_LH:15.3324/15.3717, std[-2]:(5457.0, 15.3717, 15.3324, 1)',\n",
       " '5461.0:peakV:15.3717,peak_drt:-1,std[-2]_LH:15.2833/15.3128, std[-2]:(5459.0, 15.3128, 15.2833, -1)',\n",
       " '5464.0:peakV:15.2833,peak_drt:1,std[-2]_LH:15.3324/15.3619, std[-2]:(5463.0, 15.3619, 15.3324, 1)',\n",
       " '5469.0:peakV:15.3619,peak_drt:-1,std[-2]_LH:15.2833/15.3128, std[-2]:(5467.0, 15.3128, 15.2833, -1)',\n",
       " '5473.0:peakV:15.2833,peak_drt:1,std[-2]_LH:15.3914/15.411, std[-2]:(5470.0, 15.411, 15.3914, 1)',\n",
       " '5480.0:peakV:15.411,peak_drt:-1,std[-2]_LH:15.0769/15.1358, std[-2]:(5478.0, 15.1358, 15.0769, -1)',\n",
       " '5502.0:peakV:14.6051,peak_drt:1,std[-2]_LH:14.722999999999999/14.8017, std[-2]:(5500.0, 14.8017, 14.722999999999999, 1)',\n",
       " '5506.0:peakV:14.8017,peak_drt:-1,std[-2]_LH:14.6936/14.7722, std[-2]:(5505.0, 14.7722, 14.6936, -1)',\n",
       " '5519.0:peakV:14.6936,peak_drt:1,std[-2]_LH:14.9/14.9294, std[-2]:(5515.0, 14.9294, 14.9, 1)',\n",
       " '5521.0:peakV:14.9294,peak_drt:-1,std[-2]_LH:14.7034/14.9, std[-2]:(5520.0, 14.9, 14.7034, -1)',\n",
       " '5526.0:peakV:14.7034,peak_drt:1,std[-2]_LH:14.9/14.9688, std[-2]:(5525.0, 14.9688, 14.9, 1)',\n",
       " '5529.0:peakV:14.9688,peak_drt:-1,std[-2]_LH:14.8606/14.9, std[-2]:(5527.0, 14.9, 14.8606, -1)',\n",
       " '5535.0:peakV:14.8606,peak_drt:1,std[-2]_LH:14.9786/15.0572, std[-2]:(5533.0, 15.0572, 14.9786, 1)',\n",
       " '5540.0:peakV:15.0572,peak_drt:-1,std[-2]_LH:14.8115/14.8803, std[-2]:(5539.0, 14.8803, 14.8115, -1)',\n",
       " '5548.0:peakV:14.8115,peak_drt:1,std[-2]_LH:14.9196/14.9688, std[-2]:(5546.0, 14.9688, 14.9196, 1)',\n",
       " '5554.0:peakV:14.9688,peak_drt:-1,std[-2]_LH:14.8606/14.8901, std[-2]:(5551.0, 14.8901, 14.8606, -1)',\n",
       " '5561.0:peakV:14.8606,peak_drt:1,std[-2]_LH:14.9098/14.9491, std[-2]:(5559.0, 14.9491, 14.9098, 1)',\n",
       " '5565.0:peakV:14.9491,peak_drt:-1,std[-2]_LH:14.8705/14.9, std[-2]:(5562.0, 14.9, 14.8705, -1)',\n",
       " '5573.0:peakV:14.8508,peak_drt:1,std[-2]_LH:15.0572/15.1162, std[-2]:(5571.0, 15.1162, 15.0572, 1)',\n",
       " '5584.0:peakV:15.2538,peak_drt:-1,std[-2]_LH:15.0474/15.0965, std[-2]:(5579.0, 15.0965, 15.0474, -1)',\n",
       " '5589.0:peakV:15.0474,peak_drt:1,std[-2]_LH:15.1555/15.185, std[-2]:(5588.0, 15.185, 15.1555, 1)',\n",
       " '5601.0:peakV:15.4209,peak_drt:-1,std[-2]_LH:15.2734/15.3324, std[-2]:(5599.0, 15.3324, 15.2734, -1)',\n",
       " '5606.0:peakV:15.2734,peak_drt:1,std[-2]_LH:15.3816/15.4995, std[-2]:(5604.0, 15.4995, 15.3816, 1)',\n",
       " '5613.0:peakV:15.4995,peak_drt:-1,std[-2]_LH:15.4012/15.4307, std[-2]:(5611.0, 15.4307, 15.4012, -1)',\n",
       " '5616.0:peakV:15.4012,peak_drt:1,std[-2]_LH:15.6862/15.7452, std[-2]:(5614.0, 15.7452, 15.6862, 1)',\n",
       " '5619.0:peakV:15.7452,peak_drt:-1,std[-2]_LH:15.411/15.5192, std[-2]:(5618.0, 15.5192, 15.411, -1)',\n",
       " '5622.0:peakV:15.411,peak_drt:1,std[-2]_LH:15.5388/15.6273, std[-2]:(5621.0, 15.6273, 15.5388, 1)',\n",
       " '5626.0:peakV:15.6273,peak_drt:-1,std[-2]_LH:15.4405/15.4897, std[-2]:(5624.0, 15.4897, 15.4405, -1)',\n",
       " '5633.0:peakV:15.3717,peak_drt:1,std[-2]_LH:15.411/15.4504, std[-2]:(5632.0, 15.4504, 15.411, 1)',\n",
       " '5636.0:peakV:15.4504,peak_drt:-1,std[-2]_LH:15.3324/15.3816, std[-2]:(5634.0, 15.3816, 15.3324, -1)',\n",
       " '5638.0:peakV:15.3324,peak_drt:1,std[-2]_LH:15.3914/15.4307, std[-2]:(5637.0, 15.4307, 15.3914, 1)',\n",
       " '5652.0:peakV:15.4897,peak_drt:-1,std[-2]_LH:15.3914/15.4209, std[-2]:(5649.0, 15.4209, 15.3914, -1)',\n",
       " '5659.0:peakV:15.3619,peak_drt:1,std[-2]_LH:15.4897/15.529000000000002, std[-2]:(5658.0, 15.529000000000002, 15.4897, 1)',\n",
       " '5662.0:peakV:15.529000000000002,peak_drt:-1,std[-2]_LH:15.4307/15.5093, std[-2]:(5661.0, 15.5093, 15.4307, -1)',\n",
       " '5665.0:peakV:15.4307,peak_drt:1,std[-2]_LH:15.7747/16.0007, std[-2]:(5664.0, 16.0007, 15.7747, 1)',\n",
       " '5677.0:peakV:16.0597,peak_drt:-1,std[-2]_LH:15.9516/16.0007, std[-2]:(5676.0, 16.0007, 15.9516, -1)',\n",
       " '5683.0:peakV:15.9516,peak_drt:1,std[-2]_LH:16.1187/16.1678, std[-2]:(5682.0, 16.1678, 16.1187, 1)',\n",
       " '5688.0:peakV:16.1678,peak_drt:-1,std[-2]_LH:16.0597/16.099, std[-2]:(5687.0, 16.099, 16.0597, -1)',\n",
       " '5694.0:peakV:16.0597,peak_drt:1,std[-2]_LH:16.2268/16.3349, std[-2]:(5692.0, 16.3349, 16.2268, 1)',\n",
       " '5696.0:peakV:16.3349,peak_drt:-1,std[-2]_LH:16.1678/16.2268, std[-2]:(5695.0, 16.2268, 16.1678, -1)',\n",
       " '5703.0:peakV:16.1678,peak_drt:1,std[-2]_LH:16.5413/16.6986, std[-2]:(5700.0, 16.6986, 16.5413, 1)',\n",
       " '5708.0:peakV:16.6986,peak_drt:-1,std[-2]_LH:16.3349/16.4135, std[-2]:(5707.0, 16.4135, 16.3349, -1)',\n",
       " '5711.0:peakV:16.3349,peak_drt:1,std[-2]_LH:16.4627/16.5315, std[-2]:(5710.0, 16.5315, 16.4627, 1)',\n",
       " '5713.0:peakV:16.5315,peak_drt:-1,std[-2]_LH:16.2268/16.4234, std[-2]:(5712.0, 16.4234, 16.2268, -1)',\n",
       " '5718.0:peakV:16.2268,peak_drt:1,std[-2]_LH:16.6494/16.787, std[-2]:(5717.0, 16.787, 16.6494, 1)',\n",
       " '5727.0:peakV:16.9345,peak_drt:-1,std[-2]_LH:16.7674/16.8067, std[-2]:(5726.0, 16.8067, 16.7674, -1)',\n",
       " '5730.0:peakV:16.7674,peak_drt:1,std[-2]_LH:16.8362/16.9148, std[-2]:(5729.0, 16.9148, 16.8362, 1)',\n",
       " '5742.0:peakV:16.9148,peak_drt:-1,std[-2]_LH:16.2661/16.4037, std[-2]:(5741.0, 16.4037, 16.2661, -1)',\n",
       " '5745.0:peakV:16.2661,peak_drt:1,std[-2]_LH:16.4135/16.4823, std[-2]:(5744.0, 16.4823, 16.4135, 1)',\n",
       " '5749.0:peakV:16.4823,peak_drt:-1,std[-2]_LH:16.2465/16.3054, std[-2]:(5747.0, 16.3054, 16.2465, -1)',\n",
       " '5752.0:peakV:16.2465,peak_drt:1,std[-2]_LH:16.3939/16.4529, std[-2]:(5750.0, 16.4529, 16.3939, 1)',\n",
       " '5758.0:peakV:16.5118,peak_drt:-1,std[-2]_LH:16.3546/16.3841, std[-2]:(5757.0, 16.3841, 16.3546, -1)',\n",
       " '5771.0:peakV:16.0794,peak_drt:1,std[-2]_LH:16.1383/16.1973, std[-2]:(5770.0, 16.1973, 16.1383, 1)',\n",
       " '5775.0:peakV:16.1973,peak_drt:-1,std[-2]_LH:16.099/16.1383, std[-2]:(5772.0, 16.1383, 16.099, -1)',\n",
       " '5781.0:peakV:16.099,peak_drt:1,std[-2]_LH:16.217/16.2465, std[-2]:(5779.0, 16.2465, 16.217, 1)',\n",
       " '5783.0:peakV:16.2465,peak_drt:-1,std[-2]_LH:16.1383/16.2071, std[-2]:(5782.0, 16.2071, 16.1383, -1)',\n",
       " '5788.0:peakV:16.1089,peak_drt:1,std[-2]_LH:16.1482/16.1875, std[-2]:(5787.0, 16.1875, 16.1482, 1)',\n",
       " '5792.0:peakV:16.1875,peak_drt:-1,std[-2]_LH:16.099/16.1285, std[-2]:(5790.0, 16.1285, 16.099, -1)',\n",
       " '5801.0:peakV:16.0695,peak_drt:1,std[-2]_LH:16.1285/16.1777, std[-2]:(5800.0, 16.1777, 16.1285, 1)',\n",
       " '5822.0:peakV:16.2563,peak_drt:-1,std[-2]_LH:15.9516/15.9909, std[-2]:(5820.0, 15.9909, 15.9516, -1)',\n",
       " '5833.0:peakV:15.755,peak_drt:1,std[-2]_LH:15.8042/15.8631, std[-2]:(5831.0, 15.8631, 15.8042, 1)',\n",
       " '5852.0:peakV:15.9418,peak_drt:-1,std[-2]_LH:15.7747/15.8337, std[-2]:(5849.0, 15.8337, 15.7747, -1)',\n",
       " '5860.0:peakV:15.7747,peak_drt:1,std[-2]_LH:15.8631/15.9614, std[-2]:(5859.0, 15.9614, 15.8631, 1)',\n",
       " '5865.0:peakV:15.9614,peak_drt:-1,std[-2]_LH:15.7845/15.8337, std[-2]:(5864.0, 15.8337, 15.7845, -1)',\n",
       " '5871.0:peakV:15.7845,peak_drt:1,std[-2]_LH:15.9713/16.0401, std[-2]:(5869.0, 16.0401, 15.9713, 1)',\n",
       " '5875.0:peakV:16.0401,peak_drt:-1,std[-2]_LH:15.9123/15.9516, std[-2]:(5874.0, 15.9516, 15.9123, -1)',\n",
       " '5888.0:peakV:15.8631,peak_drt:1,std[-2]_LH:15.9811/16.0302, std[-2]:(5887.0, 16.0302, 15.9811, 1)',\n",
       " '5891.0:peakV:16.0302,peak_drt:-1,std[-2]_LH:15.9418/15.9713, std[-2]:(5889.0, 15.9713, 15.9418, -1)',\n",
       " '5893.0:peakV:15.9418,peak_drt:1,std[-2]_LH:15.9614/16.0007, std[-2]:(5892.0, 16.0007, 15.9614, 1)',\n",
       " '5911.0:peakV:16.0401,peak_drt:-1,std[-2]_LH:15.0376/15.2145, std[-2]:(5910.0, 15.2145, 15.0376, -1)',\n",
       " '5919.0:peakV:14.9688,peak_drt:1,std[-2]_LH:15.0474/15.1064, std[-2]:(5918.0, 15.1064, 15.0474, 1)',\n",
       " '5922.0:peakV:15.1064,peak_drt:-1,std[-2]_LH:14.9982/15.0572, std[-2]:(5920.0, 15.0572, 14.9982, -1)',\n",
       " '5927.0:peakV:14.9982,peak_drt:1,std[-2]_LH:15.1162/15.1653, std[-2]:(5926.0, 15.1653, 15.1162, 1)',\n",
       " '5930.0:peakV:15.1653,peak_drt:-1,std[-2]_LH:15.0769/15.126, std[-2]:(5929.0, 15.126, 15.0769, -1)',\n",
       " '5943.0:peakV:14.9,peak_drt:1,std[-2]_LH:14.9884/15.0179, std[-2]:(5942.0, 15.0179, 14.9884, 1)',\n",
       " '5945.0:peakV:15.0179,peak_drt:-1,std[-2]_LH:14.9196/14.9786, std[-2]:(5944.0, 14.9786, 14.9196, -1)',\n",
       " '5948.0:peakV:14.9196,peak_drt:1,std[-2]_LH:15.0179/15.067, std[-2]:(5947.0, 15.067, 15.0179, 1)',\n",
       " '5953.0:peakV:15.067,peak_drt:-1,std[-2]_LH:14.9/14.9393, std[-2]:(5952.0, 14.9393, 14.9, -1)',\n",
       " '5958.0:peakV:14.9,peak_drt:1,std[-2]_LH:15.0474/15.1064, std[-2]:(5957.0, 15.1064, 15.0474, 1)',\n",
       " '5964.0:peakV:15.1064,peak_drt:-1,std[-2]_LH:14.9688/15.0179, std[-2]:(5963.0, 15.0179, 14.9688, -1)',\n",
       " '5981.0:peakV:14.8705,peak_drt:1,std[-2]_LH:14.9982/15.0474, std[-2]:(5979.0, 15.0474, 14.9982, 1)',\n",
       " '5983.0:peakV:15.0474,peak_drt:-1,std[-2]_LH:14.9786/15.0179, std[-2]:(5982.0, 15.0179, 14.9786, -1)',\n",
       " '5995.0:peakV:14.9589,peak_drt:1,std[-2]_LH:15.1358/15.2046, std[-2]:(5992.0, 15.2046, 15.1358, 1)',\n",
       " '6003.0:peakV:15.2046,peak_drt:-1,std[-2]_LH:14.9/14.9884, std[-2]:(6002.0, 14.9884, 14.9, -1)',\n",
       " '6014.0:peakV:14.7525,peak_drt:1,std[-2]_LH:14.8901/14.9688, std[-2]:(6012.0, 14.9688, 14.8901, 1)',\n",
       " '6027.0:peakV:14.9982,peak_drt:-1,std[-2]_LH:14.9098/14.9393, std[-2]:(6025.0, 14.9393, 14.9098, -1)',\n",
       " '6049.0:peakV:14.7034,peak_drt:1,std[-2]_LH:14.8705/14.9884, std[-2]:(6048.0, 14.9884, 14.8705, 1)',\n",
       " '6075.0:peakV:15.067,peak_drt:-1,std[-2]_LH:14.7918/14.8312, std[-2]:(6072.0, 14.8312, 14.7918, -1)',\n",
       " '6091.0:peakV:14.6739,peak_drt:1,std[-2]_LH:14.7525/14.7918, std[-2]:(6088.0, 14.7918, 14.7525, 1)',\n",
       " '6110.0:peakV:15.3717,peak_drt:-1,std[-2]_LH:15.0769/15.1162, std[-2]:(6107.0, 15.1162, 15.0769, -1)',\n",
       " '6118.0:peakV:15.0572,peak_drt:1,std[-2]_LH:15.1358/15.1752, std[-2]:(6117.0, 15.1752, 15.1358, 1)',\n",
       " '6126.0:peakV:15.1752,peak_drt:-1,std[-2]_LH:15.0769/15.1064, std[-2]:(6125.0, 15.1064, 15.0769, -1)',\n",
       " '6134.0:peakV:15.0769,peak_drt:1,std[-2]_LH:15.1162/15.185, std[-2]:(6131.0, 15.185, 15.1162, 1)',\n",
       " '6137.0:peakV:15.185,peak_drt:-1,std[-2]_LH:15.0965/15.1162, std[-2]:(6135.0, 15.1162, 15.0965, -1)',\n",
       " '6143.0:peakV:15.0572,peak_drt:1,std[-2]_LH:15.0769/15.1064, std[-2]:(6142.0, 15.1064, 15.0769, 1)',\n",
       " '6147.0:peakV:15.1064,peak_drt:-1,std[-2]_LH:14.7034/14.8017, std[-2]:(6146.0, 14.8017, 14.7034, -1)',\n",
       " '6158.0:peakV:14.7034,peak_drt:1,std[-2]_LH:15.1162/15.2046, std[-2]:(6156.0, 15.2046, 15.1162, 1)',\n",
       " '6163.0:peakV:15.2046,peak_drt:-1,std[-2]_LH:15.0572/15.0867, std[-2]:(6161.0, 15.0867, 15.0572, -1)',\n",
       " '6169.0:peakV:15.0572,peak_drt:1,std[-2]_LH:15.244000000000002/15.3717, std[-2]:(6168.0, 15.3717, 15.244000000000002, 1)',\n",
       " '6177.0:peakV:15.3717,peak_drt:-1,std[-2]_LH:15.1752/15.2145, std[-2]:(6176.0, 15.2145, 15.1752, -1)',\n",
       " '6180.0:peakV:15.1752,peak_drt:1,std[-2]_LH:15.2046/15.244000000000002, std[-2]:(6179.0, 15.244000000000002, 15.2046, 1)',\n",
       " '6184.0:peakV:15.244000000000002,peak_drt:-1,std[-2]_LH:15.1555/15.1948, std[-2]:(6182.0, 15.1948, 15.1555, -1)',\n",
       " '6192.0:peakV:15.1064,peak_drt:1,std[-2]_LH:15.1948/15.2243, std[-2]:(6189.0, 15.2243, 15.1948, 1)',\n",
       " '6206.0:peakV:15.2734,peak_drt:-1,std[-2]_LH:14.9982/15.0474, std[-2]:(6204.0, 15.0474, 14.9982, -1)',\n",
       " '6212.0:peakV:14.9982,peak_drt:1,std[-2]_LH:15.1358/15.185, std[-2]:(6211.0, 15.185, 15.1358, 1)',\n",
       " '6220.0:peakV:15.185,peak_drt:-1,std[-2]_LH:15.0474/15.0769, std[-2]:(6219.0, 15.0769, 15.0474, -1)',\n",
       " '6224.0:peakV:15.0474,peak_drt:1,std[-2]_LH:15.1064/15.1457, std[-2]:(6222.0, 15.1457, 15.1064, 1)',\n",
       " '6227.0:peakV:15.1457,peak_drt:-1,std[-2]_LH:15.0769/15.1064, std[-2]:(6225.0, 15.1064, 15.0769, -1)',\n",
       " '6230.0:peakV:15.0769,peak_drt:1,std[-2]_LH:15.126/15.1457, std[-2]:(6229.0, 15.1457, 15.126, 1)',\n",
       " '6236.0:peakV:15.1457,peak_drt:-1,std[-2]_LH:15.0769/15.0965, std[-2]:(6234.0, 15.0965, 15.0769, -1)',\n",
       " '6244.0:peakV:15.0769,peak_drt:1,std[-2]_LH:15.2046/15.2636, std[-2]:(6243.0, 15.2636, 15.2046, 1)',\n",
       " '6263.0:peakV:15.6469,peak_drt:-1,std[-2]_LH:15.5093/15.5683, std[-2]:(6261.0, 15.5683, 15.5093, -1)',\n",
       " '6273.0:peakV:15.5093,peak_drt:1,std[-2]_LH:15.9811/16.099, std[-2]:(6272.0, 16.099, 15.9811, 1)',\n",
       " '6275.0:peakV:16.099,peak_drt:-1,std[-2]_LH:15.873/16.0007, std[-2]:(6274.0, 16.0007, 15.873, -1)',\n",
       " '6281.0:peakV:15.873,peak_drt:1,std[-2]_LH:15.9123/15.9614, std[-2]:(6278.0, 15.9614, 15.9123, 1)',\n",
       " '6285.0:peakV:15.9614,peak_drt:-1,std[-2]_LH:15.7845/15.8533, std[-2]:(6284.0, 15.8533, 15.7845, -1)',\n",
       " '6296.0:peakV:15.529000000000002,peak_drt:1,std[-2]_LH:15.6469/15.7452, std[-2]:(6295.0, 15.7452, 15.6469, 1)',\n",
       " '6302.0:peakV:15.7452,peak_drt:-1,std[-2]_LH:15.5585/15.5978, std[-2]:(6300.0, 15.5978, 15.5585, -1)',\n",
       " '6315.0:peakV:15.3816,peak_drt:1,std[-2]_LH:15.411/15.47, std[-2]:(6314.0, 15.47, 15.411, 1)',\n",
       " '6317.0:peakV:15.47,peak_drt:-1,std[-2]_LH:15.3816/15.4209, std[-2]:(6316.0, 15.4209, 15.3816, -1)',\n",
       " '6323.0:peakV:15.3816,peak_drt:1,std[-2]_LH:15.4602/15.4897, std[-2]:(6322.0, 15.4897, 15.4602, 1)',\n",
       " '6332.0:peakV:15.5683,peak_drt:-1,std[-2]_LH:15.4209/15.47, std[-2]:(6331.0, 15.47, 15.4209, -1)',\n",
       " '6346.0:peakV:15.2734,peak_drt:1,std[-2]_LH:15.4307/15.4897, std[-2]:(6342.0, 15.4897, 15.4307, 1)',\n",
       " '6350.0:peakV:15.4897,peak_drt:-1,std[-2]_LH:15.3816/15.411, std[-2]:(6347.0, 15.411, 15.3816, -1)',\n",
       " '6352.0:peakV:15.3816,peak_drt:1,std[-2]_LH:15.4012/15.4405, std[-2]:(6351.0, 15.4405, 15.4012, 1)',\n",
       " '6361.0:peakV:15.4405,peak_drt:-1,std[-2]_LH:15.2636/15.3128, std[-2]:(6360.0, 15.3128, 15.2636, -1)',\n",
       " '6363.0:peakV:15.2636,peak_drt:1,std[-2]_LH:15.3128/15.3521, std[-2]:(6362.0, 15.3521, 15.3128, 1)',\n",
       " '6368.0:peakV:15.3521,peak_drt:-1,std[-2]_LH:15.185/15.2341, std[-2]:(6367.0, 15.2341, 15.185, -1)',\n",
       " '6374.0:peakV:15.185,peak_drt:1,std[-2]_LH:15.2538/15.3029, std[-2]:(6372.0, 15.3029, 15.2538, 1)',\n",
       " '6376.0:peakV:15.3029,peak_drt:-1,std[-2]_LH:15.2341/15.2636, std[-2]:(6375.0, 15.2636, 15.2341, -1)',\n",
       " '6380.0:peakV:15.2145,peak_drt:1,std[-2]_LH:15.2341/15.2734, std[-2]:(6379.0, 15.2734, 15.2341, 1)',\n",
       " '6385.0:peakV:15.2734,peak_drt:-1,std[-2]_LH:14.9393/15.2046, std[-2]:(6384.0, 15.2046, 14.9393, -1)',\n",
       " '6394.0:peakV:14.7624,peak_drt:1,std[-2]_LH:14.9294/15.0376, std[-2]:(6391.0, 15.0376, 14.9294, 1)',\n",
       " '6398.0:peakV:15.0376,peak_drt:-1,std[-2]_LH:14.8115/14.8606, std[-2]:(6396.0, 14.8606, 14.8115, -1)',\n",
       " '6400.0:peakV:14.8115,peak_drt:1,std[-2]_LH:14.841/14.8803, std[-2]:(6399.0, 14.8803, 14.841, 1)',\n",
       " '6404.0:peakV:14.8803,peak_drt:-1,std[-2]_LH:14.7918/14.841, std[-2]:(6402.0, 14.841, 14.7918, -1)',\n",
       " '6408.0:peakV:14.7918,peak_drt:1,std[-2]_LH:14.841/14.8901, std[-2]:(6406.0, 14.8901, 14.841, 1)',\n",
       " '6415.0:peakV:14.8901,peak_drt:-1,std[-2]_LH:14.7918/14.8213, std[-2]:(6413.0, 14.8213, 14.7918, -1)',\n",
       " '6439.0:peakV:14.6542,peak_drt:1,std[-2]_LH:14.841/14.8901, std[-2]:(6438.0, 14.8901, 14.841, 1)',\n",
       " '6442.0:peakV:14.8901,peak_drt:-1,std[-2]_LH:14.782/14.8115, std[-2]:(6441.0, 14.8115, 14.782, -1)',\n",
       " '6445.0:peakV:14.782,peak_drt:1,std[-2]_LH:14.7918/14.8312, std[-2]:(6443.0, 14.8312, 14.7918, 1)',\n",
       " '6449.0:peakV:14.8312,peak_drt:-1,std[-2]_LH:14.7132/14.7427, std[-2]:(6448.0, 14.7427, 14.7132, -1)',\n",
       " '6458.0:peakV:14.7132,peak_drt:1,std[-2]_LH:14.7918/14.8115, std[-2]:(6451.0, 14.8115, 14.7918, 1)',\n",
       " '6468.0:peakV:14.8705,peak_drt:-1,std[-2]_LH:14.8017/14.8312, std[-2]:(6466.0, 14.8312, 14.8017, -1)',\n",
       " '6475.0:peakV:14.8017,peak_drt:1,std[-2]_LH:14.8508/14.9, std[-2]:(6474.0, 14.9, 14.8508, 1)',\n",
       " '6480.0:peakV:14.9,peak_drt:-1,std[-2]_LH:14.8213/14.8508, std[-2]:(6477.0, 14.8508, 14.8213, -1)',\n",
       " '6489.0:peakV:14.8213,peak_drt:1,std[-2]_LH:15.0965/15.1752, std[-2]:(6486.0, 15.1752, 15.0965, 1)',\n",
       " '6493.0:peakV:15.1752,peak_drt:-1,std[-2]_LH:15.067/15.1064, std[-2]:(6490.0, 15.1064, 15.067, -1)',\n",
       " '6496.0:peakV:15.067,peak_drt:1,std[-2]_LH:15.1064/15.1358, std[-2]:(6495.0, 15.1358, 15.1064, 1)',\n",
       " '6507.0:peakV:15.1752,peak_drt:-1,std[-2]_LH:15.0179/15.0376, std[-2]:(6505.0, 15.0376, 15.0179, -1)',\n",
       " '6511.0:peakV:15.0179,peak_drt:1,std[-2]_LH:15.0376/15.0769, std[-2]:(6508.0, 15.0769, 15.0376, 1)',\n",
       " '6513.0:peakV:15.0769,peak_drt:-1,std[-2]_LH:14.9491/15.0179, std[-2]:(6512.0, 15.0179, 14.9491, -1)',\n",
       " '6524.0:peakV:14.9196,peak_drt:1,std[-2]_LH:14.9786/15.0179, std[-2]:(6522.0, 15.0179, 14.9786, 1)',\n",
       " '6532.0:peakV:15.0179,peak_drt:-1,std[-2]_LH:14.782/14.841, std[-2]:(6530.0, 14.841, 14.782, -1)',\n",
       " '6537.0:peakV:14.782,peak_drt:1,std[-2]_LH:14.8606/14.9196, std[-2]:(6536.0, 14.9196, 14.8606, 1)',\n",
       " '6540.0:peakV:14.9196,peak_drt:-1,std[-2]_LH:14.8213/14.8803, std[-2]:(6538.0, 14.8803, 14.8213, -1)',\n",
       " '6545.0:peakV:14.8213,peak_drt:1,std[-2]_LH:14.8705/14.9, std[-2]:(6544.0, 14.9, 14.8705, 1)',\n",
       " '6548.0:peakV:14.9,peak_drt:-1,std[-2]_LH:14.8312/14.8606, std[-2]:(6546.0, 14.8606, 14.8312, -1)',\n",
       " '6551.0:peakV:14.8312,peak_drt:1,std[-2]_LH:14.8606/14.8901, std[-2]:(6549.0, 14.8901, 14.8606, 1)',\n",
       " '6559.0:peakV:14.8901,peak_drt:-1,std[-2]_LH:14.8017/14.8213, std[-2]:(6556.0, 14.8213, 14.8017, -1)',\n",
       " '6565.0:peakV:14.7918,peak_drt:1,std[-2]_LH:14.8213/14.8606, std[-2]:(6563.0, 14.8606, 14.8213, 1)',\n",
       " '6571.0:peakV:14.8606,peak_drt:-1,std[-2]_LH:14.8017/14.8213, std[-2]:(6567.0, 14.8213, 14.8017, -1)',\n",
       " '6576.0:peakV:14.8017,peak_drt:1,std[-2]_LH:14.8803/14.8901, std[-2]:(6575.0, 14.8901, 14.8803, 1)',\n",
       " '6581.0:peakV:14.8901,peak_drt:-1,std[-2]_LH:14.8017/14.841, std[-2]:(6580.0, 14.841, 14.8017, -1)',\n",
       " '6587.0:peakV:14.8017,peak_drt:1,std[-2]_LH:14.8606/14.9098, std[-2]:(6585.0, 14.9098, 14.8606, 1)',\n",
       " '6590.0:peakV:14.9098,peak_drt:-1,std[-2]_LH:14.8312/14.8606, std[-2]:(6588.0, 14.8606, 14.8312, -1)',\n",
       " '6593.0:peakV:14.8312,peak_drt:1,std[-2]_LH:14.8606/14.8901, std[-2]:(6592.0, 14.8901, 14.8606, 1)',\n",
       " '6604.0:peakV:14.8901,peak_drt:-1,std[-2]_LH:14.7722/14.8017, std[-2]:(6603.0, 14.8017, 14.7722, -1)',\n",
       " '6611.0:peakV:14.7722,peak_drt:1,std[-2]_LH:14.8312/14.8705, std[-2]:(6610.0, 14.8705, 14.8312, 1)',\n",
       " '6617.0:peakV:14.8705,peak_drt:-1,std[-2]_LH:14.8115/14.841, std[-2]:(6613.0, 14.841, 14.8115, -1)',\n",
       " '6620.0:peakV:14.8115,peak_drt:1,std[-2]_LH:14.841/14.8705, std[-2]:(6618.0, 14.8705, 14.841, 1)',\n",
       " '6627.0:peakV:14.8705,peak_drt:-1,std[-2]_LH:14.7034/14.8115, std[-2]:(6626.0, 14.8115, 14.7034, -1)',\n",
       " '6637.0:peakV:14.7034,peak_drt:1,std[-2]_LH:14.7427/14.7722, std[-2]:(6633.0, 14.7722, 14.7427, 1)',\n",
       " '6658.0:peakV:14.9786,peak_drt:-1,std[-2]_LH:14.8017/14.8213, std[-2]:(6656.0, 14.8213, 14.8017, -1)',\n",
       " '6666.0:peakV:14.7918,peak_drt:1,std[-2]_LH:14.8312/14.8705, std[-2]:(6664.0, 14.8705, 14.8312, 1)',\n",
       " '6669.0:peakV:14.8705,peak_drt:-1,std[-2]_LH:14.8017/14.8312, std[-2]:(6667.0, 14.8312, 14.8017, -1)',\n",
       " '6677.0:peakV:14.8017,peak_drt:1,std[-2]_LH:14.9098/14.9786, std[-2]:(6675.0, 14.9786, 14.9098, 1)',\n",
       " '6704.0:peakV:15.1555,peak_drt:-1,std[-2]_LH:15.0179/15.0572, std[-2]:(6702.0, 15.0572, 15.0179, -1)',\n",
       " '6714.0:peakV:15.0081,peak_drt:1,std[-2]_LH:15.0474/15.0867, std[-2]:(6709.0, 15.0867, 15.0474, 1)',\n",
       " '6725.0:peakV:15.4504,peak_drt:-1,std[-2]_LH:15.0474/15.1555, std[-2]:(6724.0, 15.1555, 15.0474, -1)',\n",
       " '6727.0:peakV:15.0474,peak_drt:1,std[-2]_LH:15.1064/15.1752, std[-2]:(6726.0, 15.1752, 15.1064, 1)',\n",
       " '6743.0:peakV:15.1752,peak_drt:-1,std[-2]_LH:14.9688/14.9982, std[-2]:(6740.0, 14.9982, 14.9688, -1)',\n",
       " '6749.0:peakV:14.9688,peak_drt:1,std[-2]_LH:14.9982/15.0277, std[-2]:(6748.0, 15.0277, 14.9982, 1)',\n",
       " '6764.0:peakV:15.0572,peak_drt:-1,std[-2]_LH:14.8901/14.9196, std[-2]:(6763.0, 14.9196, 14.8901, -1)',\n",
       " '6774.0:peakV:14.6542,peak_drt:1,std[-2]_LH:14.8017/14.841, std[-2]:(6772.0, 14.841, 14.8017, 1)',\n",
       " '6783.0:peakV:14.841,peak_drt:-1,std[-2]_LH:14.6542/14.6936, std[-2]:(6782.0, 14.6936, 14.6542, -1)',\n",
       " '6792.0:peakV:14.6542,peak_drt:1,std[-2]_LH:14.6837/14.722999999999999, std[-2]:(6790.0, 14.722999999999999, 14.6837, 1)',\n",
       " '6803.0:peakV:14.722999999999999,peak_drt:-1,std[-2]_LH:14.5461/14.5953, std[-2]:(6802.0, 14.5953, 14.5461, -1)',\n",
       " '6807.0:peakV:14.5461,peak_drt:1,std[-2]_LH:14.6051/14.6346, std[-2]:(6806.0, 14.6346, 14.6051, 1)',\n",
       " '6813.0:peakV:14.6346,peak_drt:-1,std[-2]_LH:14.5756/14.6051, std[-2]:(6812.0, 14.6051, 14.5756, -1)',\n",
       " '6827.0:peakV:13.9368,peak_drt:1,std[-2]_LH:14.0449/14.0744, std[-2]:(6826.0, 14.0744, 14.0449, 1)',\n",
       " '6831.0:peakV:14.0744,peak_drt:-1,std[-2]_LH:13.8581/13.9564, std[-2]:(6829.0, 13.9564, 13.8581, -1)',\n",
       " '6855.0:peakV:13.6517,peak_drt:1,std[-2]_LH:13.8287/13.9073, std[-2]:(6854.0, 13.9073, 13.8287, 1)',\n",
       " '6863.0:peakV:13.9663,peak_drt:-1,std[-2]_LH:13.8385/13.9073, std[-2]:(6862.0, 13.9073, 13.8385, -1)',\n",
       " '6876.0:peakV:13.4945,peak_drt:1,std[-2]_LH:13.7402/13.7795, std[-2]:(6875.0, 13.7795, 13.7402, 1)',\n",
       " '6878.0:peakV:13.7795,peak_drt:-1,std[-2]_LH:13.6911/13.7304, std[-2]:(6877.0, 13.7304, 13.6911, -1)',\n",
       " '6893.0:peakV:13.5338,peak_drt:1,std[-2]_LH:13.5928/13.6223, std[-2]:(6892.0, 13.6223, 13.5928, 1)',\n",
       " '6897.0:peakV:13.6223,peak_drt:-1,std[-2]_LH:13.5535/13.5731, std[-2]:(6894.0, 13.5731, 13.5535, -1)',\n",
       " '6919.0:peakV:12.7082,peak_drt:1,std[-2]_LH:12.895/13.0031, std[-2]:(6916.0, 13.0031, 12.895, 1)',\n",
       " '6924.0:peakV:13.0031,peak_drt:-1,std[-2]_LH:12.7279/12.7868, std[-2]:(6923.0, 12.7868, 12.7279, -1)',\n",
       " '6928.0:peakV:12.7279,peak_drt:1,std[-2]_LH:12.8655/12.9244, std[-2]:(6927.0, 12.9244, 12.8655, 1)',\n",
       " '6931.0:peakV:12.9244,peak_drt:-1,std[-2]_LH:12.8262/12.8851, std[-2]:(6930.0, 12.8851, 12.8262, -1)',\n",
       " '6935.0:peakV:12.8262,peak_drt:1,std[-2]_LH:12.9146/12.9441, std[-2]:(6933.0, 12.9441, 12.9146, 1)',\n",
       " '6953.0:peakV:13.2979,peak_drt:-1,std[-2]_LH:13.0522/13.120999999999999, std[-2]:(6952.0, 13.120999999999999, 13.0522, -1)',\n",
       " '6959.0:peakV:12.9932,peak_drt:1,std[-2]_LH:13.1407/13.18, std[-2]:(6957.0, 13.18, 13.1407, 1)',\n",
       " '6964.0:peakV:13.2389,peak_drt:-1,std[-2]_LH:13.0424/13.1112, std[-2]:(6962.0, 13.1112, 13.0424, -1)',\n",
       " '6966.0:peakV:13.0424,peak_drt:1,std[-2]_LH:13.1308/13.1898, std[-2]:(6965.0, 13.1898, 13.1308, 1)',\n",
       " '6973.0:peakV:13.1898,peak_drt:-1,std[-2]_LH:13.0129/13.0719, std[-2]:(6972.0, 13.0719, 13.0129, -1)',\n",
       " '6985.0:peakV:12.9048,peak_drt:1,std[-2]_LH:13.0129/13.062000000000001, std[-2]:(6984.0, 13.062000000000001, 13.0129, 1)',\n",
       " '6988.0:peakV:13.062000000000001,peak_drt:-1,std[-2]_LH:12.9736/13.0227, std[-2]:(6986.0, 13.0227, 12.9736, -1)',\n",
       " '6993.0:peakV:12.9736,peak_drt:1,std[-2]_LH:13.062000000000001/13.1112, std[-2]:(6990.0, 13.1112, 13.062000000000001, 1)',\n",
       " '7003.0:peakV:13.1407,peak_drt:-1,std[-2]_LH:12.9736/13.0227, std[-2]:(7002.0, 13.0227, 12.9736, -1)',\n",
       " '7015.0:peakV:12.9146,peak_drt:1,std[-2]_LH:13.120999999999999/13.1603, std[-2]:(7014.0, 13.1603, 13.120999999999999, 1)',\n",
       " '7023.0:peakV:13.4945,peak_drt:-1,std[-2]_LH:13.2586/13.3274, std[-2]:(7021.0, 13.3274, 13.2586, -1)',\n",
       " '7032.0:peakV:13.2586,peak_drt:1,std[-2]_LH:13.3569/13.3864, std[-2]:(7030.0, 13.3864, 13.3569, 1)',\n",
       " '7035.0:peakV:13.3864,peak_drt:-1,std[-2]_LH:13.3077/13.3471, std[-2]:(7034.0, 13.3471, 13.3077, -1)',\n",
       " '7040.0:peakV:13.3077,peak_drt:1,std[-2]_LH:13.3372/13.3962, std[-2]:(7036.0, 13.3962, 13.3372, 1)',\n",
       " '7043.0:peakV:13.3962,peak_drt:-1,std[-2]_LH:13.2783/13.2979, std[-2]:(7042.0, 13.2979, 13.2783, -1)',\n",
       " '7052.0:peakV:13.2389,peak_drt:1,std[-2]_LH:13.2979/13.3569, std[-2]:(7050.0, 13.3569, 13.2979, 1)',\n",
       " '7056.0:peakV:13.3569,peak_drt:-1,std[-2]_LH:13.2684/13.3077, std[-2]:(7053.0, 13.3077, 13.2684, -1)',\n",
       " '7069.0:peakV:13.2095,peak_drt:1,std[-2]_LH:13.2586/13.2979, std[-2]:(7068.0, 13.2979, 13.2586, 1)',\n",
       " '7078.0:peakV:13.2979,peak_drt:-1,std[-2]_LH:13.0129/13.120999999999999, std[-2]:(7076.0, 13.120999999999999, 13.0129, -1)',\n",
       " '7087.0:peakV:13.0129,peak_drt:1,std[-2]_LH:13.18/13.2291, std[-2]:(7086.0, 13.2291, 13.18, 1)',\n",
       " '7097.0:peakV:13.2291,peak_drt:-1,std[-2]_LH:13.0227/13.0817, std[-2]:(7095.0, 13.0817, 13.0227, -1)',\n",
       " '7106.0:peakV:13.0129,peak_drt:1,std[-2]_LH:13.1308/13.1996, std[-2]:(7105.0, 13.1996, 13.1308, 1)',\n",
       " '7113.0:peakV:13.4552,peak_drt:-1,std[-2]_LH:13.3372/13.3864, std[-2]:(7112.0, 13.3864, 13.3372, -1)',\n",
       " '7129.0:peakV:13.3176,peak_drt:1,std[-2]_LH:13.3274/13.3569, std[-2]:(7128.0, 13.3569, 13.3274, 1)',\n",
       " '7133.0:peakV:13.3569,peak_drt:-1,std[-2]_LH:13.2783/13.2979, std[-2]:(7132.0, 13.2979, 13.2783, -1)',\n",
       " '7141.0:peakV:13.2095,peak_drt:1,std[-2]_LH:13.2684/13.2979, std[-2]:(7140.0, 13.2979, 13.2684, 1)',\n",
       " '7150.0:peakV:13.3864,peak_drt:-1,std[-2]_LH:13.3077/13.3372, std[-2]:(7149.0, 13.3372, 13.3077, -1)',\n",
       " '7161.0:peakV:13.1603,peak_drt:1,std[-2]_LH:13.2095/13.2586, std[-2]:(7160.0, 13.2586, 13.2095, 1)',\n",
       " '7168.0:peakV:13.2586,peak_drt:-1,std[-2]_LH:13.1701/13.2193, std[-2]:(7167.0, 13.2193, 13.1701, -1)',\n",
       " '7183.0:peakV:13.1603,peak_drt:1,std[-2]_LH:13.8876/14.0842, std[-2]:(7181.0, 14.0842, 13.8876, 1)',\n",
       " '7187.0:peakV:14.0842,peak_drt:-1,std[-2]_LH:13.7304/13.7992, std[-2]:(7186.0, 13.7992, 13.7304, -1)',\n",
       " '7191.0:peakV:13.7304,peak_drt:1,std[-2]_LH:13.8188/13.868, std[-2]:(7188.0, 13.868, 13.8188, 1)',\n",
       " '7194.0:peakV:13.868,peak_drt:-1,std[-2]_LH:13.75/13.7992, std[-2]:(7192.0, 13.7992, 13.75, -1)',\n",
       " '7206.0:peakV:13.75,peak_drt:1,std[-2]_LH:13.9564/14.0252, std[-2]:(7204.0, 14.0252, 13.9564, 1)',\n",
       " '7213.0:peakV:14.0252,peak_drt:-1,std[-2]_LH:13.7009/13.7992, std[-2]:(7210.0, 13.7992, 13.7009, -1)',\n",
       " '7220.0:peakV:13.7009,peak_drt:1,std[-2]_LH:13.8188/13.8581, std[-2]:(7217.0, 13.8581, 13.8188, 1)',\n",
       " '7233.0:peakV:13.9073,peak_drt:-1,std[-2]_LH:13.7795/13.8287, std[-2]:(7231.0, 13.8287, 13.7795, -1)',\n",
       " '7244.0:peakV:13.7304,peak_drt:1,std[-2]_LH:13.7402/13.7893, std[-2]:(7243.0, 13.7893, 13.7402, 1)',\n",
       " '7249.0:peakV:13.7893,peak_drt:-1,std[-2]_LH:13.2783/13.4257, std[-2]:(7248.0, 13.4257, 13.2783, -1)',\n",
       " '7256.0:peakV:13.2783,peak_drt:1,std[-2]_LH:13.75/13.8581, std[-2]:(7255.0, 13.8581, 13.75, 1)',\n",
       " '7258.0:peakV:13.8581,peak_drt:-1,std[-2]_LH:13.7205/13.809000000000001, std[-2]:(7257.0, 13.809000000000001, 13.7205, -1)',\n",
       " '7269.0:peakV:13.7205,peak_drt:1,std[-2]_LH:13.8975/14.0056, std[-2]:(7265.0, 14.0056, 13.8975, 1)',\n",
       " '7280.0:peakV:14.0842,peak_drt:-1,std[-2]_LH:13.9761/14.0351, std[-2]:(7278.0, 14.0351, 13.9761, -1)',\n",
       " '7287.0:peakV:13.9761,peak_drt:1,std[-2]_LH:14.0351/14.0744, std[-2]:(7284.0, 14.0744, 14.0351, 1)',\n",
       " '7303.0:peakV:14.379000000000001,peak_drt:-1,std[-2]_LH:14.0547/14.152999999999999, std[-2]:(7302.0, 14.152999999999999, 14.0547, -1)',\n",
       " '7312.0:peakV:14.0547,peak_drt:1,std[-2]_LH:14.212/14.2709, std[-2]:(7311.0, 14.2709, 14.212, 1)',\n",
       " '7316.0:peakV:14.2709,peak_drt:-1,std[-2]_LH:14.1432/14.1825, std[-2]:(7314.0, 14.1825, 14.1432, -1)',\n",
       " '7321.0:peakV:14.1432,peak_drt:1,std[-2]_LH:14.2218/14.3102, std[-2]:(7318.0, 14.3102, 14.2218, 1)',\n",
       " '7331.0:peakV:14.3102,peak_drt:-1,std[-2]_LH:14.1825/14.2218, std[-2]:(7328.0, 14.2218, 14.1825, -1)',\n",
       " '7333.0:peakV:14.1825,peak_drt:1,std[-2]_LH:14.2218/14.2611, std[-2]:(7332.0, 14.2611, 14.2218, 1)',\n",
       " '7335.0:peakV:14.2611,peak_drt:-1,std[-2]_LH:14.1923/14.2218, std[-2]:(7334.0, 14.2218, 14.1923, -1)',\n",
       " '7337.0:peakV:14.1923,peak_drt:1,std[-2]_LH:14.3299/14.4675, std[-2]:(7336.0, 14.4675, 14.3299, 1)',\n",
       " '7343.0:peakV:14.4675,peak_drt:-1,std[-2]_LH:14.2906/14.3496, std[-2]:(7342.0, 14.3496, 14.2906, -1)',\n",
       " '7370.0:peakV:13.6714,peak_drt:1,std[-2]_LH:14.0056/14.0351, std[-2]:(7368.0, 14.0351, 14.0056, 1)',\n",
       " '7378.0:peakV:14.1333,peak_drt:-1,std[-2]_LH:14.0252/14.0645, std[-2]:(7376.0, 14.0645, 14.0252, -1)',\n",
       " '7381.0:peakV:14.0252,peak_drt:1,std[-2]_LH:14.1039/14.152999999999999, std[-2]:(7379.0, 14.152999999999999, 14.1039, 1)',\n",
       " '7386.0:peakV:14.152999999999999,peak_drt:-1,std[-2]_LH:14.094000000000001/14.1235, std[-2]:(7384.0, 14.1235, 14.094000000000001, -1)',\n",
       " '7389.0:peakV:14.094000000000001,peak_drt:1,std[-2]_LH:14.1333/14.1923, std[-2]:(7387.0, 14.1923, 14.1333, 1)',\n",
       " '7393.0:peakV:14.1923,peak_drt:-1,std[-2]_LH:14.0547/14.1333, std[-2]:(7392.0, 14.1333, 14.0547, -1)',\n",
       " '7418.0:peakV:13.9073,peak_drt:1,std[-2]_LH:13.9957/14.0351, std[-2]:(7417.0, 14.0351, 13.9957, 1)',\n",
       " '7426.0:peakV:14.0351,peak_drt:-1,std[-2]_LH:13.9466/13.9663, std[-2]:(7423.0, 13.9663, 13.9466, -1)',\n",
       " '7428.0:peakV:13.9466,peak_drt:1,std[-2]_LH:13.9663/13.9957, std[-2]:(7427.0, 13.9957, 13.9663, 1)',\n",
       " '7434.0:peakV:13.9957,peak_drt:-1,std[-2]_LH:13.9073/13.9466, std[-2]:(7431.0, 13.9466, 13.9073, -1)',\n",
       " '7445.0:peakV:13.8975,peak_drt:1,std[-2]_LH:14.1039/14.1727, std[-2]:(7443.0, 14.1727, 14.1039, 1)',\n",
       " '7454.0:peakV:14.1727,peak_drt:-1,std[-2]_LH:13.9761/14.0154, std[-2]:(7450.0, 14.0154, 13.9761, -1)',\n",
       " '7459.0:peakV:13.9761,peak_drt:1,std[-2]_LH:14.0154/14.0449, std[-2]:(7458.0, 14.0449, 14.0154, 1)',\n",
       " '7469.0:peakV:14.0449,peak_drt:-1,std[-2]_LH:13.9269/13.9564, std[-2]:(7468.0, 13.9564, 13.9269, -1)',\n",
       " '7489.0:peakV:13.8581,peak_drt:1,std[-2]_LH:13.8778/13.9761, std[-2]:(7488.0, 13.9761, 13.8778, 1)',\n",
       " '7497.0:peakV:13.9761,peak_drt:-1,std[-2]_LH:13.6911/13.75, std[-2]:(7491.0, 13.75, 13.6911, -1)',\n",
       " '7503.0:peakV:13.6911,peak_drt:1,std[-2]_LH:13.75/13.7795, std[-2]:(7502.0, 13.7795, 13.75, 1)',\n",
       " '7506.0:peakV:13.7795,peak_drt:-1,std[-2]_LH:13.6812/13.7107, std[-2]:(7504.0, 13.7107, 13.6812, -1)',\n",
       " '7523.0:peakV:13.6026,peak_drt:1,std[-2]_LH:13.6714/13.6911, std[-2]:(7518.0, 13.6911, 13.6714, 1)',\n",
       " '7525.0:peakV:13.6911,peak_drt:-1,std[-2]_LH:13.6419/13.6812, std[-2]:(7524.0, 13.6812, 13.6419, -1)',\n",
       " '7528.0:peakV:13.6419,peak_drt:1,std[-2]_LH:13.7402/13.7893, std[-2]:(7527.0, 13.7893, 13.7402, 1)',\n",
       " '7533.0:peakV:13.7893,peak_drt:-1,std[-2]_LH:13.6714/13.7107, std[-2]:(7530.0, 13.7107, 13.6714, -1)',\n",
       " '7536.0:peakV:13.6714,peak_drt:1,std[-2]_LH:13.7107/13.7402, std[-2]:(7534.0, 13.7402, 13.7107, 1)',\n",
       " '7550.0:peakV:13.7402,peak_drt:-1,std[-2]_LH:13.5338/13.5633, std[-2]:(7547.0, 13.5633, 13.5338, -1)',\n",
       " '7552.0:peakV:13.5338,peak_drt:1,std[-2]_LH:13.5829/13.6321, std[-2]:(7551.0, 13.6321, 13.5829, 1)',\n",
       " '7559.0:peakV:13.6321,peak_drt:-1,std[-2]_LH:13.5436/13.5829, std[-2]:(7557.0, 13.5829, 13.5436, -1)',\n",
       " '7563.0:peakV:13.5436,peak_drt:1,std[-2]_LH:13.5928/13.6124, std[-2]:(7562.0, 13.6124, 13.5928, 1)',\n",
       " '7565.0:peakV:13.6124,peak_drt:-1,std[-2]_LH:13.5535/13.5731, std[-2]:(7564.0, 13.5731, 13.5535, -1)',\n",
       " '7573.0:peakV:13.5535,peak_drt:1,std[-2]_LH:13.7795/13.8188, std[-2]:(7572.0, 13.8188, 13.7795, 1)',\n",
       " '7576.0:peakV:13.8188,peak_drt:-1,std[-2]_LH:13.75/13.7697, std[-2]:(7574.0, 13.7697, 13.75, -1)',\n",
       " '7582.0:peakV:13.75,peak_drt:1,std[-2]_LH:13.7893/13.868, std[-2]:(7579.0, 13.868, 13.7893, 1)',\n",
       " '7586.0:peakV:13.868,peak_drt:-1,std[-2]_LH:13.3176/13.4552, std[-2]:(7584.0, 13.4552, 13.3176, -1)',\n",
       " '7597.0:peakV:13.3176,peak_drt:1,std[-2]_LH:13.524000000000001/13.5928, std[-2]:(7595.0, 13.5928, 13.524000000000001, 1)',\n",
       " '7604.0:peakV:13.5928,peak_drt:-1,std[-2]_LH:13.5043/13.5436, std[-2]:(7602.0, 13.5436, 13.5043, -1)',\n",
       " '7609.0:peakV:13.5043,peak_drt:1,std[-2]_LH:13.5535/13.5731, std[-2]:(7607.0, 13.5731, 13.5535, 1)',\n",
       " '7620.0:peakV:13.6517,peak_drt:-1,std[-2]_LH:13.5338/13.5633, std[-2]:(7617.0, 13.5633, 13.5338, -1)',\n",
       " '7637.0:peakV:13.4552,peak_drt:1,std[-2]_LH:13.7304/13.7893, std[-2]:(7636.0, 13.7893, 13.7304, 1)',\n",
       " '7640.0:peakV:13.7893,peak_drt:-1,std[-2]_LH:13.7107/13.7304, std[-2]:(7638.0, 13.7304, 13.7107, -1)',\n",
       " '7645.0:peakV:13.7107,peak_drt:1,std[-2]_LH:13.809000000000001/13.8483, std[-2]:(7643.0, 13.8483, 13.809000000000001, 1)',\n",
       " '7659.0:peakV:13.8876,peak_drt:-1,std[-2]_LH:13.7893/13.809000000000001, std[-2]:(7658.0, 13.809000000000001, 13.7893, -1)',\n",
       " '7675.0:peakV:13.6911,peak_drt:1,std[-2]_LH:13.7205/13.7697, std[-2]:(7673.0, 13.7697, 13.7205, 1)',\n",
       " '7695.0:peakV:13.9269,peak_drt:-1,std[-2]_LH:13.7009/13.7402, std[-2]:(7693.0, 13.7402, 13.7009, -1)',\n",
       " '7705.0:peakV:13.6911,peak_drt:1,std[-2]_LH:13.7893/13.8287, std[-2]:(7703.0, 13.8287, 13.7893, 1)',\n",
       " '7710.0:peakV:13.8287,peak_drt:-1,std[-2]_LH:13.7402/13.7697, std[-2]:(7709.0, 13.7697, 13.7402, -1)',\n",
       " '7714.0:peakV:13.7402,peak_drt:1,std[-2]_LH:13.809000000000001/13.8385, std[-2]:(7713.0, 13.8385, 13.809000000000001, 1)',\n",
       " '7717.0:peakV:13.8385,peak_drt:-1,std[-2]_LH:13.7893/13.809000000000001, std[-2]:(7715.0, 13.809000000000001, 13.7893, -1)',\n",
       " '7739.0:peakV:13.5829,peak_drt:1,std[-2]_LH:13.6714/13.7009, std[-2]:(7738.0, 13.7009, 13.6714, 1)',\n",
       " '7749.0:peakV:13.9859,peak_drt:-1,std[-2]_LH:13.8778/13.9073, std[-2]:(7748.0, 13.9073, 13.8778, -1)',\n",
       " '7756.0:peakV:13.8778,peak_drt:1,std[-2]_LH:13.9171/13.9466, std[-2]:(7754.0, 13.9466, 13.9171, 1)',\n",
       " '7758.0:peakV:13.9466,peak_drt:-1,std[-2]_LH:13.8975/13.9171, std[-2]:(7757.0, 13.9171, 13.8975, -1)',\n",
       " '7772.0:peakV:13.8188,peak_drt:1,std[-2]_LH:14.1333/14.1923, std[-2]:(7768.0, 14.1923, 14.1333, 1)',\n",
       " '7778.0:peakV:14.1923,peak_drt:-1,std[-2]_LH:14.0056/14.1235, std[-2]:(7776.0, 14.1235, 14.0056, -1)',\n",
       " '7788.0:peakV:13.9466,peak_drt:1,std[-2]_LH:13.9859/14.0252, std[-2]:(7786.0, 14.0252, 13.9859, 1)',\n",
       " '7793.0:peakV:14.0252,peak_drt:-1,std[-2]_LH:13.9171/13.9466, std[-2]:(7789.0, 13.9466, 13.9171, -1)',\n",
       " '7796.0:peakV:13.9171,peak_drt:1,std[-2]_LH:13.9564/14.0351, std[-2]:(7794.0, 14.0351, 13.9564, 1)',\n",
       " '7801.0:peakV:14.0351,peak_drt:-1,std[-2]_LH:13.9073/13.9466, std[-2]:(7797.0, 13.9466, 13.9073, -1)',\n",
       " '7803.0:peakV:13.9073,peak_drt:1,std[-2]_LH:13.9564/13.9859, std[-2]:(7802.0, 13.9859, 13.9564, 1)',\n",
       " '7814.0:peakV:13.9859,peak_drt:-1,std[-2]_LH:13.7599/13.809000000000001, std[-2]:(7812.0, 13.809000000000001, 13.7599, -1)',\n",
       " '7822.0:peakV:13.6812,peak_drt:1,std[-2]_LH:13.7992/13.8385, std[-2]:(7820.0, 13.8385, 13.7992, 1)',\n",
       " '7825.0:peakV:13.8385,peak_drt:-1,std[-2]_LH:13.6911/13.7304, std[-2]:(7824.0, 13.7304, 13.6911, -1)',\n",
       " '7830.0:peakV:13.6911,peak_drt:1,std[-2]_LH:14.0056/14.1039, std[-2]:(7829.0, 14.1039, 14.0056, 1)',\n",
       " ...]"
      ]
     },
     "execution_count": 7,
     "metadata": {},
     "output_type": "execute_result"
    }
   ],
   "source": [
    "m.m.Lv0_L[10].remark"
   ]
  },
  {
   "cell_type": "code",
   "execution_count": 6,
   "metadata": {},
   "outputs": [
    {
     "data": {
      "text/plain": [
       "StdK(14.0, 9.1234, 9.075, -1)"
      ]
     },
     "execution_count": 6,
     "metadata": {},
     "output_type": "execute_result"
    }
   ],
   "source": [
    "m.m.Lv0_L[0].std_k_bar_stack[-2]"
   ]
  },
  {
   "cell_type": "code",
   "execution_count": 9,
   "metadata": {},
   "outputs": [
    {
     "data": {
      "text/plain": [
       "[[9.3459, 9.3653, 9.2782, 9.2782, 0.0],\n",
       " [9.2782, 9.2782, 9.2492, 9.2685, 1.0],\n",
       " [9.2685, 9.2685, 9.2105, 9.2395, 2.0],\n",
       " [9.2395, 9.2395, 9.1331, 9.1911, 3.0],\n",
       " [9.1911, 9.2105, 9.1814, 9.1814, 4.0],\n",
       " [9.1814, 9.1911, 9.1621, 9.1814, 5.0],\n",
       " [9.1814, 9.1911, 9.1621, 9.1911, 6.0],\n",
       " [9.1911, 9.2008, 9.1814, 9.1814, 7.0],\n",
       " [9.1814, 9.1911, 9.1718, 9.1814, 8.0],\n",
       " [9.1814, 9.2008, 9.1718, 9.1814, 9.0],\n",
       " [9.1814, 9.1911, 9.1718, 9.1718, 10.0],\n",
       " [9.1718, 9.1814, 9.1427, 9.1427, 11.0],\n",
       " [9.1427, 9.1524, 9.1234, 9.1427, 12.0],\n",
       " [9.1427, 9.1427, 9.0847, 9.0847, 13.0],\n",
       " [9.0847, 9.1331, 9.075, 9.1137, 14.0],\n",
       " [9.1137, 9.1234, 9.104, 9.104, 15.0],\n",
       " [9.104, 9.1427, 9.104, 9.1234, 16.0],\n",
       " [9.1234, 9.1427, 9.1137, 9.1234, 17.0],\n",
       " [9.1234, 9.1331, 9.0944, 9.104, 18.0],\n",
       " [9.104, 9.1137, 9.0847, 9.0944, 19.0]]"
      ]
     },
     "execution_count": 9,
     "metadata": {},
     "output_type": "execute_result"
    }
   ],
   "source": [
    "m.dt[:20]"
   ]
  },
  {
   "cell_type": "code",
   "execution_count": 10,
   "metadata": {},
   "outputs": [
    {
     "data": {
      "text/plain": [
       "[Stick(drt:1, lv:0, Point(0.0, 9.3459, 0)),\n",
       " Stick(drt:-1, lv:0, Point(7.0, 9.2008, -1)),\n",
       " Stick(drt:1, lv:0, Point(14.0, 9.075, 1)),\n",
       " Stick(drt:-1, lv:0, Point(23.0, 9.1427, -1)),\n",
       " Stick(drt:1, lv:0, Point(37.0, 9.0363, 1))]"
      ]
     },
     "execution_count": 10,
     "metadata": {},
     "output_type": "execute_result"
    }
   ],
   "source": [
    "m.m.Lv0_L[:5]"
   ]
  },
  {
   "cell_type": "code",
   "execution_count": 17,
   "metadata": {},
   "outputs": [
    {
     "data": {
      "text/plain": [
       "36946"
      ]
     },
     "execution_count": 17,
     "metadata": {},
     "output_type": "execute_result"
    }
   ],
   "source": [
    "len(m.m.dt)"
   ]
  },
  {
   "cell_type": "code",
   "execution_count": 13,
   "metadata": {},
   "outputs": [],
   "source": [
    "ll.clear()"
   ]
  },
  {
   "cell_type": "code",
   "execution_count": 14,
   "metadata": {},
   "outputs": [
    {
     "data": {
      "text/plain": [
       "[]"
      ]
     },
     "execution_count": 14,
     "metadata": {},
     "output_type": "execute_result"
    }
   ],
   "source": [
    "ll"
   ]
  },
  {
   "cell_type": "code",
   "execution_count": null,
   "metadata": {},
   "outputs": [],
   "source": []
  },
  {
   "cell_type": "code",
   "execution_count": null,
   "metadata": {},
   "outputs": [],
   "source": [
    "class Pattern01(PatternPair):\n",
    "    \n",
    "    def calChart(self):\n",
    "        fd0 = self.obj_list[0].calFeatures()\n",
    "        fd1 = self.obj_list[1].calFeatures()\n",
    "        \n",
    "        is_flag0 = self.is_flag(fd0)\n",
    "        \n",
    "        is_flag1 = self.is_flag(fd1)\n",
    "        is_synthetic = eq(choose(fd0, 'drt'), choose(fd1, 'drt'))\n",
    "        is_move = self.real_move(fd0, fd1)\n",
    "        little_flag = le(choose(fd1, 'a'), 0.5)\n",
    "        \n",
    "        r = All([is_flag0, is_flag1, is_synthetic, is_move, little_flag])\n",
    "        v = NodeVisitor()\n",
    "        return v.evaluate(r)      \n",
    "\n",
    "\n",
    "         "
   ]
  },
  {
   "cell_type": "markdown",
   "metadata": {},
   "source": [
    "## ricequant csv导入"
   ]
  },
  {
   "cell_type": "code",
   "execution_count": null,
   "metadata": {},
   "outputs": [],
   "source": [
    "dt_df['TmIdx'] = list(range(0,dt_df.shape[0]))"
   ]
  },
  {
   "cell_type": "code",
   "execution_count": null,
   "metadata": {},
   "outputs": [],
   "source": [
    "dt_df.head()"
   ]
  },
  {
   "cell_type": "markdown",
   "metadata": {},
   "source": [
    "#### get data list"
   ]
  },
  {
   "cell_type": "code",
   "execution_count": null,
   "metadata": {},
   "outputs": [],
   "source": [
    "dt = dt_df[['open','high','low','close','TmIdx']].values.tolist()\n",
    "#idx = dt_df[['datetime','TmIdx']]\n",
    "#idx['date_str'] = idx.loc[:,'datetime'].apply(lambda x:x.strftime('%m-%d %H:%M'))"
   ]
  },
  {
   "cell_type": "markdown",
   "metadata": {},
   "source": [
    "### Get 属性数据"
   ]
  },
  {
   "cell_type": "markdown",
   "metadata": {},
   "source": [
    "### 对象预处理"
   ]
  },
  {
   "cell_type": "code",
   "execution_count": null,
   "metadata": {},
   "outputs": [],
   "source": [
    "filepath = 'event_config.json'\n",
    "ef = EventFactory(filepath)"
   ]
  },
  {
   "cell_type": "code",
   "execution_count": null,
   "metadata": {},
   "outputs": [],
   "source": [
    "m = Market(stockID, 4)\n",
    "Stick.mm = m\n",
    "Trend.m = m\n",
    "Trend.ef = ef\n",
    "Pair.m = m\n",
    "PairChain.m = m\n",
    "PairChain.ef = ef\n",
    "CenterStrict.m = m\n",
    "Signal001.m = m\n",
    "Signal001.ef = ef"
   ]
  },
  {
   "cell_type": "code",
   "execution_count": null,
   "metadata": {},
   "outputs": [],
   "source": [
    "Signal001.L = m.SIG_L\n",
    "Signal001()"
   ]
  },
  {
   "cell_type": "code",
   "execution_count": null,
   "metadata": {},
   "outputs": [],
   "source": [
    "Stick.L = m.Lv0_L\n",
    "Stick('init', k_bar=dt[0])"
   ]
  },
  {
   "cell_type": "code",
   "execution_count": null,
   "metadata": {},
   "outputs": [],
   "source": [
    "TrendLv1 = type('TrendLv1', (Trend,), {'L':m.Lv1_L, 'ML':Stick.L, 'level':1}) \n",
    "TrendLv1('init', k_bar=dt[0], mp=[0])\n",
    "TrendLv2 = type('TrendLv2', (Trend,), {'L':m.Lv2_L, 'ML':TrendLv1.L, 'level':2}) \n",
    "TrendLv2('init', k_bar=dt[0], mp=[0])\n",
    "TrendLv3 = type('TrendLv3', (Trend,), {'L':m.Lv3_L, 'ML':TrendLv2.L, 'level':3}) \n",
    "TrendLv3('init', k_bar=dt[0], mp=[0])"
   ]
  },
  {
   "cell_type": "code",
   "execution_count": null,
   "metadata": {},
   "outputs": [],
   "source": [
    "\n",
    "Center0 = type('Center0', (CenterStrict,), {'ML': m.findList('st', 0), 'L': m.findList('center', 0), 'openL':[],  'level': 0})\n",
    "Center0()\n",
    "Center1 = type('Center1', (CenterStrict,), {'ML': m.findList('st', 1), 'L': m.findList('center', 1), 'openL':[],  'level': 1})\n",
    "Center1()\n",
    "Center2 = type('Center2', (CenterStrict,), {'ML': m.findList('st', 2), 'L': m.findList('center', 2), 'openL':[],  'level': 2})\n",
    "Center2()\n",
    "Center3 = type('Center3', (CenterStrict,), {'ML': m.findList('st', 3), 'L': m.findList('center', 3), 'openL':[],  'level': 3})\n",
    "Center3()"
   ]
  },
  {
   "cell_type": "code",
   "execution_count": null,
   "metadata": {},
   "outputs": [],
   "source": [
    "PairLv0 = type('PairLv0', (Pair,), {'ML': m.findList('st', 0), 'L': m.findList('pair', 0), 'level': 0})\n",
    "PairLv0(0)\n",
    "PairLv1 = type('PairLv1', (Pair,), {'ML': m.findList('st', 1), 'L': m.findList('pair', 1), 'level': 1})\n",
    "PairLv1(0)\n",
    "PairLv2 = type('PairLv2', (Pair,), {'ML': m.findList('st', 2), 'L': m.findList('pair', 2), 'level': 2})\n",
    "PairLv2(0)\n",
    "PairLv3 = type('PairLv3', (Pair,), {'ML': m.findList('st', 3), 'L': m.findList('pair', 3), 'level': 3})\n",
    "PairLv3(0)\n",
    "PairChainLv0 = PairChain(0, 'PairChainLv0')\n",
    "PairChainLv1 = PairChain(1,'PairChainLv1')\n",
    "PairChainLv2 = PairChain(2, 'PairChainLv2')\n",
    "PairChainLv3 = PairChain(3, 'PairChainLv3')"
   ]
  },
  {
   "cell_type": "code",
   "execution_count": null,
   "metadata": {},
   "outputs": [],
   "source": [
    "SIG_overlapMv.m, SIG_overlapMv.ef = m, ef\n",
    "actions = []\n",
    "level = 3\n",
    "actions.append({ 'level_num': level, \n",
    "            'obj_name': 'TrendLv' +str(int(level)),\n",
    "            'event_name': 'NEW',\n",
    "            'obj_p': 'SIG_overlapMv',\n",
    "            'method': 'any_opp',\n",
    "            'param': str(level)  })\n",
    "for ac in actions:\n",
    "    ef.regAction(**ac)"
   ]
  },
  {
   "cell_type": "code",
   "execution_count": null,
   "metadata": {},
   "outputs": [],
   "source": [
    "Position.m = m\n",
    "Position.L = m.position"
   ]
  },
  {
   "cell_type": "code",
   "execution_count": null,
   "metadata": {},
   "outputs": [],
   "source": [
    "len(SIG_overlapMv.L) #59  # is_wiped 之后只剩8个  #cross Center 收紧到0.25 55个\n",
    "# 中信只有37"
   ]
  },
  {
   "cell_type": "code",
   "execution_count": null,
   "metadata": {},
   "outputs": [],
   "source": [
    "ll = m.findList('center', 0)\n",
    "centerL = []\n",
    "for cc in ll[::-1]:\n",
    "    if cc.TmE < 10323:\n",
    "        break\n",
    "    if cc.TmS < 10323 <= cc.TmE:\n",
    "        centerL.append(cc)\n",
    "centerL"
   ]
  },
  {
   "cell_type": "code",
   "execution_count": null,
   "metadata": {},
   "outputs": [],
   "source": [
    "time_start=time.time()\n",
    "lll = [l.TmS for l in m.CLv0_L[::-1] if l.TmS < 10323 <l.TmE]\n",
    "time_end=time.time()\n",
    "print('totally cost：',time_end-time_start)"
   ]
  },
  {
   "cell_type": "code",
   "execution_count": null,
   "metadata": {},
   "outputs": [],
   "source": [
    "lll"
   ]
  },
  {
   "cell_type": "code",
   "execution_count": null,
   "metadata": {},
   "outputs": [],
   "source": [
    "list0 = [[st.start.TmIdx,st.peak.TmIdx] for st in m.Lv0_L if 10200<st.start.TmIdx<10600]\n",
    "list1 = [st.start.TmIdx for st in m.Lv1_L if 10200<st.start.TmIdx<10600]\n",
    "ll =[]\n",
    "for s,p in list0:\n",
    "    if s in list1 and p in list1:\n",
    "        ll.append(s)"
   ]
  },
  {
   "cell_type": "code",
   "execution_count": null,
   "metadata": {},
   "outputs": [],
   "source": [
    "[[st.start.TmIdx,st.start.V,st.peak.TmIdx,st.peak.V,st.ML[st.mp[st.pp]].start, st.mp[0]] for st in m.Lv1_L if 10200<st.start.TmIdx<10600]"
   ]
  },
  {
   "cell_type": "code",
   "execution_count": null,
   "metadata": {},
   "outputs": [],
   "source": [
    "[[st.start.TmIdx,st.start.V,st.peak.TmIdx,st.peak.V] for st in m.Lv0_L if 10382<st.start.TmIdx<10465]"
   ]
  },
  {
   "cell_type": "code",
   "execution_count": null,
   "metadata": {},
   "outputs": [],
   "source": [
    "dd99 = [[st.start.TmIdx, st.peak.V, st.ML[st.mp[st.pp-1]].peak.V, st.pp] for st in m.Lv1_L if st.peak.V != st.ML[st.mp[st.pp]].start.V]\n",
    "len(dd99)"
   ]
  },
  {
   "cell_type": "code",
   "execution_count": null,
   "metadata": {},
   "outputs": [],
   "source": [
    "dd99"
   ]
  },
  {
   "cell_type": "code",
   "execution_count": null,
   "metadata": {},
   "outputs": [],
   "source": [
    "for i,st in enumerate(m.Lv1_L):\n",
    "    if st.start.TmIdx == 8685:\n",
    "        print(i)\n",
    "        break"
   ]
  },
  {
   "cell_type": "code",
   "execution_count": null,
   "metadata": {},
   "outputs": [],
   "source": [
    "SIG_overlapMv.Fremark"
   ]
  },
  {
   "cell_type": "code",
   "execution_count": null,
   "metadata": {},
   "outputs": [],
   "source": [
    "st = m.Lv1_L[270]\n",
    "st.pp, st.mp"
   ]
  },
  {
   "cell_type": "code",
   "execution_count": null,
   "metadata": {},
   "outputs": [],
   "source": [
    "m.Lv1_L[320].remark"
   ]
  },
  {
   "cell_type": "code",
   "execution_count": null,
   "metadata": {},
   "outputs": [],
   "source": [
    "dd = [[s.TmS, s.drt,s.HTmS, s.HP.drt,s.HP_cc,s.HP_st_len, s.HL_limit,\n",
    " dt_df.iloc[int(s.TmS)].name,dt_df.iloc[int(s.TmS)].close,\n",
    "  dt_df.iloc[int(s.TmS):int(s.TmS)+480]['low'].min(), dt_df.iloc[int(s.TmS):int(s.TmS)+480]['high'].max()] for s in m.SIG_L[2:]]"
   ]
  },
  {
   "cell_type": "code",
   "execution_count": null,
   "metadata": {},
   "outputs": [],
   "source": [
    "df_out = pd.DataFrame(dd)\n",
    "df_out.columns = ['TmS', 'sig_drt', 'HTmS','HP.drt','s.HP_cc','s.HP_st_len', 'ccHL', 'Tm', 'V', 'V-min', 'V-max']"
   ]
  },
  {
   "cell_type": "code",
   "execution_count": null,
   "metadata": {},
   "outputs": [],
   "source": [
    "df_out.to_excel('SIG.xlsx')"
   ]
  },
  {
   "cell_type": "code",
   "execution_count": null,
   "metadata": {},
   "outputs": [],
   "source": [
    "m.Lv1_L[94]"
   ]
  },
  {
   "cell_type": "code",
   "execution_count": null,
   "metadata": {},
   "outputs": [],
   "source": [
    "dt_df.iloc[2664].name"
   ]
  },
  {
   "cell_type": "code",
   "execution_count": null,
   "metadata": {},
   "outputs": [],
   "source": [
    "dd=[]\n",
    "dd = [[st.start.TmIdx, st.start.V, st.drt,st.peak.TmIdx, st.end.TmIdx,st.peak.TmIdx - st.start.TmIdx] for st in m.Lv2_L]"
   ]
  },
  {
   "cell_type": "code",
   "execution_count": null,
   "metadata": {},
   "outputs": [],
   "source": [
    "dd=[]\n",
    "dd = [[p.TmS, p.drt, p.S, p.P] for p in m.PCLv2_L[0].cL[0]]\n",
    "dd"
   ]
  },
  {
   "cell_type": "code",
   "execution_count": null,
   "metadata": {},
   "outputs": [],
   "source": [
    "rangeL, rangeH = dt_df[i-w:i+w].TmIdx.values[0], dt_df[i-w:i+w].TmIdx.values[-1]"
   ]
  },
  {
   "cell_type": "code",
   "execution_count": null,
   "metadata": {},
   "outputs": [],
   "source": [
    "rangeL, rangeH"
   ]
  },
  {
   "cell_type": "code",
   "execution_count": null,
   "metadata": {},
   "outputs": [],
   "source": [
    "m.PCLv0_L[0].cL[0][0].__dict__"
   ]
  },
  {
   "cell_type": "code",
   "execution_count": null,
   "metadata": {},
   "outputs": [],
   "source": [
    "df_out = pd.DataFrame(dd)\n",
    "df_out.columns = ['TmS', 'start', 'drt', 'TmP', 'TmE', 'T']\n",
    "df_out['A'] = -df_out.start.diff(-1)"
   ]
  },
  {
   "cell_type": "code",
   "execution_count": null,
   "metadata": {},
   "outputs": [],
   "source": [
    "df_out.to_excel('data_csv\\\\lv2.xlsx')"
   ]
  },
  {
   "cell_type": "code",
   "execution_count": null,
   "metadata": {},
   "outputs": [],
   "source": [
    "list(range(4)).reverse()"
   ]
  },
  {
   "cell_type": "code",
   "execution_count": null,
   "metadata": {},
   "outputs": [],
   "source": [
    "for i in list(range(4))[::-1]:\n",
    "    print(i)"
   ]
  },
  {
   "cell_type": "markdown",
   "metadata": {},
   "source": [
    "### 快照"
   ]
  },
  {
   "cell_type": "code",
   "execution_count": null,
   "metadata": {},
   "outputs": [],
   "source": [
    "dt_df['close'].plot(figsize=(2000/72,800/72))"
   ]
  },
  {
   "cell_type": "markdown",
   "metadata": {},
   "source": [
    "### Matplotlib "
   ]
  },
  {
   "cell_type": "code",
   "execution_count": null,
   "metadata": {},
   "outputs": [],
   "source": [
    "# prepare data\n",
    "y = dt_df['TmIdx'].values.tolist()"
   ]
  },
  {
   "cell_type": "code",
   "execution_count": null,
   "metadata": {},
   "outputs": [],
   "source": [
    "x = dt_df['close'].values.tolist()"
   ]
  },
  {
   "cell_type": "code",
   "execution_count": null,
   "metadata": {},
   "outputs": [],
   "source": [
    "dt = dt_df.iloc[:20]\n",
    "dt = dt[['open', 'high', 'low','close']]\n",
    "dt.index.name = 'Date'"
   ]
  },
  {
   "cell_type": "code",
   "execution_count": null,
   "metadata": {},
   "outputs": [],
   "source": [
    "import matplotlib.dates as mdates\n",
    "import matplotlib.ticker as ticker\n",
    "from matplotlib.collections import PatchCollection\n",
    "from matplotlib.patches import Rectangle\n",
    "from matplotlib.lines import Line2D\n",
    "from datetime import datetime"
   ]
  },
  {
   "cell_type": "code",
   "execution_count": null,
   "metadata": {},
   "outputs": [],
   "source": [
    "def draw_pairs(ax, data_collection, facecolor='r', edgecolor='None', alpha=0.5, marker=False ):\n",
    "    # draw pair stick\n",
    "    for pp in data_collection:\n",
    "        x = [pp.ML[pp.index[0]].start.TmIdx, pp.ML[pp.index[0]].peak.TmIdx]\n",
    "        y = [pp.ML[pp.index[0]].start.V, pp.ML[pp.index[0]].peak.V]\n",
    "        ax.add_line(Line2D(x,y, lw=2, c=facecolor, alpha=alpha))\n",
    "        if marker:\n",
    "            ax.text(x[0],y[0], pp.TmS, c= facecolor)\n",
    "    \n",
    "    # draw rectangle\n",
    "    rect =[ Rectangle((pp.ML[pp.index[0]].peak.TmIdx, pp.ccHL[2]),\n",
    "                      pp.ML[pp.index[-1]].peak.TmIdx - pp.ML[pp.index[0]].peak.TmIdx, pp.ccHL[3] - pp.ccHL[2])\n",
    "           for pp in data_collection]\n",
    "    pc = PatchCollection(rect, facecolor=facecolor, alpha=0.5, edgecolor=edgecolor)\n",
    "    ax.add_collection(pc)  \n",
    "    if marker:\n",
    "        for pp in data_collection:\n",
    "            ax.text(pp.ML[pp.index[0]].peak.TmIdx, pp.ccHL[2], pp.ccHL[2], c='r')\n",
    "            ax.text(pp.ML[pp.index[0]].peak.TmIdx, pp.ccHL[3], pp.ccHL[3], c='r')\n",
    "    \n",
    "    return None\n"
   ]
  },
  {
   "cell_type": "code",
   "execution_count": null,
   "metadata": {},
   "outputs": [],
   "source": [
    "def draw_trends(ax, data_collection, linecolor='crimson',  lw=0.5, alpha = None, marker=False ):\n",
    "    x = [pp.start.TmIdx for pp in data_collection]\n",
    "    y = [pp.start.V for pp in data_collection]\n",
    "    ax.add_line(Line2D(x,y, linewidth=lw, color=linecolor, alpha=alpha))\n",
    "    if marker:\n",
    "        for st in data_collection:\n",
    "            ax.text(st.start.TmIdx, st.start.V, st.start, c='navy')\n",
    "    return None"
   ]
  },
  {
   "cell_type": "code",
   "execution_count": null,
   "metadata": {},
   "outputs": [],
   "source": [
    "def draw_center(ax, data_collection, facecolor='r', edgecolor='None', lw=0.5, alpha = None):\n",
    "     # draw rectangle\n",
    "    rect =[ Rectangle((cc.TmS, cc.L), cc.TmE - cc.TmS, cc.H - cc.L)\n",
    "           for cc in data_collection]\n",
    "    pc = PatchCollection(rect, facecolor=facecolor, alpha=0.2, edgecolor=edgecolor)\n",
    "    ax.add_collection(pc) \n",
    "    return None"
   ]
  },
  {
   "cell_type": "code",
   "execution_count": null,
   "metadata": {},
   "outputs": [],
   "source": [
    "# 画放大图\n",
    "# Input: dt_df, \n",
    "#        [s_idx: e_idx], \n",
    "def detial_fig(dt_df, s_idx, e_idx):\n",
    "\n",
    "    ## 拼接 x_label\n",
    "    dt_df['label2'] = dt_df.index\n",
    "    dt_df['label'] = dt_df['label2'].apply(lambda x: x.strftime(\"%m/%d %H\"))\n",
    "    dt_df['label'] = dt_df['TmIdx'].astype('str').str.cat(dt_df['label'], sep=' ')\n",
    "    dt_df.drop(['label2'],axis=1, inplace=True)\n",
    "\n",
    "    ## x_label 转换函数\n",
    "    x_fmt = dt_df['label'].values.tolist()\n",
    "    def format_date(x,pos=None):   \n",
    "        x = int(x)\n",
    "        if x<0 or x>len(x_fmt)-1:\n",
    "            return ''\n",
    "        return x_fmt[x]\n",
    "\n",
    "    ## 底图数据 by [s_idx: e_idx]\n",
    "    x = [s_idx, e_idx]\n",
    "    y = [dt_df.iloc[s_idx:e_idx].high.max(), dt_df.iloc[s_idx:e_idx].low.min()]\n",
    "    print(x,y)\n",
    "    \n",
    "    ## draw\n",
    "    fig, ax = plt.subplots(figsize=(6000/300, 2400/300), dpi=300)\n",
    "    \n",
    "    #=== 底图设置\n",
    "    ax.xaxis.set_major_formatter(ticker.FuncFormatter(format_date))\n",
    "    ax.xaxis.set_major_locator(ticker.MultipleLocator(int((e_idx-s_idx)/10)))\n",
    "    ax.plot(x, y, alpha=0)\n",
    "    \n",
    "    #=== \n",
    "    Lv0_list = [st for st in m.Lv0_L if s_idx<st.peak.TmIdx<=e_idx]\n",
    "    draw_trends(ax, Lv0_list)\n",
    "    Lv1_list = [st for st in m.Lv1_L if s_idx<st.peak.TmIdx<=e_idx]\n",
    "    draw_trends(ax, Lv1_list, linecolor='b',alpha = 0.8, marker=True)\n",
    "    Lv2_list = [st for st in m.Lv2_L if s_idx<st.peak.TmIdx<=e_idx]\n",
    "    draw_trends(ax, Lv2_list, linecolor='indigo', lw=2, alpha = 0.8)\n",
    "    \n",
    "    center_list0 = [cc for cc in m.CLv0_L if cc.is_main==10 and s_idx<=cc.TmS and cc.TmE <=e_idx]\n",
    "    draw_center(ax, center_list0)\n",
    "    center_list1 = [cc for cc in m.CLv1_L if cc.is_main==10 and s_idx<=cc.TmS and cc.TmE <=e_idx]\n",
    "    draw_center(ax, center_list1, facecolor='turquoise')\n",
    "    \n",
    "    center_list2 = [cc for cc in m.CLv2_L if s_idx<=cc.TmS and cc.TmE <=e_idx]\n",
    "    #draw_center(ax, center_list2,  facecolor='indigo')\n",
    "    \n",
    "    sig_list =[ss for ss in SIG_overlapMv.L if s_idx<=ss.TmInit <=e_idx]\n",
    "    for ss in sig_list:\n",
    "        #ax.text(ss.TmInit, ss.sigV+1, ss.remark)\n",
    "        ax.annotate(ss.remark.split(',')[0], xy=(ss.TmInit, ss.sigV), xytext=(ss.TmInit, ss.sigV+2),\n",
    "                arrowprops=dict(facecolor='black',headwidth=2,headlength=2, shrink=0.05, width=0.5),\n",
    "                )\n",
    "    \n",
    "    fig.autofmt_xdate()\n",
    "    plt.savefig('图{}细节-{}-{}.png'.format(stockID,str(int(s_idx)), str(int(e_idx))))\n",
    "    "
   ]
  },
  {
   "cell_type": "code",
   "execution_count": null,
   "metadata": {},
   "outputs": [],
   "source": [
    "# 全景缩略图\n",
    "# Input: dt_df, \n",
    "def overscan_fig(dt_df, stockID):\n",
    "\n",
    "    ## 拼接 x_label\n",
    "    dt_df['label2'] = dt_df.index\n",
    "    dt_df['label'] = dt_df['label2'].apply(lambda x: x.strftime(\"%m/%d %H\"))\n",
    "    dt_df['label'] = dt_df['TmIdx'].astype('str').str.cat(dt_df['label'], sep=' ')\n",
    "    dt_df.drop(['label2'],axis=1, inplace=True)\n",
    "    \n",
    "    x_data = dt_df['label'].values\n",
    "    y_data = dt_df['close'].values\n",
    "\n",
    "    ## x_label 转换函数\n",
    "    x_fmt = dt_df['label'].values.tolist()\n",
    "    def format_date(x,pos=None):   \n",
    "        x = int(x)\n",
    "        if x<0 or x>len(x_fmt)-1:\n",
    "            return ''\n",
    "        return x_fmt[x]\n",
    "    \n",
    "    ## draw\n",
    "    fig, ax = plt.subplots(figsize=(6000/300, 2400/300), dpi=300)\n",
    "    \n",
    "    #=== 底图设置\n",
    "    ax.xaxis.set_major_formatter(ticker.FuncFormatter(format_date))\n",
    "    ax.xaxis.set_major_locator(ticker.MultipleLocator(int((len(x_data))/10)))\n",
    "    ax.plot(x_data, y_data)\n",
    "       \n",
    "    fig.autofmt_xdate()\n",
    "    plt.title(stockID,fontdict=font_dict,loc=loc)\n",
    "    plt.savefig('图{}全景.png'.format(stockID))"
   ]
  },
  {
   "cell_type": "code",
   "execution_count": null,
   "metadata": {},
   "outputs": [],
   "source": [
    "overscan_fig(dt_df, stockID)"
   ]
  },
  {
   "cell_type": "code",
   "execution_count": null,
   "metadata": {},
   "outputs": [],
   "source": [
    "dt_df.iloc[5522].name"
   ]
  },
  {
   "cell_type": "code",
   "execution_count": null,
   "metadata": {},
   "outputs": [],
   "source": [
    "c = '2019-06-26'\n",
    "r = 700\n",
    "\n",
    "c_stp = dt_df[c].index.tolist()[0]\n",
    "c_idx = int(dt_df.loc[c_stp,'TmIdx'])\n",
    "\n",
    "s_idx = int(max(0, c_idx-r))\n",
    "s_stp = dt_df.iloc[int(s_idx),:].name\n",
    "\n",
    "e_idx = int(min(dt_df.shape[0], c_idx+r+1))\n",
    "e_stp = dt_df.iloc[int(e_idx),:].name\n",
    "c_idx, s_idx,s_stp, e_idx, e_stp"
   ]
  },
  {
   "cell_type": "code",
   "execution_count": null,
   "metadata": {
    "scrolled": true
   },
   "outputs": [],
   "source": [
    "s_idx, e_idx =5000,\n",
    "# 绘制全景图\n",
    "# Input: dt_df, \n",
    "#        [s_idx: e_idx], \n",
    "#       对象列表？？ \n",
    "\n",
    "## 拼接 x_label\n",
    "dt_df['label2'] = dt_df.index\n",
    "dt_df['label'] = dt_df['label2'].apply(lambda x: x.strftime(\"%m/%d %H\"))\n",
    "dt_df['label'] = dt_df['TmIdx'].astype('str').str.cat(dt_df['label'], sep=' ')\n",
    "dt_df.drop(['label2'],axis=1, inplace=True)\n",
    "\n",
    "## x_label 转换函数\n",
    "x_fmt = dt_df['label'].values.tolist()\n",
    "def format_date(x,pos=None):   \n",
    "    x = int(x)\n",
    "    if x<0 or x>len(x_fmt)-1:\n",
    "        return ''\n",
    "    return x_fmt[x]\n",
    "\n",
    "## 底图数据 by [s_idx: e_idx]\n",
    "x = [s_idx, e_idx]\n",
    "y = [dt_df.iloc[s_idx:e_idx].high.max(), dt_df.iloc[s_idx:e_idx].low.min()]\n",
    "print(x,y)\n",
    "\n",
    "## draw\n",
    "fig, ax = plt.subplots(figsize=(6000/300, 2400/300), dpi=300)\n",
    "\n",
    "#=== 底图设置\n",
    "ax.xaxis.set_major_formatter(ticker.FuncFormatter(format_date))\n",
    "ax.xaxis.set_major_locator(ticker.MultipleLocator(int((e_idx-s_idx)/10)))\n",
    "ax.plot(x, y, alpha=0)\n",
    "\n",
    "#=== \n",
    "Lv0_list = [st for st in m.Lv0_L if s_idx<st.peak.TmIdx<=e_idx]\n",
    "draw_trends(ax, Lv0_list)\n",
    "Lv1_list = [st for st in m.Lv1_L if s_idx<st.peak.TmIdx<=e_idx]\n",
    "draw_trends(ax, Lv1_list, linecolor='b',alpha = 0.8, marker=False)\n",
    "Lv2_list = [st for st in m.Lv2_L if s_idx<st.peak.TmIdx<=e_idx]\n",
    "draw_trends(ax, Lv2_list, linecolor='indigo', lw=2, alpha = 0.8)\n",
    "\n",
    "center_list0 = [cc for cc in m.CLv0_L if cc.is_main==10 and s_idx<=cc.TmS and cc.TmE <=e_idx]\n",
    "draw_center(ax, center_list0)\n",
    "center_list1 = [cc for cc in m.CLv1_L if cc.is_main==10 and s_idx<=cc.TmS and cc.TmE <=e_idx]\n",
    "draw_center(ax, center_list1, facecolor='turquoise')\n",
    "\n",
    "center_list2 = [cc for cc in m.CLv2_L if s_idx<=cc.TmS and cc.TmE <=e_idx]\n",
    "#draw_center(ax, center_list2,  facecolor='indigo')\n",
    "\n",
    "sig_list =[ss for ss in SIG_overlapMv.L if s_idx<=ss.TmInit <=e_idx]\n",
    "for ss in sig_list:\n",
    "    #ax.text(ss.TmInit, ss.sigV+1, ss.remark)\n",
    "    ax.annotate(ss.remark.split(',')[0], xy=(ss.TmInit, ss.sigV), xytext=(ss.TmInit, ss.sigV+2),\n",
    "            arrowprops=dict(facecolor='black',headwidth=2,headlength=2, shrink=0.05, width=0.5),\n",
    "            )\n",
    "'''\n",
    "pair_list = [pp for pp in m.PLv0_L \n",
    "             if pp.chain_layer == 0 and s_idx<pp.ML[pp.index[0]].peak.TmIdx<e_idx]\n",
    "draw_pairs(ax, pair_list)\n",
    "pair_list1 = [pp for pp in m.PLv1_L \n",
    "             if pp.chain_layer == 0 and s_idx<pp.ML[pp.index[0]].peak.TmIdx<e_idx]\n",
    "draw_pairs(ax, pair_list1, facecolor='turquoise', alpha=0.8)\n",
    "pair_list2 = [pp for pp in m.PLv2_L \n",
    "             if pp.chain_layer == 0 and s_idx<pp.ML[pp.index[0]].peak.TmIdx<e_idx]\n",
    "draw_pairs(ax, pair_list2, facecolor='violet',marker=False, alpha=0.8)\n",
    "'''\n",
    "\n",
    "fig.autofmt_xdate()\n",
    "plt.savefig('图{}-{}_{}.png'.format(stockID, str(int(s_idx)), str(int(e_idx))))"
   ]
  },
  {
   "cell_type": "code",
   "execution_count": null,
   "metadata": {},
   "outputs": [],
   "source": [
    "c = 5600\n",
    "r = 100\n",
    "s_idx, e_idx = c-r, c+r\n",
    "\n",
    "detial_fig(dt_df, s_idx, e_idx)"
   ]
  },
  {
   "cell_type": "code",
   "execution_count": null,
   "metadata": {},
   "outputs": [],
   "source": [
    "for s in SIG_overlapMv.L:\n",
    "    if s.lv_TmS == 10323:\n",
    "        print(s.remark)\n",
    "        break"
   ]
  },
  {
   "cell_type": "code",
   "execution_count": null,
   "metadata": {},
   "outputs": [],
   "source": [
    "#[10323.0, 10367.0, 10419.0]"
   ]
  },
  {
   "cell_type": "code",
   "execution_count": null,
   "metadata": {},
   "outputs": [],
   "source": [
    "for st in m.Lv1_L:\n",
    "    if st.start.TmIdx == 10323:\n",
    "        print(st.start.V, st.peak.V, st.mp[st.pp], st.ML[st.mp[st.pp] - 1].peak, st.ML[st.mp[st.pp]], m.Lv1_L.index(st))\n",
    "        break"
   ]
  },
  {
   "cell_type": "code",
   "execution_count": null,
   "metadata": {},
   "outputs": [],
   "source": [
    "[[st.start.V, st.peak.V] for st in m.Lv0_L[1520:1525]]\n",
    "    "
   ]
  },
  {
   "cell_type": "code",
   "execution_count": null,
   "metadata": {},
   "outputs": [],
   "source": [
    "[st for st in m.Lv3_L if s_idx<st.peak.TmIdx<=13000]"
   ]
  },
  {
   "cell_type": "code",
   "execution_count": null,
   "metadata": {},
   "outputs": [],
   "source": [
    "[[pp.TmS, pp.drt, pp.ccHL[3],pp.ccHL[2]] for pp in m.PLv1_L \n",
    "             if pp.chain_layer == 0 and s_idx<pp.ML[pp.index[0]].peak.TmIdx<11500]"
   ]
  },
  {
   "cell_type": "code",
   "execution_count": null,
   "metadata": {},
   "outputs": [],
   "source": [
    "m.Lv0_L[0].start"
   ]
  },
  {
   "cell_type": "code",
   "execution_count": null,
   "metadata": {},
   "outputs": [],
   "source": [
    "pp = m.PLv0_L[4]"
   ]
  },
  {
   "cell_type": "code",
   "execution_count": null,
   "metadata": {},
   "outputs": [],
   "source": [
    "[( (pp.ML[pp.index[0]].peak.TmIdx, pp.ccHL[2]), \n",
    "  pp.ML[pp.index[-1]].peak.TmIdx - pp.ML[pp.index[0]].peak.TmIdx,\n",
    "  pp.ccHL[3] - pp.ccHL[2]) \n",
    " for pp in m.PLv0_L[1:5]]"
   ]
  },
  {
   "cell_type": "code",
   "execution_count": null,
   "metadata": {},
   "outputs": [],
   "source": [
    "dt_df.iloc[168].name"
   ]
  },
  {
   "cell_type": "code",
   "execution_count": null,
   "metadata": {},
   "outputs": [],
   "source": []
  },
  {
   "cell_type": "code",
   "execution_count": null,
   "metadata": {},
   "outputs": [],
   "source": []
  },
  {
   "cell_type": "code",
   "execution_count": null,
   "metadata": {},
   "outputs": [],
   "source": []
  },
  {
   "cell_type": "code",
   "execution_count": null,
   "metadata": {},
   "outputs": [],
   "source": [
    "fig, ax = plt.subplots(figsize=(1200/72,480/72))\n",
    "\n",
    "# format the ticks\n",
    "tmLabel = dt_df[80:220].index\n",
    "x_idx = dt_df[80:220].TmIdx.values.tolist()\n",
    "x_fmt = [x.strftime(\"%m/%d %H\") for x in tmLabel]\n",
    "\n",
    "def format_date(x,pos=None):   \n",
    "    x = int(x)\n",
    "    if x<0:\n",
    "        return ''\n",
    "    else:\n",
    "        x2 = x_idx.index(x) -x_idx[0]\n",
    "    return x_fmt[x2]\n",
    "\n",
    "ax.xaxis.set_major_formatter(ticker.FuncFormatter(format_date))\n",
    "ax.xaxis.set_major_locator(ticker.MultipleLocator(6))\n",
    "\n",
    "# get xy data\n",
    "x = data_up.TmIdx.values\n",
    "ymin = data_up.open.values\n",
    "ymax = data_up.close.values\n",
    "ax.vlines(x, ymin, ymax, color='r', lw=5)\n",
    "ax.vlines(x, data_up.low.values, data_up.high.values, color='r', lw=1)\n",
    "x = data_down.TmIdx.values\n",
    "ymin = data_down.close.values\n",
    "ymax = data_down.open.values\n",
    "ax.vlines(x, ymin, ymax, color='g', lw=5)\n",
    "ax.vlines(x, data_down.low.values, data_down.high.values, color='g', lw=1)\n",
    "\n",
    "#x = [d[0] for d in dd[:10]]\n",
    "#y = [d[1] for d in dd[:10]]\n",
    "#ax.plot(x, y, color='b')\n",
    "\n",
    "\n",
    "fig.autofmt_xdate()\n",
    "plt.savefig(\"image01.png\")\n",
    "#plt.show()"
   ]
  },
  {
   "cell_type": "code",
   "execution_count": null,
   "metadata": {},
   "outputs": [],
   "source": [
    "def candel_plotter(ax, data_df, i, w):\n",
    "    data = data_df[i-w:i+w]\n",
    "    data_up = data.query('open <= close')\n",
    "    data_down = data.query('open > close')\n",
    "    \n",
    "    x = data_up.TmIdx.values\n",
    "    ax.vlines(x, data_up.open.values, data_up.close.values, color='r', lw=5)\n",
    "    ax.vlines(x, data_up.low.values, data_up.high.values, color='r', lw=1)\n",
    "    x = data_down.TmIdx.values\n",
    "    ax.vlines(x, data_down.close.values, data_down.open.values, color='g', lw=5)\n",
    "    ax.vlines(x, data_down.low.values, data_down.high.values, color='g', lw=1)\n",
    "    \n",
    "    #out = ax.plot(data1, data2, **param_dict)\n",
    "    return None"
   ]
  },
  {
   "cell_type": "code",
   "execution_count": null,
   "metadata": {},
   "outputs": [],
   "source": [
    "i, w = 10000,50\n",
    "fig, ax = plt.subplots(1, 1,figsize=(1200/72,480/72))\n",
    "\n",
    "# format the ticks\n",
    "tmLabel = dt_df[i-w-int(w*0.3):i+w+int(w*0.3)].index\n",
    "x_idx = dt_df[i-w-int(w*0.3):i+w+int(w*0.3)].TmIdx.values.tolist()\n",
    "x_fmt = [x.strftime(\"%m/%d %H\") for x in tmLabel]\n",
    "\n",
    "def format_date(x,pos=None):   \n",
    "    x = int(x)\n",
    "    if x<0:\n",
    "        return ''\n",
    "    else:\n",
    "        x2 = x_idx.index(x)\n",
    "    return x_fmt[x2]\n",
    "\n",
    "ax.xaxis.set_major_formatter(ticker.FuncFormatter(format_date))\n",
    "ax.xaxis.set_major_locator(ticker.MultipleLocator(6))\n",
    "\n",
    "\n",
    "candel_plotter(ax, dt_df, i, w)\n",
    "fig.autofmt_xdate()\n",
    "plt.show()"
   ]
  },
  {
   "cell_type": "code",
   "execution_count": null,
   "metadata": {},
   "outputs": [],
   "source": [
    "x_fmt[18]"
   ]
  },
  {
   "cell_type": "code",
   "execution_count": null,
   "metadata": {},
   "outputs": [],
   "source": [
    "dt_df[500:501].index"
   ]
  },
  {
   "cell_type": "code",
   "execution_count": null,
   "metadata": {},
   "outputs": [],
   "source": [
    "dt_df.loc['2019-11-8 13':'2019-11-11']"
   ]
  },
  {
   "cell_type": "code",
   "execution_count": null,
   "metadata": {},
   "outputs": [],
   "source": []
  },
  {
   "cell_type": "code",
   "execution_count": null,
   "metadata": {},
   "outputs": [],
   "source": []
  },
  {
   "cell_type": "code",
   "execution_count": null,
   "metadata": {},
   "outputs": [],
   "source": []
  },
  {
   "cell_type": "code",
   "execution_count": null,
   "metadata": {},
   "outputs": [],
   "source": [
    "#dt_df.loc[:'1/3/2020', 'close']\n",
    "#dt_df.loc[:datetime(2020,1,3), 'close']"
   ]
  },
  {
   "cell_type": "code",
   "execution_count": null,
   "metadata": {},
   "outputs": [],
   "source": [
    "pd.core.index"
   ]
  },
  {
   "cell_type": "code",
   "execution_count": null,
   "metadata": {},
   "outputs": [],
   "source": []
  },
  {
   "cell_type": "code",
   "execution_count": null,
   "metadata": {},
   "outputs": [],
   "source": []
  },
  {
   "cell_type": "code",
   "execution_count": null,
   "metadata": {},
   "outputs": [],
   "source": [
    "def verify_end_to_end(lv_L):\n",
    "    # peak with start\n",
    "    dd = [[st1.start.TmIdx, st1.peak, st2.start] for st1,st2 in zip(lv_L[:-2], lv_L[1:]) if st1.peak.TmIdx != st2.start.TmIdx]\n",
    "    if len(dd) == 0:\n",
    "        return True\n",
    "    else:\n",
    "        return dd"
   ]
  },
  {
   "cell_type": "code",
   "execution_count": null,
   "metadata": {},
   "outputs": [],
   "source": [
    "def verity_valley_after_peak(lv_L):\n",
    "    return True"
   ]
  },
  {
   "cell_type": "code",
   "execution_count": null,
   "metadata": {},
   "outputs": [],
   "source": [
    "verify_end_to_end(m.Lv1_L)"
   ]
  },
  {
   "cell_type": "markdown",
   "metadata": {},
   "source": [
    "### Trend Analysis"
   ]
  },
  {
   "cell_type": "code",
   "execution_count": null,
   "metadata": {},
   "outputs": [],
   "source": [
    "dd = [[st.start.TmIdx, st.start.V, st.drt,st.peak.TmIdx, st.end.TmIdx,st.peak.TmIdx - st.start.TmIdx, \n",
    "      len(st.ES_stack), st.mp, st.mp[0]] for st in m.Lv1_L]"
   ]
  },
  {
   "cell_type": "code",
   "execution_count": null,
   "metadata": {},
   "outputs": [],
   "source": [
    "df_out = pd.DataFrame(dd)\n",
    "df_out.columns = ['TmS','start','drt', 'TmP', 'TmE', 'T', 'ES', 'mp', 'mp0']\n",
    "df_out['A'] = -df_out.start.diff(-1)\n",
    "df_out['st_cnt'] = -df_out.mp0.diff(-1)"
   ]
  },
  {
   "cell_type": "code",
   "execution_count": null,
   "metadata": {},
   "outputs": [],
   "source": [
    "df_out.to_excel('data_csv\\\\lv1.xlsx')"
   ]
  },
  {
   "cell_type": "code",
   "execution_count": null,
   "metadata": {},
   "outputs": [],
   "source": [
    "df_out.A.abs().quantile([.1, .15, .25,.5, .75,.85,.9])"
   ]
  },
  {
   "cell_type": "code",
   "execution_count": null,
   "metadata": {},
   "outputs": [],
   "source": [
    "df_out.A.abs().mean()"
   ]
  },
  {
   "cell_type": "code",
   "execution_count": null,
   "metadata": {},
   "outputs": [],
   "source": [
    "ss = df_out['A'].tolist()\n",
    "ss.append(np.nan)\n",
    "ss.append(np.nan)\n",
    "df_out.loc[:,'A_next2'] = ss[2:]\n",
    "df_out.loc[:,'A_next'] = ss[1:-1]"
   ]
  },
  {
   "cell_type": "code",
   "execution_count": null,
   "metadata": {},
   "outputs": [],
   "source": [
    "df_out.head()"
   ]
  },
  {
   "cell_type": "code",
   "execution_count": null,
   "metadata": {},
   "outputs": [],
   "source": [
    "df_out.loc[df_out['A']>0.5, [ 'A_next2']].quantile([.1, .15, .25,.3, .35,.4,.45,.5,.6, .7, .75,.8, .85,.9])"
   ]
  },
  {
   "cell_type": "code",
   "execution_count": null,
   "metadata": {},
   "outputs": [],
   "source": [
    "df_out.loc[df_out['A']>0.7, ['A_next', 'A_next2']].quantile([.1, .15, .25,.3, .35,.4,.45,.5,.6, .7, .75,.8, .85,.9])"
   ]
  },
  {
   "cell_type": "code",
   "execution_count": null,
   "metadata": {},
   "outputs": [],
   "source": [
    "df_out.query('A>0.7 and A_next<-0.6').A_next2.quantile([.1, .15, .25,.3, .35,.4,.45,.5,.6, .7, .75,.8, .85,.9])"
   ]
  },
  {
   "cell_type": "code",
   "execution_count": null,
   "metadata": {},
   "outputs": [],
   "source": [
    "df_out.query('A>0.7 and A_next<-0.6 and A > -A_next')"
   ]
  },
  {
   "cell_type": "code",
   "execution_count": null,
   "metadata": {},
   "outputs": [],
   "source": [
    "df_out.loc[df_out['A']>0.3, [ 'A_next','A_next2']].quantile([.1, .15, .25,.3, .35,.4,.45,.5,.6, .7, .75,.8, .85,.9])"
   ]
  },
  {
   "cell_type": "code",
   "execution_count": null,
   "metadata": {},
   "outputs": [],
   "source": [
    "tmIdx = 15929\n"
   ]
  },
  {
   "cell_type": "code",
   "execution_count": null,
   "metadata": {},
   "outputs": [],
   "source": [
    "# find Lv\n",
    "def find_lv(tmIdx, level):\n",
    "    global m\n",
    "    lv_idx = [st.start.TmIdx for st in m.findList('st', level)]\n",
    "    lv = m.findList('st', level)\n",
    "    \n",
    "    i = 0\n",
    "    for tm in lv_idx[1:]:\n",
    "        if tmIdx >= tm:\n",
    "            i += 1\n",
    "        else:\n",
    "            break\n",
    "    return i,lv[i]"
   ]
  },
  {
   "cell_type": "code",
   "execution_count": null,
   "metadata": {},
   "outputs": [],
   "source": [
    "find_lv(tmIdx,0), find_lv(tmIdx, 1),find_lv(tmIdx, 2)"
   ]
  },
  {
   "cell_type": "code",
   "execution_count": null,
   "metadata": {},
   "outputs": [],
   "source": [
    "# find Pair\n",
    "def find_pair(tmIdx, level):\n",
    "    global m\n",
    "    idx = [p.TmS for p in m.findList('pair', level)]\n",
    "    ll = m.findList('pair', level)\n",
    "    \n",
    "    i = 0\n",
    "    for tm in idx[1:]:\n",
    "        if tmIdx >= tm:\n",
    "            i += 1\n",
    "        else:\n",
    "            break\n",
    "    return i, ll[i]"
   ]
  },
  {
   "cell_type": "code",
   "execution_count": null,
   "metadata": {},
   "outputs": [],
   "source": [
    "find_pair(tmIdx, 1).__dict__"
   ]
  },
  {
   "cell_type": "code",
   "execution_count": null,
   "metadata": {},
   "outputs": [],
   "source": [
    "lv[0].__dict__"
   ]
  },
  {
   "cell_type": "code",
   "execution_count": null,
   "metadata": {},
   "outputs": [],
   "source": []
  },
  {
   "cell_type": "code",
   "execution_count": null,
   "metadata": {},
   "outputs": [],
   "source": [
    "m.Lv0_L[7]"
   ]
  },
  {
   "cell_type": "code",
   "execution_count": null,
   "metadata": {},
   "outputs": [],
   "source": [
    "m.Lv1_L[3]"
   ]
  },
  {
   "cell_type": "code",
   "execution_count": null,
   "metadata": {},
   "outputs": [],
   "source": [
    "m.Lv1_L[292].peak,m.Lv1_L[292],m.Lv1_L[292].end"
   ]
  },
  {
   "cell_type": "code",
   "execution_count": null,
   "metadata": {},
   "outputs": [],
   "source": [
    "m.Lv0_L[3].__dict__"
   ]
  },
  {
   "cell_type": "code",
   "execution_count": null,
   "metadata": {},
   "outputs": [],
   "source": [
    "len(m.PLv1_L)"
   ]
  },
  {
   "cell_type": "code",
   "execution_count": null,
   "metadata": {},
   "outputs": [],
   "source": [
    "len(m.position)"
   ]
  },
  {
   "cell_type": "code",
   "execution_count": null,
   "metadata": {},
   "outputs": [],
   "source": [
    "dd = [[op.drt,op.TmSig, op.TmOp, op.openV,op.pattern, op.pattern_objs] for op in m.position]"
   ]
  },
  {
   "cell_type": "code",
   "execution_count": null,
   "metadata": {},
   "outputs": [],
   "source": [
    "df = pd.DataFrame(dd)\n",
    "\n",
    "df.to_excel('position.xlsx')"
   ]
  },
  {
   "cell_type": "code",
   "execution_count": null,
   "metadata": {},
   "outputs": [],
   "source": [
    "m.PCLv0_L[0].cL"
   ]
  },
  {
   "cell_type": "code",
   "execution_count": null,
   "metadata": {},
   "outputs": [],
   "source": []
  },
  {
   "cell_type": "code",
   "execution_count": null,
   "metadata": {},
   "outputs": [],
   "source": []
  },
  {
   "cell_type": "code",
   "execution_count": null,
   "metadata": {},
   "outputs": [],
   "source": [
    "# print Pair list\n",
    "dd = m.PLv1_L[1].calFeatures()\n",
    "dd['TmS'] = []\n",
    "dd['chain_layer'] = []\n",
    "dd['index'] = []\n",
    "dd['S'] =[]\n",
    "dd['P'] = []\n",
    "for k in dd.keys():\n",
    "    dd[k] = []\n",
    "for p in m.PLv1_L:\n",
    "    print(p)\n",
    "    r = p.calFeatures()\n",
    "    r['TmS'] = p.TmS\n",
    "    r['chain_layer'] = p.chain_layer\n",
    "    r['index'] = p.index\n",
    "    r['S'] = p.S\n",
    "    r['P'] = p.P\n",
    "    for k in r.keys():\n",
    "        dd[k].append(r[k])\n",
    "df = pd.DataFrame(dd)\n",
    "df = df[['TmS','chain_layer',  'index', 'drt','is_flag','cl', 'ch', 'a','k','c_c_level', 'c_drt'\n",
    "         ,'S', 'P',  'b_tm', 'b_w', 'c_a',  'cc',\n",
    "        'p_v', 's_tm', 's_v']]\n",
    "df.to_excel('PairLv1.xlsx')"
   ]
  },
  {
   "cell_type": "code",
   "execution_count": null,
   "metadata": {},
   "outputs": [],
   "source": [
    "[p.index for p in m.PLv1_L]"
   ]
  },
  {
   "cell_type": "code",
   "execution_count": null,
   "metadata": {},
   "outputs": [],
   "source": []
  },
  {
   "cell_type": "code",
   "execution_count": null,
   "metadata": {},
   "outputs": [],
   "source": [
    "[st.distr() for st in m.Lv1_L[5].stick_stack]"
   ]
  },
  {
   "cell_type": "code",
   "execution_count": null,
   "metadata": {},
   "outputs": [],
   "source": [
    "m.Lv1_L[1].stick_stack[0]"
   ]
  },
  {
   "cell_type": "code",
   "execution_count": null,
   "metadata": {},
   "outputs": [],
   "source": [
    "m.Lv1_L[1].stick_stack[0].peak"
   ]
  },
  {
   "cell_type": "code",
   "execution_count": null,
   "metadata": {},
   "outputs": [],
   "source": [
    "m.Lv1_L[1].stick_stack[0].distr()"
   ]
  },
  {
   "cell_type": "code",
   "execution_count": null,
   "metadata": {},
   "outputs": [],
   "source": [
    "l = [[st.drt,st.amp()[0], st.amp()[1]] for st in m.Lv1_L]\n",
    "df = pd.DataFrame(l)\n",
    "df.to_excel('00lv_amp_by_st.xlsx')"
   ]
  },
  {
   "cell_type": "code",
   "execution_count": null,
   "metadata": {},
   "outputs": [],
   "source": [
    "tt = [list(st.distr()[0]) + list(st.distr()[1]) for st in m.Lv0_L[132:135]]\n",
    "tt_df = pd.DataFrame(tt)\n",
    "tt_df.to_excel('stdistr.xlsx')"
   ]
  },
  {
   "cell_type": "code",
   "execution_count": null,
   "metadata": {},
   "outputs": [],
   "source": [
    "x = m.PLv0_L[15].calFeatures()\n",
    "op = Operator(x,3,'pair_drt')\n",
    "op2 = Operator(x,0.5,'concentrated')\n",
    "r = Node([op,op2],1)\n",
    "r.do()"
   ]
  },
  {
   "cell_type": "code",
   "execution_count": null,
   "metadata": {},
   "outputs": [],
   "source": [
    "EventFactory.event_config"
   ]
  },
  {
   "cell_type": "code",
   "execution_count": null,
   "metadata": {},
   "outputs": [],
   "source": [
    "m.findList('pair',0).__name__"
   ]
  },
  {
   "cell_type": "code",
   "execution_count": null,
   "metadata": {},
   "outputs": [],
   "source": [
    "d = {'level_num':0, 'obj_name': 'Stick', 'event_name':'NEW', 'obj_p':'m.position[0]', 'method':'check_event', 'param':''}\n",
    "EventFactory.reg_event(d)"
   ]
  },
  {
   "cell_type": "code",
   "execution_count": null,
   "metadata": {},
   "outputs": [],
   "source": [
    "EventFactory.remove_event(d)"
   ]
  },
  {
   "cell_type": "code",
   "execution_count": null,
   "metadata": {},
   "outputs": [],
   "source": [
    "# print Pair Lv0\n",
    "dd = m.PLv0_L[5].output()\n",
    "for k in dd.keys():\n",
    "    dd[k] = []\n",
    "for p in m.PLv0_L:\n",
    "    r = p.output()\n",
    "    for k in r.keys():\n",
    "        dd[k].append(r[k])\n",
    "df = pd.DataFrame(dd)\n",
    "df.to_excel('pair0.xlsx')"
   ]
  },
  {
   "cell_type": "code",
   "execution_count": null,
   "metadata": {},
   "outputs": [],
   "source": [
    "# 把Lv0打印出来\n",
    "dd = [[st.drt,st.start.TmIdx,st.start.V,st.peak.TmIdx, st.peak.V] for st in m.Lv0_L]\n",
    "df_dd = pd.DataFrame(dd)\n",
    "df_dd.to_excel('Lv0_L.xlsx')"
   ]
  },
  {
   "cell_type": "code",
   "execution_count": null,
   "metadata": {},
   "outputs": [],
   "source": [
    "# 把Lv1打印出来\n",
    "dd = [[st.drt,st.start.TmIdx,st.start.V,st.peak.TmIdx, st.peak.V,st.pp,st.mp] for st in m.Lv1_L]\n",
    "df_dd = pd.DataFrame(dd)\n",
    "df_dd.to_excel('Lv1_L.xlsx')"
   ]
  },
  {
   "cell_type": "code",
   "execution_count": null,
   "metadata": {},
   "outputs": [],
   "source": [
    "# 把Lv2打印出来\n",
    "dd = [[st.drt,st.start.TmIdx,st.start.V,st.peak.TmIdx, st.peak.V,st.pp,st.mp] for st in m.Lv2_L]\n",
    "df_dd = pd.DataFrame(dd)\n",
    "df_dd.to_excel('Lv2_L.xlsx')"
   ]
  },
  {
   "cell_type": "code",
   "execution_count": null,
   "metadata": {},
   "outputs": [],
   "source": [
    "st = m.Lv0_L[3]\n",
    "k_L = [[k[1],k[2]] for k in dt if k[4]>= st.start.TmIdx and k[4]<= st.peak.TmIdx]\n",
    "\n",
    "interval = (st.peak.V - st.start.V)*st.drt/ 20\n",
    "L = min(st.peak.V, st.start.V)\n",
    "H = max(st.peak.V, st.start.V)\n",
    "scale = [L]\n",
    "for i in list(range(1,20)):\n",
    "    scale.append(scale[i-1]+interval)\n",
    "scale.append(H)\n",
    "\n",
    "distr = np.zeros(20)\n",
    "for k in k_L:\n",
    "    distr_k = np.zeros(20)\n",
    "    for i in list(range(20)):\n",
    "        if (min(k) <= scale[i] <= max(k)) or (min(k) <= scale[i+1] <= max(k)):\n",
    "            distr_k[i] = 1\n",
    "    cnt = distr_k.sum()\n",
    "    distr_k = distr_k/cnt\n",
    "    distr = distr + distr_k\n",
    "distr, distr.argmax()"
   ]
  },
  {
   "cell_type": "code",
   "execution_count": null,
   "metadata": {},
   "outputs": [],
   "source": []
  },
  {
   "cell_type": "code",
   "execution_count": null,
   "metadata": {},
   "outputs": [],
   "source": [
    "ll = np.zeros(20)\n",
    "ll[2:4] = 1\n",
    "cnt = ll.sum()\n",
    "ll = ll/cnt\n",
    "\n",
    "ll2 = np.ones(20)\n",
    "lr = ll +ll2\n",
    "lr"
   ]
  },
  {
   "cell_type": "code",
   "execution_count": null,
   "metadata": {},
   "outputs": [],
   "source": [
    "a = [1,2,3]\n",
    "a[:-1]"
   ]
  },
  {
   "cell_type": "markdown",
   "metadata": {},
   "source": [
    "### draw and verified"
   ]
  },
  {
   "cell_type": "code",
   "execution_count": null,
   "metadata": {},
   "outputs": [],
   "source": [
    "data = {\n",
    "    'times': x['TmIdx'],\n",
    "    'data': \n",
    "}"
   ]
  },
  {
   "cell_type": "code",
   "execution_count": null,
   "metadata": {},
   "outputs": [],
   "source": [
    "# 绘图用插值函数\n",
    "# input: \n",
    "#       1 - TmIdx array \n",
    "#       2 - Values array\n",
    "# output: 按x轴查完值的value array\n",
    "def interpoint(TmIdx_array, V_array):\n",
    "    global x\n",
    "    x['TmIdx'].astype('int64')\n",
    "    print(len(x))\n",
    "    df_tmp = pd.DataFrame({'V': V_array, 'TmIdx': TmIdx_array})\n",
    "    df_tmp['TmIdx'].astype('int64')\n",
    "    start_tm = int(TmIdx_array[0])\n",
    "    end_tm = int(TmIdx_array[-1]) +1\n",
    "    df_tmp = df_tmp.merge(x.iloc[start_tm:end_tm,:], how='right', left_on='TmIdx', right_on='TmIdx')\n",
    "    df_tmp.sort_values(['TmIdx'], inplace=True)\n",
    "    df_tmp['V'].interpolate(inplace=True)\n",
    "    return df_tmp['V'].values.tolist(), df_tmp[['TmIdx','V']]"
   ]
  },
  {
   "cell_type": "code",
   "execution_count": null,
   "metadata": {},
   "outputs": [],
   "source": [
    "def draw(lv_list):\n",
    "    global dt, interpoint\n",
    "    x_idx = [k[4] for k in dt]\n",
    "    oringe_dt = [[k[0], k[3], k[2], k[1]] for k in dt]\n",
    "\n",
    "    n = len(lv_list)\n",
    "    drawing_line = []\n",
    "    \n",
    "    for i in list(range(n)):\n",
    "        tm, v = [], []\n",
    "        for stick in lv_list[i]:\n",
    "            tm.append(stick.start.TmIdx)\n",
    "            v.append(stick.start.V)\n",
    "        dt_line = interpoint(tm,v)\n",
    "        line = Line('stick')\n",
    "        line.add('xxx', [k[4] for k in dt], dt_line\n",
    "        ,is_datazoom_show=True\n",
    "        )  \n",
    "        drawing_line.append(line)\n",
    "        \n",
    "    overlap = Overlap()\n",
    "    for line in drawing_line:\n",
    "        overlap.add(line)\n",
    "    \n",
    "    return overlap\n",
    "            "
   ]
  },
  {
   "cell_type": "code",
   "execution_count": null,
   "metadata": {},
   "outputs": [],
   "source": [
    "draw([Stick.lv_L, TrendLv1.lv_L, TrendLv2.lv_L])"
   ]
  },
  {
   "cell_type": "markdown",
   "metadata": {},
   "source": [
    "### 定点k-line"
   ]
  },
  {
   "cell_type": "code",
   "execution_count": null,
   "metadata": {},
   "outputs": [],
   "source": [
    "def draw_k(center_point, half_window, stock_name='xxx'):\n",
    "    line = Kline('stick')\n",
    "    global dt, x\n",
    "    \n",
    "    dt_x = x.iloc[center_point - half_window//2:center_point + half_window//2,2].values.tolist()\n",
    "    dt_tmp = [dd[:4] for dd in dt[center_point - half_window//2:center_point + half_window//2 ]]\n",
    "    dt_line = [[k[0], k[3], k[2], k[1]] for k in dt_tmp]\n",
    "    line.add(stock_name, dt_x, dt_line)  \n",
    "    return line\n"
   ]
  },
  {
   "cell_type": "code",
   "execution_count": null,
   "metadata": {},
   "outputs": [],
   "source": [
    "draw_k(15027,500)"
   ]
  },
  {
   "cell_type": "code",
   "execution_count": null,
   "metadata": {},
   "outputs": [],
   "source": [
    "line = (Line()\n",
    "       .add_yaxis()\n",
    "       )"
   ]
  },
  {
   "cell_type": "code",
   "execution_count": null,
   "metadata": {},
   "outputs": [],
   "source": [
    "_,p_df = interpoint([int(point1.TmIdx), int(point2.TmIdx)], [point1.V, point2.V])"
   ]
  },
  {
   "cell_type": "code",
   "execution_count": null,
   "metadata": {},
   "outputs": [],
   "source": []
  },
  {
   "cell_type": "code",
   "execution_count": null,
   "metadata": {},
   "outputs": [],
   "source": []
  },
  {
   "cell_type": "code",
   "execution_count": null,
   "metadata": {},
   "outputs": [],
   "source": []
  },
  {
   "cell_type": "code",
   "execution_count": null,
   "metadata": {},
   "outputs": [],
   "source": []
  },
  {
   "cell_type": "markdown",
   "metadata": {},
   "source": [
    "### draw Pair"
   ]
  },
  {
   "cell_type": "code",
   "execution_count": null,
   "metadata": {},
   "outputs": [],
   "source": [
    "p = find_pair(tmIdx,0)[1]\n",
    "p.__dict__"
   ]
  },
  {
   "cell_type": "code",
   "execution_count": null,
   "metadata": {},
   "outputs": [],
   "source": [
    "level = 1\n",
    "center_point = tmIdx\n",
    "half_window = 15\n",
    "start = int(center_point - half_window)\n",
    "end = int(center_point + half_window)\n",
    "dt_x = x.iloc[center_point - half_window//2:center_point + half_window//2,2].values.tolist()"
   ]
  },
  {
   "cell_type": "code",
   "execution_count": null,
   "metadata": {},
   "outputs": [],
   "source": [
    "point1 = m.findList('st',level-1)[p.index[0]].start\n",
    "point1"
   ]
  },
  {
   "cell_type": "code",
   "execution_count": null,
   "metadata": {},
   "outputs": [],
   "source": [
    "point2 = m.findList('st',level-1)[p.index[-1]].peak\n",
    "point2"
   ]
  },
  {
   "cell_type": "code",
   "execution_count": null,
   "metadata": {},
   "outputs": [],
   "source": [
    "_,df_p = interpoint([int(point1.TmIdx), int(point2.TmIdx)], [point1.V, point2.V])"
   ]
  },
  {
   "cell_type": "code",
   "execution_count": null,
   "metadata": {},
   "outputs": [],
   "source": [
    "df_draw = x.iloc[start:end,].copy()\n",
    "df_draw = df_draw.merge(df_p, how='left', left_on='TmIdx', right_on='TmIdx')\n",
    "df_draw = df_draw.merge(dt_df[['open','high','low','close','TmIdx']], how='left', left_on='TmIdx', right_on='TmIdx')\n",
    "df_draw.query('TmIdx>15900 and TmIdx<15940')"
   ]
  },
  {
   "cell_type": "code",
   "execution_count": null,
   "metadata": {},
   "outputs": [],
   "source": [
    "df_p"
   ]
  },
  {
   "cell_type": "code",
   "execution_count": null,
   "metadata": {},
   "outputs": [],
   "source": [
    "df_draw.fillna('', inplace=True)\n",
    "df_draw"
   ]
  },
  {
   "cell_type": "code",
   "execution_count": null,
   "metadata": {},
   "outputs": [],
   "source": [
    "import pyecharts.options as opts\n",
    "COLOR = ['red', 'yellow', 'green']"
   ]
  },
  {
   "cell_type": "code",
   "execution_count": null,
   "metadata": {},
   "outputs": [],
   "source": [
    "kl = (Kline()\n",
    "      .add_xaxis(df_draw.date_str.tolist())\n",
    "      .add_yaxis('pair', df_draw[['open','close','low','high']].values.tolist())\n",
    ")\n",
    "kl.render_notebook()"
   ]
  },
  {
   "cell_type": "code",
   "execution_count": null,
   "metadata": {},
   "outputs": [],
   "source": [
    "l = (\n",
    "    Line()\n",
    "    .add_xaxis(df_draw.date_str.tolist())\n",
    "    .add_yaxis(\"pair\"\n",
    "               , df_draw.V.tolist()\n",
    "               ,is_symbol_show = False\n",
    "               .linestyle_opts = opts.LineStyleOpts(color=color[level], width=4, opacity=0.6)\n",
    "               \n",
    "              )\n",
    ")\n",
    "l.render_notebook()"
   ]
  },
  {
   "cell_type": "code",
   "execution_count": null,
   "metadata": {},
   "outputs": [],
   "source": [
    "kl.overlap(l).render_notebook()"
   ]
  },
  {
   "cell_type": "code",
   "execution_count": null,
   "metadata": {},
   "outputs": [],
   "source": [
    "find_pair(14952,1)[1].__dict__"
   ]
  },
  {
   "cell_type": "code",
   "execution_count": null,
   "metadata": {},
   "outputs": [],
   "source": [
    "draw_k(16027,500)"
   ]
  },
  {
   "cell_type": "code",
   "execution_count": null,
   "metadata": {},
   "outputs": [],
   "source": [
    "x.loc[x['TmIdx']==14705,'datetime']"
   ]
  },
  {
   "cell_type": "code",
   "execution_count": null,
   "metadata": {},
   "outputs": [],
   "source": [
    "x.loc[x['datetime']=='2020-02-06 14:00','TmIdx']"
   ]
  },
  {
   "cell_type": "markdown",
   "metadata": {},
   "source": [
    "### draw scene"
   ]
  },
  {
   "cell_type": "code",
   "execution_count": null,
   "metadata": {},
   "outputs": [],
   "source": [
    "m.Lv0_L[0]"
   ]
  },
  {
   "cell_type": "code",
   "execution_count": null,
   "metadata": {},
   "outputs": [],
   "source": [
    "m.Lv1_L[2]"
   ]
  },
  {
   "cell_type": "code",
   "execution_count": null,
   "metadata": {},
   "outputs": [],
   "source": [
    "m.findList('st', 0)[2]"
   ]
  },
  {
   "cell_type": "code",
   "execution_count": null,
   "metadata": {},
   "outputs": [],
   "source": [
    "Lv2_idx = [st.start.TmIdx for st in m.Lv2_L]"
   ]
  },
  {
   "cell_type": "code",
   "execution_count": null,
   "metadata": {},
   "outputs": [],
   "source": [
    "Lv2_idx = []\n",
    "Lv2_idx = [st.start.TmIdx for st in m.findList('st', 2)]"
   ]
  },
  {
   "cell_type": "code",
   "execution_count": null,
   "metadata": {},
   "outputs": [],
   "source": [
    "Lv2_idx[:10]"
   ]
  },
  {
   "cell_type": "code",
   "execution_count": null,
   "metadata": {},
   "outputs": [],
   "source": [
    "def find_index(ll, num):\n",
    "    i = 0\n",
    "    for n in ll[1:]:\n",
    "        if num >= n:\n",
    "            i += 1\n",
    "        else:\n",
    "            break\n",
    "    return i\n",
    "\n",
    "        \n",
    "Lv2_idx.index(440)"
   ]
  },
  {
   "cell_type": "code",
   "execution_count": null,
   "metadata": {},
   "outputs": [],
   "source": [
    "idx = find_index(Lv2_idx, 9508)"
   ]
  },
  {
   "cell_type": "code",
   "execution_count": null,
   "metadata": {},
   "outputs": [],
   "source": [
    "m.Lv2_L[idx].drt, m.Lv2_L[idx].start, m.Lv2_L[idx+1].start"
   ]
  },
  {
   "cell_type": "code",
   "execution_count": null,
   "metadata": {},
   "outputs": [],
   "source": [
    "idx"
   ]
  },
  {
   "cell_type": "code",
   "execution_count": null,
   "metadata": {},
   "outputs": [],
   "source": []
  },
  {
   "cell_type": "code",
   "execution_count": null,
   "metadata": {},
   "outputs": [],
   "source": [
    "len(m.Lv2_L)"
   ]
  },
  {
   "cell_type": "code",
   "execution_count": null,
   "metadata": {},
   "outputs": [],
   "source": [
    "i =0\n",
    "for st in m.Lv2_L:\n",
    "    print(i, st.start,st.pp)\n",
    "    i += 1"
   ]
  },
  {
   "cell_type": "code",
   "execution_count": null,
   "metadata": {},
   "outputs": [],
   "source": [
    "m.Lv2_L[66].stick_stack, m.Lv2_L[66].mp"
   ]
  },
  {
   "cell_type": "code",
   "execution_count": null,
   "metadata": {},
   "outputs": [],
   "source": [
    "m.Lv2_L[67].stick_stack, m.Lv2_L[67].mp, m.Lv2_L[67].status"
   ]
  },
  {
   "cell_type": "code",
   "execution_count": null,
   "metadata": {},
   "outputs": [],
   "source": []
  },
  {
   "cell_type": "code",
   "execution_count": null,
   "metadata": {},
   "outputs": [],
   "source": []
  },
  {
   "cell_type": "code",
   "execution_count": null,
   "metadata": {},
   "outputs": [],
   "source": [
    "CenterStrict(Stick.lv_L[1:], market)"
   ]
  },
  {
   "cell_type": "code",
   "execution_count": null,
   "metadata": {},
   "outputs": [],
   "source": [
    "for c in market.CenterStrict_LD[10]:\n",
    "    print(c)"
   ]
  },
  {
   "cell_type": "code",
   "execution_count": null,
   "metadata": {},
   "outputs": [],
   "source": [
    "a = [1,2,3,4,9]\n",
    "l = [1,2,3,4,9]\n",
    "for aa,ll in zip(*[a,l]):\n",
    "    print(aa,ll)"
   ]
  },
  {
   "cell_type": "code",
   "execution_count": null,
   "metadata": {},
   "outputs": [],
   "source": [
    "m.__class__.__name__"
   ]
  },
  {
   "cell_type": "code",
   "execution_count": null,
   "metadata": {},
   "outputs": [],
   "source": [
    "a = []\n",
    "a.append([])\n",
    "a.append([])\n",
    "a.append([])"
   ]
  },
  {
   "cell_type": "code",
   "execution_count": null,
   "metadata": {},
   "outputs": [],
   "source": [
    "a"
   ]
  },
  {
   "cell_type": "code",
   "execution_count": null,
   "metadata": {},
   "outputs": [],
   "source": [
    "tmp = type('Xb', (object,), dict(a=1))\n",
    "tmp = type('Xa', (object,), dict(a=1))"
   ]
  },
  {
   "cell_type": "code",
   "execution_count": null,
   "metadata": {},
   "outputs": [],
   "source": []
  },
  {
   "cell_type": "code",
   "execution_count": null,
   "metadata": {},
   "outputs": [],
   "source": [
    "a = [1,2,3]\n",
    "b = [3,4,5]\n",
    "for aa in a [1:\n",
    "             :-1]:\n",
    "    print(aa)"
   ]
  },
  {
   "cell_type": "code",
   "execution_count": null,
   "metadata": {},
   "outputs": [],
   "source": [
    "d1 = {'a': 1}\n",
    "d2 = {'b': 2}"
   ]
  },
  {
   "cell_type": "code",
   "execution_count": null,
   "metadata": {},
   "outputs": [],
   "source": [
    "d1.append(d2)"
   ]
  },
  {
   "cell_type": "code",
   "execution_count": null,
   "metadata": {},
   "outputs": [],
   "source": []
  }
 ],
 "metadata": {
  "kernelspec": {
   "display_name": "python36-64",
   "language": "python",
   "name": "python36-64"
  },
  "language_info": {
   "codemirror_mode": {
    "name": "ipython",
    "version": 3
   },
   "file_extension": ".py",
   "mimetype": "text/x-python",
   "name": "python",
   "nbconvert_exporter": "python",
   "pygments_lexer": "ipython3",
   "version": "3.6.7"
  },
  "toc": {
   "nav_menu": {},
   "number_sections": true,
   "sideBar": true,
   "skip_h1_title": false,
   "title_cell": "Table of Contents",
   "title_sidebar": "Contents",
   "toc_cell": false,
   "toc_position": {
    "height": "calc(100% - 180px)",
    "left": "10px",
    "top": "150px",
    "width": "384px"
   },
   "toc_section_display": true,
   "toc_window_display": true
  }
 },
 "nbformat": 4,
 "nbformat_minor": 2
}
