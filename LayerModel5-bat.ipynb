{
 "cells": [
  {
   "cell_type": "code",
   "execution_count": 1,
   "metadata": {},
   "outputs": [],
   "source": [
    "import numpy as np\n",
    "import pandas as pd\n",
    "import time\n",
    "import gc"
   ]
  },
  {
   "cell_type": "code",
   "execution_count": 2,
   "metadata": {},
   "outputs": [],
   "source": [
    "import matplotlib as mpl\n",
    "import matplotlib.pyplot as plt\n",
    "#import mplfinance as mpf"
   ]
  },
  {
   "cell_type": "code",
   "execution_count": 3,
   "metadata": {},
   "outputs": [],
   "source": [
    "from LayerModel5 import *"
   ]
  },
  {
   "cell_type": "code",
   "execution_count": 4,
   "metadata": {},
   "outputs": [],
   "source": [
    "from frame import *"
   ]
  },
  {
   "cell_type": "code",
   "execution_count": 5,
   "metadata": {},
   "outputs": [],
   "source": [
    "from bat import *"
   ]
  },
  {
   "cell_type": "code",
   "execution_count": 6,
   "metadata": {},
   "outputs": [],
   "source": [
    "import os\n",
    "import psutil\n",
    "import gc\n",
    "\n",
    "# 显示当前 python 程序占用的内存大小\n",
    "def show_memory_info(hint):\n",
    "    pid = os.getpid()\n",
    "    p = psutil.Process(pid)\n",
    "   \n",
    "    info = p.memory_full_info()\n",
    "    memory = info.uss / 1024. / 1024\n",
    "    print('{} memory used: {} MB'.format(hint, memory))\n"
   ]
  },
  {
   "cell_type": "code",
   "execution_count": 7,
   "metadata": {},
   "outputs": [],
   "source": [
    "def get_data(fn):\n",
    "    dt_df = pd.read_csv('data_csv\\\\'+fn,index_col=0,parse_dates=True)\n",
    "    stockID =fn.split('.')[0]\n",
    "    dt_df['TmIdx'] = list(range(0,dt_df.shape[0]))\n",
    "    dt_df['tm'] =dt_df.index\n",
    "    dt = dt_df[['open','high','low','close','TmIdx','tm']].values.tolist()\n",
    "    del dt_df\n",
    "    return dt, stockID"
   ]
  },
  {
   "cell_type": "markdown",
   "metadata": {},
   "source": [
    "## RUN"
   ]
  },
  {
   "cell_type": "code",
   "execution_count": 8,
   "metadata": {},
   "outputs": [],
   "source": [
    "stock_fns = ['0601012.XSHG.csv', '0600352.XSHG.csv']"
   ]
  },
  {
   "cell_type": "code",
   "execution_count": 9,
   "metadata": {},
   "outputs": [
    {
     "name": "stdout",
     "output_type": "stream",
     "text": [
      "afer input dt memory used: 84.640625 MB\n",
      "None\n",
      "afer play memory used: 105.3671875 MB\n",
      "None\n",
      "afer reset memory used: 98.8671875 MB\n",
      "None\n",
      "0601012 totally cost：11.19\n",
      "afer input dt memory used: 100.53125 MB\n",
      "None\n",
      "afer play memory used: 103.08984375 MB\n",
      "None\n",
      "afer reset memory used: 100.08984375 MB\n",
      "None\n",
      "0600352 totally cost：11.07\n"
     ]
    }
   ],
   "source": [
    "remark = []\n",
    "for fn in stock_fns:      \n",
    "    time_start=time.time()    \n",
    "    dt, stockID = get_data(fn)\n",
    "    print(show_memory_info('afer input dt'))\n",
    "    m = Running(stockID, dt)\n",
    "    m.play()\n",
    "    print(show_memory_info('afer play'))\n",
    "    m.reset_market()\n",
    "    print(show_memory_info('afer reset'))\n",
    "    time_end=time.time()\n",
    "    print('{} totally cost：{:.2f}'.format(stockID,time_end-time_start))\n"
   ]
  },
  {
   "cell_type": "code",
   "execution_count": 10,
   "metadata": {},
   "outputs": [
    {
     "ename": "IndexError",
     "evalue": "list index out of range",
     "output_type": "error",
     "traceback": [
      "\u001b[1;31m---------------------------------------------------------------------------\u001b[0m",
      "\u001b[1;31mIndexError\u001b[0m                                Traceback (most recent call last)",
      "\u001b[1;32m<ipython-input-10-00e34f5c6d94>\u001b[0m in \u001b[0;36m<module>\u001b[1;34m\u001b[0m\n\u001b[1;32m----> 1\u001b[1;33m \u001b[0mremark\u001b[0m\u001b[1;33m[\u001b[0m\u001b[1;36m0\u001b[0m\u001b[1;33m]\u001b[0m\u001b[1;33m[\u001b[0m\u001b[1;33m:\u001b[0m\u001b[1;36m100\u001b[0m\u001b[1;33m]\u001b[0m\u001b[1;33m\u001b[0m\u001b[1;33m\u001b[0m\u001b[0m\n\u001b[0m",
      "\u001b[1;31mIndexError\u001b[0m: list index out of range"
     ]
    }
   ],
   "source": [
    "remark[0][:100]"
   ]
  },
  {
   "cell_type": "code",
   "execution_count": null,
   "metadata": {},
   "outputs": [],
   "source": [
    "remark[1][:100]"
   ]
  },
  {
   "cell_type": "code",
   "execution_count": null,
   "metadata": {},
   "outputs": [],
   "source": [
    "m.m.Lv0_L[10].remark"
   ]
  },
  {
   "cell_type": "code",
   "execution_count": null,
   "metadata": {},
   "outputs": [],
   "source": [
    "m.m.Lv0_L[0].std_k_bar_stack[-2]"
   ]
  },
  {
   "cell_type": "code",
   "execution_count": null,
   "metadata": {},
   "outputs": [],
   "source": [
    "m.dt[:20]"
   ]
  },
  {
   "cell_type": "code",
   "execution_count": null,
   "metadata": {},
   "outputs": [],
   "source": [
    "m.m.Lv0_L[:5]"
   ]
  },
  {
   "cell_type": "code",
   "execution_count": null,
   "metadata": {},
   "outputs": [],
   "source": [
    "len(m.m.dt)"
   ]
  },
  {
   "cell_type": "code",
   "execution_count": null,
   "metadata": {},
   "outputs": [],
   "source": [
    "ll.clear()"
   ]
  },
  {
   "cell_type": "code",
   "execution_count": null,
   "metadata": {},
   "outputs": [],
   "source": [
    "ll"
   ]
  },
  {
   "cell_type": "code",
   "execution_count": null,
   "metadata": {},
   "outputs": [],
   "source": []
  },
  {
   "cell_type": "code",
   "execution_count": null,
   "metadata": {},
   "outputs": [],
   "source": [
    "class Pattern01(PatternPair):\n",
    "    \n",
    "    def calChart(self):\n",
    "        fd0 = self.obj_list[0].calFeatures()\n",
    "        fd1 = self.obj_list[1].calFeatures()\n",
    "        \n",
    "        is_flag0 = self.is_flag(fd0)\n",
    "        \n",
    "        is_flag1 = self.is_flag(fd1)\n",
    "        is_synthetic = eq(choose(fd0, 'drt'), choose(fd1, 'drt'))\n",
    "        is_move = self.real_move(fd0, fd1)\n",
    "        little_flag = le(choose(fd1, 'a'), 0.5)\n",
    "        \n",
    "        r = All([is_flag0, is_flag1, is_synthetic, is_move, little_flag])\n",
    "        v = NodeVisitor()\n",
    "        return v.evaluate(r)      \n",
    "\n",
    "\n",
    "         "
   ]
  },
  {
   "cell_type": "markdown",
   "metadata": {},
   "source": [
    "## ricequant csv导入"
   ]
  },
  {
   "cell_type": "code",
   "execution_count": null,
   "metadata": {},
   "outputs": [],
   "source": [
    "dt_df['TmIdx'] = list(range(0,dt_df.shape[0]))"
   ]
  },
  {
   "cell_type": "code",
   "execution_count": null,
   "metadata": {},
   "outputs": [],
   "source": [
    "dt_df.head()"
   ]
  },
  {
   "cell_type": "markdown",
   "metadata": {},
   "source": [
    "#### get data list"
   ]
  },
  {
   "cell_type": "code",
   "execution_count": null,
   "metadata": {},
   "outputs": [],
   "source": [
    "dt = dt_df[['open','high','low','close','TmIdx']].values.tolist()\n",
    "#idx = dt_df[['datetime','TmIdx']]\n",
    "#idx['date_str'] = idx.loc[:,'datetime'].apply(lambda x:x.strftime('%m-%d %H:%M'))"
   ]
  },
  {
   "cell_type": "markdown",
   "metadata": {},
   "source": [
    "### Get 属性数据"
   ]
  },
  {
   "cell_type": "markdown",
   "metadata": {},
   "source": [
    "### 对象预处理"
   ]
  },
  {
   "cell_type": "code",
   "execution_count": null,
   "metadata": {},
   "outputs": [],
   "source": [
    "filepath = 'event_config.json'\n",
    "ef = EventFactory(filepath)"
   ]
  },
  {
   "cell_type": "code",
   "execution_count": null,
   "metadata": {},
   "outputs": [],
   "source": [
    "m = Market(stockID, 4)\n",
    "Stick.mm = m\n",
    "Trend.m = m\n",
    "Trend.ef = ef\n",
    "Pair.m = m\n",
    "PairChain.m = m\n",
    "PairChain.ef = ef\n",
    "CenterStrict.m = m\n",
    "Signal001.m = m\n",
    "Signal001.ef = ef"
   ]
  },
  {
   "cell_type": "code",
   "execution_count": null,
   "metadata": {},
   "outputs": [],
   "source": [
    "Signal001.L = m.SIG_L\n",
    "Signal001()"
   ]
  },
  {
   "cell_type": "code",
   "execution_count": null,
   "metadata": {},
   "outputs": [],
   "source": [
    "Stick.L = m.Lv0_L\n",
    "Stick('init', k_bar=dt[0])"
   ]
  },
  {
   "cell_type": "code",
   "execution_count": null,
   "metadata": {},
   "outputs": [],
   "source": [
    "TrendLv1 = type('TrendLv1', (Trend,), {'L':m.Lv1_L, 'ML':Stick.L, 'level':1}) \n",
    "TrendLv1('init', k_bar=dt[0], mp=[0])\n",
    "TrendLv2 = type('TrendLv2', (Trend,), {'L':m.Lv2_L, 'ML':TrendLv1.L, 'level':2}) \n",
    "TrendLv2('init', k_bar=dt[0], mp=[0])\n",
    "TrendLv3 = type('TrendLv3', (Trend,), {'L':m.Lv3_L, 'ML':TrendLv2.L, 'level':3}) \n",
    "TrendLv3('init', k_bar=dt[0], mp=[0])"
   ]
  },
  {
   "cell_type": "code",
   "execution_count": null,
   "metadata": {},
   "outputs": [],
   "source": [
    "\n",
    "Center0 = type('Center0', (CenterStrict,), {'ML': m.findList('st', 0), 'L': m.findList('center', 0), 'openL':[],  'level': 0})\n",
    "Center0()\n",
    "Center1 = type('Center1', (CenterStrict,), {'ML': m.findList('st', 1), 'L': m.findList('center', 1), 'openL':[],  'level': 1})\n",
    "Center1()\n",
    "Center2 = type('Center2', (CenterStrict,), {'ML': m.findList('st', 2), 'L': m.findList('center', 2), 'openL':[],  'level': 2})\n",
    "Center2()\n",
    "Center3 = type('Center3', (CenterStrict,), {'ML': m.findList('st', 3), 'L': m.findList('center', 3), 'openL':[],  'level': 3})\n",
    "Center3()"
   ]
  },
  {
   "cell_type": "code",
   "execution_count": null,
   "metadata": {},
   "outputs": [],
   "source": [
    "PairLv0 = type('PairLv0', (Pair,), {'ML': m.findList('st', 0), 'L': m.findList('pair', 0), 'level': 0})\n",
    "PairLv0(0)\n",
    "PairLv1 = type('PairLv1', (Pair,), {'ML': m.findList('st', 1), 'L': m.findList('pair', 1), 'level': 1})\n",
    "PairLv1(0)\n",
    "PairLv2 = type('PairLv2', (Pair,), {'ML': m.findList('st', 2), 'L': m.findList('pair', 2), 'level': 2})\n",
    "PairLv2(0)\n",
    "PairLv3 = type('PairLv3', (Pair,), {'ML': m.findList('st', 3), 'L': m.findList('pair', 3), 'level': 3})\n",
    "PairLv3(0)\n",
    "PairChainLv0 = PairChain(0, 'PairChainLv0')\n",
    "PairChainLv1 = PairChain(1,'PairChainLv1')\n",
    "PairChainLv2 = PairChain(2, 'PairChainLv2')\n",
    "PairChainLv3 = PairChain(3, 'PairChainLv3')"
   ]
  },
  {
   "cell_type": "code",
   "execution_count": null,
   "metadata": {},
   "outputs": [],
   "source": [
    "SIG_overlapMv.m, SIG_overlapMv.ef = m, ef\n",
    "actions = []\n",
    "level = 3\n",
    "actions.append({ 'level_num': level, \n",
    "            'obj_name': 'TrendLv' +str(int(level)),\n",
    "            'event_name': 'NEW',\n",
    "            'obj_p': 'SIG_overlapMv',\n",
    "            'method': 'any_opp',\n",
    "            'param': str(level)  })\n",
    "for ac in actions:\n",
    "    ef.regAction(**ac)"
   ]
  },
  {
   "cell_type": "code",
   "execution_count": null,
   "metadata": {},
   "outputs": [],
   "source": [
    "Position.m = m\n",
    "Position.L = m.position"
   ]
  },
  {
   "cell_type": "code",
   "execution_count": null,
   "metadata": {},
   "outputs": [],
   "source": [
    "len(SIG_overlapMv.L) #59  # is_wiped 之后只剩8个  #cross Center 收紧到0.25 55个\n",
    "# 中信只有37"
   ]
  },
  {
   "cell_type": "code",
   "execution_count": null,
   "metadata": {},
   "outputs": [],
   "source": [
    "ll = m.findList('center', 0)\n",
    "centerL = []\n",
    "for cc in ll[::-1]:\n",
    "    if cc.TmE < 10323:\n",
    "        break\n",
    "    if cc.TmS < 10323 <= cc.TmE:\n",
    "        centerL.append(cc)\n",
    "centerL"
   ]
  },
  {
   "cell_type": "code",
   "execution_count": null,
   "metadata": {},
   "outputs": [],
   "source": [
    "time_start=time.time()\n",
    "lll = [l.TmS for l in m.CLv0_L[::-1] if l.TmS < 10323 <l.TmE]\n",
    "time_end=time.time()\n",
    "print('totally cost：',time_end-time_start)"
   ]
  },
  {
   "cell_type": "code",
   "execution_count": null,
   "metadata": {},
   "outputs": [],
   "source": [
    "lll"
   ]
  },
  {
   "cell_type": "code",
   "execution_count": null,
   "metadata": {},
   "outputs": [],
   "source": [
    "list0 = [[st.start.TmIdx,st.peak.TmIdx] for st in m.Lv0_L if 10200<st.start.TmIdx<10600]\n",
    "list1 = [st.start.TmIdx for st in m.Lv1_L if 10200<st.start.TmIdx<10600]\n",
    "ll =[]\n",
    "for s,p in list0:\n",
    "    if s in list1 and p in list1:\n",
    "        ll.append(s)"
   ]
  },
  {
   "cell_type": "code",
   "execution_count": null,
   "metadata": {},
   "outputs": [],
   "source": [
    "[[st.start.TmIdx,st.start.V,st.peak.TmIdx,st.peak.V,st.ML[st.mp[st.pp]].start, st.mp[0]] for st in m.Lv1_L if 10200<st.start.TmIdx<10600]"
   ]
  },
  {
   "cell_type": "code",
   "execution_count": null,
   "metadata": {},
   "outputs": [],
   "source": [
    "[[st.start.TmIdx,st.start.V,st.peak.TmIdx,st.peak.V] for st in m.Lv0_L if 10382<st.start.TmIdx<10465]"
   ]
  },
  {
   "cell_type": "code",
   "execution_count": null,
   "metadata": {},
   "outputs": [],
   "source": [
    "dd99 = [[st.start.TmIdx, st.peak.V, st.ML[st.mp[st.pp-1]].peak.V, st.pp] for st in m.Lv1_L if st.peak.V != st.ML[st.mp[st.pp]].start.V]\n",
    "len(dd99)"
   ]
  },
  {
   "cell_type": "code",
   "execution_count": null,
   "metadata": {},
   "outputs": [],
   "source": [
    "dd99"
   ]
  },
  {
   "cell_type": "code",
   "execution_count": null,
   "metadata": {},
   "outputs": [],
   "source": [
    "for i,st in enumerate(m.Lv1_L):\n",
    "    if st.start.TmIdx == 8685:\n",
    "        print(i)\n",
    "        break"
   ]
  },
  {
   "cell_type": "code",
   "execution_count": null,
   "metadata": {},
   "outputs": [],
   "source": [
    "SIG_overlapMv.Fremark"
   ]
  },
  {
   "cell_type": "code",
   "execution_count": null,
   "metadata": {},
   "outputs": [],
   "source": [
    "st = m.Lv1_L[270]\n",
    "st.pp, st.mp"
   ]
  },
  {
   "cell_type": "code",
   "execution_count": null,
   "metadata": {},
   "outputs": [],
   "source": [
    "m.Lv1_L[320].remark"
   ]
  },
  {
   "cell_type": "code",
   "execution_count": null,
   "metadata": {},
   "outputs": [],
   "source": [
    "dd = [[s.TmS, s.drt,s.HTmS, s.HP.drt,s.HP_cc,s.HP_st_len, s.HL_limit,\n",
    " dt_df.iloc[int(s.TmS)].name,dt_df.iloc[int(s.TmS)].close,\n",
    "  dt_df.iloc[int(s.TmS):int(s.TmS)+480]['low'].min(), dt_df.iloc[int(s.TmS):int(s.TmS)+480]['high'].max()] for s in m.SIG_L[2:]]"
   ]
  },
  {
   "cell_type": "code",
   "execution_count": null,
   "metadata": {},
   "outputs": [],
   "source": [
    "df_out = pd.DataFrame(dd)\n",
    "df_out.columns = ['TmS', 'sig_drt', 'HTmS','HP.drt','s.HP_cc','s.HP_st_len', 'ccHL', 'Tm', 'V', 'V-min', 'V-max']"
   ]
  },
  {
   "cell_type": "code",
   "execution_count": null,
   "metadata": {},
   "outputs": [],
   "source": [
    "df_out.to_excel('SIG.xlsx')"
   ]
  },
  {
   "cell_type": "code",
   "execution_count": null,
   "metadata": {},
   "outputs": [],
   "source": [
    "m.Lv1_L[94]"
   ]
  },
  {
   "cell_type": "code",
   "execution_count": null,
   "metadata": {},
   "outputs": [],
   "source": [
    "dt_df.iloc[2664].name"
   ]
  },
  {
   "cell_type": "code",
   "execution_count": null,
   "metadata": {},
   "outputs": [],
   "source": [
    "dd=[]\n",
    "dd = [[st.start.TmIdx, st.start.V, st.drt,st.peak.TmIdx, st.end.TmIdx,st.peak.TmIdx - st.start.TmIdx] for st in m.Lv2_L]"
   ]
  },
  {
   "cell_type": "code",
   "execution_count": null,
   "metadata": {},
   "outputs": [],
   "source": [
    "dd=[]\n",
    "dd = [[p.TmS, p.drt, p.S, p.P] for p in m.PCLv2_L[0].cL[0]]\n",
    "dd"
   ]
  },
  {
   "cell_type": "code",
   "execution_count": null,
   "metadata": {},
   "outputs": [],
   "source": [
    "rangeL, rangeH = dt_df[i-w:i+w].TmIdx.values[0], dt_df[i-w:i+w].TmIdx.values[-1]"
   ]
  },
  {
   "cell_type": "code",
   "execution_count": null,
   "metadata": {},
   "outputs": [],
   "source": [
    "rangeL, rangeH"
   ]
  },
  {
   "cell_type": "code",
   "execution_count": null,
   "metadata": {},
   "outputs": [],
   "source": [
    "m.PCLv0_L[0].cL[0][0].__dict__"
   ]
  },
  {
   "cell_type": "code",
   "execution_count": null,
   "metadata": {},
   "outputs": [],
   "source": [
    "df_out = pd.DataFrame(dd)\n",
    "df_out.columns = ['TmS', 'start', 'drt', 'TmP', 'TmE', 'T']\n",
    "df_out['A'] = -df_out.start.diff(-1)"
   ]
  },
  {
   "cell_type": "code",
   "execution_count": null,
   "metadata": {},
   "outputs": [],
   "source": [
    "df_out.to_excel('data_csv\\\\lv2.xlsx')"
   ]
  },
  {
   "cell_type": "code",
   "execution_count": null,
   "metadata": {},
   "outputs": [],
   "source": [
    "list(range(4)).reverse()"
   ]
  },
  {
   "cell_type": "code",
   "execution_count": null,
   "metadata": {},
   "outputs": [],
   "source": [
    "for i in list(range(4))[::-1]:\n",
    "    print(i)"
   ]
  },
  {
   "cell_type": "markdown",
   "metadata": {},
   "source": [
    "### 快照"
   ]
  },
  {
   "cell_type": "code",
   "execution_count": null,
   "metadata": {},
   "outputs": [],
   "source": [
    "dt_df['close'].plot(figsize=(2000/72,800/72))"
   ]
  },
  {
   "cell_type": "markdown",
   "metadata": {},
   "source": [
    "### Matplotlib "
   ]
  },
  {
   "cell_type": "code",
   "execution_count": null,
   "metadata": {},
   "outputs": [],
   "source": [
    "# prepare data\n",
    "y = dt_df['TmIdx'].values.tolist()"
   ]
  },
  {
   "cell_type": "code",
   "execution_count": null,
   "metadata": {},
   "outputs": [],
   "source": [
    "x = dt_df['close'].values.tolist()"
   ]
  },
  {
   "cell_type": "code",
   "execution_count": null,
   "metadata": {},
   "outputs": [],
   "source": [
    "dt = dt_df.iloc[:20]\n",
    "dt = dt[['open', 'high', 'low','close']]\n",
    "dt.index.name = 'Date'"
   ]
  },
  {
   "cell_type": "code",
   "execution_count": null,
   "metadata": {},
   "outputs": [],
   "source": [
    "import matplotlib.dates as mdates\n",
    "import matplotlib.ticker as ticker\n",
    "from matplotlib.collections import PatchCollection\n",
    "from matplotlib.patches import Rectangle\n",
    "from matplotlib.lines import Line2D\n",
    "from datetime import datetime"
   ]
  },
  {
   "cell_type": "code",
   "execution_count": null,
   "metadata": {},
   "outputs": [],
   "source": [
    "def draw_pairs(ax, data_collection, facecolor='r', edgecolor='None', alpha=0.5, marker=False ):\n",
    "    # draw pair stick\n",
    "    for pp in data_collection:\n",
    "        x = [pp.ML[pp.index[0]].start.TmIdx, pp.ML[pp.index[0]].peak.TmIdx]\n",
    "        y = [pp.ML[pp.index[0]].start.V, pp.ML[pp.index[0]].peak.V]\n",
    "        ax.add_line(Line2D(x,y, lw=2, c=facecolor, alpha=alpha))\n",
    "        if marker:\n",
    "            ax.text(x[0],y[0], pp.TmS, c= facecolor)\n",
    "    \n",
    "    # draw rectangle\n",
    "    rect =[ Rectangle((pp.ML[pp.index[0]].peak.TmIdx, pp.ccHL[2]),\n",
    "                      pp.ML[pp.index[-1]].peak.TmIdx - pp.ML[pp.index[0]].peak.TmIdx, pp.ccHL[3] - pp.ccHL[2])\n",
    "           for pp in data_collection]\n",
    "    pc = PatchCollection(rect, facecolor=facecolor, alpha=0.5, edgecolor=edgecolor)\n",
    "    ax.add_collection(pc)  \n",
    "    if marker:\n",
    "        for pp in data_collection:\n",
    "            ax.text(pp.ML[pp.index[0]].peak.TmIdx, pp.ccHL[2], pp.ccHL[2], c='r')\n",
    "            ax.text(pp.ML[pp.index[0]].peak.TmIdx, pp.ccHL[3], pp.ccHL[3], c='r')\n",
    "    \n",
    "    return None\n"
   ]
  },
  {
   "cell_type": "code",
   "execution_count": null,
   "metadata": {},
   "outputs": [],
   "source": [
    "def draw_trends(ax, data_collection, linecolor='crimson',  lw=0.5, alpha = None, marker=False ):\n",
    "    x = [pp.start.TmIdx for pp in data_collection]\n",
    "    y = [pp.start.V for pp in data_collection]\n",
    "    ax.add_line(Line2D(x,y, linewidth=lw, color=linecolor, alpha=alpha))\n",
    "    if marker:\n",
    "        for st in data_collection:\n",
    "            ax.text(st.start.TmIdx, st.start.V, st.start, c='navy')\n",
    "    return None"
   ]
  },
  {
   "cell_type": "code",
   "execution_count": null,
   "metadata": {},
   "outputs": [],
   "source": [
    "def draw_center(ax, data_collection, facecolor='r', edgecolor='None', lw=0.5, alpha = None):\n",
    "     # draw rectangle\n",
    "    rect =[ Rectangle((cc.TmS, cc.L), cc.TmE - cc.TmS, cc.H - cc.L)\n",
    "           for cc in data_collection]\n",
    "    pc = PatchCollection(rect, facecolor=facecolor, alpha=0.2, edgecolor=edgecolor)\n",
    "    ax.add_collection(pc) \n",
    "    return None"
   ]
  },
  {
   "cell_type": "code",
   "execution_count": null,
   "metadata": {},
   "outputs": [],
   "source": [
    "# 画放大图\n",
    "# Input: dt_df, \n",
    "#        [s_idx: e_idx], \n",
    "def detial_fig(dt_df, s_idx, e_idx):\n",
    "\n",
    "    ## 拼接 x_label\n",
    "    dt_df['label2'] = dt_df.index\n",
    "    dt_df['label'] = dt_df['label2'].apply(lambda x: x.strftime(\"%m/%d %H\"))\n",
    "    dt_df['label'] = dt_df['TmIdx'].astype('str').str.cat(dt_df['label'], sep=' ')\n",
    "    dt_df.drop(['label2'],axis=1, inplace=True)\n",
    "\n",
    "    ## x_label 转换函数\n",
    "    x_fmt = dt_df['label'].values.tolist()\n",
    "    def format_date(x,pos=None):   \n",
    "        x = int(x)\n",
    "        if x<0 or x>len(x_fmt)-1:\n",
    "            return ''\n",
    "        return x_fmt[x]\n",
    "\n",
    "    ## 底图数据 by [s_idx: e_idx]\n",
    "    x = [s_idx, e_idx]\n",
    "    y = [dt_df.iloc[s_idx:e_idx].high.max(), dt_df.iloc[s_idx:e_idx].low.min()]\n",
    "    print(x,y)\n",
    "    \n",
    "    ## draw\n",
    "    fig, ax = plt.subplots(figsize=(6000/300, 2400/300), dpi=300)\n",
    "    \n",
    "    #=== 底图设置\n",
    "    ax.xaxis.set_major_formatter(ticker.FuncFormatter(format_date))\n",
    "    ax.xaxis.set_major_locator(ticker.MultipleLocator(int((e_idx-s_idx)/10)))\n",
    "    ax.plot(x, y, alpha=0)\n",
    "    \n",
    "    #=== \n",
    "    Lv0_list = [st for st in m.Lv0_L if s_idx<st.peak.TmIdx<=e_idx]\n",
    "    draw_trends(ax, Lv0_list)\n",
    "    Lv1_list = [st for st in m.Lv1_L if s_idx<st.peak.TmIdx<=e_idx]\n",
    "    draw_trends(ax, Lv1_list, linecolor='b',alpha = 0.8, marker=True)\n",
    "    Lv2_list = [st for st in m.Lv2_L if s_idx<st.peak.TmIdx<=e_idx]\n",
    "    draw_trends(ax, Lv2_list, linecolor='indigo', lw=2, alpha = 0.8)\n",
    "    \n",
    "    center_list0 = [cc for cc in m.CLv0_L if cc.is_main==10 and s_idx<=cc.TmS and cc.TmE <=e_idx]\n",
    "    draw_center(ax, center_list0)\n",
    "    center_list1 = [cc for cc in m.CLv1_L if cc.is_main==10 and s_idx<=cc.TmS and cc.TmE <=e_idx]\n",
    "    draw_center(ax, center_list1, facecolor='turquoise')\n",
    "    \n",
    "    center_list2 = [cc for cc in m.CLv2_L if s_idx<=cc.TmS and cc.TmE <=e_idx]\n",
    "    #draw_center(ax, center_list2,  facecolor='indigo')\n",
    "    \n",
    "    sig_list =[ss for ss in SIG_overlapMv.L if s_idx<=ss.TmInit <=e_idx]\n",
    "    for ss in sig_list:\n",
    "        #ax.text(ss.TmInit, ss.sigV+1, ss.remark)\n",
    "        ax.annotate(ss.remark.split(',')[0], xy=(ss.TmInit, ss.sigV), xytext=(ss.TmInit, ss.sigV+2),\n",
    "                arrowprops=dict(facecolor='black',headwidth=2,headlength=2, shrink=0.05, width=0.5),\n",
    "                )\n",
    "    \n",
    "    fig.autofmt_xdate()\n",
    "    plt.savefig('图{}细节-{}-{}.png'.format(stockID,str(int(s_idx)), str(int(e_idx))))\n",
    "    "
   ]
  },
  {
   "cell_type": "code",
   "execution_count": null,
   "metadata": {},
   "outputs": [],
   "source": [
    "# 全景缩略图\n",
    "# Input: dt_df, \n",
    "def overscan_fig(dt_df, stockID):\n",
    "\n",
    "    ## 拼接 x_label\n",
    "    dt_df['label2'] = dt_df.index\n",
    "    dt_df['label'] = dt_df['label2'].apply(lambda x: x.strftime(\"%m/%d %H\"))\n",
    "    dt_df['label'] = dt_df['TmIdx'].astype('str').str.cat(dt_df['label'], sep=' ')\n",
    "    dt_df.drop(['label2'],axis=1, inplace=True)\n",
    "    \n",
    "    x_data = dt_df['label'].values\n",
    "    y_data = dt_df['close'].values\n",
    "\n",
    "    ## x_label 转换函数\n",
    "    x_fmt = dt_df['label'].values.tolist()\n",
    "    def format_date(x,pos=None):   \n",
    "        x = int(x)\n",
    "        if x<0 or x>len(x_fmt)-1:\n",
    "            return ''\n",
    "        return x_fmt[x]\n",
    "    \n",
    "    ## draw\n",
    "    fig, ax = plt.subplots(figsize=(6000/300, 2400/300), dpi=300)\n",
    "    \n",
    "    #=== 底图设置\n",
    "    ax.xaxis.set_major_formatter(ticker.FuncFormatter(format_date))\n",
    "    ax.xaxis.set_major_locator(ticker.MultipleLocator(int((len(x_data))/10)))\n",
    "    ax.plot(x_data, y_data)\n",
    "       \n",
    "    fig.autofmt_xdate()\n",
    "    plt.title(stockID,fontdict=font_dict,loc=loc)\n",
    "    plt.savefig('图{}全景.png'.format(stockID))"
   ]
  },
  {
   "cell_type": "code",
   "execution_count": null,
   "metadata": {},
   "outputs": [],
   "source": [
    "overscan_fig(dt_df, stockID)"
   ]
  },
  {
   "cell_type": "code",
   "execution_count": null,
   "metadata": {},
   "outputs": [],
   "source": [
    "dt_df.iloc[5522].name"
   ]
  },
  {
   "cell_type": "code",
   "execution_count": null,
   "metadata": {},
   "outputs": [],
   "source": [
    "c = '2019-06-26'\n",
    "r = 700\n",
    "\n",
    "c_stp = dt_df[c].index.tolist()[0]\n",
    "c_idx = int(dt_df.loc[c_stp,'TmIdx'])\n",
    "\n",
    "s_idx = int(max(0, c_idx-r))\n",
    "s_stp = dt_df.iloc[int(s_idx),:].name\n",
    "\n",
    "e_idx = int(min(dt_df.shape[0], c_idx+r+1))\n",
    "e_stp = dt_df.iloc[int(e_idx),:].name\n",
    "c_idx, s_idx,s_stp, e_idx, e_stp"
   ]
  },
  {
   "cell_type": "code",
   "execution_count": null,
   "metadata": {
    "scrolled": true
   },
   "outputs": [],
   "source": [
    "s_idx, e_idx =5000,\n",
    "# 绘制全景图\n",
    "# Input: dt_df, \n",
    "#        [s_idx: e_idx], \n",
    "#       对象列表？？ \n",
    "\n",
    "## 拼接 x_label\n",
    "dt_df['label2'] = dt_df.index\n",
    "dt_df['label'] = dt_df['label2'].apply(lambda x: x.strftime(\"%m/%d %H\"))\n",
    "dt_df['label'] = dt_df['TmIdx'].astype('str').str.cat(dt_df['label'], sep=' ')\n",
    "dt_df.drop(['label2'],axis=1, inplace=True)\n",
    "\n",
    "## x_label 转换函数\n",
    "x_fmt = dt_df['label'].values.tolist()\n",
    "def format_date(x,pos=None):   \n",
    "    x = int(x)\n",
    "    if x<0 or x>len(x_fmt)-1:\n",
    "        return ''\n",
    "    return x_fmt[x]\n",
    "\n",
    "## 底图数据 by [s_idx: e_idx]\n",
    "x = [s_idx, e_idx]\n",
    "y = [dt_df.iloc[s_idx:e_idx].high.max(), dt_df.iloc[s_idx:e_idx].low.min()]\n",
    "print(x,y)\n",
    "\n",
    "## draw\n",
    "fig, ax = plt.subplots(figsize=(6000/300, 2400/300), dpi=300)\n",
    "\n",
    "#=== 底图设置\n",
    "ax.xaxis.set_major_formatter(ticker.FuncFormatter(format_date))\n",
    "ax.xaxis.set_major_locator(ticker.MultipleLocator(int((e_idx-s_idx)/10)))\n",
    "ax.plot(x, y, alpha=0)\n",
    "\n",
    "#=== \n",
    "Lv0_list = [st for st in m.Lv0_L if s_idx<st.peak.TmIdx<=e_idx]\n",
    "draw_trends(ax, Lv0_list)\n",
    "Lv1_list = [st for st in m.Lv1_L if s_idx<st.peak.TmIdx<=e_idx]\n",
    "draw_trends(ax, Lv1_list, linecolor='b',alpha = 0.8, marker=False)\n",
    "Lv2_list = [st for st in m.Lv2_L if s_idx<st.peak.TmIdx<=e_idx]\n",
    "draw_trends(ax, Lv2_list, linecolor='indigo', lw=2, alpha = 0.8)\n",
    "\n",
    "center_list0 = [cc for cc in m.CLv0_L if cc.is_main==10 and s_idx<=cc.TmS and cc.TmE <=e_idx]\n",
    "draw_center(ax, center_list0)\n",
    "center_list1 = [cc for cc in m.CLv1_L if cc.is_main==10 and s_idx<=cc.TmS and cc.TmE <=e_idx]\n",
    "draw_center(ax, center_list1, facecolor='turquoise')\n",
    "\n",
    "center_list2 = [cc for cc in m.CLv2_L if s_idx<=cc.TmS and cc.TmE <=e_idx]\n",
    "#draw_center(ax, center_list2,  facecolor='indigo')\n",
    "\n",
    "sig_list =[ss for ss in SIG_overlapMv.L if s_idx<=ss.TmInit <=e_idx]\n",
    "for ss in sig_list:\n",
    "    #ax.text(ss.TmInit, ss.sigV+1, ss.remark)\n",
    "    ax.annotate(ss.remark.split(',')[0], xy=(ss.TmInit, ss.sigV), xytext=(ss.TmInit, ss.sigV+2),\n",
    "            arrowprops=dict(facecolor='black',headwidth=2,headlength=2, shrink=0.05, width=0.5),\n",
    "            )\n",
    "'''\n",
    "pair_list = [pp for pp in m.PLv0_L \n",
    "             if pp.chain_layer == 0 and s_idx<pp.ML[pp.index[0]].peak.TmIdx<e_idx]\n",
    "draw_pairs(ax, pair_list)\n",
    "pair_list1 = [pp for pp in m.PLv1_L \n",
    "             if pp.chain_layer == 0 and s_idx<pp.ML[pp.index[0]].peak.TmIdx<e_idx]\n",
    "draw_pairs(ax, pair_list1, facecolor='turquoise', alpha=0.8)\n",
    "pair_list2 = [pp for pp in m.PLv2_L \n",
    "             if pp.chain_layer == 0 and s_idx<pp.ML[pp.index[0]].peak.TmIdx<e_idx]\n",
    "draw_pairs(ax, pair_list2, facecolor='violet',marker=False, alpha=0.8)\n",
    "'''\n",
    "\n",
    "fig.autofmt_xdate()\n",
    "plt.savefig('图{}-{}_{}.png'.format(stockID, str(int(s_idx)), str(int(e_idx))))"
   ]
  },
  {
   "cell_type": "code",
   "execution_count": null,
   "metadata": {},
   "outputs": [],
   "source": [
    "c = 5600\n",
    "r = 100\n",
    "s_idx, e_idx = c-r, c+r\n",
    "\n",
    "detial_fig(dt_df, s_idx, e_idx)"
   ]
  },
  {
   "cell_type": "code",
   "execution_count": null,
   "metadata": {},
   "outputs": [],
   "source": [
    "for s in SIG_overlapMv.L:\n",
    "    if s.lv_TmS == 10323:\n",
    "        print(s.remark)\n",
    "        break"
   ]
  },
  {
   "cell_type": "code",
   "execution_count": null,
   "metadata": {},
   "outputs": [],
   "source": [
    "#[10323.0, 10367.0, 10419.0]"
   ]
  },
  {
   "cell_type": "code",
   "execution_count": null,
   "metadata": {},
   "outputs": [],
   "source": [
    "for st in m.Lv1_L:\n",
    "    if st.start.TmIdx == 10323:\n",
    "        print(st.start.V, st.peak.V, st.mp[st.pp], st.ML[st.mp[st.pp] - 1].peak, st.ML[st.mp[st.pp]], m.Lv1_L.index(st))\n",
    "        break"
   ]
  },
  {
   "cell_type": "code",
   "execution_count": null,
   "metadata": {},
   "outputs": [],
   "source": [
    "[[st.start.V, st.peak.V] for st in m.Lv0_L[1520:1525]]\n",
    "    "
   ]
  },
  {
   "cell_type": "code",
   "execution_count": null,
   "metadata": {},
   "outputs": [],
   "source": [
    "[st for st in m.Lv3_L if s_idx<st.peak.TmIdx<=13000]"
   ]
  },
  {
   "cell_type": "code",
   "execution_count": null,
   "metadata": {},
   "outputs": [],
   "source": [
    "[[pp.TmS, pp.drt, pp.ccHL[3],pp.ccHL[2]] for pp in m.PLv1_L \n",
    "             if pp.chain_layer == 0 and s_idx<pp.ML[pp.index[0]].peak.TmIdx<11500]"
   ]
  },
  {
   "cell_type": "code",
   "execution_count": null,
   "metadata": {},
   "outputs": [],
   "source": [
    "m.Lv0_L[0].start"
   ]
  },
  {
   "cell_type": "code",
   "execution_count": null,
   "metadata": {},
   "outputs": [],
   "source": [
    "pp = m.PLv0_L[4]"
   ]
  },
  {
   "cell_type": "code",
   "execution_count": null,
   "metadata": {},
   "outputs": [],
   "source": [
    "[( (pp.ML[pp.index[0]].peak.TmIdx, pp.ccHL[2]), \n",
    "  pp.ML[pp.index[-1]].peak.TmIdx - pp.ML[pp.index[0]].peak.TmIdx,\n",
    "  pp.ccHL[3] - pp.ccHL[2]) \n",
    " for pp in m.PLv0_L[1:5]]"
   ]
  },
  {
   "cell_type": "code",
   "execution_count": null,
   "metadata": {},
   "outputs": [],
   "source": [
    "dt_df.iloc[168].name"
   ]
  },
  {
   "cell_type": "code",
   "execution_count": null,
   "metadata": {},
   "outputs": [],
   "source": []
  },
  {
   "cell_type": "code",
   "execution_count": null,
   "metadata": {},
   "outputs": [],
   "source": []
  },
  {
   "cell_type": "code",
   "execution_count": null,
   "metadata": {},
   "outputs": [],
   "source": []
  },
  {
   "cell_type": "code",
   "execution_count": null,
   "metadata": {},
   "outputs": [],
   "source": [
    "fig, ax = plt.subplots(figsize=(1200/72,480/72))\n",
    "\n",
    "# format the ticks\n",
    "tmLabel = dt_df[80:220].index\n",
    "x_idx = dt_df[80:220].TmIdx.values.tolist()\n",
    "x_fmt = [x.strftime(\"%m/%d %H\") for x in tmLabel]\n",
    "\n",
    "def format_date(x,pos=None):   \n",
    "    x = int(x)\n",
    "    if x<0:\n",
    "        return ''\n",
    "    else:\n",
    "        x2 = x_idx.index(x) -x_idx[0]\n",
    "    return x_fmt[x2]\n",
    "\n",
    "ax.xaxis.set_major_formatter(ticker.FuncFormatter(format_date))\n",
    "ax.xaxis.set_major_locator(ticker.MultipleLocator(6))\n",
    "\n",
    "# get xy data\n",
    "x = data_up.TmIdx.values\n",
    "ymin = data_up.open.values\n",
    "ymax = data_up.close.values\n",
    "ax.vlines(x, ymin, ymax, color='r', lw=5)\n",
    "ax.vlines(x, data_up.low.values, data_up.high.values, color='r', lw=1)\n",
    "x = data_down.TmIdx.values\n",
    "ymin = data_down.close.values\n",
    "ymax = data_down.open.values\n",
    "ax.vlines(x, ymin, ymax, color='g', lw=5)\n",
    "ax.vlines(x, data_down.low.values, data_down.high.values, color='g', lw=1)\n",
    "\n",
    "#x = [d[0] for d in dd[:10]]\n",
    "#y = [d[1] for d in dd[:10]]\n",
    "#ax.plot(x, y, color='b')\n",
    "\n",
    "\n",
    "fig.autofmt_xdate()\n",
    "plt.savefig(\"image01.png\")\n",
    "#plt.show()"
   ]
  },
  {
   "cell_type": "code",
   "execution_count": null,
   "metadata": {},
   "outputs": [],
   "source": [
    "def candel_plotter(ax, data_df, i, w):\n",
    "    data = data_df[i-w:i+w]\n",
    "    data_up = data.query('open <= close')\n",
    "    data_down = data.query('open > close')\n",
    "    \n",
    "    x = data_up.TmIdx.values\n",
    "    ax.vlines(x, data_up.open.values, data_up.close.values, color='r', lw=5)\n",
    "    ax.vlines(x, data_up.low.values, data_up.high.values, color='r', lw=1)\n",
    "    x = data_down.TmIdx.values\n",
    "    ax.vlines(x, data_down.close.values, data_down.open.values, color='g', lw=5)\n",
    "    ax.vlines(x, data_down.low.values, data_down.high.values, color='g', lw=1)\n",
    "    \n",
    "    #out = ax.plot(data1, data2, **param_dict)\n",
    "    return None"
   ]
  },
  {
   "cell_type": "code",
   "execution_count": null,
   "metadata": {},
   "outputs": [],
   "source": [
    "i, w = 10000,50\n",
    "fig, ax = plt.subplots(1, 1,figsize=(1200/72,480/72))\n",
    "\n",
    "# format the ticks\n",
    "tmLabel = dt_df[i-w-int(w*0.3):i+w+int(w*0.3)].index\n",
    "x_idx = dt_df[i-w-int(w*0.3):i+w+int(w*0.3)].TmIdx.values.tolist()\n",
    "x_fmt = [x.strftime(\"%m/%d %H\") for x in tmLabel]\n",
    "\n",
    "def format_date(x,pos=None):   \n",
    "    x = int(x)\n",
    "    if x<0:\n",
    "        return ''\n",
    "    else:\n",
    "        x2 = x_idx.index(x)\n",
    "    return x_fmt[x2]\n",
    "\n",
    "ax.xaxis.set_major_formatter(ticker.FuncFormatter(format_date))\n",
    "ax.xaxis.set_major_locator(ticker.MultipleLocator(6))\n",
    "\n",
    "\n",
    "candel_plotter(ax, dt_df, i, w)\n",
    "fig.autofmt_xdate()\n",
    "plt.show()"
   ]
  },
  {
   "cell_type": "code",
   "execution_count": null,
   "metadata": {},
   "outputs": [],
   "source": [
    "x_fmt[18]"
   ]
  },
  {
   "cell_type": "code",
   "execution_count": null,
   "metadata": {},
   "outputs": [],
   "source": [
    "dt_df[500:501].index"
   ]
  },
  {
   "cell_type": "code",
   "execution_count": null,
   "metadata": {},
   "outputs": [],
   "source": [
    "dt_df.loc['2019-11-8 13':'2019-11-11']"
   ]
  },
  {
   "cell_type": "code",
   "execution_count": null,
   "metadata": {},
   "outputs": [],
   "source": []
  },
  {
   "cell_type": "code",
   "execution_count": null,
   "metadata": {},
   "outputs": [],
   "source": []
  },
  {
   "cell_type": "code",
   "execution_count": null,
   "metadata": {},
   "outputs": [],
   "source": []
  },
  {
   "cell_type": "code",
   "execution_count": null,
   "metadata": {},
   "outputs": [],
   "source": [
    "#dt_df.loc[:'1/3/2020', 'close']\n",
    "#dt_df.loc[:datetime(2020,1,3), 'close']"
   ]
  },
  {
   "cell_type": "code",
   "execution_count": null,
   "metadata": {},
   "outputs": [],
   "source": [
    "pd.core.index"
   ]
  },
  {
   "cell_type": "code",
   "execution_count": null,
   "metadata": {},
   "outputs": [],
   "source": []
  },
  {
   "cell_type": "code",
   "execution_count": null,
   "metadata": {},
   "outputs": [],
   "source": []
  },
  {
   "cell_type": "code",
   "execution_count": null,
   "metadata": {},
   "outputs": [],
   "source": [
    "def verify_end_to_end(lv_L):\n",
    "    # peak with start\n",
    "    dd = [[st1.start.TmIdx, st1.peak, st2.start] for st1,st2 in zip(lv_L[:-2], lv_L[1:]) if st1.peak.TmIdx != st2.start.TmIdx]\n",
    "    if len(dd) == 0:\n",
    "        return True\n",
    "    else:\n",
    "        return dd"
   ]
  },
  {
   "cell_type": "code",
   "execution_count": null,
   "metadata": {},
   "outputs": [],
   "source": [
    "def verity_valley_after_peak(lv_L):\n",
    "    return True"
   ]
  },
  {
   "cell_type": "code",
   "execution_count": null,
   "metadata": {},
   "outputs": [],
   "source": [
    "verify_end_to_end(m.Lv1_L)"
   ]
  },
  {
   "cell_type": "markdown",
   "metadata": {},
   "source": [
    "### Trend Analysis"
   ]
  },
  {
   "cell_type": "code",
   "execution_count": null,
   "metadata": {},
   "outputs": [],
   "source": [
    "dd = [[st.start.TmIdx, st.start.V, st.drt,st.peak.TmIdx, st.end.TmIdx,st.peak.TmIdx - st.start.TmIdx, \n",
    "      len(st.ES_stack), st.mp, st.mp[0]] for st in m.Lv1_L]"
   ]
  },
  {
   "cell_type": "code",
   "execution_count": null,
   "metadata": {},
   "outputs": [],
   "source": [
    "df_out = pd.DataFrame(dd)\n",
    "df_out.columns = ['TmS','start','drt', 'TmP', 'TmE', 'T', 'ES', 'mp', 'mp0']\n",
    "df_out['A'] = -df_out.start.diff(-1)\n",
    "df_out['st_cnt'] = -df_out.mp0.diff(-1)"
   ]
  },
  {
   "cell_type": "code",
   "execution_count": null,
   "metadata": {},
   "outputs": [],
   "source": [
    "df_out.to_excel('data_csv\\\\lv1.xlsx')"
   ]
  },
  {
   "cell_type": "code",
   "execution_count": null,
   "metadata": {},
   "outputs": [],
   "source": [
    "df_out.A.abs().quantile([.1, .15, .25,.5, .75,.85,.9])"
   ]
  },
  {
   "cell_type": "code",
   "execution_count": null,
   "metadata": {},
   "outputs": [],
   "source": [
    "df_out.A.abs().mean()"
   ]
  },
  {
   "cell_type": "code",
   "execution_count": null,
   "metadata": {},
   "outputs": [],
   "source": [
    "ss = df_out['A'].tolist()\n",
    "ss.append(np.nan)\n",
    "ss.append(np.nan)\n",
    "df_out.loc[:,'A_next2'] = ss[2:]\n",
    "df_out.loc[:,'A_next'] = ss[1:-1]"
   ]
  },
  {
   "cell_type": "code",
   "execution_count": null,
   "metadata": {},
   "outputs": [],
   "source": [
    "df_out.head()"
   ]
  },
  {
   "cell_type": "code",
   "execution_count": null,
   "metadata": {},
   "outputs": [],
   "source": [
    "df_out.loc[df_out['A']>0.5, [ 'A_next2']].quantile([.1, .15, .25,.3, .35,.4,.45,.5,.6, .7, .75,.8, .85,.9])"
   ]
  },
  {
   "cell_type": "code",
   "execution_count": null,
   "metadata": {},
   "outputs": [],
   "source": [
    "df_out.loc[df_out['A']>0.7, ['A_next', 'A_next2']].quantile([.1, .15, .25,.3, .35,.4,.45,.5,.6, .7, .75,.8, .85,.9])"
   ]
  },
  {
   "cell_type": "code",
   "execution_count": null,
   "metadata": {},
   "outputs": [],
   "source": [
    "df_out.query('A>0.7 and A_next<-0.6').A_next2.quantile([.1, .15, .25,.3, .35,.4,.45,.5,.6, .7, .75,.8, .85,.9])"
   ]
  },
  {
   "cell_type": "code",
   "execution_count": null,
   "metadata": {},
   "outputs": [],
   "source": [
    "df_out.query('A>0.7 and A_next<-0.6 and A > -A_next')"
   ]
  },
  {
   "cell_type": "code",
   "execution_count": null,
   "metadata": {},
   "outputs": [],
   "source": [
    "df_out.loc[df_out['A']>0.3, [ 'A_next','A_next2']].quantile([.1, .15, .25,.3, .35,.4,.45,.5,.6, .7, .75,.8, .85,.9])"
   ]
  },
  {
   "cell_type": "code",
   "execution_count": null,
   "metadata": {},
   "outputs": [],
   "source": [
    "tmIdx = 15929\n"
   ]
  },
  {
   "cell_type": "code",
   "execution_count": null,
   "metadata": {},
   "outputs": [],
   "source": [
    "# find Lv\n",
    "def find_lv(tmIdx, level):\n",
    "    global m\n",
    "    lv_idx = [st.start.TmIdx for st in m.findList('st', level)]\n",
    "    lv = m.findList('st', level)\n",
    "    \n",
    "    i = 0\n",
    "    for tm in lv_idx[1:]:\n",
    "        if tmIdx >= tm:\n",
    "            i += 1\n",
    "        else:\n",
    "            break\n",
    "    return i,lv[i]"
   ]
  },
  {
   "cell_type": "code",
   "execution_count": null,
   "metadata": {},
   "outputs": [],
   "source": [
    "find_lv(tmIdx,0), find_lv(tmIdx, 1),find_lv(tmIdx, 2)"
   ]
  },
  {
   "cell_type": "code",
   "execution_count": null,
   "metadata": {},
   "outputs": [],
   "source": [
    "# find Pair\n",
    "def find_pair(tmIdx, level):\n",
    "    global m\n",
    "    idx = [p.TmS for p in m.findList('pair', level)]\n",
    "    ll = m.findList('pair', level)\n",
    "    \n",
    "    i = 0\n",
    "    for tm in idx[1:]:\n",
    "        if tmIdx >= tm:\n",
    "            i += 1\n",
    "        else:\n",
    "            break\n",
    "    return i, ll[i]"
   ]
  },
  {
   "cell_type": "code",
   "execution_count": null,
   "metadata": {},
   "outputs": [],
   "source": [
    "find_pair(tmIdx, 1).__dict__"
   ]
  },
  {
   "cell_type": "code",
   "execution_count": null,
   "metadata": {},
   "outputs": [],
   "source": [
    "lv[0].__dict__"
   ]
  },
  {
   "cell_type": "code",
   "execution_count": null,
   "metadata": {},
   "outputs": [],
   "source": []
  },
  {
   "cell_type": "code",
   "execution_count": null,
   "metadata": {},
   "outputs": [],
   "source": [
    "m.Lv0_L[7]"
   ]
  },
  {
   "cell_type": "code",
   "execution_count": null,
   "metadata": {},
   "outputs": [],
   "source": [
    "m.Lv1_L[3]"
   ]
  },
  {
   "cell_type": "code",
   "execution_count": null,
   "metadata": {},
   "outputs": [],
   "source": [
    "m.Lv1_L[292].peak,m.Lv1_L[292],m.Lv1_L[292].end"
   ]
  },
  {
   "cell_type": "code",
   "execution_count": null,
   "metadata": {},
   "outputs": [],
   "source": [
    "m.Lv0_L[3].__dict__"
   ]
  },
  {
   "cell_type": "code",
   "execution_count": null,
   "metadata": {},
   "outputs": [],
   "source": [
    "len(m.PLv1_L)"
   ]
  },
  {
   "cell_type": "code",
   "execution_count": null,
   "metadata": {},
   "outputs": [],
   "source": [
    "len(m.position)"
   ]
  },
  {
   "cell_type": "code",
   "execution_count": null,
   "metadata": {},
   "outputs": [],
   "source": [
    "dd = [[op.drt,op.TmSig, op.TmOp, op.openV,op.pattern, op.pattern_objs] for op in m.position]"
   ]
  },
  {
   "cell_type": "code",
   "execution_count": null,
   "metadata": {},
   "outputs": [],
   "source": [
    "df = pd.DataFrame(dd)\n",
    "\n",
    "df.to_excel('position.xlsx')"
   ]
  },
  {
   "cell_type": "code",
   "execution_count": null,
   "metadata": {},
   "outputs": [],
   "source": [
    "m.PCLv0_L[0].cL"
   ]
  },
  {
   "cell_type": "code",
   "execution_count": null,
   "metadata": {},
   "outputs": [],
   "source": []
  },
  {
   "cell_type": "code",
   "execution_count": null,
   "metadata": {},
   "outputs": [],
   "source": []
  },
  {
   "cell_type": "code",
   "execution_count": null,
   "metadata": {},
   "outputs": [],
   "source": [
    "# print Pair list\n",
    "dd = m.PLv1_L[1].calFeatures()\n",
    "dd['TmS'] = []\n",
    "dd['chain_layer'] = []\n",
    "dd['index'] = []\n",
    "dd['S'] =[]\n",
    "dd['P'] = []\n",
    "for k in dd.keys():\n",
    "    dd[k] = []\n",
    "for p in m.PLv1_L:\n",
    "    print(p)\n",
    "    r = p.calFeatures()\n",
    "    r['TmS'] = p.TmS\n",
    "    r['chain_layer'] = p.chain_layer\n",
    "    r['index'] = p.index\n",
    "    r['S'] = p.S\n",
    "    r['P'] = p.P\n",
    "    for k in r.keys():\n",
    "        dd[k].append(r[k])\n",
    "df = pd.DataFrame(dd)\n",
    "df = df[['TmS','chain_layer',  'index', 'drt','is_flag','cl', 'ch', 'a','k','c_c_level', 'c_drt'\n",
    "         ,'S', 'P',  'b_tm', 'b_w', 'c_a',  'cc',\n",
    "        'p_v', 's_tm', 's_v']]\n",
    "df.to_excel('PairLv1.xlsx')"
   ]
  },
  {
   "cell_type": "code",
   "execution_count": null,
   "metadata": {},
   "outputs": [],
   "source": [
    "[p.index for p in m.PLv1_L]"
   ]
  },
  {
   "cell_type": "code",
   "execution_count": null,
   "metadata": {},
   "outputs": [],
   "source": []
  },
  {
   "cell_type": "code",
   "execution_count": null,
   "metadata": {},
   "outputs": [],
   "source": [
    "[st.distr() for st in m.Lv1_L[5].stick_stack]"
   ]
  },
  {
   "cell_type": "code",
   "execution_count": null,
   "metadata": {},
   "outputs": [],
   "source": [
    "m.Lv1_L[1].stick_stack[0]"
   ]
  },
  {
   "cell_type": "code",
   "execution_count": null,
   "metadata": {},
   "outputs": [],
   "source": [
    "m.Lv1_L[1].stick_stack[0].peak"
   ]
  },
  {
   "cell_type": "code",
   "execution_count": null,
   "metadata": {},
   "outputs": [],
   "source": [
    "m.Lv1_L[1].stick_stack[0].distr()"
   ]
  },
  {
   "cell_type": "code",
   "execution_count": null,
   "metadata": {},
   "outputs": [],
   "source": [
    "l = [[st.drt,st.amp()[0], st.amp()[1]] for st in m.Lv1_L]\n",
    "df = pd.DataFrame(l)\n",
    "df.to_excel('00lv_amp_by_st.xlsx')"
   ]
  },
  {
   "cell_type": "code",
   "execution_count": null,
   "metadata": {},
   "outputs": [],
   "source": [
    "tt = [list(st.distr()[0]) + list(st.distr()[1]) for st in m.Lv0_L[132:135]]\n",
    "tt_df = pd.DataFrame(tt)\n",
    "tt_df.to_excel('stdistr.xlsx')"
   ]
  },
  {
   "cell_type": "code",
   "execution_count": null,
   "metadata": {},
   "outputs": [],
   "source": [
    "x = m.PLv0_L[15].calFeatures()\n",
    "op = Operator(x,3,'pair_drt')\n",
    "op2 = Operator(x,0.5,'concentrated')\n",
    "r = Node([op,op2],1)\n",
    "r.do()"
   ]
  },
  {
   "cell_type": "code",
   "execution_count": null,
   "metadata": {},
   "outputs": [],
   "source": [
    "EventFactory.event_config"
   ]
  },
  {
   "cell_type": "code",
   "execution_count": null,
   "metadata": {},
   "outputs": [],
   "source": [
    "m.findList('pair',0).__name__"
   ]
  },
  {
   "cell_type": "code",
   "execution_count": null,
   "metadata": {},
   "outputs": [],
   "source": [
    "d = {'level_num':0, 'obj_name': 'Stick', 'event_name':'NEW', 'obj_p':'m.position[0]', 'method':'check_event', 'param':''}\n",
    "EventFactory.reg_event(d)"
   ]
  },
  {
   "cell_type": "code",
   "execution_count": null,
   "metadata": {},
   "outputs": [],
   "source": [
    "EventFactory.remove_event(d)"
   ]
  },
  {
   "cell_type": "code",
   "execution_count": null,
   "metadata": {},
   "outputs": [],
   "source": [
    "# print Pair Lv0\n",
    "dd = m.PLv0_L[5].output()\n",
    "for k in dd.keys():\n",
    "    dd[k] = []\n",
    "for p in m.PLv0_L:\n",
    "    r = p.output()\n",
    "    for k in r.keys():\n",
    "        dd[k].append(r[k])\n",
    "df = pd.DataFrame(dd)\n",
    "df.to_excel('pair0.xlsx')"
   ]
  },
  {
   "cell_type": "code",
   "execution_count": null,
   "metadata": {},
   "outputs": [],
   "source": [
    "# 把Lv0打印出来\n",
    "dd = [[st.drt,st.start.TmIdx,st.start.V,st.peak.TmIdx, st.peak.V] for st in m.Lv0_L]\n",
    "df_dd = pd.DataFrame(dd)\n",
    "df_dd.to_excel('Lv0_L.xlsx')"
   ]
  },
  {
   "cell_type": "code",
   "execution_count": null,
   "metadata": {},
   "outputs": [],
   "source": [
    "# 把Lv1打印出来\n",
    "dd = [[st.drt,st.start.TmIdx,st.start.V,st.peak.TmIdx, st.peak.V,st.pp,st.mp] for st in m.Lv1_L]\n",
    "df_dd = pd.DataFrame(dd)\n",
    "df_dd.to_excel('Lv1_L.xlsx')"
   ]
  },
  {
   "cell_type": "code",
   "execution_count": null,
   "metadata": {},
   "outputs": [],
   "source": [
    "# 把Lv2打印出来\n",
    "dd = [[st.drt,st.start.TmIdx,st.start.V,st.peak.TmIdx, st.peak.V,st.pp,st.mp] for st in m.Lv2_L]\n",
    "df_dd = pd.DataFrame(dd)\n",
    "df_dd.to_excel('Lv2_L.xlsx')"
   ]
  },
  {
   "cell_type": "code",
   "execution_count": null,
   "metadata": {},
   "outputs": [],
   "source": [
    "st = m.Lv0_L[3]\n",
    "k_L = [[k[1],k[2]] for k in dt if k[4]>= st.start.TmIdx and k[4]<= st.peak.TmIdx]\n",
    "\n",
    "interval = (st.peak.V - st.start.V)*st.drt/ 20\n",
    "L = min(st.peak.V, st.start.V)\n",
    "H = max(st.peak.V, st.start.V)\n",
    "scale = [L]\n",
    "for i in list(range(1,20)):\n",
    "    scale.append(scale[i-1]+interval)\n",
    "scale.append(H)\n",
    "\n",
    "distr = np.zeros(20)\n",
    "for k in k_L:\n",
    "    distr_k = np.zeros(20)\n",
    "    for i in list(range(20)):\n",
    "        if (min(k) <= scale[i] <= max(k)) or (min(k) <= scale[i+1] <= max(k)):\n",
    "            distr_k[i] = 1\n",
    "    cnt = distr_k.sum()\n",
    "    distr_k = distr_k/cnt\n",
    "    distr = distr + distr_k\n",
    "distr, distr.argmax()"
   ]
  },
  {
   "cell_type": "code",
   "execution_count": null,
   "metadata": {},
   "outputs": [],
   "source": []
  },
  {
   "cell_type": "code",
   "execution_count": null,
   "metadata": {},
   "outputs": [],
   "source": [
    "ll = np.zeros(20)\n",
    "ll[2:4] = 1\n",
    "cnt = ll.sum()\n",
    "ll = ll/cnt\n",
    "\n",
    "ll2 = np.ones(20)\n",
    "lr = ll +ll2\n",
    "lr"
   ]
  },
  {
   "cell_type": "code",
   "execution_count": null,
   "metadata": {},
   "outputs": [],
   "source": [
    "a = [1,2,3]\n",
    "a[:-1]"
   ]
  },
  {
   "cell_type": "markdown",
   "metadata": {},
   "source": [
    "### draw and verified"
   ]
  },
  {
   "cell_type": "code",
   "execution_count": null,
   "metadata": {},
   "outputs": [],
   "source": [
    "data = {\n",
    "    'times': x['TmIdx'],\n",
    "    'data': \n",
    "}"
   ]
  },
  {
   "cell_type": "code",
   "execution_count": null,
   "metadata": {},
   "outputs": [],
   "source": [
    "# 绘图用插值函数\n",
    "# input: \n",
    "#       1 - TmIdx array \n",
    "#       2 - Values array\n",
    "# output: 按x轴查完值的value array\n",
    "def interpoint(TmIdx_array, V_array):\n",
    "    global x\n",
    "    x['TmIdx'].astype('int64')\n",
    "    print(len(x))\n",
    "    df_tmp = pd.DataFrame({'V': V_array, 'TmIdx': TmIdx_array})\n",
    "    df_tmp['TmIdx'].astype('int64')\n",
    "    start_tm = int(TmIdx_array[0])\n",
    "    end_tm = int(TmIdx_array[-1]) +1\n",
    "    df_tmp = df_tmp.merge(x.iloc[start_tm:end_tm,:], how='right', left_on='TmIdx', right_on='TmIdx')\n",
    "    df_tmp.sort_values(['TmIdx'], inplace=True)\n",
    "    df_tmp['V'].interpolate(inplace=True)\n",
    "    return df_tmp['V'].values.tolist(), df_tmp[['TmIdx','V']]"
   ]
  },
  {
   "cell_type": "code",
   "execution_count": null,
   "metadata": {},
   "outputs": [],
   "source": [
    "def draw(lv_list):\n",
    "    global dt, interpoint\n",
    "    x_idx = [k[4] for k in dt]\n",
    "    oringe_dt = [[k[0], k[3], k[2], k[1]] for k in dt]\n",
    "\n",
    "    n = len(lv_list)\n",
    "    drawing_line = []\n",
    "    \n",
    "    for i in list(range(n)):\n",
    "        tm, v = [], []\n",
    "        for stick in lv_list[i]:\n",
    "            tm.append(stick.start.TmIdx)\n",
    "            v.append(stick.start.V)\n",
    "        dt_line = interpoint(tm,v)\n",
    "        line = Line('stick')\n",
    "        line.add('xxx', [k[4] for k in dt], dt_line\n",
    "        ,is_datazoom_show=True\n",
    "        )  \n",
    "        drawing_line.append(line)\n",
    "        \n",
    "    overlap = Overlap()\n",
    "    for line in drawing_line:\n",
    "        overlap.add(line)\n",
    "    \n",
    "    return overlap\n",
    "            "
   ]
  },
  {
   "cell_type": "code",
   "execution_count": null,
   "metadata": {},
   "outputs": [],
   "source": [
    "draw([Stick.lv_L, TrendLv1.lv_L, TrendLv2.lv_L])"
   ]
  },
  {
   "cell_type": "markdown",
   "metadata": {},
   "source": [
    "### 定点k-line"
   ]
  },
  {
   "cell_type": "code",
   "execution_count": null,
   "metadata": {},
   "outputs": [],
   "source": [
    "def draw_k(center_point, half_window, stock_name='xxx'):\n",
    "    line = Kline('stick')\n",
    "    global dt, x\n",
    "    \n",
    "    dt_x = x.iloc[center_point - half_window//2:center_point + half_window//2,2].values.tolist()\n",
    "    dt_tmp = [dd[:4] for dd in dt[center_point - half_window//2:center_point + half_window//2 ]]\n",
    "    dt_line = [[k[0], k[3], k[2], k[1]] for k in dt_tmp]\n",
    "    line.add(stock_name, dt_x, dt_line)  \n",
    "    return line\n"
   ]
  },
  {
   "cell_type": "code",
   "execution_count": null,
   "metadata": {},
   "outputs": [],
   "source": [
    "draw_k(15027,500)"
   ]
  },
  {
   "cell_type": "code",
   "execution_count": null,
   "metadata": {},
   "outputs": [],
   "source": [
    "line = (Line()\n",
    "       .add_yaxis()\n",
    "       )"
   ]
  },
  {
   "cell_type": "code",
   "execution_count": null,
   "metadata": {},
   "outputs": [],
   "source": [
    "_,p_df = interpoint([int(point1.TmIdx), int(point2.TmIdx)], [point1.V, point2.V])"
   ]
  },
  {
   "cell_type": "code",
   "execution_count": null,
   "metadata": {},
   "outputs": [],
   "source": []
  },
  {
   "cell_type": "code",
   "execution_count": null,
   "metadata": {},
   "outputs": [],
   "source": []
  },
  {
   "cell_type": "code",
   "execution_count": null,
   "metadata": {},
   "outputs": [],
   "source": []
  },
  {
   "cell_type": "code",
   "execution_count": null,
   "metadata": {},
   "outputs": [],
   "source": []
  },
  {
   "cell_type": "markdown",
   "metadata": {},
   "source": [
    "### draw Pair"
   ]
  },
  {
   "cell_type": "code",
   "execution_count": null,
   "metadata": {},
   "outputs": [],
   "source": [
    "p = find_pair(tmIdx,0)[1]\n",
    "p.__dict__"
   ]
  },
  {
   "cell_type": "code",
   "execution_count": null,
   "metadata": {},
   "outputs": [],
   "source": [
    "level = 1\n",
    "center_point = tmIdx\n",
    "half_window = 15\n",
    "start = int(center_point - half_window)\n",
    "end = int(center_point + half_window)\n",
    "dt_x = x.iloc[center_point - half_window//2:center_point + half_window//2,2].values.tolist()"
   ]
  },
  {
   "cell_type": "code",
   "execution_count": null,
   "metadata": {},
   "outputs": [],
   "source": [
    "point1 = m.findList('st',level-1)[p.index[0]].start\n",
    "point1"
   ]
  },
  {
   "cell_type": "code",
   "execution_count": null,
   "metadata": {},
   "outputs": [],
   "source": [
    "point2 = m.findList('st',level-1)[p.index[-1]].peak\n",
    "point2"
   ]
  },
  {
   "cell_type": "code",
   "execution_count": null,
   "metadata": {},
   "outputs": [],
   "source": [
    "_,df_p = interpoint([int(point1.TmIdx), int(point2.TmIdx)], [point1.V, point2.V])"
   ]
  },
  {
   "cell_type": "code",
   "execution_count": null,
   "metadata": {},
   "outputs": [],
   "source": [
    "df_draw = x.iloc[start:end,].copy()\n",
    "df_draw = df_draw.merge(df_p, how='left', left_on='TmIdx', right_on='TmIdx')\n",
    "df_draw = df_draw.merge(dt_df[['open','high','low','close','TmIdx']], how='left', left_on='TmIdx', right_on='TmIdx')\n",
    "df_draw.query('TmIdx>15900 and TmIdx<15940')"
   ]
  },
  {
   "cell_type": "code",
   "execution_count": null,
   "metadata": {},
   "outputs": [],
   "source": [
    "df_p"
   ]
  },
  {
   "cell_type": "code",
   "execution_count": null,
   "metadata": {},
   "outputs": [],
   "source": [
    "df_draw.fillna('', inplace=True)\n",
    "df_draw"
   ]
  },
  {
   "cell_type": "code",
   "execution_count": null,
   "metadata": {},
   "outputs": [],
   "source": [
    "import pyecharts.options as opts\n",
    "COLOR = ['red', 'yellow', 'green']"
   ]
  },
  {
   "cell_type": "code",
   "execution_count": null,
   "metadata": {},
   "outputs": [],
   "source": [
    "kl = (Kline()\n",
    "      .add_xaxis(df_draw.date_str.tolist())\n",
    "      .add_yaxis('pair', df_draw[['open','close','low','high']].values.tolist())\n",
    ")\n",
    "kl.render_notebook()"
   ]
  },
  {
   "cell_type": "code",
   "execution_count": null,
   "metadata": {},
   "outputs": [],
   "source": [
    "l = (\n",
    "    Line()\n",
    "    .add_xaxis(df_draw.date_str.tolist())\n",
    "    .add_yaxis(\"pair\"\n",
    "               , df_draw.V.tolist()\n",
    "               ,is_symbol_show = False\n",
    "               .linestyle_opts = opts.LineStyleOpts(color=color[level], width=4, opacity=0.6)\n",
    "               \n",
    "              )\n",
    ")\n",
    "l.render_notebook()"
   ]
  },
  {
   "cell_type": "code",
   "execution_count": null,
   "metadata": {},
   "outputs": [],
   "source": [
    "kl.overlap(l).render_notebook()"
   ]
  },
  {
   "cell_type": "code",
   "execution_count": null,
   "metadata": {},
   "outputs": [],
   "source": [
    "find_pair(14952,1)[1].__dict__"
   ]
  },
  {
   "cell_type": "code",
   "execution_count": null,
   "metadata": {},
   "outputs": [],
   "source": [
    "draw_k(16027,500)"
   ]
  },
  {
   "cell_type": "code",
   "execution_count": null,
   "metadata": {},
   "outputs": [],
   "source": [
    "x.loc[x['TmIdx']==14705,'datetime']"
   ]
  },
  {
   "cell_type": "code",
   "execution_count": null,
   "metadata": {},
   "outputs": [],
   "source": [
    "x.loc[x['datetime']=='2020-02-06 14:00','TmIdx']"
   ]
  },
  {
   "cell_type": "markdown",
   "metadata": {},
   "source": [
    "### draw scene"
   ]
  },
  {
   "cell_type": "code",
   "execution_count": null,
   "metadata": {},
   "outputs": [],
   "source": [
    "m.Lv0_L[0]"
   ]
  },
  {
   "cell_type": "code",
   "execution_count": null,
   "metadata": {},
   "outputs": [],
   "source": [
    "m.Lv1_L[2]"
   ]
  },
  {
   "cell_type": "code",
   "execution_count": null,
   "metadata": {},
   "outputs": [],
   "source": [
    "m.findList('st', 0)[2]"
   ]
  },
  {
   "cell_type": "code",
   "execution_count": null,
   "metadata": {},
   "outputs": [],
   "source": [
    "Lv2_idx = [st.start.TmIdx for st in m.Lv2_L]"
   ]
  },
  {
   "cell_type": "code",
   "execution_count": null,
   "metadata": {},
   "outputs": [],
   "source": [
    "Lv2_idx = []\n",
    "Lv2_idx = [st.start.TmIdx for st in m.findList('st', 2)]"
   ]
  },
  {
   "cell_type": "code",
   "execution_count": null,
   "metadata": {},
   "outputs": [],
   "source": [
    "Lv2_idx[:10]"
   ]
  },
  {
   "cell_type": "code",
   "execution_count": null,
   "metadata": {},
   "outputs": [],
   "source": [
    "def find_index(ll, num):\n",
    "    i = 0\n",
    "    for n in ll[1:]:\n",
    "        if num >= n:\n",
    "            i += 1\n",
    "        else:\n",
    "            break\n",
    "    return i\n",
    "\n",
    "        \n",
    "Lv2_idx.index(440)"
   ]
  },
  {
   "cell_type": "code",
   "execution_count": null,
   "metadata": {},
   "outputs": [],
   "source": [
    "idx = find_index(Lv2_idx, 9508)"
   ]
  },
  {
   "cell_type": "code",
   "execution_count": null,
   "metadata": {},
   "outputs": [],
   "source": [
    "m.Lv2_L[idx].drt, m.Lv2_L[idx].start, m.Lv2_L[idx+1].start"
   ]
  },
  {
   "cell_type": "code",
   "execution_count": null,
   "metadata": {},
   "outputs": [],
   "source": [
    "idx"
   ]
  },
  {
   "cell_type": "code",
   "execution_count": null,
   "metadata": {},
   "outputs": [],
   "source": []
  },
  {
   "cell_type": "code",
   "execution_count": null,
   "metadata": {},
   "outputs": [],
   "source": [
    "len(m.Lv2_L)"
   ]
  },
  {
   "cell_type": "code",
   "execution_count": null,
   "metadata": {},
   "outputs": [],
   "source": [
    "i =0\n",
    "for st in m.Lv2_L:\n",
    "    print(i, st.start,st.pp)\n",
    "    i += 1"
   ]
  },
  {
   "cell_type": "code",
   "execution_count": null,
   "metadata": {},
   "outputs": [],
   "source": [
    "m.Lv2_L[66].stick_stack, m.Lv2_L[66].mp"
   ]
  },
  {
   "cell_type": "code",
   "execution_count": null,
   "metadata": {},
   "outputs": [],
   "source": [
    "m.Lv2_L[67].stick_stack, m.Lv2_L[67].mp, m.Lv2_L[67].status"
   ]
  },
  {
   "cell_type": "code",
   "execution_count": null,
   "metadata": {},
   "outputs": [],
   "source": []
  },
  {
   "cell_type": "code",
   "execution_count": null,
   "metadata": {},
   "outputs": [],
   "source": []
  },
  {
   "cell_type": "code",
   "execution_count": null,
   "metadata": {},
   "outputs": [],
   "source": [
    "CenterStrict(Stick.lv_L[1:], market)"
   ]
  },
  {
   "cell_type": "code",
   "execution_count": null,
   "metadata": {},
   "outputs": [],
   "source": [
    "for c in market.CenterStrict_LD[10]:\n",
    "    print(c)"
   ]
  },
  {
   "cell_type": "code",
   "execution_count": null,
   "metadata": {},
   "outputs": [],
   "source": [
    "a = [1,2,3,4,9]\n",
    "l = [1,2,3,4,9]\n",
    "for aa,ll in zip(*[a,l]):\n",
    "    print(aa,ll)"
   ]
  },
  {
   "cell_type": "code",
   "execution_count": null,
   "metadata": {},
   "outputs": [],
   "source": [
    "m.__class__.__name__"
   ]
  },
  {
   "cell_type": "code",
   "execution_count": null,
   "metadata": {},
   "outputs": [],
   "source": [
    "a = []\n",
    "a.append([])\n",
    "a.append([])\n",
    "a.append([])"
   ]
  },
  {
   "cell_type": "code",
   "execution_count": null,
   "metadata": {},
   "outputs": [],
   "source": [
    "a"
   ]
  },
  {
   "cell_type": "code",
   "execution_count": null,
   "metadata": {},
   "outputs": [],
   "source": [
    "tmp = type('Xb', (object,), dict(a=1))\n",
    "tmp = type('Xa', (object,), dict(a=1))"
   ]
  },
  {
   "cell_type": "code",
   "execution_count": null,
   "metadata": {},
   "outputs": [],
   "source": []
  },
  {
   "cell_type": "code",
   "execution_count": null,
   "metadata": {},
   "outputs": [],
   "source": [
    "a = [1,2,3]\n",
    "b = [3,4,5]\n",
    "for aa in a [1:\n",
    "             :-1]:\n",
    "    print(aa)"
   ]
  },
  {
   "cell_type": "code",
   "execution_count": null,
   "metadata": {},
   "outputs": [],
   "source": [
    "d1 = {'a': 1}\n",
    "d2 = {'b': 2}"
   ]
  },
  {
   "cell_type": "code",
   "execution_count": null,
   "metadata": {},
   "outputs": [],
   "source": [
    "d1.append(d2)"
   ]
  },
  {
   "cell_type": "code",
   "execution_count": null,
   "metadata": {},
   "outputs": [],
   "source": []
  }
 ],
 "metadata": {
  "kernelspec": {
   "display_name": "python36-64",
   "language": "python",
   "name": "python36-64"
  },
  "language_info": {
   "codemirror_mode": {
    "name": "ipython",
    "version": 3
   },
   "file_extension": ".py",
   "mimetype": "text/x-python",
   "name": "python",
   "nbconvert_exporter": "python",
   "pygments_lexer": "ipython3",
   "version": "3.6.7"
  },
  "toc": {
   "nav_menu": {},
   "number_sections": true,
   "sideBar": true,
   "skip_h1_title": false,
   "title_cell": "Table of Contents",
   "title_sidebar": "Contents",
   "toc_cell": false,
   "toc_position": {
    "height": "calc(100% - 180px)",
    "left": "10px",
    "top": "150px",
    "width": "384px"
   },
   "toc_section_display": true,
   "toc_window_display": true
  }
 },
 "nbformat": 4,
 "nbformat_minor": 2
}
