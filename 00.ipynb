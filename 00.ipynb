{
 "cells": [
  {
   "cell_type": "code",
   "execution_count": 1,
   "metadata": {},
   "outputs": [],
   "source": [
    "import pandas as pd\n",
    "import numpy as np"
   ]
  },
  {
   "cell_type": "code",
   "execution_count": 2,
   "metadata": {},
   "outputs": [],
   "source": [
    "% matplotlib inline\n",
    "import matplotlib.pyplot as plt"
   ]
  },
  {
   "cell_type": "markdown",
   "metadata": {},
   "source": [
    "### 导入原始数据"
   ]
  },
  {
   "cell_type": "code",
   "execution_count": 3,
   "metadata": {},
   "outputs": [],
   "source": [
    "df_30_o = pd.read_csv('m30.csv')"
   ]
  },
  {
   "cell_type": "code",
   "execution_count": 4,
   "metadata": {},
   "outputs": [
    {
     "data": {
      "text/html": [
       "<div>\n",
       "<style scoped>\n",
       "    .dataframe tbody tr th:only-of-type {\n",
       "        vertical-align: middle;\n",
       "    }\n",
       "\n",
       "    .dataframe tbody tr th {\n",
       "        vertical-align: top;\n",
       "    }\n",
       "\n",
       "    .dataframe thead th {\n",
       "        text-align: right;\n",
       "    }\n",
       "</style>\n",
       "<table border=\"1\" class=\"dataframe\">\n",
       "  <thead>\n",
       "    <tr style=\"text-align: right;\">\n",
       "      <th></th>\n",
       "      <th>date</th>\n",
       "      <th>open</th>\n",
       "      <th>close</th>\n",
       "      <th>high</th>\n",
       "      <th>low</th>\n",
       "      <th>volume</th>\n",
       "      <th>code</th>\n",
       "    </tr>\n",
       "  </thead>\n",
       "  <tbody>\n",
       "    <tr>\n",
       "      <th>0</th>\n",
       "      <td>2017-12-21 14:30</td>\n",
       "      <td>10.13</td>\n",
       "      <td>10.13</td>\n",
       "      <td>10.14</td>\n",
       "      <td>10.12</td>\n",
       "      <td>6272.0</td>\n",
       "      <td>600838</td>\n",
       "    </tr>\n",
       "    <tr>\n",
       "      <th>1</th>\n",
       "      <td>2017-12-21 15:00</td>\n",
       "      <td>10.13</td>\n",
       "      <td>10.12</td>\n",
       "      <td>10.16</td>\n",
       "      <td>10.11</td>\n",
       "      <td>11846.0</td>\n",
       "      <td>600838</td>\n",
       "    </tr>\n",
       "    <tr>\n",
       "      <th>2</th>\n",
       "      <td>2017-12-22 10:00</td>\n",
       "      <td>10.08</td>\n",
       "      <td>10.11</td>\n",
       "      <td>10.12</td>\n",
       "      <td>10.06</td>\n",
       "      <td>4886.0</td>\n",
       "      <td>600838</td>\n",
       "    </tr>\n",
       "    <tr>\n",
       "      <th>3</th>\n",
       "      <td>2017-12-22 10:30</td>\n",
       "      <td>10.10</td>\n",
       "      <td>10.12</td>\n",
       "      <td>10.16</td>\n",
       "      <td>10.09</td>\n",
       "      <td>3922.0</td>\n",
       "      <td>600838</td>\n",
       "    </tr>\n",
       "    <tr>\n",
       "      <th>4</th>\n",
       "      <td>2017-12-22 11:00</td>\n",
       "      <td>10.12</td>\n",
       "      <td>10.08</td>\n",
       "      <td>10.14</td>\n",
       "      <td>10.06</td>\n",
       "      <td>4346.0</td>\n",
       "      <td>600838</td>\n",
       "    </tr>\n",
       "  </tbody>\n",
       "</table>\n",
       "</div>"
      ],
      "text/plain": [
       "               date   open  close   high    low   volume    code\n",
       "0  2017-12-21 14:30  10.13  10.13  10.14  10.12   6272.0  600838\n",
       "1  2017-12-21 15:00  10.13  10.12  10.16  10.11  11846.0  600838\n",
       "2  2017-12-22 10:00  10.08  10.11  10.12  10.06   4886.0  600838\n",
       "3  2017-12-22 10:30  10.10  10.12  10.16  10.09   3922.0  600838\n",
       "4  2017-12-22 11:00  10.12  10.08  10.14  10.06   4346.0  600838"
      ]
     },
     "execution_count": 4,
     "metadata": {},
     "output_type": "execute_result"
    }
   ],
   "source": [
    "df_30_o.head()"
   ]
  },
  {
   "cell_type": "markdown",
   "metadata": {},
   "source": [
    "### treat Time Index\n",
    "#### from sql"
   ]
  },
  {
   "cell_type": "code",
   "execution_count": 4,
   "metadata": {},
   "outputs": [],
   "source": [
    "def tmNorm(dataframe,tmcol):\n",
    "    dataframe.loc[:,tmcol] = pd.to_datetime(dataframe[tmcol])\n",
    "    dataframe.set_index(tmcol, inplace=True)\n",
    "    return dataframe"
   ]
  },
  {
   "cell_type": "code",
   "execution_count": 5,
   "metadata": {},
   "outputs": [],
   "source": [
    "df_1_o.drop('Tm.1', axis = 1, inplace=True)\n",
    "df_1_o = tmNorm(df_1_o,'Tm')"
   ]
  },
  {
   "cell_type": "code",
   "execution_count": 6,
   "metadata": {},
   "outputs": [
    {
     "ename": "ValueError",
     "evalue": "labels ['Tm.1'] not contained in axis",
     "output_type": "error",
     "traceback": [
      "\u001b[1;31m---------------------------------------------------------------------------\u001b[0m",
      "\u001b[1;31mValueError\u001b[0m                                Traceback (most recent call last)",
      "\u001b[1;32m<ipython-input-6-ed4365cf6799>\u001b[0m in \u001b[0;36m<module>\u001b[1;34m()\u001b[0m\n\u001b[1;32m----> 1\u001b[1;33m \u001b[0mdf_30_o\u001b[0m\u001b[1;33m.\u001b[0m\u001b[0mdrop\u001b[0m\u001b[1;33m(\u001b[0m\u001b[1;34m'Tm.1'\u001b[0m\u001b[1;33m,\u001b[0m \u001b[0maxis\u001b[0m \u001b[1;33m=\u001b[0m \u001b[1;36m1\u001b[0m\u001b[1;33m,\u001b[0m \u001b[0minplace\u001b[0m\u001b[1;33m=\u001b[0m\u001b[1;32mTrue\u001b[0m\u001b[1;33m)\u001b[0m\u001b[1;33m\u001b[0m\u001b[0m\n\u001b[0m\u001b[0;32m      2\u001b[0m \u001b[0mdf_30_o\u001b[0m \u001b[1;33m=\u001b[0m \u001b[0mtmNorm\u001b[0m\u001b[1;33m(\u001b[0m\u001b[0mdf_30_o\u001b[0m\u001b[1;33m,\u001b[0m\u001b[1;34m'Tm'\u001b[0m\u001b[1;33m)\u001b[0m\u001b[1;33m\u001b[0m\u001b[0m\n",
      "\u001b[1;32m~\\AppData\\Local\\Programs\\Python\\Python36-32\\lib\\site-packages\\pandas\\core\\generic.py\u001b[0m in \u001b[0;36mdrop\u001b[1;34m(self, labels, axis, index, columns, level, inplace, errors)\u001b[0m\n\u001b[0;32m   2528\u001b[0m         \u001b[1;32mfor\u001b[0m \u001b[0maxis\u001b[0m\u001b[1;33m,\u001b[0m \u001b[0mlabels\u001b[0m \u001b[1;32min\u001b[0m \u001b[0maxes\u001b[0m\u001b[1;33m.\u001b[0m\u001b[0mitems\u001b[0m\u001b[1;33m(\u001b[0m\u001b[1;33m)\u001b[0m\u001b[1;33m:\u001b[0m\u001b[1;33m\u001b[0m\u001b[0m\n\u001b[0;32m   2529\u001b[0m             \u001b[1;32mif\u001b[0m \u001b[0mlabels\u001b[0m \u001b[1;32mis\u001b[0m \u001b[1;32mnot\u001b[0m \u001b[1;32mNone\u001b[0m\u001b[1;33m:\u001b[0m\u001b[1;33m\u001b[0m\u001b[0m\n\u001b[1;32m-> 2530\u001b[1;33m                 \u001b[0mobj\u001b[0m \u001b[1;33m=\u001b[0m \u001b[0mobj\u001b[0m\u001b[1;33m.\u001b[0m\u001b[0m_drop_axis\u001b[0m\u001b[1;33m(\u001b[0m\u001b[0mlabels\u001b[0m\u001b[1;33m,\u001b[0m \u001b[0maxis\u001b[0m\u001b[1;33m,\u001b[0m \u001b[0mlevel\u001b[0m\u001b[1;33m=\u001b[0m\u001b[0mlevel\u001b[0m\u001b[1;33m,\u001b[0m \u001b[0merrors\u001b[0m\u001b[1;33m=\u001b[0m\u001b[0merrors\u001b[0m\u001b[1;33m)\u001b[0m\u001b[1;33m\u001b[0m\u001b[0m\n\u001b[0m\u001b[0;32m   2531\u001b[0m \u001b[1;33m\u001b[0m\u001b[0m\n\u001b[0;32m   2532\u001b[0m         \u001b[1;32mif\u001b[0m \u001b[0minplace\u001b[0m\u001b[1;33m:\u001b[0m\u001b[1;33m\u001b[0m\u001b[0m\n",
      "\u001b[1;32m~\\AppData\\Local\\Programs\\Python\\Python36-32\\lib\\site-packages\\pandas\\core\\generic.py\u001b[0m in \u001b[0;36m_drop_axis\u001b[1;34m(self, labels, axis, level, errors)\u001b[0m\n\u001b[0;32m   2560\u001b[0m                 \u001b[0mnew_axis\u001b[0m \u001b[1;33m=\u001b[0m \u001b[0maxis\u001b[0m\u001b[1;33m.\u001b[0m\u001b[0mdrop\u001b[0m\u001b[1;33m(\u001b[0m\u001b[0mlabels\u001b[0m\u001b[1;33m,\u001b[0m \u001b[0mlevel\u001b[0m\u001b[1;33m=\u001b[0m\u001b[0mlevel\u001b[0m\u001b[1;33m,\u001b[0m \u001b[0merrors\u001b[0m\u001b[1;33m=\u001b[0m\u001b[0merrors\u001b[0m\u001b[1;33m)\u001b[0m\u001b[1;33m\u001b[0m\u001b[0m\n\u001b[0;32m   2561\u001b[0m             \u001b[1;32melse\u001b[0m\u001b[1;33m:\u001b[0m\u001b[1;33m\u001b[0m\u001b[0m\n\u001b[1;32m-> 2562\u001b[1;33m                 \u001b[0mnew_axis\u001b[0m \u001b[1;33m=\u001b[0m \u001b[0maxis\u001b[0m\u001b[1;33m.\u001b[0m\u001b[0mdrop\u001b[0m\u001b[1;33m(\u001b[0m\u001b[0mlabels\u001b[0m\u001b[1;33m,\u001b[0m \u001b[0merrors\u001b[0m\u001b[1;33m=\u001b[0m\u001b[0merrors\u001b[0m\u001b[1;33m)\u001b[0m\u001b[1;33m\u001b[0m\u001b[0m\n\u001b[0m\u001b[0;32m   2563\u001b[0m             \u001b[0mdropped\u001b[0m \u001b[1;33m=\u001b[0m \u001b[0mself\u001b[0m\u001b[1;33m.\u001b[0m\u001b[0mreindex\u001b[0m\u001b[1;33m(\u001b[0m\u001b[1;33m**\u001b[0m\u001b[1;33m{\u001b[0m\u001b[0maxis_name\u001b[0m\u001b[1;33m:\u001b[0m \u001b[0mnew_axis\u001b[0m\u001b[1;33m}\u001b[0m\u001b[1;33m)\u001b[0m\u001b[1;33m\u001b[0m\u001b[0m\n\u001b[0;32m   2564\u001b[0m             \u001b[1;32mtry\u001b[0m\u001b[1;33m:\u001b[0m\u001b[1;33m\u001b[0m\u001b[0m\n",
      "\u001b[1;32m~\\AppData\\Local\\Programs\\Python\\Python36-32\\lib\\site-packages\\pandas\\core\\indexes\\base.py\u001b[0m in \u001b[0;36mdrop\u001b[1;34m(self, labels, errors)\u001b[0m\n\u001b[0;32m   3742\u001b[0m             \u001b[1;32mif\u001b[0m \u001b[0merrors\u001b[0m \u001b[1;33m!=\u001b[0m \u001b[1;34m'ignore'\u001b[0m\u001b[1;33m:\u001b[0m\u001b[1;33m\u001b[0m\u001b[0m\n\u001b[0;32m   3743\u001b[0m                 raise ValueError('labels %s not contained in axis' %\n\u001b[1;32m-> 3744\u001b[1;33m                                  labels[mask])\n\u001b[0m\u001b[0;32m   3745\u001b[0m             \u001b[0mindexer\u001b[0m \u001b[1;33m=\u001b[0m \u001b[0mindexer\u001b[0m\u001b[1;33m[\u001b[0m\u001b[1;33m~\u001b[0m\u001b[0mmask\u001b[0m\u001b[1;33m]\u001b[0m\u001b[1;33m\u001b[0m\u001b[0m\n\u001b[0;32m   3746\u001b[0m         \u001b[1;32mreturn\u001b[0m \u001b[0mself\u001b[0m\u001b[1;33m.\u001b[0m\u001b[0mdelete\u001b[0m\u001b[1;33m(\u001b[0m\u001b[0mindexer\u001b[0m\u001b[1;33m)\u001b[0m\u001b[1;33m\u001b[0m\u001b[0m\n",
      "\u001b[1;31mValueError\u001b[0m: labels ['Tm.1'] not contained in axis"
     ]
    }
   ],
   "source": [
    "df_30_o.drop('Tm.1', axis = 1, inplace=True)\n",
    "df_30_o = tmNorm(df_30_o,'Tm')"
   ]
  },
  {
   "cell_type": "code",
   "execution_count": 7,
   "metadata": {},
   "outputs": [
    {
     "data": {
      "text/html": [
       "<div>\n",
       "<style scoped>\n",
       "    .dataframe tbody tr th:only-of-type {\n",
       "        vertical-align: middle;\n",
       "    }\n",
       "\n",
       "    .dataframe tbody tr th {\n",
       "        vertical-align: top;\n",
       "    }\n",
       "\n",
       "    .dataframe thead th {\n",
       "        text-align: right;\n",
       "    }\n",
       "</style>\n",
       "<table border=\"1\" class=\"dataframe\">\n",
       "  <thead>\n",
       "    <tr style=\"text-align: right;\">\n",
       "      <th></th>\n",
       "      <th>O</th>\n",
       "      <th>H</th>\n",
       "      <th>L</th>\n",
       "      <th>C</th>\n",
       "      <th>V</th>\n",
       "      <th>A</th>\n",
       "    </tr>\n",
       "    <tr>\n",
       "      <th>Tm</th>\n",
       "      <th></th>\n",
       "      <th></th>\n",
       "      <th></th>\n",
       "      <th></th>\n",
       "      <th></th>\n",
       "      <th></th>\n",
       "    </tr>\n",
       "  </thead>\n",
       "  <tbody>\n",
       "    <tr>\n",
       "      <th>2017-12-01 09:30:00</th>\n",
       "      <td>5.06</td>\n",
       "      <td>5.06</td>\n",
       "      <td>5.02</td>\n",
       "      <td>5.05</td>\n",
       "      <td>7072.0</td>\n",
       "      <td>478655.0</td>\n",
       "    </tr>\n",
       "  </tbody>\n",
       "</table>\n",
       "</div>"
      ],
      "text/plain": [
       "                        O     H     L     C       V         A\n",
       "Tm                                                           \n",
       "2017-12-01 09:30:00  5.06  5.06  5.02  5.05  7072.0  478655.0"
      ]
     },
     "execution_count": 7,
     "metadata": {},
     "output_type": "execute_result"
    }
   ],
   "source": [
    "df_30_o.head(1)"
   ]
  },
  {
   "cell_type": "markdown",
   "metadata": {},
   "source": [
    "#### from ts"
   ]
  },
  {
   "cell_type": "code",
   "execution_count": 5,
   "metadata": {},
   "outputs": [],
   "source": [
    "df_30 = df_30_o.copy(True)"
   ]
  },
  {
   "cell_type": "code",
   "execution_count": 6,
   "metadata": {},
   "outputs": [],
   "source": [
    "df_30_o.head();"
   ]
  },
  {
   "cell_type": "code",
   "execution_count": 7,
   "metadata": {},
   "outputs": [
    {
     "data": {
      "text/html": [
       "<div>\n",
       "<style scoped>\n",
       "    .dataframe tbody tr th:only-of-type {\n",
       "        vertical-align: middle;\n",
       "    }\n",
       "\n",
       "    .dataframe tbody tr th {\n",
       "        vertical-align: top;\n",
       "    }\n",
       "\n",
       "    .dataframe thead th {\n",
       "        text-align: right;\n",
       "    }\n",
       "</style>\n",
       "<table border=\"1\" class=\"dataframe\">\n",
       "  <thead>\n",
       "    <tr style=\"text-align: right;\">\n",
       "      <th></th>\n",
       "      <th>date</th>\n",
       "      <th>open</th>\n",
       "      <th>close</th>\n",
       "      <th>high</th>\n",
       "      <th>low</th>\n",
       "      <th>volume</th>\n",
       "      <th>code</th>\n",
       "    </tr>\n",
       "  </thead>\n",
       "  <tbody>\n",
       "    <tr>\n",
       "      <th>0</th>\n",
       "      <td>2017-12-21 14:30</td>\n",
       "      <td>10.13</td>\n",
       "      <td>10.13</td>\n",
       "      <td>10.14</td>\n",
       "      <td>10.12</td>\n",
       "      <td>6272.0</td>\n",
       "      <td>600838</td>\n",
       "    </tr>\n",
       "    <tr>\n",
       "      <th>1</th>\n",
       "      <td>2017-12-21 15:00</td>\n",
       "      <td>10.13</td>\n",
       "      <td>10.12</td>\n",
       "      <td>10.16</td>\n",
       "      <td>10.11</td>\n",
       "      <td>11846.0</td>\n",
       "      <td>600838</td>\n",
       "    </tr>\n",
       "    <tr>\n",
       "      <th>2</th>\n",
       "      <td>2017-12-22 10:00</td>\n",
       "      <td>10.08</td>\n",
       "      <td>10.11</td>\n",
       "      <td>10.12</td>\n",
       "      <td>10.06</td>\n",
       "      <td>4886.0</td>\n",
       "      <td>600838</td>\n",
       "    </tr>\n",
       "    <tr>\n",
       "      <th>3</th>\n",
       "      <td>2017-12-22 10:30</td>\n",
       "      <td>10.10</td>\n",
       "      <td>10.12</td>\n",
       "      <td>10.16</td>\n",
       "      <td>10.09</td>\n",
       "      <td>3922.0</td>\n",
       "      <td>600838</td>\n",
       "    </tr>\n",
       "    <tr>\n",
       "      <th>4</th>\n",
       "      <td>2017-12-22 11:00</td>\n",
       "      <td>10.12</td>\n",
       "      <td>10.08</td>\n",
       "      <td>10.14</td>\n",
       "      <td>10.06</td>\n",
       "      <td>4346.0</td>\n",
       "      <td>600838</td>\n",
       "    </tr>\n",
       "  </tbody>\n",
       "</table>\n",
       "</div>"
      ],
      "text/plain": [
       "               date   open  close   high    low   volume    code\n",
       "0  2017-12-21 14:30  10.13  10.13  10.14  10.12   6272.0  600838\n",
       "1  2017-12-21 15:00  10.13  10.12  10.16  10.11  11846.0  600838\n",
       "2  2017-12-22 10:00  10.08  10.11  10.12  10.06   4886.0  600838\n",
       "3  2017-12-22 10:30  10.10  10.12  10.16  10.09   3922.0  600838\n",
       "4  2017-12-22 11:00  10.12  10.08  10.14  10.06   4346.0  600838"
      ]
     },
     "execution_count": 7,
     "metadata": {},
     "output_type": "execute_result"
    }
   ],
   "source": [
    "df_30.head()"
   ]
  },
  {
   "cell_type": "code",
   "execution_count": 8,
   "metadata": {},
   "outputs": [],
   "source": [
    "df_30.loc[:,'date'] = pd.to_datetime(df_30['date'])"
   ]
  },
  {
   "cell_type": "code",
   "execution_count": 9,
   "metadata": {},
   "outputs": [],
   "source": [
    "df_30.set_index('date', inplace=True)"
   ]
  },
  {
   "cell_type": "code",
   "execution_count": 10,
   "metadata": {},
   "outputs": [],
   "source": [
    "df_30.columns = ['O','C','H','L','V','code']"
   ]
  },
  {
   "cell_type": "markdown",
   "metadata": {},
   "source": [
    "### add calculated columns"
   ]
  },
  {
   "cell_type": "code",
   "execution_count": 11,
   "metadata": {},
   "outputs": [],
   "source": [
    "def dfcal(dataframe):\n",
    "    df = dataframe.copy()\n",
    "    df.is_copy = False\n",
    "    df.loc[:,'diff1'] = df.C.diff(1)\n",
    "    df.loc[:,'drt'] = 0\n",
    "    df.loc[:,'drtC'] = 0\n",
    "    df.loc[df['diff1'] > 0,'drtC'] = 1\n",
    "    df.loc[df['diff1'] < 0,'drtC'] = -1\n",
    "    df.loc[:,'mono3'] = df.drtC.rolling(3).sum()\n",
    "    df.loc[:,'diff2'] = df['diff1'].rolling(2).sum()\n",
    "    df.loc[:,'diff3'] = df['diff1'].rolling(3).sum()\n",
    "    df.loc[:,'pct1'] = df.C.pct_change().abs()\n",
    "    df.loc[:,'pct2'] = df.C.pct_change(2).abs()\n",
    "    df.loc[:,'pct3'] = df.C.pct_change(3).abs()\n",
    "    df.loc[:,'stdF'] = 0\n",
    "    return df"
   ]
  },
  {
   "cell_type": "code",
   "execution_count": 12,
   "metadata": {},
   "outputs": [],
   "source": [
    "df30 = dfcal(df_30)"
   ]
  },
  {
   "cell_type": "code",
   "execution_count": 13,
   "metadata": {},
   "outputs": [],
   "source": [
    "df30['idx'] = range(len(df30))\n",
    "open00 = df30.iloc[0,0]"
   ]
  },
  {
   "cell_type": "code",
   "execution_count": 14,
   "metadata": {},
   "outputs": [
    {
     "data": {
      "text/html": [
       "<div>\n",
       "<style scoped>\n",
       "    .dataframe tbody tr th:only-of-type {\n",
       "        vertical-align: middle;\n",
       "    }\n",
       "\n",
       "    .dataframe tbody tr th {\n",
       "        vertical-align: top;\n",
       "    }\n",
       "\n",
       "    .dataframe thead th {\n",
       "        text-align: right;\n",
       "    }\n",
       "</style>\n",
       "<table border=\"1\" class=\"dataframe\">\n",
       "  <thead>\n",
       "    <tr style=\"text-align: right;\">\n",
       "      <th></th>\n",
       "      <th>O</th>\n",
       "      <th>C</th>\n",
       "      <th>H</th>\n",
       "      <th>L</th>\n",
       "      <th>V</th>\n",
       "      <th>code</th>\n",
       "      <th>diff1</th>\n",
       "      <th>drt</th>\n",
       "      <th>drtC</th>\n",
       "      <th>mono3</th>\n",
       "      <th>diff2</th>\n",
       "      <th>diff3</th>\n",
       "      <th>pct1</th>\n",
       "      <th>pct2</th>\n",
       "      <th>pct3</th>\n",
       "      <th>stdF</th>\n",
       "      <th>idx</th>\n",
       "    </tr>\n",
       "    <tr>\n",
       "      <th>date</th>\n",
       "      <th></th>\n",
       "      <th></th>\n",
       "      <th></th>\n",
       "      <th></th>\n",
       "      <th></th>\n",
       "      <th></th>\n",
       "      <th></th>\n",
       "      <th></th>\n",
       "      <th></th>\n",
       "      <th></th>\n",
       "      <th></th>\n",
       "      <th></th>\n",
       "      <th></th>\n",
       "      <th></th>\n",
       "      <th></th>\n",
       "      <th></th>\n",
       "      <th></th>\n",
       "    </tr>\n",
       "  </thead>\n",
       "  <tbody>\n",
       "    <tr>\n",
       "      <th>2017-12-21 14:30:00</th>\n",
       "      <td>10.13</td>\n",
       "      <td>10.13</td>\n",
       "      <td>10.14</td>\n",
       "      <td>10.12</td>\n",
       "      <td>6272.0</td>\n",
       "      <td>600838</td>\n",
       "      <td>NaN</td>\n",
       "      <td>0</td>\n",
       "      <td>0</td>\n",
       "      <td>NaN</td>\n",
       "      <td>NaN</td>\n",
       "      <td>NaN</td>\n",
       "      <td>NaN</td>\n",
       "      <td>NaN</td>\n",
       "      <td>NaN</td>\n",
       "      <td>0</td>\n",
       "      <td>0</td>\n",
       "    </tr>\n",
       "    <tr>\n",
       "      <th>2017-12-21 15:00:00</th>\n",
       "      <td>10.13</td>\n",
       "      <td>10.12</td>\n",
       "      <td>10.16</td>\n",
       "      <td>10.11</td>\n",
       "      <td>11846.0</td>\n",
       "      <td>600838</td>\n",
       "      <td>-0.01</td>\n",
       "      <td>0</td>\n",
       "      <td>-1</td>\n",
       "      <td>NaN</td>\n",
       "      <td>NaN</td>\n",
       "      <td>NaN</td>\n",
       "      <td>0.000987</td>\n",
       "      <td>NaN</td>\n",
       "      <td>NaN</td>\n",
       "      <td>0</td>\n",
       "      <td>1</td>\n",
       "    </tr>\n",
       "    <tr>\n",
       "      <th>2017-12-22 10:00:00</th>\n",
       "      <td>10.08</td>\n",
       "      <td>10.11</td>\n",
       "      <td>10.12</td>\n",
       "      <td>10.06</td>\n",
       "      <td>4886.0</td>\n",
       "      <td>600838</td>\n",
       "      <td>-0.01</td>\n",
       "      <td>0</td>\n",
       "      <td>-1</td>\n",
       "      <td>-2.0</td>\n",
       "      <td>-0.02</td>\n",
       "      <td>NaN</td>\n",
       "      <td>0.000988</td>\n",
       "      <td>0.001974</td>\n",
       "      <td>NaN</td>\n",
       "      <td>0</td>\n",
       "      <td>2</td>\n",
       "    </tr>\n",
       "    <tr>\n",
       "      <th>2017-12-22 10:30:00</th>\n",
       "      <td>10.10</td>\n",
       "      <td>10.12</td>\n",
       "      <td>10.16</td>\n",
       "      <td>10.09</td>\n",
       "      <td>3922.0</td>\n",
       "      <td>600838</td>\n",
       "      <td>0.01</td>\n",
       "      <td>0</td>\n",
       "      <td>1</td>\n",
       "      <td>-1.0</td>\n",
       "      <td>0.00</td>\n",
       "      <td>-0.01</td>\n",
       "      <td>0.000989</td>\n",
       "      <td>0.000000</td>\n",
       "      <td>0.000987</td>\n",
       "      <td>0</td>\n",
       "      <td>3</td>\n",
       "    </tr>\n",
       "    <tr>\n",
       "      <th>2017-12-22 11:00:00</th>\n",
       "      <td>10.12</td>\n",
       "      <td>10.08</td>\n",
       "      <td>10.14</td>\n",
       "      <td>10.06</td>\n",
       "      <td>4346.0</td>\n",
       "      <td>600838</td>\n",
       "      <td>-0.04</td>\n",
       "      <td>0</td>\n",
       "      <td>-1</td>\n",
       "      <td>-1.0</td>\n",
       "      <td>-0.03</td>\n",
       "      <td>-0.04</td>\n",
       "      <td>0.003953</td>\n",
       "      <td>0.002967</td>\n",
       "      <td>0.003953</td>\n",
       "      <td>0</td>\n",
       "      <td>4</td>\n",
       "    </tr>\n",
       "  </tbody>\n",
       "</table>\n",
       "</div>"
      ],
      "text/plain": [
       "                         O      C      H      L        V    code  diff1  drt  \\\n",
       "date                                                                           \n",
       "2017-12-21 14:30:00  10.13  10.13  10.14  10.12   6272.0  600838    NaN    0   \n",
       "2017-12-21 15:00:00  10.13  10.12  10.16  10.11  11846.0  600838  -0.01    0   \n",
       "2017-12-22 10:00:00  10.08  10.11  10.12  10.06   4886.0  600838  -0.01    0   \n",
       "2017-12-22 10:30:00  10.10  10.12  10.16  10.09   3922.0  600838   0.01    0   \n",
       "2017-12-22 11:00:00  10.12  10.08  10.14  10.06   4346.0  600838  -0.04    0   \n",
       "\n",
       "                     drtC  mono3  diff2  diff3      pct1      pct2      pct3  \\\n",
       "date                                                                           \n",
       "2017-12-21 14:30:00     0    NaN    NaN    NaN       NaN       NaN       NaN   \n",
       "2017-12-21 15:00:00    -1    NaN    NaN    NaN  0.000987       NaN       NaN   \n",
       "2017-12-22 10:00:00    -1   -2.0  -0.02    NaN  0.000988  0.001974       NaN   \n",
       "2017-12-22 10:30:00     1   -1.0   0.00  -0.01  0.000989  0.000000  0.000987   \n",
       "2017-12-22 11:00:00    -1   -1.0  -0.03  -0.04  0.003953  0.002967  0.003953   \n",
       "\n",
       "                     stdF  idx  \n",
       "date                            \n",
       "2017-12-21 14:30:00     0    0  \n",
       "2017-12-21 15:00:00     0    1  \n",
       "2017-12-22 10:00:00     0    2  \n",
       "2017-12-22 10:30:00     0    3  \n",
       "2017-12-22 11:00:00     0    4  "
      ]
     },
     "execution_count": 14,
     "metadata": {},
     "output_type": "execute_result"
    }
   ],
   "source": [
    "df30.head(5)"
   ]
  },
  {
   "cell_type": "markdown",
   "metadata": {},
   "source": [
    "### Vistualized Analysis"
   ]
  },
  {
   "cell_type": "code",
   "execution_count": 15,
   "metadata": {},
   "outputs": [],
   "source": [
    "q = [0,.125,.25,.5,.75,.875,1]"
   ]
  },
  {
   "cell_type": "code",
   "execution_count": 16,
   "metadata": {},
   "outputs": [],
   "source": [
    "TmS = pd.to_datetime('2018-02-9 14:00')\n",
    "TmE = pd.to_datetime('2018-02-26 14:30')"
   ]
  },
  {
   "cell_type": "code",
   "execution_count": 16,
   "metadata": {
    "scrolled": true
   },
   "outputs": [
    {
     "ename": "NameError",
     "evalue": "name 'df_1' is not defined",
     "output_type": "error",
     "traceback": [
      "\u001b[1;31m---------------------------------------------------------------------------\u001b[0m",
      "\u001b[1;31mNameError\u001b[0m                                 Traceback (most recent call last)",
      "\u001b[1;32m<ipython-input-16-20a7cb041e19>\u001b[0m in \u001b[0;36m<module>\u001b[1;34m()\u001b[0m\n\u001b[1;32m----> 1\u001b[1;33m \u001b[0mdf_1\u001b[0m\u001b[1;33m[\u001b[0m\u001b[1;34m'diff'\u001b[0m\u001b[1;33m]\u001b[0m\u001b[1;33m.\u001b[0m\u001b[0mhist\u001b[0m\u001b[1;33m(\u001b[0m\u001b[1;33m)\u001b[0m\u001b[1;33m\u001b[0m\u001b[0m\n\u001b[0m",
      "\u001b[1;31mNameError\u001b[0m: name 'df_1' is not defined"
     ]
    }
   ],
   "source": [
    "df_1['diff'].hist()"
   ]
  },
  {
   "cell_type": "code",
   "execution_count": 33,
   "metadata": {},
   "outputs": [
    {
     "data": {
      "text/plain": [
       "count    14531.000000\n",
       "mean        -0.000020\n",
       "std          0.011295\n",
       "min         -0.230000\n",
       "25%         -0.010000\n",
       "50%          0.000000\n",
       "75%          0.000000\n",
       "max          0.420000\n",
       "Name: diff, dtype: float64"
      ]
     },
     "execution_count": 33,
     "metadata": {},
     "output_type": "execute_result"
    }
   ],
   "source": [
    "df_1['diff'].describe()"
   ]
  },
  {
   "cell_type": "code",
   "execution_count": 41,
   "metadata": {},
   "outputs": [
    {
     "data": {
      "text/plain": [
       "<matplotlib.axes._subplots.AxesSubplot at 0xd3bc8f0>"
      ]
     },
     "execution_count": 41,
     "metadata": {},
     "output_type": "execute_result"
    },
    {
     "data": {
      "image/png": "[encoded data removed]",
      "text/plain": [
       "<Figure size 432x288 with 1 Axes>"
      ]
     },
     "metadata": {},
     "output_type": "display_data"
    }
   ],
   "source": [
    "df_30['diff3'].hist()"
   ]
  },
  {
   "cell_type": "code",
   "execution_count": 48,
   "metadata": {},
   "outputs": [
    {
     "data": {
      "text/plain": [
       "count    486.000000\n",
       "mean      -0.001955\n",
       "std        0.086096\n",
       "min       -0.330000\n",
       "0%        -0.330000\n",
       "12.5%     -0.070000\n",
       "25%       -0.030000\n",
       "50%        0.000000\n",
       "75%        0.030000\n",
       "87.5%      0.060000\n",
       "100%       0.510000\n",
       "max        0.510000\n",
       "Name: diff3, dtype: float64"
      ]
     },
     "execution_count": 48,
     "metadata": {},
     "output_type": "execute_result"
    }
   ],
   "source": [
    "df_30.diff3.describe(q)"
   ]
  },
  {
   "cell_type": "code",
   "execution_count": 22,
   "metadata": {},
   "outputs": [
    {
     "data": {
      "text/plain": [
       "(4.62, 4.87]                 129\n",
       "(4.87, 5.08]                 114\n",
       "(5.08, 5.26]                  67\n",
       "(4.34, 4.62]                  62\n",
       "(4.098999999999999, 4.34]     62\n",
       "(5.26, 6.0]                   55\n",
       "Name: C, dtype: int64"
      ]
     },
     "execution_count": 22,
     "metadata": {},
     "output_type": "execute_result"
    }
   ],
   "source": [
    "pd.value_counts(pd.qcut(df_30.C,q))"
   ]
  },
  {
   "cell_type": "code",
   "execution_count": 37,
   "metadata": {},
   "outputs": [
    {
     "data": {
      "text/html": [
       "<div>\n",
       "<style scoped>\n",
       "    .dataframe tbody tr th:only-of-type {\n",
       "        vertical-align: middle;\n",
       "    }\n",
       "\n",
       "    .dataframe tbody tr th {\n",
       "        vertical-align: top;\n",
       "    }\n",
       "\n",
       "    .dataframe thead th {\n",
       "        text-align: right;\n",
       "    }\n",
       "</style>\n",
       "<table border=\"1\" class=\"dataframe\">\n",
       "  <thead>\n",
       "    <tr style=\"text-align: right;\">\n",
       "      <th></th>\n",
       "      <th>pct3</th>\n",
       "      <th>pct2</th>\n",
       "      <th>pct1</th>\n",
       "    </tr>\n",
       "  </thead>\n",
       "  <tbody>\n",
       "    <tr>\n",
       "      <th>count</th>\n",
       "      <td>483.000000</td>\n",
       "      <td>484.000000</td>\n",
       "      <td>485.000000</td>\n",
       "    </tr>\n",
       "    <tr>\n",
       "      <th>mean</th>\n",
       "      <td>0.010301</td>\n",
       "      <td>0.008310</td>\n",
       "      <td>0.005769</td>\n",
       "    </tr>\n",
       "    <tr>\n",
       "      <th>std</th>\n",
       "      <td>0.015312</td>\n",
       "      <td>0.013304</td>\n",
       "      <td>0.010457</td>\n",
       "    </tr>\n",
       "    <tr>\n",
       "      <th>min</th>\n",
       "      <td>0.000000</td>\n",
       "      <td>0.000000</td>\n",
       "      <td>0.000000</td>\n",
       "    </tr>\n",
       "    <tr>\n",
       "      <th>0%</th>\n",
       "      <td>0.000000</td>\n",
       "      <td>0.000000</td>\n",
       "      <td>0.000000</td>\n",
       "    </tr>\n",
       "    <tr>\n",
       "      <th>12.5%</th>\n",
       "      <td>0.001132</td>\n",
       "      <td>0.001039</td>\n",
       "      <td>0.001016</td>\n",
       "    </tr>\n",
       "    <tr>\n",
       "      <th>25%</th>\n",
       "      <td>0.002322</td>\n",
       "      <td>0.002138</td>\n",
       "      <td>0.001167</td>\n",
       "    </tr>\n",
       "    <tr>\n",
       "      <th>50%</th>\n",
       "      <td>0.005663</td>\n",
       "      <td>0.004497</td>\n",
       "      <td>0.003046</td>\n",
       "    </tr>\n",
       "    <tr>\n",
       "      <th>75%</th>\n",
       "      <td>0.010433</td>\n",
       "      <td>0.008310</td>\n",
       "      <td>0.005800</td>\n",
       "    </tr>\n",
       "    <tr>\n",
       "      <th>87.5%</th>\n",
       "      <td>0.018640</td>\n",
       "      <td>0.014447</td>\n",
       "      <td>0.009994</td>\n",
       "    </tr>\n",
       "    <tr>\n",
       "      <th>100%</th>\n",
       "      <td>0.100313</td>\n",
       "      <td>0.100313</td>\n",
       "      <td>0.100313</td>\n",
       "    </tr>\n",
       "    <tr>\n",
       "      <th>max</th>\n",
       "      <td>0.100313</td>\n",
       "      <td>0.100313</td>\n",
       "      <td>0.100313</td>\n",
       "    </tr>\n",
       "  </tbody>\n",
       "</table>\n",
       "</div>"
      ],
      "text/plain": [
       "             pct3        pct2        pct1\n",
       "count  483.000000  484.000000  485.000000\n",
       "mean     0.010301    0.008310    0.005769\n",
       "std      0.015312    0.013304    0.010457\n",
       "min      0.000000    0.000000    0.000000\n",
       "0%       0.000000    0.000000    0.000000\n",
       "12.5%    0.001132    0.001039    0.001016\n",
       "25%      0.002322    0.002138    0.001167\n",
       "50%      0.005663    0.004497    0.003046\n",
       "75%      0.010433    0.008310    0.005800\n",
       "87.5%    0.018640    0.014447    0.009994\n",
       "100%     0.100313    0.100313    0.100313\n",
       "max      0.100313    0.100313    0.100313"
      ]
     },
     "execution_count": 37,
     "metadata": {},
     "output_type": "execute_result"
    }
   ],
   "source": [
    "df30[['pct3','pct2','pct1']].describe(q)"
   ]
  },
  {
   "cell_type": "code",
   "execution_count": 17,
   "metadata": {},
   "outputs": [
    {
     "data": {
      "text/plain": [
       "[0.009993918530503909, 0.014446876482462567, 0.018639592269729333]"
      ]
     },
     "execution_count": 17,
     "metadata": {},
     "output_type": "execute_result"
    }
   ],
   "source": [
    "q875_thread = df30[['pct1','pct2','pct3']].quantile(0.875).tolist()\n",
    "q875_thread"
   ]
  },
  {
   "cell_type": "code",
   "execution_count": 18,
   "metadata": {},
   "outputs": [
    {
     "data": {
      "text/plain": [
       "list"
      ]
     },
     "execution_count": 18,
     "metadata": {},
     "output_type": "execute_result"
    }
   ],
   "source": [
    "type(q875_thread)"
   ]
  },
  {
   "cell_type": "code",
   "execution_count": 74,
   "metadata": {},
   "outputs": [
    {
     "data": {
      "text/html": [
       "<div>\n",
       "<style scoped>\n",
       "    .dataframe tbody tr th:only-of-type {\n",
       "        vertical-align: middle;\n",
       "    }\n",
       "\n",
       "    .dataframe tbody tr th {\n",
       "        vertical-align: top;\n",
       "    }\n",
       "\n",
       "    .dataframe thead th {\n",
       "        text-align: right;\n",
       "    }\n",
       "</style>\n",
       "<table border=\"1\" class=\"dataframe\">\n",
       "  <thead>\n",
       "    <tr style=\"text-align: right;\">\n",
       "      <th></th>\n",
       "      <th>O</th>\n",
       "      <th>H</th>\n",
       "      <th>L</th>\n",
       "      <th>C</th>\n",
       "      <th>V</th>\n",
       "      <th>A</th>\n",
       "      <th>diff1</th>\n",
       "      <th>drtC</th>\n",
       "      <th>mono3</th>\n",
       "      <th>diff2</th>\n",
       "      <th>diff3</th>\n",
       "      <th>pct1</th>\n",
       "      <th>pct2</th>\n",
       "      <th>pct3</th>\n",
       "    </tr>\n",
       "    <tr>\n",
       "      <th>Tm</th>\n",
       "      <th></th>\n",
       "      <th></th>\n",
       "      <th></th>\n",
       "      <th></th>\n",
       "      <th></th>\n",
       "      <th></th>\n",
       "      <th></th>\n",
       "      <th></th>\n",
       "      <th></th>\n",
       "      <th></th>\n",
       "      <th></th>\n",
       "      <th></th>\n",
       "      <th></th>\n",
       "      <th></th>\n",
       "    </tr>\n",
       "  </thead>\n",
       "  <tbody>\n",
       "    <tr>\n",
       "      <th>2018-02-12 09:30:00</th>\n",
       "      <td>4.17</td>\n",
       "      <td>4.24</td>\n",
       "      <td>4.16</td>\n",
       "      <td>4.22</td>\n",
       "      <td>13236.0</td>\n",
       "      <td>287813.0</td>\n",
       "      <td>0.09</td>\n",
       "      <td>1</td>\n",
       "      <td>3.0</td>\n",
       "      <td>0.10</td>\n",
       "      <td>0.12</td>\n",
       "      <td>0.021792</td>\n",
       "      <td>0.024272</td>\n",
       "      <td>0.029268</td>\n",
       "    </tr>\n",
       "    <tr>\n",
       "      <th>2018-02-12 10:00:00</th>\n",
       "      <td>4.21</td>\n",
       "      <td>4.27</td>\n",
       "      <td>4.21</td>\n",
       "      <td>4.24</td>\n",
       "      <td>9682.0</td>\n",
       "      <td>205379.0</td>\n",
       "      <td>0.02</td>\n",
       "      <td>1</td>\n",
       "      <td>3.0</td>\n",
       "      <td>0.11</td>\n",
       "      <td>0.12</td>\n",
       "      <td>0.004739</td>\n",
       "      <td>0.026634</td>\n",
       "      <td>0.029126</td>\n",
       "    </tr>\n",
       "    <tr>\n",
       "      <th>2018-02-12 10:30:00</th>\n",
       "      <td>4.24</td>\n",
       "      <td>4.26</td>\n",
       "      <td>4.22</td>\n",
       "      <td>4.25</td>\n",
       "      <td>7099.0</td>\n",
       "      <td>19080.0</td>\n",
       "      <td>0.01</td>\n",
       "      <td>1</td>\n",
       "      <td>3.0</td>\n",
       "      <td>0.03</td>\n",
       "      <td>0.12</td>\n",
       "      <td>0.002358</td>\n",
       "      <td>0.007109</td>\n",
       "      <td>0.029056</td>\n",
       "    </tr>\n",
       "    <tr>\n",
       "      <th>2018-02-22 10:00:00</th>\n",
       "      <td>4.31</td>\n",
       "      <td>4.35</td>\n",
       "      <td>4.30</td>\n",
       "      <td>4.33</td>\n",
       "      <td>4436.0</td>\n",
       "      <td>48675.0</td>\n",
       "      <td>0.02</td>\n",
       "      <td>1</td>\n",
       "      <td>3.0</td>\n",
       "      <td>0.07</td>\n",
       "      <td>0.08</td>\n",
       "      <td>0.004640</td>\n",
       "      <td>0.016432</td>\n",
       "      <td>0.018824</td>\n",
       "    </tr>\n",
       "    <tr>\n",
       "      <th>2018-02-22 10:30:00</th>\n",
       "      <td>4.33</td>\n",
       "      <td>4.34</td>\n",
       "      <td>4.32</td>\n",
       "      <td>4.33</td>\n",
       "      <td>3160.0</td>\n",
       "      <td>105009.0</td>\n",
       "      <td>0.00</td>\n",
       "      <td>0</td>\n",
       "      <td>2.0</td>\n",
       "      <td>0.02</td>\n",
       "      <td>0.07</td>\n",
       "      <td>0.000000</td>\n",
       "      <td>0.004640</td>\n",
       "      <td>0.016432</td>\n",
       "    </tr>\n",
       "  </tbody>\n",
       "</table>\n",
       "</div>"
      ],
      "text/plain": [
       "                        O     H     L     C        V         A  diff1  drtC  \\\n",
       "Tm                                                                            \n",
       "2018-02-12 09:30:00  4.17  4.24  4.16  4.22  13236.0  287813.0   0.09     1   \n",
       "2018-02-12 10:00:00  4.21  4.27  4.21  4.24   9682.0  205379.0   0.02     1   \n",
       "2018-02-12 10:30:00  4.24  4.26  4.22  4.25   7099.0   19080.0   0.01     1   \n",
       "2018-02-22 10:00:00  4.31  4.35  4.30  4.33   4436.0   48675.0   0.02     1   \n",
       "2018-02-22 10:30:00  4.33  4.34  4.32  4.33   3160.0  105009.0   0.00     0   \n",
       "\n",
       "                     mono3  diff2  diff3      pct1      pct2      pct3  \n",
       "Tm                                                                      \n",
       "2018-02-12 09:30:00    3.0   0.10   0.12  0.021792  0.024272  0.029268  \n",
       "2018-02-12 10:00:00    3.0   0.11   0.12  0.004739  0.026634  0.029126  \n",
       "2018-02-12 10:30:00    3.0   0.03   0.12  0.002358  0.007109  0.029056  \n",
       "2018-02-22 10:00:00    3.0   0.07   0.08  0.004640  0.016432  0.018824  \n",
       "2018-02-22 10:30:00    2.0   0.02   0.07  0.000000  0.004640  0.016432  "
      ]
     },
     "execution_count": 74,
     "metadata": {},
     "output_type": "execute_result"
    }
   ],
   "source": [
    "df30xx.sort_values('pct3', ascending=False).head()"
   ]
  },
  {
   "cell_type": "markdown",
   "metadata": {},
   "source": [
    "### Gen DataFrame Index\n",
    "#### tm_idx_dict /tmstampL, col_idx_dict / colL"
   ]
  },
  {
   "cell_type": "code",
   "execution_count": 19,
   "metadata": {},
   "outputs": [],
   "source": [
    "# Gen Time Index Dictionary \n",
    "tmstampL = df30.index.tolist()\n",
    "idx = list(range(len(tmstampL)))\n",
    "tm_idx_dict = dict(zip(tmstampL,idx))"
   ]
  },
  {
   "cell_type": "code",
   "execution_count": 20,
   "metadata": {},
   "outputs": [
    {
     "data": {
      "text/plain": [
       "279"
      ]
     },
     "execution_count": 20,
     "metadata": {},
     "output_type": "execute_result"
    }
   ],
   "source": [
    "tm_idx_dict[TmS]"
   ]
  },
  {
   "cell_type": "code",
   "execution_count": 21,
   "metadata": {},
   "outputs": [],
   "source": [
    "colL = df30.columns.tolist()\n",
    "idx = list(range(len(colL)))\n",
    "col_idx_dict = dict(zip(colL,idx))"
   ]
  },
  {
   "cell_type": "code",
   "execution_count": 22,
   "metadata": {},
   "outputs": [
    {
     "data": {
      "text/plain": [
       "2"
      ]
     },
     "execution_count": 22,
     "metadata": {},
     "output_type": "execute_result"
    }
   ],
   "source": [
    "col_idx_dict['H']"
   ]
  },
  {
   "cell_type": "markdown",
   "metadata": {},
   "source": [
    "### Search Flag Mode"
   ]
  },
  {
   "cell_type": "code",
   "execution_count": 40,
   "metadata": {},
   "outputs": [
    {
     "data": {
      "text/html": [
       "<div>\n",
       "<style scoped>\n",
       "    .dataframe tbody tr th:only-of-type {\n",
       "        vertical-align: middle;\n",
       "    }\n",
       "\n",
       "    .dataframe tbody tr th {\n",
       "        vertical-align: top;\n",
       "    }\n",
       "\n",
       "    .dataframe thead th {\n",
       "        text-align: right;\n",
       "    }\n",
       "</style>\n",
       "<table border=\"1\" class=\"dataframe\">\n",
       "  <thead>\n",
       "    <tr style=\"text-align: right;\">\n",
       "      <th></th>\n",
       "      <th>O</th>\n",
       "      <th>C</th>\n",
       "      <th>H</th>\n",
       "      <th>L</th>\n",
       "      <th>V</th>\n",
       "      <th>code</th>\n",
       "      <th>diff1</th>\n",
       "      <th>drt</th>\n",
       "      <th>drtC</th>\n",
       "      <th>mono3</th>\n",
       "      <th>diff2</th>\n",
       "      <th>diff3</th>\n",
       "      <th>pct1</th>\n",
       "      <th>pct2</th>\n",
       "      <th>pct3</th>\n",
       "      <th>stdF</th>\n",
       "      <th>idx</th>\n",
       "    </tr>\n",
       "    <tr>\n",
       "      <th>date</th>\n",
       "      <th></th>\n",
       "      <th></th>\n",
       "      <th></th>\n",
       "      <th></th>\n",
       "      <th></th>\n",
       "      <th></th>\n",
       "      <th></th>\n",
       "      <th></th>\n",
       "      <th></th>\n",
       "      <th></th>\n",
       "      <th></th>\n",
       "      <th></th>\n",
       "      <th></th>\n",
       "      <th></th>\n",
       "      <th></th>\n",
       "      <th></th>\n",
       "      <th></th>\n",
       "    </tr>\n",
       "  </thead>\n",
       "  <tbody>\n",
       "    <tr>\n",
       "      <th>2017-12-25 10:00:00</th>\n",
       "      <td>9.83</td>\n",
       "      <td>9.88</td>\n",
       "      <td>9.92</td>\n",
       "      <td>9.82</td>\n",
       "      <td>7285.0</td>\n",
       "      <td>600838</td>\n",
       "      <td>-0.01</td>\n",
       "      <td>0</td>\n",
       "      <td>-1</td>\n",
       "      <td>-3.0</td>\n",
       "      <td>-0.11</td>\n",
       "      <td>-0.13</td>\n",
       "      <td>0.001011</td>\n",
       "      <td>0.011011</td>\n",
       "      <td>0.012987</td>\n",
       "      <td>0</td>\n",
       "      <td>10</td>\n",
       "    </tr>\n",
       "    <tr>\n",
       "      <th>2017-12-25 10:30:00</th>\n",
       "      <td>9.88</td>\n",
       "      <td>9.84</td>\n",
       "      <td>9.89</td>\n",
       "      <td>9.81</td>\n",
       "      <td>5465.0</td>\n",
       "      <td>600838</td>\n",
       "      <td>-0.04</td>\n",
       "      <td>0</td>\n",
       "      <td>-1</td>\n",
       "      <td>-3.0</td>\n",
       "      <td>-0.05</td>\n",
       "      <td>-0.15</td>\n",
       "      <td>0.004049</td>\n",
       "      <td>0.005056</td>\n",
       "      <td>0.015015</td>\n",
       "      <td>0</td>\n",
       "      <td>11</td>\n",
       "    </tr>\n",
       "    <tr>\n",
       "      <th>2017-12-25 11:00:00</th>\n",
       "      <td>9.84</td>\n",
       "      <td>9.85</td>\n",
       "      <td>9.85</td>\n",
       "      <td>9.81</td>\n",
       "      <td>2743.0</td>\n",
       "      <td>600838</td>\n",
       "      <td>0.01</td>\n",
       "      <td>0</td>\n",
       "      <td>1</td>\n",
       "      <td>-1.0</td>\n",
       "      <td>-0.03</td>\n",
       "      <td>-0.04</td>\n",
       "      <td>0.001016</td>\n",
       "      <td>0.003036</td>\n",
       "      <td>0.004044</td>\n",
       "      <td>0</td>\n",
       "      <td>12</td>\n",
       "    </tr>\n",
       "    <tr>\n",
       "      <th>2017-12-25 11:30:00</th>\n",
       "      <td>9.85</td>\n",
       "      <td>9.81</td>\n",
       "      <td>9.85</td>\n",
       "      <td>9.80</td>\n",
       "      <td>3030.0</td>\n",
       "      <td>600838</td>\n",
       "      <td>-0.04</td>\n",
       "      <td>0</td>\n",
       "      <td>-1</td>\n",
       "      <td>-1.0</td>\n",
       "      <td>-0.03</td>\n",
       "      <td>-0.07</td>\n",
       "      <td>0.004061</td>\n",
       "      <td>0.003049</td>\n",
       "      <td>0.007085</td>\n",
       "      <td>0</td>\n",
       "      <td>13</td>\n",
       "    </tr>\n",
       "    <tr>\n",
       "      <th>2017-12-25 13:30:00</th>\n",
       "      <td>9.81</td>\n",
       "      <td>9.83</td>\n",
       "      <td>9.90</td>\n",
       "      <td>9.80</td>\n",
       "      <td>5647.0</td>\n",
       "      <td>600838</td>\n",
       "      <td>0.02</td>\n",
       "      <td>0</td>\n",
       "      <td>1</td>\n",
       "      <td>1.0</td>\n",
       "      <td>-0.02</td>\n",
       "      <td>-0.01</td>\n",
       "      <td>0.002039</td>\n",
       "      <td>0.002030</td>\n",
       "      <td>0.001016</td>\n",
       "      <td>0</td>\n",
       "      <td>14</td>\n",
       "    </tr>\n",
       "    <tr>\n",
       "      <th>2017-12-25 14:00:00</th>\n",
       "      <td>9.83</td>\n",
       "      <td>9.81</td>\n",
       "      <td>9.84</td>\n",
       "      <td>9.79</td>\n",
       "      <td>3058.0</td>\n",
       "      <td>600838</td>\n",
       "      <td>-0.02</td>\n",
       "      <td>0</td>\n",
       "      <td>-1</td>\n",
       "      <td>-1.0</td>\n",
       "      <td>0.00</td>\n",
       "      <td>-0.04</td>\n",
       "      <td>0.002035</td>\n",
       "      <td>0.000000</td>\n",
       "      <td>0.004061</td>\n",
       "      <td>0</td>\n",
       "      <td>15</td>\n",
       "    </tr>\n",
       "    <tr>\n",
       "      <th>2017-12-25 14:30:00</th>\n",
       "      <td>9.82</td>\n",
       "      <td>9.67</td>\n",
       "      <td>9.82</td>\n",
       "      <td>9.66</td>\n",
       "      <td>6819.0</td>\n",
       "      <td>600838</td>\n",
       "      <td>-0.14</td>\n",
       "      <td>0</td>\n",
       "      <td>-1</td>\n",
       "      <td>-1.0</td>\n",
       "      <td>-0.16</td>\n",
       "      <td>-0.14</td>\n",
       "      <td>0.014271</td>\n",
       "      <td>0.016277</td>\n",
       "      <td>0.014271</td>\n",
       "      <td>0</td>\n",
       "      <td>16</td>\n",
       "    </tr>\n",
       "    <tr>\n",
       "      <th>2017-12-25 15:00:00</th>\n",
       "      <td>9.67</td>\n",
       "      <td>9.66</td>\n",
       "      <td>9.69</td>\n",
       "      <td>9.57</td>\n",
       "      <td>8415.0</td>\n",
       "      <td>600838</td>\n",
       "      <td>-0.01</td>\n",
       "      <td>0</td>\n",
       "      <td>-1</td>\n",
       "      <td>-3.0</td>\n",
       "      <td>-0.15</td>\n",
       "      <td>-0.17</td>\n",
       "      <td>0.001034</td>\n",
       "      <td>0.015291</td>\n",
       "      <td>0.017294</td>\n",
       "      <td>0</td>\n",
       "      <td>17</td>\n",
       "    </tr>\n",
       "    <tr>\n",
       "      <th>2017-12-26 10:00:00</th>\n",
       "      <td>9.68</td>\n",
       "      <td>9.81</td>\n",
       "      <td>9.87</td>\n",
       "      <td>9.68</td>\n",
       "      <td>9736.0</td>\n",
       "      <td>600838</td>\n",
       "      <td>0.15</td>\n",
       "      <td>0</td>\n",
       "      <td>1</td>\n",
       "      <td>-1.0</td>\n",
       "      <td>0.14</td>\n",
       "      <td>0.00</td>\n",
       "      <td>0.015528</td>\n",
       "      <td>0.014478</td>\n",
       "      <td>0.000000</td>\n",
       "      <td>0</td>\n",
       "      <td>18</td>\n",
       "    </tr>\n",
       "    <tr>\n",
       "      <th>2017-12-26 10:30:00</th>\n",
       "      <td>9.81</td>\n",
       "      <td>9.73</td>\n",
       "      <td>9.81</td>\n",
       "      <td>9.71</td>\n",
       "      <td>3641.0</td>\n",
       "      <td>600838</td>\n",
       "      <td>-0.08</td>\n",
       "      <td>0</td>\n",
       "      <td>-1</td>\n",
       "      <td>-1.0</td>\n",
       "      <td>0.07</td>\n",
       "      <td>0.06</td>\n",
       "      <td>0.008155</td>\n",
       "      <td>0.007246</td>\n",
       "      <td>0.006205</td>\n",
       "      <td>0</td>\n",
       "      <td>19</td>\n",
       "    </tr>\n",
       "  </tbody>\n",
       "</table>\n",
       "</div>"
      ],
      "text/plain": [
       "                        O     C     H     L       V    code  diff1  drt  drtC  \\\n",
       "date                                                                            \n",
       "2017-12-25 10:00:00  9.83  9.88  9.92  9.82  7285.0  600838  -0.01    0    -1   \n",
       "2017-12-25 10:30:00  9.88  9.84  9.89  9.81  5465.0  600838  -0.04    0    -1   \n",
       "2017-12-25 11:00:00  9.84  9.85  9.85  9.81  2743.0  600838   0.01    0     1   \n",
       "2017-12-25 11:30:00  9.85  9.81  9.85  9.80  3030.0  600838  -0.04    0    -1   \n",
       "2017-12-25 13:30:00  9.81  9.83  9.90  9.80  5647.0  600838   0.02    0     1   \n",
       "2017-12-25 14:00:00  9.83  9.81  9.84  9.79  3058.0  600838  -0.02    0    -1   \n",
       "2017-12-25 14:30:00  9.82  9.67  9.82  9.66  6819.0  600838  -0.14    0    -1   \n",
       "2017-12-25 15:00:00  9.67  9.66  9.69  9.57  8415.0  600838  -0.01    0    -1   \n",
       "2017-12-26 10:00:00  9.68  9.81  9.87  9.68  9736.0  600838   0.15    0     1   \n",
       "2017-12-26 10:30:00  9.81  9.73  9.81  9.71  3641.0  600838  -0.08    0    -1   \n",
       "\n",
       "                     mono3  diff2  diff3      pct1      pct2      pct3  stdF  \\\n",
       "date                                                                           \n",
       "2017-12-25 10:00:00   -3.0  -0.11  -0.13  0.001011  0.011011  0.012987     0   \n",
       "2017-12-25 10:30:00   -3.0  -0.05  -0.15  0.004049  0.005056  0.015015     0   \n",
       "2017-12-25 11:00:00   -1.0  -0.03  -0.04  0.001016  0.003036  0.004044     0   \n",
       "2017-12-25 11:30:00   -1.0  -0.03  -0.07  0.004061  0.003049  0.007085     0   \n",
       "2017-12-25 13:30:00    1.0  -0.02  -0.01  0.002039  0.002030  0.001016     0   \n",
       "2017-12-25 14:00:00   -1.0   0.00  -0.04  0.002035  0.000000  0.004061     0   \n",
       "2017-12-25 14:30:00   -1.0  -0.16  -0.14  0.014271  0.016277  0.014271     0   \n",
       "2017-12-25 15:00:00   -3.0  -0.15  -0.17  0.001034  0.015291  0.017294     0   \n",
       "2017-12-26 10:00:00   -1.0   0.14   0.00  0.015528  0.014478  0.000000     0   \n",
       "2017-12-26 10:30:00   -1.0   0.07   0.06  0.008155  0.007246  0.006205     0   \n",
       "\n",
       "                     idx  \n",
       "date                      \n",
       "2017-12-25 10:00:00   10  \n",
       "2017-12-25 10:30:00   11  \n",
       "2017-12-25 11:00:00   12  \n",
       "2017-12-25 11:30:00   13  \n",
       "2017-12-25 13:30:00   14  \n",
       "2017-12-25 14:00:00   15  \n",
       "2017-12-25 14:30:00   16  \n",
       "2017-12-25 15:00:00   17  \n",
       "2017-12-26 10:00:00   18  \n",
       "2017-12-26 10:30:00   19  "
      ]
     },
     "execution_count": 40,
     "metadata": {},
     "output_type": "execute_result"
    }
   ],
   "source": [
    "df30.iloc[10:20]"
   ]
  },
  {
   "cell_type": "code",
   "execution_count": 24,
   "metadata": {},
   "outputs": [
    {
     "data": {
      "text/plain": [
       "array([[10.08, 10.11],\n",
       "       [10.1 , 10.12],\n",
       "       [10.12, 10.08]])"
      ]
     },
     "execution_count": 24,
     "metadata": {},
     "output_type": "execute_result"
    }
   ],
   "source": [
    "arr30 = df30[['O','C']].values  # numpy.ndarray\n",
    "arr30[2:5]"
   ]
  },
  {
   "cell_type": "code",
   "execution_count": 25,
   "metadata": {},
   "outputs": [
    {
     "data": {
      "text/plain": [
       "array([[10.13, 10.13],\n",
       "       [10.13, 10.12],\n",
       "       [10.08, 10.11],\n",
       "       [10.1 , 10.12]])"
      ]
     },
     "execution_count": 25,
     "metadata": {},
     "output_type": "execute_result"
    }
   ],
   "source": [
    "i = 4\n",
    "aa = arr30[i-4:i,0:2]  # 2 x 4\n",
    "aa"
   ]
  },
  {
   "cell_type": "code",
   "execution_count": 26,
   "metadata": {},
   "outputs": [
    {
     "data": {
      "text/plain": [
       "10.13"
      ]
     },
     "execution_count": 26,
     "metadata": {},
     "output_type": "execute_result"
    }
   ],
   "source": [
    "arr30[0,0]"
   ]
  },
  {
   "cell_type": "code",
   "execution_count": 27,
   "metadata": {},
   "outputs": [],
   "source": [
    "# Calculate pct by loop\n",
    "def pct123(ocArr):  # ocArr 2 x 4\n",
    "    e = ocArr[3,1]\n",
    "    s1 = ocArr[2,1]\n",
    "    s2 = ocArr[1,1]\n",
    "    s3 = ocArr[0,1]\n",
    "    pct1 = abs((e-s1)/s1)\n",
    "    pct2 = abs((e-s2)/s2)\n",
    "    pct3 = abs((e-s3)/s3)\n",
    "    pct = np.array([pct1,pct2,pct3])\n",
    "    return pct"
   ]
  },
  {
   "cell_type": "code",
   "execution_count": 28,
   "metadata": {},
   "outputs": [],
   "source": [
    "p = pct123(aa)  #array([0.00098912, 0.        , 0.00098717])\n",
    "r = p > q875_thread  # array([False, False, False])\n",
    "r.sum() > 0 # >> find a stick\n",
    "peak_position = np.array([-1,-2,-3])*r  #  array([-1,0,0])\n",
    "pp = peak_position.min()  # get the SHIFT of the start point of a stick\n"
   ]
  },
  {
   "cell_type": "code",
   "execution_count": 29,
   "metadata": {},
   "outputs": [],
   "source": [
    "class Stick(object):\n",
    "    crt_status = 'close'\n",
    "    \n",
    "    def __init__(self, startTm, crtTm):\n",
    "        self.TmS = startTm\n",
    "        self.TmE = crtTm\n",
    "        self.TmI = crtTm\n",
    "        self.drt = 0\n",
    "        Stick.crt_status = 'open'\n",
    "\n",
    "    def terminate(self,crtTm=None):\n",
    "        self.TmE = crtTm\n",
    "        Stick.crt_status = 'close'\n",
    "        return True"
   ]
  },
  {
   "cell_type": "code",
   "execution_count": 30,
   "metadata": {},
   "outputs": [],
   "source": [
    "stL = []\n",
    "for i in range(len(arr30)):\n",
    "    '''\n",
    "    find big move:\n",
    "    1. GET np.array([pct1,pct2,pct3]). (pct_chagne between 1 or 2 or 3 bars)\n",
    "    '''\n",
    "    if i>3:\n",
    "        arr = arr30[i-4:i,0:2]\n",
    "        p = pct123(arr)  \n",
    "        r = p > q875_thread  # array([False, False, False])\n",
    "        if r.sum() > 0: # >>> find a stick\n",
    "            if len(stL)==0 or stL[-1].crt_status=='close':\n",
    "                peak_position = np.array([-1,-2,-3])*r  #  array([-1,0,0])\n",
    "                stL.append(Stick(i+peak_position.min(),i))\n",
    "        else:\n",
    "            if len(stL)>0:\n",
    "                stL[-1].terminate(i)"
   ]
  },
  {
   "cell_type": "code",
   "execution_count": 31,
   "metadata": {},
   "outputs": [],
   "source": [
    "x,y = list(),list()\n",
    "arr = df30['L'].values\n",
    "for st in stL:\n",
    "    x.append(st.TmS)\n",
    "    y.append(arr[st.TmS])"
   ]
  },
  {
   "cell_type": "markdown",
   "metadata": {},
   "source": [
    "### Gen stdK"
   ]
  },
  {
   "cell_type": "code",
   "execution_count": 23,
   "metadata": {},
   "outputs": [
    {
     "data": {
      "text/html": [
       "<div>\n",
       "<style scoped>\n",
       "    .dataframe tbody tr th:only-of-type {\n",
       "        vertical-align: middle;\n",
       "    }\n",
       "\n",
       "    .dataframe tbody tr th {\n",
       "        vertical-align: top;\n",
       "    }\n",
       "\n",
       "    .dataframe thead th {\n",
       "        text-align: right;\n",
       "    }\n",
       "</style>\n",
       "<table border=\"1\" class=\"dataframe\">\n",
       "  <thead>\n",
       "    <tr style=\"text-align: right;\">\n",
       "      <th></th>\n",
       "      <th>O</th>\n",
       "      <th>C</th>\n",
       "      <th>H</th>\n",
       "      <th>L</th>\n",
       "      <th>V</th>\n",
       "      <th>code</th>\n",
       "      <th>diff1</th>\n",
       "      <th>drt</th>\n",
       "      <th>drtC</th>\n",
       "      <th>mono3</th>\n",
       "      <th>diff2</th>\n",
       "      <th>diff3</th>\n",
       "      <th>pct1</th>\n",
       "      <th>pct2</th>\n",
       "      <th>pct3</th>\n",
       "      <th>stdF</th>\n",
       "      <th>idx</th>\n",
       "    </tr>\n",
       "    <tr>\n",
       "      <th>date</th>\n",
       "      <th></th>\n",
       "      <th></th>\n",
       "      <th></th>\n",
       "      <th></th>\n",
       "      <th></th>\n",
       "      <th></th>\n",
       "      <th></th>\n",
       "      <th></th>\n",
       "      <th></th>\n",
       "      <th></th>\n",
       "      <th></th>\n",
       "      <th></th>\n",
       "      <th></th>\n",
       "      <th></th>\n",
       "      <th></th>\n",
       "      <th></th>\n",
       "      <th></th>\n",
       "    </tr>\n",
       "  </thead>\n",
       "  <tbody>\n",
       "    <tr>\n",
       "      <th>2017-12-21 14:30:00</th>\n",
       "      <td>10.13</td>\n",
       "      <td>10.13</td>\n",
       "      <td>10.14</td>\n",
       "      <td>10.12</td>\n",
       "      <td>6272.0</td>\n",
       "      <td>600838</td>\n",
       "      <td>NaN</td>\n",
       "      <td>0</td>\n",
       "      <td>0</td>\n",
       "      <td>NaN</td>\n",
       "      <td>NaN</td>\n",
       "      <td>NaN</td>\n",
       "      <td>NaN</td>\n",
       "      <td>NaN</td>\n",
       "      <td>NaN</td>\n",
       "      <td>0</td>\n",
       "      <td>0</td>\n",
       "    </tr>\n",
       "    <tr>\n",
       "      <th>2017-12-21 15:00:00</th>\n",
       "      <td>10.13</td>\n",
       "      <td>10.12</td>\n",
       "      <td>10.16</td>\n",
       "      <td>10.11</td>\n",
       "      <td>11846.0</td>\n",
       "      <td>600838</td>\n",
       "      <td>-0.01</td>\n",
       "      <td>0</td>\n",
       "      <td>-1</td>\n",
       "      <td>NaN</td>\n",
       "      <td>NaN</td>\n",
       "      <td>NaN</td>\n",
       "      <td>0.000987</td>\n",
       "      <td>NaN</td>\n",
       "      <td>NaN</td>\n",
       "      <td>0</td>\n",
       "      <td>1</td>\n",
       "    </tr>\n",
       "    <tr>\n",
       "      <th>2017-12-22 10:00:00</th>\n",
       "      <td>10.08</td>\n",
       "      <td>10.11</td>\n",
       "      <td>10.12</td>\n",
       "      <td>10.06</td>\n",
       "      <td>4886.0</td>\n",
       "      <td>600838</td>\n",
       "      <td>-0.01</td>\n",
       "      <td>0</td>\n",
       "      <td>-1</td>\n",
       "      <td>-2.0</td>\n",
       "      <td>-0.02</td>\n",
       "      <td>NaN</td>\n",
       "      <td>0.000988</td>\n",
       "      <td>0.001974</td>\n",
       "      <td>NaN</td>\n",
       "      <td>0</td>\n",
       "      <td>2</td>\n",
       "    </tr>\n",
       "    <tr>\n",
       "      <th>2017-12-22 10:30:00</th>\n",
       "      <td>10.10</td>\n",
       "      <td>10.12</td>\n",
       "      <td>10.16</td>\n",
       "      <td>10.09</td>\n",
       "      <td>3922.0</td>\n",
       "      <td>600838</td>\n",
       "      <td>0.01</td>\n",
       "      <td>0</td>\n",
       "      <td>1</td>\n",
       "      <td>-1.0</td>\n",
       "      <td>0.00</td>\n",
       "      <td>-0.01</td>\n",
       "      <td>0.000989</td>\n",
       "      <td>0.000000</td>\n",
       "      <td>0.000987</td>\n",
       "      <td>0</td>\n",
       "      <td>3</td>\n",
       "    </tr>\n",
       "    <tr>\n",
       "      <th>2017-12-22 11:00:00</th>\n",
       "      <td>10.12</td>\n",
       "      <td>10.08</td>\n",
       "      <td>10.14</td>\n",
       "      <td>10.06</td>\n",
       "      <td>4346.0</td>\n",
       "      <td>600838</td>\n",
       "      <td>-0.04</td>\n",
       "      <td>0</td>\n",
       "      <td>-1</td>\n",
       "      <td>-1.0</td>\n",
       "      <td>-0.03</td>\n",
       "      <td>-0.04</td>\n",
       "      <td>0.003953</td>\n",
       "      <td>0.002967</td>\n",
       "      <td>0.003953</td>\n",
       "      <td>0</td>\n",
       "      <td>4</td>\n",
       "    </tr>\n",
       "  </tbody>\n",
       "</table>\n",
       "</div>"
      ],
      "text/plain": [
       "                         O      C      H      L        V    code  diff1  drt  \\\n",
       "date                                                                           \n",
       "2017-12-21 14:30:00  10.13  10.13  10.14  10.12   6272.0  600838    NaN    0   \n",
       "2017-12-21 15:00:00  10.13  10.12  10.16  10.11  11846.0  600838  -0.01    0   \n",
       "2017-12-22 10:00:00  10.08  10.11  10.12  10.06   4886.0  600838  -0.01    0   \n",
       "2017-12-22 10:30:00  10.10  10.12  10.16  10.09   3922.0  600838   0.01    0   \n",
       "2017-12-22 11:00:00  10.12  10.08  10.14  10.06   4346.0  600838  -0.04    0   \n",
       "\n",
       "                     drtC  mono3  diff2  diff3      pct1      pct2      pct3  \\\n",
       "date                                                                           \n",
       "2017-12-21 14:30:00     0    NaN    NaN    NaN       NaN       NaN       NaN   \n",
       "2017-12-21 15:00:00    -1    NaN    NaN    NaN  0.000987       NaN       NaN   \n",
       "2017-12-22 10:00:00    -1   -2.0  -0.02    NaN  0.000988  0.001974       NaN   \n",
       "2017-12-22 10:30:00     1   -1.0   0.00  -0.01  0.000989  0.000000  0.000987   \n",
       "2017-12-22 11:00:00    -1   -1.0  -0.03  -0.04  0.003953  0.002967  0.003953   \n",
       "\n",
       "                     stdF  idx  \n",
       "date                            \n",
       "2017-12-21 14:30:00     0    0  \n",
       "2017-12-21 15:00:00     0    1  \n",
       "2017-12-22 10:00:00     0    2  \n",
       "2017-12-22 10:30:00     0    3  \n",
       "2017-12-22 11:00:00     0    4  "
      ]
     },
     "execution_count": 23,
     "metadata": {},
     "output_type": "execute_result"
    }
   ],
   "source": [
    "df30.head()"
   ]
  },
  {
   "cell_type": "markdown",
   "metadata": {},
   "source": [
    "* df_std = df_30.loc[:,['H','L']] # copy\n",
    "* df_std = df_30.loc[:,['H','L']].copy() # copy\n",
    "* df_std['H'] = df_30['H']    # copy\n",
    "* df_std['L'] = df_30.loc[:,'L']  # copy\n"
   ]
  },
  {
   "cell_type": "code",
   "execution_count": 24,
   "metadata": {},
   "outputs": [],
   "source": [
    "df_std = pd.DataFrame()\n",
    "df_std['H'] = df30['H']\n",
    "df_std['L'] = df30.loc[:,'L']\n",
    "\n",
    "#df_std = df_std.merge(df_30.loc[:,['H','L']].shift(), how='left',left_index=True, right_index=True,copy=True)\n",
    "#df_std.iloc[0,[2,3]] = (5.10,5.06)"
   ]
  },
  {
   "cell_type": "code",
   "execution_count": 25,
   "metadata": {},
   "outputs": [],
   "source": [
    "df_std.loc[:,'drt'] = 0\n",
    "df_std.loc[:,'stdF'] = 1\n"
   ]
  },
  {
   "cell_type": "code",
   "execution_count": 26,
   "metadata": {},
   "outputs": [
    {
     "data": {
      "text/html": [
       "<div>\n",
       "<style scoped>\n",
       "    .dataframe tbody tr th:only-of-type {\n",
       "        vertical-align: middle;\n",
       "    }\n",
       "\n",
       "    .dataframe tbody tr th {\n",
       "        vertical-align: top;\n",
       "    }\n",
       "\n",
       "    .dataframe thead th {\n",
       "        text-align: right;\n",
       "    }\n",
       "</style>\n",
       "<table border=\"1\" class=\"dataframe\">\n",
       "  <thead>\n",
       "    <tr style=\"text-align: right;\">\n",
       "      <th></th>\n",
       "      <th>H</th>\n",
       "      <th>L</th>\n",
       "      <th>drt</th>\n",
       "      <th>stdF</th>\n",
       "    </tr>\n",
       "    <tr>\n",
       "      <th>date</th>\n",
       "      <th></th>\n",
       "      <th></th>\n",
       "      <th></th>\n",
       "      <th></th>\n",
       "    </tr>\n",
       "  </thead>\n",
       "  <tbody>\n",
       "    <tr>\n",
       "      <th>2017-12-21 14:30:00</th>\n",
       "      <td>10.14</td>\n",
       "      <td>10.12</td>\n",
       "      <td>0</td>\n",
       "      <td>1</td>\n",
       "    </tr>\n",
       "    <tr>\n",
       "      <th>2017-12-21 15:00:00</th>\n",
       "      <td>10.16</td>\n",
       "      <td>10.11</td>\n",
       "      <td>0</td>\n",
       "      <td>1</td>\n",
       "    </tr>\n",
       "    <tr>\n",
       "      <th>2017-12-22 10:00:00</th>\n",
       "      <td>10.12</td>\n",
       "      <td>10.06</td>\n",
       "      <td>0</td>\n",
       "      <td>1</td>\n",
       "    </tr>\n",
       "    <tr>\n",
       "      <th>2017-12-22 10:30:00</th>\n",
       "      <td>10.16</td>\n",
       "      <td>10.09</td>\n",
       "      <td>0</td>\n",
       "      <td>1</td>\n",
       "    </tr>\n",
       "    <tr>\n",
       "      <th>2017-12-22 11:00:00</th>\n",
       "      <td>10.14</td>\n",
       "      <td>10.06</td>\n",
       "      <td>0</td>\n",
       "      <td>1</td>\n",
       "    </tr>\n",
       "  </tbody>\n",
       "</table>\n",
       "</div>"
      ],
      "text/plain": [
       "                         H      L  drt  stdF\n",
       "date                                        \n",
       "2017-12-21 14:30:00  10.14  10.12    0     1\n",
       "2017-12-21 15:00:00  10.16  10.11    0     1\n",
       "2017-12-22 10:00:00  10.12  10.06    0     1\n",
       "2017-12-22 10:30:00  10.16  10.09    0     1\n",
       "2017-12-22 11:00:00  10.14  10.06    0     1"
      ]
     },
     "execution_count": 26,
     "metadata": {},
     "output_type": "execute_result"
    }
   ],
   "source": [
    "df_std.head()"
   ]
  },
  {
   "cell_type": "code",
   "execution_count": 27,
   "metadata": {},
   "outputs": [],
   "source": [
    "arr_std = df_std.values"
   ]
  },
  {
   "cell_type": "code",
   "execution_count": 28,
   "metadata": {},
   "outputs": [],
   "source": [
    "def gen_stdk(s1,s2):\n",
    "    '''\n",
    "    s[H,L,drt,stdF]\n",
    "    '''\n",
    "    if (s1[0] < s2[0]) & (s1[1] < s2[1]):\n",
    "        s2[2:] = [1,1]\n",
    "    elif (s1[0] > s2[0]) & (s1[1] > s2[1]):\n",
    "        s2[2:] = [-1,1]\n",
    "    else:\n",
    "        if s1[2] == 1:\n",
    "            if s1[0] < s2[0]:\n",
    "                s2 = [s2[0],max(s1[1],s2[1]), 1, 1]\n",
    "            else:\n",
    "                s2 = [s1[0],max(s1[1],s2[1]), 1, 0]\n",
    "        elif s1[2] == -1:\n",
    "            if s1[1] > s2[1]:\n",
    "                s2 = [min(s1[0],s2[0]), s2[1], -1, 1]\n",
    "            else:\n",
    "                s2 = [min(s1[0],s2[0]), s1[1], -1, 0]\n",
    "        else:\n",
    "            s2 = [min(s1[0],s2[0]),max(s1[1],s2[1]), 0, 0]\n",
    "    return s2"
   ]
  },
  {
   "cell_type": "code",
   "execution_count": 29,
   "metadata": {},
   "outputs": [],
   "source": [
    "tmp = list(arr_std[0,0:3])\n",
    "tmp.append(0)"
   ]
  },
  {
   "cell_type": "code",
   "execution_count": 30,
   "metadata": {},
   "outputs": [
    {
     "name": "stdout",
     "output_type": "stream",
     "text": [
      "Wall time: 2.97 ms\n"
     ]
    }
   ],
   "source": [
    "%%time\n",
    "list_std = [tmp]\n",
    "for i in range(len(arr_std)):\n",
    "    if i>0:\n",
    "        arr_std[i] = gen_stdk(arr_std[i-1],arr_std[i])\n",
    "        if arr_std[i,3] == 1:\n",
    "            tmp = list(arr_std[i,0:3])\n",
    "            tmp.append(i)\n",
    "            list_std.append(tmp)\n",
    "        "
   ]
  },
  {
   "cell_type": "code",
   "execution_count": 31,
   "metadata": {},
   "outputs": [],
   "source": [
    "list_std_col = ['H','L','drt','idx']"
   ]
  },
  {
   "cell_type": "code",
   "execution_count": 32,
   "metadata": {},
   "outputs": [],
   "source": [
    "df_std = pd.DataFrame(list_std,columns = list_std_col)"
   ]
  },
  {
   "cell_type": "code",
   "execution_count": 33,
   "metadata": {},
   "outputs": [
    {
     "data": {
      "text/html": [
       "<div>\n",
       "<style scoped>\n",
       "    .dataframe tbody tr th:only-of-type {\n",
       "        vertical-align: middle;\n",
       "    }\n",
       "\n",
       "    .dataframe tbody tr th {\n",
       "        vertical-align: top;\n",
       "    }\n",
       "\n",
       "    .dataframe thead th {\n",
       "        text-align: right;\n",
       "    }\n",
       "</style>\n",
       "<table border=\"1\" class=\"dataframe\">\n",
       "  <thead>\n",
       "    <tr style=\"text-align: right;\">\n",
       "      <th></th>\n",
       "      <th>H</th>\n",
       "      <th>L</th>\n",
       "      <th>drt</th>\n",
       "      <th>idx</th>\n",
       "    </tr>\n",
       "  </thead>\n",
       "  <tbody>\n",
       "    <tr>\n",
       "      <th>0</th>\n",
       "      <td>10.14</td>\n",
       "      <td>10.12</td>\n",
       "      <td>0.0</td>\n",
       "      <td>0</td>\n",
       "    </tr>\n",
       "    <tr>\n",
       "      <th>1</th>\n",
       "      <td>10.12</td>\n",
       "      <td>10.06</td>\n",
       "      <td>-1.0</td>\n",
       "      <td>2</td>\n",
       "    </tr>\n",
       "    <tr>\n",
       "      <th>2</th>\n",
       "      <td>10.16</td>\n",
       "      <td>10.09</td>\n",
       "      <td>1.0</td>\n",
       "      <td>3</td>\n",
       "    </tr>\n",
       "    <tr>\n",
       "      <th>3</th>\n",
       "      <td>10.14</td>\n",
       "      <td>10.06</td>\n",
       "      <td>-1.0</td>\n",
       "      <td>4</td>\n",
       "    </tr>\n",
       "    <tr>\n",
       "      <th>4</th>\n",
       "      <td>10.08</td>\n",
       "      <td>9.98</td>\n",
       "      <td>-1.0</td>\n",
       "      <td>5</td>\n",
       "    </tr>\n",
       "  </tbody>\n",
       "</table>\n",
       "</div>"
      ],
      "text/plain": [
       "       H      L  drt  idx\n",
       "0  10.14  10.12  0.0    0\n",
       "1  10.12  10.06 -1.0    2\n",
       "2  10.16  10.09  1.0    3\n",
       "3  10.14  10.06 -1.0    4\n",
       "4  10.08   9.98 -1.0    5"
      ]
     },
     "execution_count": 33,
     "metadata": {},
     "output_type": "execute_result"
    }
   ],
   "source": [
    "df_std.head()"
   ]
  },
  {
   "cell_type": "markdown",
   "metadata": {},
   "source": [
    "### Get Lv0"
   ]
  },
  {
   "cell_type": "code",
   "execution_count": 34,
   "metadata": {},
   "outputs": [
    {
     "data": {
      "text/plain": [
       "array([10.14, 10.12,  2.  ,  2.  ,  0.  ])"
      ]
     },
     "execution_count": 34,
     "metadata": {},
     "output_type": "execute_result"
    }
   ],
   "source": [
    "df_Lv0 = df_std.copy(True)\n",
    "df_Lv0['cnt_up'] = 2\n",
    "df_Lv0['cnt_dn'] = 2\n",
    "df_Lv0['nflag'] = 0\n",
    "\n",
    "arr_Lv0 = df_Lv0[['H','L','cnt_up','cnt_dn','idx']].values\n",
    "arr_Lv0[0]"
   ]
  },
  {
   "cell_type": "code",
   "execution_count": 35,
   "metadata": {},
   "outputs": [
    {
     "data": {
      "text/html": [
       "<div>\n",
       "<style scoped>\n",
       "    .dataframe tbody tr th:only-of-type {\n",
       "        vertical-align: middle;\n",
       "    }\n",
       "\n",
       "    .dataframe tbody tr th {\n",
       "        vertical-align: top;\n",
       "    }\n",
       "\n",
       "    .dataframe thead th {\n",
       "        text-align: right;\n",
       "    }\n",
       "</style>\n",
       "<table border=\"1\" class=\"dataframe\">\n",
       "  <thead>\n",
       "    <tr style=\"text-align: right;\">\n",
       "      <th></th>\n",
       "      <th>H</th>\n",
       "      <th>L</th>\n",
       "      <th>drt</th>\n",
       "      <th>idx</th>\n",
       "      <th>cnt_up</th>\n",
       "      <th>cnt_dn</th>\n",
       "      <th>nflag</th>\n",
       "    </tr>\n",
       "  </thead>\n",
       "  <tbody>\n",
       "    <tr>\n",
       "      <th>0</th>\n",
       "      <td>10.14</td>\n",
       "      <td>10.12</td>\n",
       "      <td>0.0</td>\n",
       "      <td>0</td>\n",
       "      <td>2</td>\n",
       "      <td>2</td>\n",
       "      <td>0</td>\n",
       "    </tr>\n",
       "  </tbody>\n",
       "</table>\n",
       "</div>"
      ],
      "text/plain": [
       "       H      L  drt  idx  cnt_up  cnt_dn  nflag\n",
       "0  10.14  10.12  0.0    0       2       2      0"
      ]
     },
     "execution_count": 35,
     "metadata": {},
     "output_type": "execute_result"
    }
   ],
   "source": [
    "df_Lv0.head(1)"
   ]
  },
  {
   "cell_type": "code",
   "execution_count": 36,
   "metadata": {},
   "outputs": [],
   "source": [
    "list_Lv0 = [[open00, 0., 0]]\n",
    "list_Lv0_col = ['V','drt','idx']"
   ]
  },
  {
   "cell_type": "code",
   "execution_count": 37,
   "metadata": {},
   "outputs": [
    {
     "data": {
      "text/plain": [
       "array([[10.14, 10.12],\n",
       "       [10.12, 10.06],\n",
       "       [10.16, 10.09]])"
      ]
     },
     "execution_count": 37,
     "metadata": {},
     "output_type": "execute_result"
    }
   ],
   "source": [
    "arr3 = arr_Lv0[0:3,0:2]\n",
    "arr3"
   ]
  },
  {
   "cell_type": "code",
   "execution_count": 38,
   "metadata": {},
   "outputs": [],
   "source": [
    "def fPeak(arr3):\n",
    "    '''\n",
    "    input: arr3 = [0:3,0:2]  ['H','L']\n",
    "    中间H最高：-1\n",
    "    中间L最低： 1\n",
    "    '''\n",
    "    if (arr3[0,0] < arr3[1,0]) & (arr3[1,0] > arr3[2,0]):\n",
    "        zig = -1\n",
    "    elif (arr3[0,1] > arr3[1,1]) & (arr3[1,1] < arr3[2,1]):\n",
    "        zig = 1\n",
    "    else:\n",
    "        zig = 0\n",
    "    return zig"
   ]
  },
  {
   "cell_type": "code",
   "execution_count": 39,
   "metadata": {},
   "outputs": [],
   "source": [
    "def gen_Lv0(LvL,arr3):\n",
    "    '''\n",
    "    lastP: 前峰list;  [['V','drt','idx']] \n",
    "    arr3 = 已完结的前3个std bar; \n",
    "           arr_Lv0[0:3,0:4]  ['H','L','cnt_up','cnt_dn','idx']\n",
    "    没峰：\n",
    "        最后Bar cnt +1，flag = 0; \n",
    "    顶峰（-1）：\n",
    "        与前峰反向，长度够：newLv0, 最后bar cnt = 1，flag = 1;\n",
    "        与前峰同向，新极值：newLv0, 最后bar cnt = 1，flag = -1;\n",
    "    '''\n",
    "    zig = fPeak(arr3[:,0:2])\n",
    "    flag = 0\n",
    "    if zig == 0:\n",
    "        arr3[2,2],arr3[2,3] = arr3[1,2]+1, arr3[1,3]+1\n",
    "        flag = 0\n",
    "    elif zig == -1:\n",
    "        if (LvL[-1][1]!= -1) & (arr3[1,2]>3):\n",
    "            LvL.append([arr3[1,0],-1,arr3[1,4]])\n",
    "            arr3[2,2],arr3[2,3] = 1,1\n",
    "            flag = 1\n",
    "        elif (LvL[-1][1] == -1) & (arr3[1,0] >= LvL[-1][0]):\n",
    "            LvL[-1] = [arr3[1,0],-1,arr3[1,4]]\n",
    "            arr3[2,2],arr3[2,3] = 1,1\n",
    "            flag = -1\n",
    "    elif zig == 1:\n",
    "        if (LvL[-1][1] != 1) & (arr3[1,3] > 3):\n",
    "            LvL.append([arr3[1,1], 1,arr3[1,4]])\n",
    "            arr3[2,2],arr3[2,3] = 1,1\n",
    "            flag = 1\n",
    "        elif (LvL[-1][1] == 1) & (arr3[1,1] <= LvL[-1][0]):\n",
    "            LvL[-1] = [arr3[1,1], 1, arr3[1,4]]\n",
    "            arr3[2,2],arr3[2,3] = 1,1\n",
    "            flag = -1\n",
    "    return flag\n",
    "            \n",
    "        \n",
    "        "
   ]
  },
  {
   "cell_type": "code",
   "execution_count": 40,
   "metadata": {},
   "outputs": [
    {
     "name": "stdout",
     "output_type": "stream",
     "text": [
      "Wall time: 2.97 ms\n"
     ]
    }
   ],
   "source": [
    "%%time\n",
    "for i in range(len(arr_Lv0)):\n",
    "    if i > 3:\n",
    "        arr_w = arr_Lv0[i-3:i,:]\n",
    "        gen_Lv0(list_Lv0,arr_w)"
   ]
  },
  {
   "cell_type": "code",
   "execution_count": 41,
   "metadata": {},
   "outputs": [
    {
     "data": {
      "text/plain": [
       "[[10.13, 0.0, 0],\n",
       " [9.57, 1, 17.0],\n",
       " [9.91, -1, 29.0],\n",
       " [9.73, 1, 34.0],\n",
       " [10.25, -1, 69.0],\n",
       " [9.82, 1, 106.0],\n",
       " [10.03, -1, 116.0],\n",
       " [9.52, 1, 129.0],\n",
       " [9.71, -1, 143.0],\n",
       " [9.46, 1, 162.0],\n",
       " [9.8, -1, 192.0],\n",
       " [7.76, 1, 280.0],\n",
       " [8.67, -1, 336.0],\n",
       " [8.44, 1, 346.0],\n",
       " [9.14, -1, 412.0],\n",
       " [8.68, 1, 428.0],\n",
       " [9.65, -1, 458.0],\n",
       " [8.98, 1, 466.0],\n",
       " [10.97, -1, 475.0],\n",
       " [10.02, 1, 480.0]]"
      ]
     },
     "execution_count": 41,
     "metadata": {},
     "output_type": "execute_result"
    }
   ],
   "source": [
    "list_Lv0[-1]\n",
    "len(list_Lv0)\n",
    "list_Lv0"
   ]
  },
  {
   "cell_type": "markdown",
   "metadata": {},
   "source": [
    "### Class N"
   ]
  },
  {
   "cell_type": "code",
   "execution_count": 44,
   "metadata": {},
   "outputs": [],
   "source": [
    "class stFlag(object):\n",
    "    def __init__(self,point1,point2, outer_stFlag=None):\n",
    "        self.status = 0\n",
    "        measure_flag = 0\n",
    "        self.drt = point1[1]\n",
    "        self.stTmS = point1[2]\n",
    "        self.stTmE = point2[2]\n",
    "        self.destroyV = point1[0]\n",
    "        self.rangeV = point2[0]\n",
    "        self.ctTmS = self.stTmE\n",
    "        self.ctTmE = None\n",
    "        if self.drt == 1:   # Upward Flag\n",
    "            self.ctH = point2[0]\n",
    "            self.ctL = None\n",
    "        else:\n",
    "            self.ctL = point2[0]\n",
    "            self.ctH = None\n",
    "        self.outRange = None\n",
    "        if outer_stFlag is not None:\n",
    "            self.outRange = outer_stFlag    # [H,L]\n",
    "        self.startP = point1\n",
    "        self.endP = point2\n",
    "        #self.list_P = [point1,point2]\n",
    "    \n",
    "    def update(self,point):\n",
    "        '''\n",
    "        point.drt == self.drt:\n",
    "            if status = 0:\n",
    "                within destroyV >>> updated, status= 1, measure_flag = 1\n",
    "                outoff destroyV >>> destroy\n",
    "            if status = 1:\n",
    "                within destroyV >>> updated;\n",
    "                outoff destroyV >>> new, reverse drt\n",
    "        point.drt <> self.drt:  \n",
    "            only status =1:\n",
    "                within rangeV >>> updated;\n",
    "                outoff rangeV >>> new, same drt\n",
    "        Return:\n",
    "        1. destroy, NewObject\n",
    "        2. update, None\n",
    "        3. new, newObject\n",
    "        ''' \n",
    "        if point[1] == self.drt:\n",
    "            if status == 0:\n",
    "                if (((self.drt == 1) & (point[0] <= self.destroyV))|\n",
    "                   ((self.drt == -1) & (point[0] >= self.destroyV))):\n",
    "                    return 'destroy', stFlag(self.endP,point)\n",
    "                elif (((self.drt == 1) & (point[0] > self.destroyV))|\n",
    "                   ((self.drt == -1) & (point[0] < self.destroyV))):\n",
    "                    self.measure_flag = 1\n",
    "                    self.endP = point\n",
    "                    self.updateCt(point)\n",
    "                    self.status = 1\n",
    "                    return 'update', None\n",
    "            elif status == 1:\n",
    "                if (((self.drt == 1) & (point[0] <= self.destroyV))|\n",
    "                   ((self.drt == -1) & (point[0] >= self.destroyV))):\n",
    "                    return 'new', stFlag(self.endP,point)\n",
    "                elif (((self.drt == 1) & (point[0] > self.destroyV))|\n",
    "                   ((self.drt == -1) & (point[0] < self.destroyV))):\n",
    "                    self.endP = point\n",
    "                    self.updateCt(point)\n",
    "                    return 'update', None\n",
    "        elif point[1] != self.drt:\n",
    "            if (((self.drt == 1) & (point[0] <= self.rangeV))|\n",
    "               ((self.drt == -1) & (point[0] >= self.rangeV))):\n",
    "                self.endP = point\n",
    "                self.updateCt(point)\n",
    "                return 'update', None\n",
    "            elif (((self.drt == 1) & (point[0] > self.rangeV))|\n",
    "               ((self.drt == -1) & (point[0] < self.rangeV))):\n",
    "                return 'new', stFlag(self.endP, point)\n",
    "            \n",
    "    \n",
    "    def updateCt(self,point):\n",
    "        self.ctTmE = point[2]\n",
    "        if status == 0:\n",
    "            if self.drt == 1:\n",
    "                self.ctL = point[0]\n",
    "            else:\n",
    "                self.ctH = point[0]\n",
    "        else:\n",
    "            if point[1] == -1:\n",
    "                self.ctH = min(self.ctH, point[0])\n",
    "            else:\n",
    "                self.ctL = max(self.ctL, point[0])\n",
    "        return None\n",
    "        \n",
    "    def index(self):\n",
    "        return self.stTmS\n",
    "        "
   ]
  },
  {
   "cell_type": "code",
   "execution_count": 45,
   "metadata": {},
   "outputs": [],
   "source": [
    "class Segment(object):\n",
    "    def __init__(self,point1,point2, outer_stFlag=None):\n",
    "        self.status = 0\n",
    "        tmp = stFlag(point1, point2, outer_stFlag)\n",
    "        self.list_flg = [tmp]\n",
    "        self.drt = point1[1]\n",
    "        self.flag_cnt = 0\n",
    "        self.startP = None\n",
    "        self.endP = None  # 做连接用的\n",
    "        \n",
    "    def update(self, point):\n",
    "        '''\n",
    "        update flg;\n",
    "        if flg update & measure & drt<> :\n",
    "            flg_cnt += 1; \n",
    "            if flg_cnt ==2: >>> new segment                \n",
    "        if flg update & goon: pass\n",
    "        if flg new & drt<>: flgL.append; flg_cnt +=1;\n",
    "        if flg new & drt==: flgL.append; endP; flg_cnt = 0;          \n",
    "        if flg destroy:\n",
    "            reinitiate Segment;  >>> destroy\n",
    "            \n",
    "        Return:\n",
    "        1. new, newSeg, p_sub_flag\n",
    "        2. update, None, p_sub_flag\n",
    "        3. destroy, None, p_sub_flag\n",
    "        '''\n",
    "        p_sub = 1\n",
    "        newSg = None\n",
    "        ff,tmp = self.list_flg[-1].update(point)\n",
    "        if ff =='update': tmp = self.list_flg[-1]\n",
    "        if (ff == 'update'):\n",
    "            if (tmp.measure_flag == 1) & (tmp.drt != self.drt):\n",
    "                self.flg_cnt += 1\n",
    "                if self.flg_cnt == 2:\n",
    "                    self.endP = self.list_flg[-2].startP\n",
    "                    sig = 'new'\n",
    "                    newSg = Segment()\n",
    "            else:\n",
    "                sig = 'update'\n",
    "        if ff == 'new':\n",
    "            p_sub = 0\n",
    "            if tmp.drt != self.drt:\n",
    "                self.list_flg.append(tmp)\n",
    "                self.flg_cnt +=1\n",
    "                sig = 'update'\n",
    "            elif tmp.drt == self.drt:\n",
    "                self.list_flg.append(tmp)\n",
    "                self.endP = tmp.startP\n",
    "                selg.flg_cnt = 0\n",
    "                sig = 'update'\n",
    "        if ff == 'destroy':\n",
    "            sig == ff\n",
    "            p_sub = 0\n",
    "            newSg = Segment()\n",
    "        return sig,newSg,p_sub    \n",
    "\n",
    "    def index(self):\n",
    "        return self.list_flg[0].index()"
   ]
  },
  {
   "cell_type": "code",
   "execution_count": null,
   "metadata": {},
   "outputs": [],
   "source": [
    "list_Lv = [SegmentObj]\n",
    "list_openSg = [[]]\n",
    "sub_flag = 1\n",
    "for sg in list_openSg:\n",
    "    ff,tmp,flag = sg.update(P)\n",
    "    if ff == 'destroy':\n",
    "        list_Lv[0]\n",
    "    if (ff == 'new'):        \n",
    "        list_Lv.append(tmp)\n",
    "    if flag == 0:\n",
    "        sub_flag = 0\n",
    "if sub_flag == 1:\n",
    "    list_openSg.append(Segment())\n",
    "        \n",
    "    "
   ]
  },
  {
   "cell_type": "markdown",
   "metadata": {},
   "source": [
    "#### open_Lv1:  [ 'idx' ] *8"
   ]
  },
  {
   "cell_type": "code",
   "execution_count": null,
   "metadata": {},
   "outputs": [],
   "source": [
    "list_Lv1P_00 = [['V', 0, 0]]\n",
    "list_Lv1P_11 = [['V', 0, 0, 'E']]"
   ]
  },
  {
   "cell_type": "markdown",
   "metadata": {},
   "source": [
    "#### N_status"
   ]
  },
  {
   "cell_type": "code",
   "execution_count": null,
   "metadata": {},
   "outputs": [],
   "source": [
    "N_status = [0,0,0,0,0,0,0,0]"
   ]
  },
  {
   "cell_type": "markdown",
   "metadata": {},
   "source": [
    "#### dict_Lv1SG:  { 'Lv1_00_idx': [ sg1, st\\g2,... ] , ... }\n",
    "segment: [p1,p2]  \n",
    "point: ['V', 'drt', 'idx']\n"
   ]
  },
  {
   "cell_type": "code",
   "execution_count": null,
   "metadata": {},
   "outputs": [],
   "source": []
  },
  {
   "cell_type": "markdown",
   "metadata": {},
   "source": [
    "### Vistualization"
   ]
  },
  {
   "cell_type": "code",
   "execution_count": 168,
   "metadata": {},
   "outputs": [
    {
     "data": {
      "image/png": "[encoded data removed]",
      "text/plain": [
       "<Figure size 7200x2880 with 1 Axes>"
      ]
     },
     "metadata": {},
     "output_type": "display_data"
    }
   ],
   "source": [
    "fig = plt.figure('Bar chart & Pie chart',figsize = (100,40))\n",
    "ax = fig.add_subplot(111)\n",
    "#fig,ax = plt.subplots(figsize = (100,40))\n",
    "ax.vlines(arr_upBars[:,0],arr_upBars[:,1],arr_upBars[:,2],color = 'r',lw = 3)\n",
    "ax.vlines(arr_dnBars[:,0],arr_dnBars[:,1],arr_dnBars[:,2],color = 'b',lw = 3)\n",
    "ax = df_draw['V'].plot()\n",
    "ax.plot(x,y, 'g^')\n",
    "plt.savefig(\"000.png\") "
   ]
  },
  {
   "cell_type": "code",
   "execution_count": 164,
   "metadata": {},
   "outputs": [
    {
     "data": {
      "text/html": [
       "<div>\n",
       "<style scoped>\n",
       "    .dataframe tbody tr th:only-of-type {\n",
       "        vertical-align: middle;\n",
       "    }\n",
       "\n",
       "    .dataframe tbody tr th {\n",
       "        vertical-align: top;\n",
       "    }\n",
       "\n",
       "    .dataframe thead th {\n",
       "        text-align: right;\n",
       "    }\n",
       "</style>\n",
       "<table border=\"1\" class=\"dataframe\">\n",
       "  <thead>\n",
       "    <tr style=\"text-align: right;\">\n",
       "      <th></th>\n",
       "      <th>V</th>\n",
       "      <th>drt</th>\n",
       "      <th>idx</th>\n",
       "    </tr>\n",
       "  </thead>\n",
       "  <tbody>\n",
       "    <tr>\n",
       "      <th>0</th>\n",
       "      <td>10.13</td>\n",
       "      <td>0.0</td>\n",
       "      <td>0.0</td>\n",
       "    </tr>\n",
       "    <tr>\n",
       "      <th>1</th>\n",
       "      <td>9.57</td>\n",
       "      <td>1.0</td>\n",
       "      <td>17.0</td>\n",
       "    </tr>\n",
       "    <tr>\n",
       "      <th>2</th>\n",
       "      <td>9.91</td>\n",
       "      <td>-1.0</td>\n",
       "      <td>29.0</td>\n",
       "    </tr>\n",
       "    <tr>\n",
       "      <th>3</th>\n",
       "      <td>9.73</td>\n",
       "      <td>1.0</td>\n",
       "      <td>34.0</td>\n",
       "    </tr>\n",
       "    <tr>\n",
       "      <th>4</th>\n",
       "      <td>10.25</td>\n",
       "      <td>-1.0</td>\n",
       "      <td>69.0</td>\n",
       "    </tr>\n",
       "  </tbody>\n",
       "</table>\n",
       "</div>"
      ],
      "text/plain": [
       "       V  drt   idx\n",
       "0  10.13  0.0   0.0\n",
       "1   9.57  1.0  17.0\n",
       "2   9.91 -1.0  29.0\n",
       "3   9.73  1.0  34.0\n",
       "4  10.25 -1.0  69.0"
      ]
     },
     "execution_count": 164,
     "metadata": {},
     "output_type": "execute_result"
    }
   ],
   "source": [
    "df_Lv0 = pd.DataFrame(list_Lv0,columns = list_Lv0_col)\n",
    "df_Lv0.head()"
   ]
  },
  {
   "cell_type": "code",
   "execution_count": 165,
   "metadata": {},
   "outputs": [],
   "source": [
    "df_draw = df30[['H','L','O','C','idx']]\n",
    "df_draw = df_draw.merge(df_Lv0, how='left', left_on='idx', right_on='idx')"
   ]
  },
  {
   "cell_type": "code",
   "execution_count": 166,
   "metadata": {},
   "outputs": [],
   "source": [
    "df_draw['V'].interpolate(inplace=True)"
   ]
  },
  {
   "cell_type": "code",
   "execution_count": 167,
   "metadata": {},
   "outputs": [
    {
     "data": {
      "text/html": [
       "<div>\n",
       "<style scoped>\n",
       "    .dataframe tbody tr th:only-of-type {\n",
       "        vertical-align: middle;\n",
       "    }\n",
       "\n",
       "    .dataframe tbody tr th {\n",
       "        vertical-align: top;\n",
       "    }\n",
       "\n",
       "    .dataframe thead th {\n",
       "        text-align: right;\n",
       "    }\n",
       "</style>\n",
       "<table border=\"1\" class=\"dataframe\">\n",
       "  <thead>\n",
       "    <tr style=\"text-align: right;\">\n",
       "      <th></th>\n",
       "      <th>H</th>\n",
       "      <th>L</th>\n",
       "      <th>idx</th>\n",
       "      <th>V</th>\n",
       "      <th>drt</th>\n",
       "    </tr>\n",
       "  </thead>\n",
       "  <tbody>\n",
       "    <tr>\n",
       "      <th>0</th>\n",
       "      <td>10.14</td>\n",
       "      <td>10.12</td>\n",
       "      <td>0</td>\n",
       "      <td>10.130000</td>\n",
       "      <td>0.0</td>\n",
       "    </tr>\n",
       "    <tr>\n",
       "      <th>1</th>\n",
       "      <td>10.16</td>\n",
       "      <td>10.11</td>\n",
       "      <td>1</td>\n",
       "      <td>10.097059</td>\n",
       "      <td>NaN</td>\n",
       "    </tr>\n",
       "    <tr>\n",
       "      <th>2</th>\n",
       "      <td>10.12</td>\n",
       "      <td>10.06</td>\n",
       "      <td>2</td>\n",
       "      <td>10.064118</td>\n",
       "      <td>NaN</td>\n",
       "    </tr>\n",
       "    <tr>\n",
       "      <th>3</th>\n",
       "      <td>10.16</td>\n",
       "      <td>10.09</td>\n",
       "      <td>3</td>\n",
       "      <td>10.031176</td>\n",
       "      <td>NaN</td>\n",
       "    </tr>\n",
       "    <tr>\n",
       "      <th>4</th>\n",
       "      <td>10.14</td>\n",
       "      <td>10.06</td>\n",
       "      <td>4</td>\n",
       "      <td>9.998235</td>\n",
       "      <td>NaN</td>\n",
       "    </tr>\n",
       "  </tbody>\n",
       "</table>\n",
       "</div>"
      ],
      "text/plain": [
       "       H      L idx          V  drt\n",
       "0  10.14  10.12   0  10.130000  0.0\n",
       "1  10.16  10.11   1  10.097059  NaN\n",
       "2  10.12  10.06   2  10.064118  NaN\n",
       "3  10.16  10.09   3  10.031176  NaN\n",
       "4  10.14  10.06   4   9.998235  NaN"
      ]
     },
     "execution_count": 167,
     "metadata": {},
     "output_type": "execute_result"
    }
   ],
   "source": [
    "df_draw.head()"
   ]
  },
  {
   "cell_type": "code",
   "execution_count": 46,
   "metadata": {},
   "outputs": [],
   "source": [
    "arr_upBars = df_draw.query('O<=C')[['idx','L','H']].values\n",
    "arr_dnBars = df_draw.query('O>C')[['idx','L','H']].values"
   ]
  },
  {
   "cell_type": "code",
   "execution_count": null,
   "metadata": {},
   "outputs": [],
   "source": []
  }
 ],
 "metadata": {
  "kernelspec": {
   "display_name": "Python 3",
   "language": "python",
   "name": "python3"
  },
  "language_info": {
   "codemirror_mode": {
    "name": "ipython",
    "version": 3
   },
   "file_extension": ".py",
   "mimetype": "text/x-python",
   "name": "python",
   "nbconvert_exporter": "python",
   "pygments_lexer": "ipython3",
   "version": "3.6.4"
  },
  "toc": {
   "nav_menu": {},
   "number_sections": true,
   "sideBar": true,
   "skip_h1_title": false,
   "title_cell": "Table of Contents",
   "title_sidebar": "Contents",
   "toc_cell": false,
   "toc_position": {
    "height": "calc(100% - 180px)",
    "left": "10px",
    "top": "150px",
    "width": "234px"
   },
   "toc_section_display": true,
   "toc_window_display": true
  }
 },
 "nbformat": 4,
 "nbformat_minor": 2
}
